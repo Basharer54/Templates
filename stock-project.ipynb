{
 "cells": [
  {
   "cell_type": "markdown",
   "id": "52634a8c",
   "metadata": {
    "papermill": {
     "duration": 0.01294,
     "end_time": "2022-03-23T15:09:54.521741",
     "exception": false,
     "start_time": "2022-03-23T15:09:54.508801",
     "status": "completed"
    },
    "tags": []
   },
   "source": [
    "# Extracting Stock Data Using Web Scraping"
   ]
  },
  {
   "cell_type": "markdown",
   "id": "e947429f",
   "metadata": {
    "papermill": {
     "duration": 0.012151,
     "end_time": "2022-03-23T15:09:54.547778",
     "exception": false,
     "start_time": "2022-03-23T15:09:54.535627",
     "status": "completed"
    },
    "tags": []
   },
   "source": [
    "Not all stock data is available via API in this assignment; you will use web-scraping to obtain financial data.\n",
    "Using `beautiful soup` we will extract historical share data from a web-page.\n",
    "\n",
    "## Table of Contents\n",
    "- Downloading the Webpage Using Requests Library\n",
    "- Parsing Webpage HTML Using BeautifulSoup\n",
    "- Extracting Data and Building DataFrame"
   ]
  },
  {
   "cell_type": "code",
   "execution_count": 1,
   "id": "b7499ce0",
   "metadata": {
    "execution": {
     "iopub.execute_input": "2022-03-23T15:09:54.575472Z",
     "iopub.status.busy": "2022-03-23T15:09:54.574323Z",
     "iopub.status.idle": "2022-03-23T15:09:54.897518Z",
     "shell.execute_reply": "2022-03-23T15:09:54.896747Z",
     "shell.execute_reply.started": "2022-03-23T15:08:34.727936Z"
    },
    "papermill": {
     "duration": 0.338097,
     "end_time": "2022-03-23T15:09:54.897689",
     "exception": false,
     "start_time": "2022-03-23T15:09:54.559592",
     "status": "completed"
    },
    "tags": []
   },
   "outputs": [],
   "source": [
    "import pandas as pd\n",
    "\n",
    "from bs4 import BeautifulSoup\n",
    "import requests"
   ]
  },
  {
   "cell_type": "markdown",
   "id": "488b5b95",
   "metadata": {
    "papermill": {
     "duration": 0.011715,
     "end_time": "2022-03-23T15:09:54.921458",
     "exception": false,
     "start_time": "2022-03-23T15:09:54.909743",
     "status": "completed"
    },
    "tags": []
   },
   "source": [
    "First we must use the `request` library to downlaod the webpage, and extract the text. We will extract Netflix stock data from this<a href=\"https://cf-courses-data.s3.us.cloud-object-storage.appdomain.cloud/IBMDeveloperSkillsNetwork-PY0220EN-SkillsNetwork/labs/project/netflix_data_webpage.html\"> Link</a>."
   ]
  },
  {
   "cell_type": "code",
   "execution_count": 2,
   "id": "ba0561f6",
   "metadata": {
    "execution": {
     "iopub.execute_input": "2022-03-23T15:09:54.949377Z",
     "iopub.status.busy": "2022-03-23T15:09:54.948671Z",
     "iopub.status.idle": "2022-03-23T15:09:59.020623Z",
     "shell.execute_reply": "2022-03-23T15:09:59.020015Z",
     "shell.execute_reply.started": "2022-03-23T15:08:35.144560Z"
    },
    "papermill": {
     "duration": 4.087292,
     "end_time": "2022-03-23T15:09:59.020768",
     "exception": false,
     "start_time": "2022-03-23T15:09:54.933476",
     "status": "completed"
    },
    "tags": []
   },
   "outputs": [],
   "source": [
    "url = \"https://cf-courses-data.s3.us.cloud-object-storage.appdomain.cloud/IBMDeveloperSkillsNetwork-PY0220EN-SkillsNetwork/labs/project/netflix_data_webpage.html\"\n",
    "\n",
    "data  = requests.get(url).text"
   ]
  },
  {
   "cell_type": "markdown",
   "id": "2c0b279b",
   "metadata": {
    "papermill": {
     "duration": 0.011574,
     "end_time": "2022-03-23T15:09:59.044355",
     "exception": false,
     "start_time": "2022-03-23T15:09:59.032781",
     "status": "completed"
    },
    "tags": []
   },
   "source": [
    "Next we must parse the text into html using `beautiful_soup`"
   ]
  },
  {
   "cell_type": "code",
   "execution_count": 3,
   "id": "0537a29f",
   "metadata": {
    "execution": {
     "iopub.execute_input": "2022-03-23T15:09:59.071551Z",
     "iopub.status.busy": "2022-03-23T15:09:59.070897Z",
     "iopub.status.idle": "2022-03-23T15:09:59.372097Z",
     "shell.execute_reply": "2022-03-23T15:09:59.372578Z",
     "shell.execute_reply.started": "2022-03-23T15:08:37.534516Z"
    },
    "papermill": {
     "duration": 0.316477,
     "end_time": "2022-03-23T15:09:59.372766",
     "exception": false,
     "start_time": "2022-03-23T15:09:59.056289",
     "status": "completed"
    },
    "tags": []
   },
   "outputs": [
    {
     "name": "stdout",
     "output_type": "stream",
     "text": [
      "Netflix, Inc. (NFLX) Stock Historical Prices & Data - Yahoo Finance\n"
     ]
    }
   ],
   "source": [
    "soup = BeautifulSoup(data, 'html5lib')\n",
    "print(soup.title.text)"
   ]
  },
  {
   "cell_type": "markdown",
   "id": "5768be85",
   "metadata": {
    "papermill": {
     "duration": 0.012289,
     "end_time": "2022-03-23T15:09:59.397890",
     "exception": false,
     "start_time": "2022-03-23T15:09:59.385601",
     "status": "completed"
    },
    "tags": []
   },
   "source": [
    "Now we can turn the html table into a pandas dataframe"
   ]
  },
  {
   "cell_type": "code",
   "execution_count": 4,
   "id": "1ddb5099",
   "metadata": {
    "execution": {
     "iopub.execute_input": "2022-03-23T15:09:59.426394Z",
     "iopub.status.busy": "2022-03-23T15:09:59.425707Z",
     "iopub.status.idle": "2022-03-23T15:09:59.436102Z",
     "shell.execute_reply": "2022-03-23T15:09:59.435553Z",
     "shell.execute_reply.started": "2022-03-23T15:08:37.854057Z"
    },
    "papermill": {
     "duration": 0.025849,
     "end_time": "2022-03-23T15:09:59.436249",
     "exception": false,
     "start_time": "2022-03-23T15:09:59.410400",
     "status": "completed"
    },
    "tags": []
   },
   "outputs": [
    {
     "data": {
      "text/plain": [
       "1"
      ]
     },
     "execution_count": 4,
     "metadata": {},
     "output_type": "execute_result"
    }
   ],
   "source": [
    "table = soup.find_all('table')\n",
    "len(table)"
   ]
  },
  {
   "cell_type": "code",
   "execution_count": 5,
   "id": "7e76d338",
   "metadata": {
    "execution": {
     "iopub.execute_input": "2022-03-23T15:09:59.471614Z",
     "iopub.status.busy": "2022-03-23T15:09:59.470593Z",
     "iopub.status.idle": "2022-03-23T15:09:59.717839Z",
     "shell.execute_reply": "2022-03-23T15:09:59.717266Z",
     "shell.execute_reply.started": "2022-03-23T15:08:37.869014Z"
    },
    "papermill": {
     "duration": 0.268709,
     "end_time": "2022-03-23T15:09:59.718012",
     "exception": false,
     "start_time": "2022-03-23T15:09:59.449303",
     "status": "completed"
    },
    "tags": []
   },
   "outputs": [
    {
     "data": {
      "text/html": [
       "<div>\n",
       "<style scoped>\n",
       "    .dataframe tbody tr th:only-of-type {\n",
       "        vertical-align: middle;\n",
       "    }\n",
       "\n",
       "    .dataframe tbody tr th {\n",
       "        vertical-align: top;\n",
       "    }\n",
       "\n",
       "    .dataframe thead th {\n",
       "        text-align: right;\n",
       "    }\n",
       "</style>\n",
       "<table border=\"1\" class=\"dataframe\">\n",
       "  <thead>\n",
       "    <tr style=\"text-align: right;\">\n",
       "      <th></th>\n",
       "      <th>Date</th>\n",
       "      <th>Open</th>\n",
       "      <th>High</th>\n",
       "      <th>Low</th>\n",
       "      <th>Close*</th>\n",
       "      <th>Adj Close**</th>\n",
       "      <th>Volume</th>\n",
       "    </tr>\n",
       "  </thead>\n",
       "  <tbody>\n",
       "    <tr>\n",
       "      <th>0</th>\n",
       "      <td>Jun 01, 2021</td>\n",
       "      <td>504.01</td>\n",
       "      <td>536.13</td>\n",
       "      <td>482.14</td>\n",
       "      <td>528.21</td>\n",
       "      <td>528.21</td>\n",
       "      <td>78560600</td>\n",
       "    </tr>\n",
       "    <tr>\n",
       "      <th>1</th>\n",
       "      <td>May 01, 2021</td>\n",
       "      <td>512.65</td>\n",
       "      <td>518.95</td>\n",
       "      <td>478.54</td>\n",
       "      <td>502.81</td>\n",
       "      <td>502.81</td>\n",
       "      <td>66927600</td>\n",
       "    </tr>\n",
       "    <tr>\n",
       "      <th>2</th>\n",
       "      <td>Apr 01, 2021</td>\n",
       "      <td>529.93</td>\n",
       "      <td>563.56</td>\n",
       "      <td>499.00</td>\n",
       "      <td>513.47</td>\n",
       "      <td>513.47</td>\n",
       "      <td>111573300</td>\n",
       "    </tr>\n",
       "    <tr>\n",
       "      <th>3</th>\n",
       "      <td>Mar 01, 2021</td>\n",
       "      <td>545.57</td>\n",
       "      <td>556.99</td>\n",
       "      <td>492.85</td>\n",
       "      <td>521.66</td>\n",
       "      <td>521.66</td>\n",
       "      <td>90183900</td>\n",
       "    </tr>\n",
       "    <tr>\n",
       "      <th>4</th>\n",
       "      <td>Feb 01, 2021</td>\n",
       "      <td>536.79</td>\n",
       "      <td>566.65</td>\n",
       "      <td>518.28</td>\n",
       "      <td>538.85</td>\n",
       "      <td>538.85</td>\n",
       "      <td>61902300</td>\n",
       "    </tr>\n",
       "  </tbody>\n",
       "</table>\n",
       "</div>"
      ],
      "text/plain": [
       "           Date    Open    High     Low  Close* Adj Close**     Volume\n",
       "0  Jun 01, 2021  504.01  536.13  482.14  528.21      528.21   78560600\n",
       "1  May 01, 2021  512.65  518.95  478.54  502.81      502.81   66927600\n",
       "2  Apr 01, 2021  529.93  563.56  499.00  513.47      513.47  111573300\n",
       "3  Mar 01, 2021  545.57  556.99  492.85  521.66      521.66   90183900\n",
       "4  Feb 01, 2021  536.79  566.65  518.28  538.85      538.85   61902300"
      ]
     },
     "execution_count": 5,
     "metadata": {},
     "output_type": "execute_result"
    }
   ],
   "source": [
    "population_data_read_html = pd.read_html(str(table), flavor='bs4')[0]\n",
    "population_data_read_html.head()"
   ]
  },
  {
   "cell_type": "markdown",
   "id": "34c0da27",
   "metadata": {
    "papermill": {
     "duration": 0.014483,
     "end_time": "2022-03-23T15:09:59.746711",
     "exception": false,
     "start_time": "2022-03-23T15:09:59.732228",
     "status": "completed"
    },
    "tags": []
   },
   "source": [
    "### other example"
   ]
  },
  {
   "cell_type": "code",
   "execution_count": 6,
   "id": "e01221ca",
   "metadata": {
    "execution": {
     "iopub.execute_input": "2022-03-23T15:09:59.776926Z",
     "iopub.status.busy": "2022-03-23T15:09:59.776299Z",
     "iopub.status.idle": "2022-03-23T15:10:02.288872Z",
     "shell.execute_reply": "2022-03-23T15:10:02.289790Z",
     "shell.execute_reply.started": "2022-03-23T15:08:38.146292Z"
    },
    "papermill": {
     "duration": 2.529794,
     "end_time": "2022-03-23T15:10:02.290038",
     "exception": false,
     "start_time": "2022-03-23T15:09:59.760244",
     "status": "completed"
    },
    "tags": []
   },
   "outputs": [
    {
     "name": "stdout",
     "output_type": "stream",
     "text": [
      "Netflix, Inc. (NFLX) Stock Historical Prices & Data - Yahoo Finance\n"
     ]
    }
   ],
   "source": [
    "url = \"https://cf-courses-data.s3.us.cloud-object-storage.appdomain.cloud/IBMDeveloperSkillsNetwork-PY0220EN-SkillsNetwork/labs/project/netflix_data_webpage.html\"\n",
    "data  = requests.get(url).text\n",
    "soup = BeautifulSoup(data, 'html5lib')\n",
    "print(soup.title.text)"
   ]
  },
  {
   "cell_type": "code",
   "execution_count": 7,
   "id": "e134c325",
   "metadata": {
    "execution": {
     "iopub.execute_input": "2022-03-23T15:10:02.322191Z",
     "iopub.status.busy": "2022-03-23T15:10:02.321485Z",
     "iopub.status.idle": "2022-03-23T15:10:02.563825Z",
     "shell.execute_reply": "2022-03-23T15:10:02.563263Z",
     "shell.execute_reply.started": "2022-03-23T15:08:41.365649Z"
    },
    "papermill": {
     "duration": 0.259097,
     "end_time": "2022-03-23T15:10:02.563998",
     "exception": false,
     "start_time": "2022-03-23T15:10:02.304901",
     "status": "completed"
    },
    "tags": []
   },
   "outputs": [
    {
     "data": {
      "text/html": [
       "<div>\n",
       "<style scoped>\n",
       "    .dataframe tbody tr th:only-of-type {\n",
       "        vertical-align: middle;\n",
       "    }\n",
       "\n",
       "    .dataframe tbody tr th {\n",
       "        vertical-align: top;\n",
       "    }\n",
       "\n",
       "    .dataframe thead th {\n",
       "        text-align: right;\n",
       "    }\n",
       "</style>\n",
       "<table border=\"1\" class=\"dataframe\">\n",
       "  <thead>\n",
       "    <tr style=\"text-align: right;\">\n",
       "      <th></th>\n",
       "      <th>Date</th>\n",
       "      <th>Open</th>\n",
       "      <th>High</th>\n",
       "      <th>Low</th>\n",
       "      <th>Close</th>\n",
       "      <th>Volume</th>\n",
       "      <th>Adj Close</th>\n",
       "    </tr>\n",
       "  </thead>\n",
       "  <tbody>\n",
       "    <tr>\n",
       "      <th>0</th>\n",
       "      <td>Jun 01, 2021</td>\n",
       "      <td>504.01</td>\n",
       "      <td>536.13</td>\n",
       "      <td>482.14</td>\n",
       "      <td>528.21</td>\n",
       "      <td>78,560,600</td>\n",
       "      <td>528.21</td>\n",
       "    </tr>\n",
       "    <tr>\n",
       "      <th>1</th>\n",
       "      <td>May 01, 2021</td>\n",
       "      <td>512.65</td>\n",
       "      <td>518.95</td>\n",
       "      <td>478.54</td>\n",
       "      <td>502.81</td>\n",
       "      <td>66,927,600</td>\n",
       "      <td>502.81</td>\n",
       "    </tr>\n",
       "    <tr>\n",
       "      <th>2</th>\n",
       "      <td>Apr 01, 2021</td>\n",
       "      <td>529.93</td>\n",
       "      <td>563.56</td>\n",
       "      <td>499.00</td>\n",
       "      <td>513.47</td>\n",
       "      <td>111,573,300</td>\n",
       "      <td>513.47</td>\n",
       "    </tr>\n",
       "    <tr>\n",
       "      <th>3</th>\n",
       "      <td>Mar 01, 2021</td>\n",
       "      <td>545.57</td>\n",
       "      <td>556.99</td>\n",
       "      <td>492.85</td>\n",
       "      <td>521.66</td>\n",
       "      <td>90,183,900</td>\n",
       "      <td>521.66</td>\n",
       "    </tr>\n",
       "    <tr>\n",
       "      <th>4</th>\n",
       "      <td>Feb 01, 2021</td>\n",
       "      <td>536.79</td>\n",
       "      <td>566.65</td>\n",
       "      <td>518.28</td>\n",
       "      <td>538.85</td>\n",
       "      <td>61,902,300</td>\n",
       "      <td>538.85</td>\n",
       "    </tr>\n",
       "  </tbody>\n",
       "</table>\n",
       "</div>"
      ],
      "text/plain": [
       "           Date    Open    High     Low   Close       Volume Adj Close\n",
       "0  Jun 01, 2021  504.01  536.13  482.14  528.21   78,560,600    528.21\n",
       "1  May 01, 2021  512.65  518.95  478.54  502.81   66,927,600    502.81\n",
       "2  Apr 01, 2021  529.93  563.56  499.00  513.47  111,573,300    513.47\n",
       "3  Mar 01, 2021  545.57  556.99  492.85  521.66   90,183,900    521.66\n",
       "4  Feb 01, 2021  536.79  566.65  518.28  538.85   61,902,300    538.85"
      ]
     },
     "execution_count": 7,
     "metadata": {},
     "output_type": "execute_result"
    }
   ],
   "source": [
    "amazon_data = pd.DataFrame(columns=[\"Date\", \"Open\", \"High\", \"Low\", \"Close\", \"Volume\"])\n",
    "\n",
    "for row in soup.find(\"tbody\").find_all(\"tr\"):\n",
    "    col = row.find_all(\"td\")\n",
    "    date = col[0].text\n",
    "    Open = col[1].text\n",
    "    high = col[2].text\n",
    "    low = col[3].text\n",
    "    close = col[4].text\n",
    "    adj_close = col[5].text\n",
    "    volume = col[6].text\n",
    "    \n",
    "    amazon_data = amazon_data.append({\"Date\":date, \"Open\":Open, \"High\":high, \"Low\":low, \"Close\":close, \"Adj Close\":adj_close, \"Volume\":volume}, ignore_index=True)\n",
    "    \n",
    "amazon_data.head()"
   ]
  }
 ],
 "metadata": {
  "kernelspec": {
   "display_name": "Python 3",
   "language": "python",
   "name": "python3"
  },
  "language_info": {
   "codemirror_mode": {
    "name": "ipython",
    "version": 3
   },
   "file_extension": ".py",
   "mimetype": "text/x-python",
   "name": "python",
   "nbconvert_exporter": "python",
   "pygments_lexer": "ipython3",
   "version": "3.7.12"
  },
  "papermill": {
   "default_parameters": {},
   "duration": 19.319966,
   "end_time": "2022-03-23T15:10:03.289524",
   "environment_variables": {},
   "exception": null,
   "input_path": "__notebook__.ipynb",
   "output_path": "__notebook__.ipynb",
   "parameters": {},
   "start_time": "2022-03-23T15:09:43.969558",
   "version": "2.3.3"
  }
 },
 "nbformat": 4,
 "nbformat_minor": 5
}
