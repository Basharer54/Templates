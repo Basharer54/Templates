{
 "cells": [
  {
   "cell_type": "markdown",
   "id": "4b13686e",
   "metadata": {
    "papermill": {
     "duration": 0.038292,
     "end_time": "2022-03-16T18:22:43.289558",
     "exception": false,
     "start_time": "2022-03-16T18:22:43.251266",
     "status": "completed"
    },
    "tags": []
   },
   "source": [
    "<h1>Extracting Stock Data Using a Python Library</h1>"
   ]
  },
  {
   "cell_type": "markdown",
   "id": "c14392dd",
   "metadata": {
    "papermill": {
     "duration": 0.037256,
     "end_time": "2022-03-16T18:22:43.363859",
     "exception": false,
     "start_time": "2022-03-16T18:22:43.326603",
     "status": "completed"
    },
    "tags": []
   },
   "source": [
    "A company's stock share is a piece of the company more precisely:\n",
    "\n",
    "**A stock (also known as equity) is a security that represents the ownership of a fraction of a corporation. This\n",
    "entitles the owner of the stock to a proportion of the corporation's assets and profits equal to how much stock they own. Units of stock are called \"shares.\" <a href=\"https://www.investopedia.com/terms/s/stock.asp\">[1]</a>**\n",
    "\n",
    "An investor can buy a stock and sell it later. If the stock price increases, the investor profits, If it decreases,the investor with incur a loss.  Determining the stock price is complex; it depends on the number of outstanding shares, the size of the company's future profits, and much more. People trade stocks throughout the day the stock **ticker** is a report of the price of a certain stock, updated continuously throughout the trading session by the various stock market exchanges.\n",
    "\n",
    "You are a data scientist working for a hedge fund; it's your job to determine any suspicious stock activity. In this lab you will extract stock data using a Python library. We will use the `yfinance` library, it allows us to extract data for stocks returning data in a pandas dataframe. You will use the lab to extract.\n",
    "\n",
    "\n",
    "## Table of Contents\n",
    "<div class=\"alert alert-block alert-info\" style=\"margin-top: 20px\">\n",
    "    <ul>\n",
    "        <li>Using yfinance to Extract Stock Info</li>\n",
    "        <li>Using yfinance to Extract Historical Share Price Data</li>\n",
    "        <li>Using yfinance to Extract Historical Dividends Data</li>\n",
    "    </ul>"
   ]
  },
  {
   "cell_type": "code",
   "execution_count": 1,
   "id": "4f461835",
   "metadata": {
    "execution": {
     "iopub.execute_input": "2022-03-16T18:22:43.443966Z",
     "iopub.status.busy": "2022-03-16T18:22:43.442159Z",
     "iopub.status.idle": "2022-03-16T18:22:56.095463Z",
     "shell.execute_reply": "2022-03-16T18:22:56.094439Z",
     "shell.execute_reply.started": "2022-03-16T01:43:07.939259Z"
    },
    "papermill": {
     "duration": 12.694545,
     "end_time": "2022-03-16T18:22:56.095663",
     "exception": false,
     "start_time": "2022-03-16T18:22:43.401118",
     "status": "completed"
    },
    "tags": []
   },
   "outputs": [
    {
     "name": "stdout",
     "output_type": "stream",
     "text": [
      "Collecting yfinance\r\n",
      "  Downloading yfinance-0.1.70-py2.py3-none-any.whl (26 kB)\r\n",
      "Requirement already satisfied: pandas>=0.24.0 in /opt/conda/lib/python3.7/site-packages (from yfinance) (1.3.5)\r\n",
      "Requirement already satisfied: lxml>=4.5.1 in /opt/conda/lib/python3.7/site-packages (from yfinance) (4.8.0)\r\n",
      "Requirement already satisfied: numpy>=1.15 in /opt/conda/lib/python3.7/site-packages (from yfinance) (1.20.3)\r\n",
      "Collecting multitasking>=0.0.7\r\n",
      "  Downloading multitasking-0.0.10.tar.gz (8.2 kB)\r\n",
      "  Preparing metadata (setup.py) ... \u001b[?25l-\b \bdone\r\n",
      "\u001b[?25hRequirement already satisfied: requests>=2.26 in /opt/conda/lib/python3.7/site-packages (from yfinance) (2.26.0)\r\n",
      "Requirement already satisfied: python-dateutil>=2.7.3 in /opt/conda/lib/python3.7/site-packages (from pandas>=0.24.0->yfinance) (2.8.2)\r\n",
      "Requirement already satisfied: pytz>=2017.3 in /opt/conda/lib/python3.7/site-packages (from pandas>=0.24.0->yfinance) (2021.3)\r\n",
      "Requirement already satisfied: idna<4,>=2.5 in /opt/conda/lib/python3.7/site-packages (from requests>=2.26->yfinance) (3.1)\r\n",
      "Requirement already satisfied: charset-normalizer~=2.0.0 in /opt/conda/lib/python3.7/site-packages (from requests>=2.26->yfinance) (2.0.9)\r\n",
      "Requirement already satisfied: urllib3<1.27,>=1.21.1 in /opt/conda/lib/python3.7/site-packages (from requests>=2.26->yfinance) (1.26.7)\r\n",
      "Requirement already satisfied: certifi>=2017.4.17 in /opt/conda/lib/python3.7/site-packages (from requests>=2.26->yfinance) (2021.10.8)\r\n",
      "Requirement already satisfied: six>=1.5 in /opt/conda/lib/python3.7/site-packages (from python-dateutil>=2.7.3->pandas>=0.24.0->yfinance) (1.16.0)\r\n",
      "Building wheels for collected packages: multitasking\r\n",
      "  Building wheel for multitasking (setup.py) ... \u001b[?25l-\b \b\\\b \bdone\r\n",
      "\u001b[?25h  Created wheel for multitasking: filename=multitasking-0.0.10-py3-none-any.whl size=8500 sha256=acdc47a932566c24c161ca9cfb737240cfafd79150703cb6c1ea974623f3cbc8\r\n",
      "  Stored in directory: /root/.cache/pip/wheels/34/ba/79/c0260c6f1a03f420ec7673eff9981778f293b9107974679e36\r\n",
      "Successfully built multitasking\r\n",
      "Installing collected packages: multitasking, yfinance\r\n",
      "Successfully installed multitasking-0.0.10 yfinance-0.1.70\r\n",
      "\u001b[33mWARNING: Running pip as the 'root' user can result in broken permissions and conflicting behaviour with the system package manager. It is recommended to use a virtual environment instead: https://pip.pypa.io/warnings/venv\u001b[0m\r\n"
     ]
    }
   ],
   "source": [
    "!pip install yfinance"
   ]
  },
  {
   "cell_type": "code",
   "execution_count": 2,
   "id": "cd49a207",
   "metadata": {
    "execution": {
     "iopub.execute_input": "2022-03-16T18:22:56.184559Z",
     "iopub.status.busy": "2022-03-16T18:22:56.183603Z",
     "iopub.status.idle": "2022-03-16T18:22:56.195739Z",
     "shell.execute_reply": "2022-03-16T18:22:56.195120Z",
     "shell.execute_reply.started": "2022-03-16T01:43:17.379168Z"
    },
    "papermill": {
     "duration": 0.057512,
     "end_time": "2022-03-16T18:22:56.195892",
     "exception": false,
     "start_time": "2022-03-16T18:22:56.138380",
     "status": "completed"
    },
    "tags": []
   },
   "outputs": [],
   "source": [
    "import yfinance as yf\n",
    "import pandas as pd"
   ]
  },
  {
   "cell_type": "markdown",
   "id": "e0d02558",
   "metadata": {
    "papermill": {
     "duration": 0.040006,
     "end_time": "2022-03-16T18:22:56.276225",
     "exception": false,
     "start_time": "2022-03-16T18:22:56.236219",
     "status": "completed"
    },
    "tags": []
   },
   "source": [
    "## Using the yfinance Library to Extract Stock Data\n",
    "\n",
    "Using the `Ticker` module we can create an object that will allow us to access functions to extract data. To do this we need to provide the ticker symbol for the stock, here the company is Apple and the ticker symbol is `AAPL`.\n"
   ]
  },
  {
   "cell_type": "code",
   "execution_count": 3,
   "id": "0482a3fe",
   "metadata": {
    "execution": {
     "iopub.execute_input": "2022-03-16T18:22:56.359559Z",
     "iopub.status.busy": "2022-03-16T18:22:56.358936Z",
     "iopub.status.idle": "2022-03-16T18:22:56.369864Z",
     "shell.execute_reply": "2022-03-16T18:22:56.370392Z",
     "shell.execute_reply.started": "2022-03-16T01:43:17.924602Z"
    },
    "papermill": {
     "duration": 0.054191,
     "end_time": "2022-03-16T18:22:56.370581",
     "exception": false,
     "start_time": "2022-03-16T18:22:56.316390",
     "status": "completed"
    },
    "tags": []
   },
   "outputs": [],
   "source": [
    "apple = yf.Ticker(\"AAPL\")"
   ]
  },
  {
   "cell_type": "markdown",
   "id": "3ca0387c",
   "metadata": {
    "papermill": {
     "duration": 0.039756,
     "end_time": "2022-03-16T18:22:56.450555",
     "exception": false,
     "start_time": "2022-03-16T18:22:56.410799",
     "status": "completed"
    },
    "tags": []
   },
   "source": [
    "### stock info\n",
    "Using the attribute `info` we can extract information about the stock as a Python dictionary."
   ]
  },
  {
   "cell_type": "code",
   "execution_count": 4,
   "id": "50a8c998",
   "metadata": {
    "execution": {
     "iopub.execute_input": "2022-03-16T18:22:56.534123Z",
     "iopub.status.busy": "2022-03-16T18:22:56.533410Z",
     "iopub.status.idle": "2022-03-16T18:23:01.221740Z",
     "shell.execute_reply": "2022-03-16T18:23:01.221175Z",
     "shell.execute_reply.started": "2022-03-16T01:46:42.21253Z"
    },
    "papermill": {
     "duration": 4.731321,
     "end_time": "2022-03-16T18:23:01.221934",
     "exception": false,
     "start_time": "2022-03-16T18:22:56.490613",
     "status": "completed"
    },
    "tags": []
   },
   "outputs": [
    {
     "data": {
      "text/plain": [
       "{'zip': '95014',\n",
       " 'sector': 'Technology',\n",
       " 'fullTimeEmployees': 100000,\n",
       " 'longBusinessSummary': 'Apple Inc. designs, manufactures, and markets smartphones, personal computers, tablets, wearables, and accessories worldwide. It also sells various related services. In addition, the company offers iPhone, a line of smartphones; Mac, a line of personal computers; iPad, a line of multi-purpose tablets; AirPods Max, an over-ear wireless headphone; and wearables, home, and accessories comprising AirPods, Apple TV, Apple Watch, Beats products, HomePod, and iPod touch. Further, it provides AppleCare support services; cloud services store services; and operates various platforms, including the App Store that allow customers to discover and download applications and digital content, such as books, music, video, games, and podcasts. Additionally, the company offers various services, such as Apple Arcade, a game subscription service; Apple Music, which offers users a curated listening experience with on-demand radio stations; Apple News+, a subscription news and magazine service; Apple TV+, which offers exclusive original content; Apple Card, a co-branded credit card; and Apple Pay, a cashless payment service, as well as licenses its intellectual property. The company serves consumers, and small and mid-sized businesses; and the education, enterprise, and government markets. It distributes third-party applications for its products through the App Store. The company also sells its products through its retail and online stores, and direct sales force; and third-party cellular network carriers, wholesalers, retailers, and resellers. Apple Inc. was incorporated in 1977 and is headquartered in Cupertino, California.',\n",
       " 'city': 'Cupertino',\n",
       " 'phone': '408 996 1010',\n",
       " 'state': 'CA',\n",
       " 'country': 'United States',\n",
       " 'companyOfficers': [],\n",
       " 'website': 'https://www.apple.com',\n",
       " 'maxAge': 1,\n",
       " 'address1': 'One Apple Park Way',\n",
       " 'industry': 'Consumer Electronics',\n",
       " 'ebitdaMargins': 0.33890998,\n",
       " 'profitMargins': 0.26579002,\n",
       " 'grossMargins': 0.43019,\n",
       " 'operatingCashflow': 112241000448,\n",
       " 'revenueGrowth': 0.112,\n",
       " 'operatingMargins': 0.309,\n",
       " 'ebitda': 128217997312,\n",
       " 'targetLowPrice': 160,\n",
       " 'recommendationKey': 'buy',\n",
       " 'grossProfits': 152836000000,\n",
       " 'freeCashflow': 80153247744,\n",
       " 'targetMedianPrice': 199.5,\n",
       " 'currentPrice': 155.505,\n",
       " 'earningsGrowth': 0.25,\n",
       " 'currentRatio': 1.038,\n",
       " 'returnOnAssets': 0.19875,\n",
       " 'numberOfAnalystOpinions': 44,\n",
       " 'targetMeanPrice': 193.53,\n",
       " 'debtToEquity': 170.714,\n",
       " 'returnOnEquity': 1.45567,\n",
       " 'targetHighPrice': 215,\n",
       " 'totalCash': 63913000960,\n",
       " 'totalDebt': 122797998080,\n",
       " 'totalRevenue': 378323009536,\n",
       " 'totalCashPerShare': 3.916,\n",
       " 'financialCurrency': 'USD',\n",
       " 'revenuePerShare': 22.838,\n",
       " 'quickRatio': 0.875,\n",
       " 'recommendationMean': 1.8,\n",
       " 'exchange': 'NMS',\n",
       " 'shortName': 'Apple Inc.',\n",
       " 'longName': 'Apple Inc.',\n",
       " 'exchangeTimezoneName': 'America/New_York',\n",
       " 'exchangeTimezoneShortName': 'EDT',\n",
       " 'isEsgPopulated': False,\n",
       " 'gmtOffSetMilliseconds': '-14400000',\n",
       " 'quoteType': 'EQUITY',\n",
       " 'symbol': 'AAPL',\n",
       " 'messageBoardId': 'finmb_24937',\n",
       " 'market': 'us_market',\n",
       " 'annualHoldingsTurnover': None,\n",
       " 'enterpriseToRevenue': 6.653,\n",
       " 'beta3Year': None,\n",
       " 'enterpriseToEbitda': 19.63,\n",
       " '52WeekChange': 0.24310672,\n",
       " 'morningStarRiskRating': None,\n",
       " 'forwardEps': 6.56,\n",
       " 'revenueQuarterlyGrowth': None,\n",
       " 'sharesOutstanding': 16319399936,\n",
       " 'fundInceptionDate': None,\n",
       " 'annualReportExpenseRatio': None,\n",
       " 'totalAssets': None,\n",
       " 'bookValue': 4.402,\n",
       " 'sharesShort': 110322490,\n",
       " 'sharesPercentSharesOut': 0.0068,\n",
       " 'fundFamily': None,\n",
       " 'lastFiscalYearEnd': 1632528000,\n",
       " 'heldPercentInstitutions': 0.59430003,\n",
       " 'netIncomeToCommon': 100554997760,\n",
       " 'trailingEps': 6.015,\n",
       " 'lastDividendValue': 0.22,\n",
       " 'SandP52WeekChange': 0.072551966,\n",
       " 'priceToBook': 35.32599,\n",
       " 'heldPercentInsiders': 0.0007,\n",
       " 'nextFiscalYearEnd': 1695600000,\n",
       " 'yield': None,\n",
       " 'mostRecentQuarter': 1640390400,\n",
       " 'shortRatio': 1.2,\n",
       " 'sharesShortPreviousMonthDate': 1643587200,\n",
       " 'floatShares': 16302795170,\n",
       " 'beta': 1.185531,\n",
       " 'enterpriseValue': 2516919255040,\n",
       " 'priceHint': 2,\n",
       " 'threeYearAverageReturn': None,\n",
       " 'lastSplitDate': 1598832000,\n",
       " 'lastSplitFactor': '4:1',\n",
       " 'legalType': None,\n",
       " 'lastDividendDate': 1643932800,\n",
       " 'morningStarOverallRating': None,\n",
       " 'earningsQuarterlyGrowth': 0.204,\n",
       " 'priceToSalesTrailing12Months': 6.890964,\n",
       " 'dateShortInterest': 1646006400,\n",
       " 'pegRatio': 1.69,\n",
       " 'ytdReturn': None,\n",
       " 'forwardPE': 23.705032,\n",
       " 'lastCapGain': None,\n",
       " 'shortPercentOfFloat': 0.0068,\n",
       " 'sharesShortPriorMonth': 91388112,\n",
       " 'impliedSharesOutstanding': 0,\n",
       " 'category': None,\n",
       " 'fiveYearAverageReturn': None,\n",
       " 'previousClose': 155.09,\n",
       " 'regularMarketOpen': 157.05,\n",
       " 'twoHundredDayAverage': 153.8877,\n",
       " 'trailingAnnualDividendYield': 0.005577407,\n",
       " 'payoutRatio': 0.1434,\n",
       " 'volume24Hr': None,\n",
       " 'regularMarketDayHigh': 158.64,\n",
       " 'navPrice': None,\n",
       " 'averageDailyVolume10Day': 96292350,\n",
       " 'regularMarketPreviousClose': 155.09,\n",
       " 'fiftyDayAverage': 167.6362,\n",
       " 'trailingAnnualDividendRate': 0.865,\n",
       " 'open': 157.05,\n",
       " 'toCurrency': None,\n",
       " 'averageVolume10days': 96292350,\n",
       " 'expireDate': None,\n",
       " 'algorithm': None,\n",
       " 'dividendRate': 0.88,\n",
       " 'exDividendDate': 1643932800,\n",
       " 'circulatingSupply': None,\n",
       " 'startDate': None,\n",
       " 'regularMarketDayLow': 155.24,\n",
       " 'currency': 'USD',\n",
       " 'trailingPE': 25.852869,\n",
       " 'regularMarketVolume': 58440844,\n",
       " 'lastMarket': None,\n",
       " 'maxSupply': None,\n",
       " 'openInterest': None,\n",
       " 'marketCap': 2607010283520,\n",
       " 'volumeAllCurrencies': None,\n",
       " 'strikePrice': None,\n",
       " 'averageVolume': 94610615,\n",
       " 'dayLow': 155.24,\n",
       " 'ask': 156.39,\n",
       " 'askSize': 800,\n",
       " 'volume': 58440844,\n",
       " 'fiftyTwoWeekHigh': 182.94,\n",
       " 'fromCurrency': None,\n",
       " 'fiveYearAvgDividendYield': 1.13,\n",
       " 'fiftyTwoWeekLow': 118.86,\n",
       " 'bid': 156.39,\n",
       " 'tradeable': False,\n",
       " 'dividendYield': 0.0057,\n",
       " 'bidSize': 800,\n",
       " 'dayHigh': 158.64,\n",
       " 'regularMarketPrice': 155.505,\n",
       " 'preMarketPrice': 157.01,\n",
       " 'logo_url': 'https://logo.clearbit.com/apple.com',\n",
       " 'trailingPegRatio': 3.2017}"
      ]
     },
     "execution_count": 4,
     "metadata": {},
     "output_type": "execute_result"
    }
   ],
   "source": [
    "apple_info=apple.info\n",
    "apple_info"
   ]
  },
  {
   "cell_type": "markdown",
   "id": "3f3a2582",
   "metadata": {
    "papermill": {
     "duration": 0.040746,
     "end_time": "2022-03-16T18:23:01.303866",
     "exception": false,
     "start_time": "2022-03-16T18:23:01.263120",
     "status": "completed"
    },
    "tags": []
   },
   "source": [
    "We can get the <code>'country'</code> using the key country"
   ]
  },
  {
   "cell_type": "code",
   "execution_count": 5,
   "id": "3fe09340",
   "metadata": {
    "execution": {
     "iopub.execute_input": "2022-03-16T18:23:01.389433Z",
     "iopub.status.busy": "2022-03-16T18:23:01.388776Z",
     "iopub.status.idle": "2022-03-16T18:23:01.393463Z",
     "shell.execute_reply": "2022-03-16T18:23:01.393987Z",
     "shell.execute_reply.started": "2022-03-16T01:47:37.156385Z"
    },
    "papermill": {
     "duration": 0.049128,
     "end_time": "2022-03-16T18:23:01.394155",
     "exception": false,
     "start_time": "2022-03-16T18:23:01.345027",
     "status": "completed"
    },
    "tags": []
   },
   "outputs": [
    {
     "data": {
      "text/plain": [
       "'United States'"
      ]
     },
     "execution_count": 5,
     "metadata": {},
     "output_type": "execute_result"
    }
   ],
   "source": [
    "apple_info['country']"
   ]
  },
  {
   "cell_type": "markdown",
   "id": "778211ef",
   "metadata": {
    "papermill": {
     "duration": 0.040831,
     "end_time": "2022-03-16T18:23:01.476366",
     "exception": false,
     "start_time": "2022-03-16T18:23:01.435535",
     "status": "completed"
    },
    "tags": []
   },
   "source": [
    "### Extracting Share Price\n",
    "\n",
    "A share is the single smallest part of a company's stock  that you can buy, the prices of these shares fluctuate over time. Using the `history()` method we can get the share price of the stock over a certain period of time. Using the `period` parameter we can set how far back from the present to get data. The options for `period` are 1 day (1d), 5d, 1 month (1mo) , 3mo, 6mo, 1 year (1y), 2y, 5y, 10y, ytd, and max.\n"
   ]
  },
  {
   "cell_type": "code",
   "execution_count": 6,
   "id": "5d234aaf",
   "metadata": {
    "execution": {
     "iopub.execute_input": "2022-03-16T18:23:01.567283Z",
     "iopub.status.busy": "2022-03-16T18:23:01.566523Z",
     "iopub.status.idle": "2022-03-16T18:23:01.969076Z",
     "shell.execute_reply": "2022-03-16T18:23:01.968352Z",
     "shell.execute_reply.started": "2022-03-16T01:51:21.54601Z"
    },
    "papermill": {
     "duration": 0.451395,
     "end_time": "2022-03-16T18:23:01.969221",
     "exception": false,
     "start_time": "2022-03-16T18:23:01.517826",
     "status": "completed"
    },
    "tags": []
   },
   "outputs": [],
   "source": [
    "apple_share_price_data = apple.history(period=\"max\")"
   ]
  },
  {
   "cell_type": "markdown",
   "id": "b1152697",
   "metadata": {
    "papermill": {
     "duration": 0.04186,
     "end_time": "2022-03-16T18:23:02.052450",
     "exception": false,
     "start_time": "2022-03-16T18:23:02.010590",
     "status": "completed"
    },
    "tags": []
   },
   "source": [
    "The format that the data is returned in is a Pandas DataFrame. With the `Date` as the index the share `Open`, `High`, `Low`, `Close`, `Volume`, and `Stock Splits` are given for each day.\n"
   ]
  },
  {
   "cell_type": "code",
   "execution_count": 7,
   "id": "85fab199",
   "metadata": {
    "execution": {
     "iopub.execute_input": "2022-03-16T18:23:02.142759Z",
     "iopub.status.busy": "2022-03-16T18:23:02.142098Z",
     "iopub.status.idle": "2022-03-16T18:23:02.157230Z",
     "shell.execute_reply": "2022-03-16T18:23:02.157795Z",
     "shell.execute_reply.started": "2022-03-16T01:51:22.427733Z"
    },
    "papermill": {
     "duration": 0.064237,
     "end_time": "2022-03-16T18:23:02.157968",
     "exception": false,
     "start_time": "2022-03-16T18:23:02.093731",
     "status": "completed"
    },
    "tags": []
   },
   "outputs": [
    {
     "data": {
      "text/html": [
       "<div>\n",
       "<style scoped>\n",
       "    .dataframe tbody tr th:only-of-type {\n",
       "        vertical-align: middle;\n",
       "    }\n",
       "\n",
       "    .dataframe tbody tr th {\n",
       "        vertical-align: top;\n",
       "    }\n",
       "\n",
       "    .dataframe thead th {\n",
       "        text-align: right;\n",
       "    }\n",
       "</style>\n",
       "<table border=\"1\" class=\"dataframe\">\n",
       "  <thead>\n",
       "    <tr style=\"text-align: right;\">\n",
       "      <th></th>\n",
       "      <th>Open</th>\n",
       "      <th>High</th>\n",
       "      <th>Low</th>\n",
       "      <th>Close</th>\n",
       "      <th>Volume</th>\n",
       "      <th>Dividends</th>\n",
       "      <th>Stock Splits</th>\n",
       "    </tr>\n",
       "    <tr>\n",
       "      <th>Date</th>\n",
       "      <th></th>\n",
       "      <th></th>\n",
       "      <th></th>\n",
       "      <th></th>\n",
       "      <th></th>\n",
       "      <th></th>\n",
       "      <th></th>\n",
       "    </tr>\n",
       "  </thead>\n",
       "  <tbody>\n",
       "    <tr>\n",
       "      <th>1980-12-12</th>\n",
       "      <td>0.100323</td>\n",
       "      <td>0.100759</td>\n",
       "      <td>0.100323</td>\n",
       "      <td>0.100323</td>\n",
       "      <td>469033600</td>\n",
       "      <td>0.0</td>\n",
       "      <td>0.0</td>\n",
       "    </tr>\n",
       "    <tr>\n",
       "      <th>1980-12-15</th>\n",
       "      <td>0.095525</td>\n",
       "      <td>0.095525</td>\n",
       "      <td>0.095089</td>\n",
       "      <td>0.095089</td>\n",
       "      <td>175884800</td>\n",
       "      <td>0.0</td>\n",
       "      <td>0.0</td>\n",
       "    </tr>\n",
       "    <tr>\n",
       "      <th>1980-12-16</th>\n",
       "      <td>0.088546</td>\n",
       "      <td>0.088546</td>\n",
       "      <td>0.088110</td>\n",
       "      <td>0.088110</td>\n",
       "      <td>105728000</td>\n",
       "      <td>0.0</td>\n",
       "      <td>0.0</td>\n",
       "    </tr>\n",
       "    <tr>\n",
       "      <th>1980-12-17</th>\n",
       "      <td>0.090291</td>\n",
       "      <td>0.090727</td>\n",
       "      <td>0.090291</td>\n",
       "      <td>0.090291</td>\n",
       "      <td>86441600</td>\n",
       "      <td>0.0</td>\n",
       "      <td>0.0</td>\n",
       "    </tr>\n",
       "    <tr>\n",
       "      <th>1980-12-18</th>\n",
       "      <td>0.092908</td>\n",
       "      <td>0.093345</td>\n",
       "      <td>0.092908</td>\n",
       "      <td>0.092908</td>\n",
       "      <td>73449600</td>\n",
       "      <td>0.0</td>\n",
       "      <td>0.0</td>\n",
       "    </tr>\n",
       "  </tbody>\n",
       "</table>\n",
       "</div>"
      ],
      "text/plain": [
       "                Open      High       Low     Close     Volume  Dividends  \\\n",
       "Date                                                                       \n",
       "1980-12-12  0.100323  0.100759  0.100323  0.100323  469033600        0.0   \n",
       "1980-12-15  0.095525  0.095525  0.095089  0.095089  175884800        0.0   \n",
       "1980-12-16  0.088546  0.088546  0.088110  0.088110  105728000        0.0   \n",
       "1980-12-17  0.090291  0.090727  0.090291  0.090291   86441600        0.0   \n",
       "1980-12-18  0.092908  0.093345  0.092908  0.092908   73449600        0.0   \n",
       "\n",
       "            Stock Splits  \n",
       "Date                      \n",
       "1980-12-12           0.0  \n",
       "1980-12-15           0.0  \n",
       "1980-12-16           0.0  \n",
       "1980-12-17           0.0  \n",
       "1980-12-18           0.0  "
      ]
     },
     "execution_count": 7,
     "metadata": {},
     "output_type": "execute_result"
    }
   ],
   "source": [
    "apple_share_price_data.head()"
   ]
  },
  {
   "cell_type": "markdown",
   "id": "31bad1d5",
   "metadata": {
    "execution": {
     "iopub.execute_input": "2022-03-16T01:51:45.675876Z",
     "iopub.status.busy": "2022-03-16T01:51:45.674748Z",
     "iopub.status.idle": "2022-03-16T01:51:45.682304Z",
     "shell.execute_reply": "2022-03-16T01:51:45.680909Z",
     "shell.execute_reply.started": "2022-03-16T01:51:45.675807Z"
    },
    "papermill": {
     "duration": 0.042062,
     "end_time": "2022-03-16T18:23:02.242419",
     "exception": false,
     "start_time": "2022-03-16T18:23:02.200357",
     "status": "completed"
    },
    "tags": []
   },
   "source": [
    "We can reset the index of the DataFrame with the `reset_index` function. We also set the `inplace` paramter to `True` so the change takes place to the DataFrame itself.\n"
   ]
  },
  {
   "cell_type": "code",
   "execution_count": 8,
   "id": "2619a329",
   "metadata": {
    "execution": {
     "iopub.execute_input": "2022-03-16T18:23:02.328499Z",
     "iopub.status.busy": "2022-03-16T18:23:02.327858Z",
     "iopub.status.idle": "2022-03-16T18:23:02.332146Z",
     "shell.execute_reply": "2022-03-16T18:23:02.332687Z",
     "shell.execute_reply.started": "2022-03-16T01:52:16.981452Z"
    },
    "papermill": {
     "duration": 0.048868,
     "end_time": "2022-03-16T18:23:02.332898",
     "exception": false,
     "start_time": "2022-03-16T18:23:02.284030",
     "status": "completed"
    },
    "tags": []
   },
   "outputs": [],
   "source": [
    "apple_share_price_data.reset_index(inplace=True)"
   ]
  },
  {
   "cell_type": "markdown",
   "id": "10710855",
   "metadata": {
    "papermill": {
     "duration": 0.041472,
     "end_time": "2022-03-16T18:23:02.416642",
     "exception": false,
     "start_time": "2022-03-16T18:23:02.375170",
     "status": "completed"
    },
    "tags": []
   },
   "source": [
    "We can plot the `Open` price against the `Date`:\n"
   ]
  },
  {
   "cell_type": "code",
   "execution_count": 9,
   "id": "9119f769",
   "metadata": {
    "execution": {
     "iopub.execute_input": "2022-03-16T18:23:02.503444Z",
     "iopub.status.busy": "2022-03-16T18:23:02.502843Z",
     "iopub.status.idle": "2022-03-16T18:23:02.935298Z",
     "shell.execute_reply": "2022-03-16T18:23:02.934773Z",
     "shell.execute_reply.started": "2022-03-16T01:52:53.760193Z"
    },
    "papermill": {
     "duration": 0.476877,
     "end_time": "2022-03-16T18:23:02.935442",
     "exception": false,
     "start_time": "2022-03-16T18:23:02.458565",
     "status": "completed"
    },
    "tags": []
   },
   "outputs": [
    {
     "data": {
      "text/plain": [
       "<AxesSubplot:xlabel='Date'>"
      ]
     },
     "execution_count": 9,
     "metadata": {},
     "output_type": "execute_result"
    },
    {
     "data": {
      "image/png": "[encoded data removed]",
      "text/plain": [
       "<Figure size 432x288 with 1 Axes>"
      ]
     },
     "metadata": {
      "needs_background": "light"
     },
     "output_type": "display_data"
    }
   ],
   "source": [
    "apple_share_price_data.plot(x=\"Date\", y=\"Open\")"
   ]
  },
  {
   "cell_type": "markdown",
   "id": "71fd71e7",
   "metadata": {
    "papermill": {
     "duration": 0.042939,
     "end_time": "2022-03-16T18:23:03.022885",
     "exception": false,
     "start_time": "2022-03-16T18:23:02.979946",
     "status": "completed"
    },
    "tags": []
   },
   "source": [
    "### Extracting Dividends\n",
    "\n",
    "Dividends are the distribution of a companys profits to shareholders. In this case they are defined as an amount of money returned per share an investor owns. Using the variable dividends we can get a dataframe of the data. The period of the data is given by the period defined in the `history` function."
   ]
  },
  {
   "cell_type": "code",
   "execution_count": 10,
   "id": "8ae2dd27",
   "metadata": {
    "execution": {
     "iopub.execute_input": "2022-03-16T18:23:03.117371Z",
     "iopub.status.busy": "2022-03-16T18:23:03.116717Z",
     "iopub.status.idle": "2022-03-16T18:23:03.123598Z",
     "shell.execute_reply": "2022-03-16T18:23:03.124132Z",
     "shell.execute_reply.started": "2022-03-16T01:55:28.441931Z"
    },
    "papermill": {
     "duration": 0.056355,
     "end_time": "2022-03-16T18:23:03.124326",
     "exception": false,
     "start_time": "2022-03-16T18:23:03.067971",
     "status": "completed"
    },
    "tags": []
   },
   "outputs": [
    {
     "data": {
      "text/plain": [
       "Date\n",
       "1987-05-11    0.000536\n",
       "1987-08-10    0.000536\n",
       "1987-11-17    0.000714\n",
       "1988-02-12    0.000714\n",
       "1988-05-16    0.000714\n",
       "                ...   \n",
       "2021-02-05    0.205000\n",
       "2021-05-07    0.220000\n",
       "2021-08-06    0.220000\n",
       "2021-11-05    0.220000\n",
       "2022-02-04    0.220000\n",
       "Name: Dividends, Length: 74, dtype: float64"
      ]
     },
     "execution_count": 10,
     "metadata": {},
     "output_type": "execute_result"
    }
   ],
   "source": [
    "apple.dividends"
   ]
  },
  {
   "cell_type": "markdown",
   "id": "17e91065",
   "metadata": {
    "papermill": {
     "duration": 0.043283,
     "end_time": "2022-03-16T18:23:03.211318",
     "exception": false,
     "start_time": "2022-03-16T18:23:03.168035",
     "status": "completed"
    },
    "tags": []
   },
   "source": [
    "We can plot the dividends overtime:\n"
   ]
  },
  {
   "cell_type": "code",
   "execution_count": 11,
   "id": "c4a927ef",
   "metadata": {
    "execution": {
     "iopub.execute_input": "2022-03-16T18:23:03.302176Z",
     "iopub.status.busy": "2022-03-16T18:23:03.301498Z",
     "iopub.status.idle": "2022-03-16T18:23:03.588241Z",
     "shell.execute_reply": "2022-03-16T18:23:03.587598Z",
     "shell.execute_reply.started": "2022-03-16T01:56:18.888158Z"
    },
    "papermill": {
     "duration": 0.333456,
     "end_time": "2022-03-16T18:23:03.588384",
     "exception": false,
     "start_time": "2022-03-16T18:23:03.254928",
     "status": "completed"
    },
    "tags": []
   },
   "outputs": [
    {
     "data": {
      "text/plain": [
       "<AxesSubplot:xlabel='Date'>"
      ]
     },
     "execution_count": 11,
     "metadata": {},
     "output_type": "execute_result"
    },
    {
     "data": {
      "image/png": "[encoded data removed]",
      "text/plain": [
       "<Figure size 432x288 with 1 Axes>"
      ]
     },
     "metadata": {
      "needs_background": "light"
     },
     "output_type": "display_data"
    }
   ],
   "source": [
    "apple.dividends.plot()"
   ]
  },
  {
   "cell_type": "markdown",
   "id": "e5a5847e",
   "metadata": {
    "papermill": {
     "duration": 0.045049,
     "end_time": "2022-03-16T18:23:03.679968",
     "exception": false,
     "start_time": "2022-03-16T18:23:03.634919",
     "status": "completed"
    },
    "tags": []
   },
   "source": [
    "Now using the `Ticker` module create an object for AMD (Advanced Micro Devices) with the ticker symbol is `AMD` called; name the object <code>amd</code>."
   ]
  },
  {
   "cell_type": "code",
   "execution_count": 12,
   "id": "cbd500b5",
   "metadata": {
    "execution": {
     "iopub.execute_input": "2022-03-16T18:23:03.784368Z",
     "iopub.status.busy": "2022-03-16T18:23:03.781734Z",
     "iopub.status.idle": "2022-03-16T18:23:07.633911Z",
     "shell.execute_reply": "2022-03-16T18:23:07.633178Z",
     "shell.execute_reply.started": "2022-03-16T02:06:26.741346Z"
    },
    "papermill": {
     "duration": 3.90881,
     "end_time": "2022-03-16T18:23:07.634058",
     "exception": false,
     "start_time": "2022-03-16T18:23:03.725248",
     "status": "completed"
    },
    "tags": []
   },
   "outputs": [],
   "source": [
    "amd = yf.Ticker(\"AMD\")\n",
    "info = amd.info"
   ]
  },
  {
   "cell_type": "markdown",
   "id": "50c146c9",
   "metadata": {
    "papermill": {
     "duration": 0.045026,
     "end_time": "2022-03-16T18:23:07.726545",
     "exception": false,
     "start_time": "2022-03-16T18:23:07.681519",
     "status": "completed"
    },
    "tags": []
   },
   "source": [
    " Use the key  <code>'country'</code> to find the country the stock belongs to"
   ]
  },
  {
   "cell_type": "code",
   "execution_count": 13,
   "id": "727fff38",
   "metadata": {
    "execution": {
     "iopub.execute_input": "2022-03-16T18:23:07.824260Z",
     "iopub.status.busy": "2022-03-16T18:23:07.823555Z",
     "iopub.status.idle": "2022-03-16T18:23:07.827546Z",
     "shell.execute_reply": "2022-03-16T18:23:07.826915Z",
     "shell.execute_reply.started": "2022-03-16T02:06:32.61502Z"
    },
    "papermill": {
     "duration": 0.055025,
     "end_time": "2022-03-16T18:23:07.827690",
     "exception": false,
     "start_time": "2022-03-16T18:23:07.772665",
     "status": "completed"
    },
    "tags": []
   },
   "outputs": [
    {
     "data": {
      "text/plain": [
       "'United States'"
      ]
     },
     "execution_count": 13,
     "metadata": {},
     "output_type": "execute_result"
    }
   ],
   "source": [
    "info['country']"
   ]
  },
  {
   "cell_type": "markdown",
   "id": "42695d79",
   "metadata": {
    "papermill": {
     "duration": 0.046316,
     "end_time": "2022-03-16T18:23:07.919831",
     "exception": false,
     "start_time": "2022-03-16T18:23:07.873515",
     "status": "completed"
    },
    "tags": []
   },
   "source": [
    " Use the key  <code>'sector'</code> to find the sector the stock belongs to"
   ]
  },
  {
   "cell_type": "code",
   "execution_count": 14,
   "id": "b0d8a7b6",
   "metadata": {
    "execution": {
     "iopub.execute_input": "2022-03-16T18:23:08.016272Z",
     "iopub.status.busy": "2022-03-16T18:23:08.015570Z",
     "iopub.status.idle": "2022-03-16T18:23:08.019121Z",
     "shell.execute_reply": "2022-03-16T18:23:08.019605Z",
     "shell.execute_reply.started": "2022-03-16T02:06:32.624372Z"
    },
    "papermill": {
     "duration": 0.054208,
     "end_time": "2022-03-16T18:23:08.019826",
     "exception": false,
     "start_time": "2022-03-16T18:23:07.965618",
     "status": "completed"
    },
    "tags": []
   },
   "outputs": [
    {
     "data": {
      "text/plain": [
       "'Technology'"
      ]
     },
     "execution_count": 14,
     "metadata": {},
     "output_type": "execute_result"
    }
   ],
   "source": [
    "info['sector']"
   ]
  },
  {
   "cell_type": "markdown",
   "id": "a4fb82c1",
   "metadata": {
    "papermill": {
     "duration": 0.04538,
     "end_time": "2022-03-16T18:23:08.111736",
     "exception": false,
     "start_time": "2022-03-16T18:23:08.066356",
     "status": "completed"
    },
    "tags": []
   },
   "source": [
    "Obtain stock data for AMD using the `history` function, set the `period` to max. Find the `Volume` traded on the first day (first row)."
   ]
  },
  {
   "cell_type": "code",
   "execution_count": 15,
   "id": "ad489016",
   "metadata": {
    "execution": {
     "iopub.execute_input": "2022-03-16T18:23:08.211003Z",
     "iopub.status.busy": "2022-03-16T18:23:08.210362Z",
     "iopub.status.idle": "2022-03-16T18:23:08.316900Z",
     "shell.execute_reply": "2022-03-16T18:23:08.317349Z",
     "shell.execute_reply.started": "2022-03-16T02:12:31.07398Z"
    },
    "papermill": {
     "duration": 0.159824,
     "end_time": "2022-03-16T18:23:08.317544",
     "exception": false,
     "start_time": "2022-03-16T18:23:08.157720",
     "status": "completed"
    },
    "tags": []
   },
   "outputs": [
    {
     "data": {
      "text/html": [
       "<div>\n",
       "<style scoped>\n",
       "    .dataframe tbody tr th:only-of-type {\n",
       "        vertical-align: middle;\n",
       "    }\n",
       "\n",
       "    .dataframe tbody tr th {\n",
       "        vertical-align: top;\n",
       "    }\n",
       "\n",
       "    .dataframe thead th {\n",
       "        text-align: right;\n",
       "    }\n",
       "</style>\n",
       "<table border=\"1\" class=\"dataframe\">\n",
       "  <thead>\n",
       "    <tr style=\"text-align: right;\">\n",
       "      <th></th>\n",
       "      <th>Date</th>\n",
       "      <th>Open</th>\n",
       "      <th>High</th>\n",
       "      <th>Low</th>\n",
       "      <th>Close</th>\n",
       "      <th>Volume</th>\n",
       "      <th>Dividends</th>\n",
       "      <th>Stock Splits</th>\n",
       "    </tr>\n",
       "  </thead>\n",
       "  <tbody>\n",
       "    <tr>\n",
       "      <th>0</th>\n",
       "      <td>2022-02-16</td>\n",
       "      <td>119.050003</td>\n",
       "      <td>119.540001</td>\n",
       "      <td>114.220001</td>\n",
       "      <td>117.690002</td>\n",
       "      <td>119109600</td>\n",
       "      <td>0</td>\n",
       "      <td>0</td>\n",
       "    </tr>\n",
       "    <tr>\n",
       "      <th>1</th>\n",
       "      <td>2022-02-17</td>\n",
       "      <td>116.260002</td>\n",
       "      <td>116.980003</td>\n",
       "      <td>112.260002</td>\n",
       "      <td>112.370003</td>\n",
       "      <td>98179600</td>\n",
       "      <td>0</td>\n",
       "      <td>0</td>\n",
       "    </tr>\n",
       "    <tr>\n",
       "      <th>2</th>\n",
       "      <td>2022-02-18</td>\n",
       "      <td>113.900002</td>\n",
       "      <td>115.639999</td>\n",
       "      <td>109.889999</td>\n",
       "      <td>113.830002</td>\n",
       "      <td>114321200</td>\n",
       "      <td>0</td>\n",
       "      <td>0</td>\n",
       "    </tr>\n",
       "    <tr>\n",
       "      <th>3</th>\n",
       "      <td>2022-02-22</td>\n",
       "      <td>115.269997</td>\n",
       "      <td>119.199997</td>\n",
       "      <td>113.610001</td>\n",
       "      <td>115.650002</td>\n",
       "      <td>141648500</td>\n",
       "      <td>0</td>\n",
       "      <td>0</td>\n",
       "    </tr>\n",
       "    <tr>\n",
       "      <th>4</th>\n",
       "      <td>2022-02-23</td>\n",
       "      <td>117.400002</td>\n",
       "      <td>118.650002</td>\n",
       "      <td>109.040001</td>\n",
       "      <td>109.760002</td>\n",
       "      <td>120299400</td>\n",
       "      <td>0</td>\n",
       "      <td>0</td>\n",
       "    </tr>\n",
       "  </tbody>\n",
       "</table>\n",
       "</div>"
      ],
      "text/plain": [
       "        Date        Open        High         Low       Close     Volume  \\\n",
       "0 2022-02-16  119.050003  119.540001  114.220001  117.690002  119109600   \n",
       "1 2022-02-17  116.260002  116.980003  112.260002  112.370003   98179600   \n",
       "2 2022-02-18  113.900002  115.639999  109.889999  113.830002  114321200   \n",
       "3 2022-02-22  115.269997  119.199997  113.610001  115.650002  141648500   \n",
       "4 2022-02-23  117.400002  118.650002  109.040001  109.760002  120299400   \n",
       "\n",
       "   Dividends  Stock Splits  \n",
       "0          0             0  \n",
       "1          0             0  \n",
       "2          0             0  \n",
       "3          0             0  \n",
       "4          0             0  "
      ]
     },
     "execution_count": 15,
     "metadata": {},
     "output_type": "execute_result"
    }
   ],
   "source": [
    "history = amd.history(pireod='max')\n",
    "history.reset_index(inplace=True)\n",
    "history.head()"
   ]
  },
  {
   "cell_type": "code",
   "execution_count": 16,
   "id": "3d0f3c9b",
   "metadata": {
    "execution": {
     "iopub.execute_input": "2022-03-16T18:23:08.418526Z",
     "iopub.status.busy": "2022-03-16T18:23:08.417855Z",
     "iopub.status.idle": "2022-03-16T18:23:08.421830Z",
     "shell.execute_reply": "2022-03-16T18:23:08.421167Z",
     "shell.execute_reply.started": "2022-03-16T02:07:25.814872Z"
    },
    "papermill": {
     "duration": 0.056108,
     "end_time": "2022-03-16T18:23:08.421969",
     "exception": false,
     "start_time": "2022-03-16T18:23:08.365861",
     "status": "completed"
    },
    "tags": []
   },
   "outputs": [
    {
     "data": {
      "text/plain": [
       "119109600"
      ]
     },
     "execution_count": 16,
     "metadata": {},
     "output_type": "execute_result"
    }
   ],
   "source": [
    "history.Volume[0]"
   ]
  },
  {
   "cell_type": "markdown",
   "id": "10d88880",
   "metadata": {
    "papermill": {
     "duration": 0.046446,
     "end_time": "2022-03-16T18:23:08.515467",
     "exception": false,
     "start_time": "2022-03-16T18:23:08.469021",
     "status": "completed"
    },
    "tags": []
   },
   "source": [
    "# Extracting Stock Data Using Web Scraping"
   ]
  },
  {
   "cell_type": "markdown",
   "id": "5e9d6b9a",
   "metadata": {
    "papermill": {
     "duration": 0.046774,
     "end_time": "2022-03-16T18:23:08.609008",
     "exception": false,
     "start_time": "2022-03-16T18:23:08.562234",
     "status": "completed"
    },
    "tags": []
   },
   "source": [
    "Not all stock data is available via API in this assignment; you will use web-scraping to obtain financial data.\n",
    "Using `beautiful soup` we will extract historical share data from a web-page.\n",
    "\n",
    "## Table of Contents\n",
    "<div class=\"alert alert-block alert-info\" style=\"margin-top: 20px\">\n",
    "    <ul>\n",
    "        <li>Downloading the Webpage Using Requests Library</li>\n",
    "        <li>Parsing Webpage HTML Using BeautifulSoup</li>\n",
    "        <li>Extracting Data and Building DataFrame</li>\n",
    "    </ul>\n",
    "</div>\n"
   ]
  },
  {
   "cell_type": "code",
   "execution_count": 17,
   "id": "c88768ca",
   "metadata": {
    "execution": {
     "iopub.execute_input": "2022-03-16T18:23:08.707457Z",
     "iopub.status.busy": "2022-03-16T18:23:08.706856Z",
     "iopub.status.idle": "2022-03-16T18:23:08.709254Z",
     "shell.execute_reply": "2022-03-16T18:23:08.709696Z",
     "shell.execute_reply.started": "2022-03-16T14:01:42.150879Z"
    },
    "papermill": {
     "duration": 0.053706,
     "end_time": "2022-03-16T18:23:08.709865",
     "exception": false,
     "start_time": "2022-03-16T18:23:08.656159",
     "status": "completed"
    },
    "tags": []
   },
   "outputs": [],
   "source": [
    "import pandas as pd\n",
    "\n",
    "from bs4 import BeautifulSoup\n",
    "import requests"
   ]
  },
  {
   "cell_type": "markdown",
   "id": "8ab01cd7",
   "metadata": {
    "papermill": {
     "duration": 0.047496,
     "end_time": "2022-03-16T18:23:08.804391",
     "exception": false,
     "start_time": "2022-03-16T18:23:08.756895",
     "status": "completed"
    },
    "tags": []
   },
   "source": [
    "First we must use the `request` library to downlaod the webpage, and extract the text. We will extract Netflix stock data from this<a href=\"https://cf-courses-data.s3.us.cloud-object-storage.appdomain.cloud/IBMDeveloperSkillsNetwork-PY0220EN-SkillsNetwork/labs/project/netflix_data_webpage.html\"> <b>Link</b></a>."
   ]
  },
  {
   "cell_type": "code",
   "execution_count": 18,
   "id": "8900e26c",
   "metadata": {
    "execution": {
     "iopub.execute_input": "2022-03-16T18:23:08.905166Z",
     "iopub.status.busy": "2022-03-16T18:23:08.904417Z",
     "iopub.status.idle": "2022-03-16T18:23:10.308556Z",
     "shell.execute_reply": "2022-03-16T18:23:10.307965Z",
     "shell.execute_reply.started": "2022-03-16T14:04:29.068472Z"
    },
    "papermill": {
     "duration": 1.457525,
     "end_time": "2022-03-16T18:23:10.308697",
     "exception": false,
     "start_time": "2022-03-16T18:23:08.851172",
     "status": "completed"
    },
    "tags": []
   },
   "outputs": [],
   "source": [
    "url = \"https://cf-courses-data.s3.us.cloud-object-storage.appdomain.cloud/IBMDeveloperSkillsNetwork-PY0220EN-SkillsNetwork/labs/project/netflix_data_webpage.html\"\n",
    "\n",
    "data  = requests.get(url).text"
   ]
  },
  {
   "cell_type": "markdown",
   "id": "094efdc6",
   "metadata": {
    "papermill": {
     "duration": 0.046582,
     "end_time": "2022-03-16T18:23:10.402497",
     "exception": false,
     "start_time": "2022-03-16T18:23:10.355915",
     "status": "completed"
    },
    "tags": []
   },
   "source": [
    "Next we must parse the text into html using `beautiful_soup`"
   ]
  },
  {
   "cell_type": "code",
   "execution_count": 19,
   "id": "af87475f",
   "metadata": {
    "execution": {
     "iopub.execute_input": "2022-03-16T18:23:10.512779Z",
     "iopub.status.busy": "2022-03-16T18:23:10.512140Z",
     "iopub.status.idle": "2022-03-16T18:23:10.788973Z",
     "shell.execute_reply": "2022-03-16T18:23:10.788295Z",
     "shell.execute_reply.started": "2022-03-16T14:15:30.981764Z"
    },
    "papermill": {
     "duration": 0.339693,
     "end_time": "2022-03-16T18:23:10.789116",
     "exception": false,
     "start_time": "2022-03-16T18:23:10.449423",
     "status": "completed"
    },
    "tags": []
   },
   "outputs": [
    {
     "name": "stdout",
     "output_type": "stream",
     "text": [
      "Netflix, Inc. (NFLX) Stock Historical Prices & Data - Yahoo Finance\n"
     ]
    }
   ],
   "source": [
    "soup = BeautifulSoup(data, 'html5lib')\n",
    "print(soup.title.text)"
   ]
  },
  {
   "cell_type": "markdown",
   "id": "b681f0c3",
   "metadata": {
    "papermill": {
     "duration": 0.047353,
     "end_time": "2022-03-16T18:23:10.885050",
     "exception": false,
     "start_time": "2022-03-16T18:23:10.837697",
     "status": "completed"
    },
    "tags": []
   },
   "source": [
    "Now we can turn the html table into a pandas dataframe\n"
   ]
  },
  {
   "cell_type": "code",
   "execution_count": 20,
   "id": "2348dca1",
   "metadata": {
    "execution": {
     "iopub.execute_input": "2022-03-16T18:23:10.984688Z",
     "iopub.status.busy": "2022-03-16T18:23:10.984012Z",
     "iopub.status.idle": "2022-03-16T18:23:10.990423Z",
     "shell.execute_reply": "2022-03-16T18:23:10.991119Z",
     "shell.execute_reply.started": "2022-03-16T14:09:46.574726Z"
    },
    "papermill": {
     "duration": 0.057882,
     "end_time": "2022-03-16T18:23:10.991310",
     "exception": false,
     "start_time": "2022-03-16T18:23:10.933428",
     "status": "completed"
    },
    "tags": []
   },
   "outputs": [
    {
     "data": {
      "text/plain": [
       "1"
      ]
     },
     "execution_count": 20,
     "metadata": {},
     "output_type": "execute_result"
    }
   ],
   "source": [
    "table = soup.find_all('table')\n",
    "len(table)"
   ]
  },
  {
   "cell_type": "code",
   "execution_count": 21,
   "id": "29978297",
   "metadata": {
    "execution": {
     "iopub.execute_input": "2022-03-16T18:23:11.091738Z",
     "iopub.status.busy": "2022-03-16T18:23:11.090736Z",
     "iopub.status.idle": "2022-03-16T18:23:11.330307Z",
     "shell.execute_reply": "2022-03-16T18:23:11.330834Z",
     "shell.execute_reply.started": "2022-03-16T14:12:30.342334Z"
    },
    "papermill": {
     "duration": 0.291694,
     "end_time": "2022-03-16T18:23:11.331007",
     "exception": false,
     "start_time": "2022-03-16T18:23:11.039313",
     "status": "completed"
    },
    "tags": []
   },
   "outputs": [
    {
     "data": {
      "text/html": [
       "<div>\n",
       "<style scoped>\n",
       "    .dataframe tbody tr th:only-of-type {\n",
       "        vertical-align: middle;\n",
       "    }\n",
       "\n",
       "    .dataframe tbody tr th {\n",
       "        vertical-align: top;\n",
       "    }\n",
       "\n",
       "    .dataframe thead th {\n",
       "        text-align: right;\n",
       "    }\n",
       "</style>\n",
       "<table border=\"1\" class=\"dataframe\">\n",
       "  <thead>\n",
       "    <tr style=\"text-align: right;\">\n",
       "      <th></th>\n",
       "      <th>Date</th>\n",
       "      <th>Open</th>\n",
       "      <th>High</th>\n",
       "      <th>Low</th>\n",
       "      <th>Close*</th>\n",
       "      <th>Adj Close**</th>\n",
       "      <th>Volume</th>\n",
       "    </tr>\n",
       "  </thead>\n",
       "  <tbody>\n",
       "    <tr>\n",
       "      <th>0</th>\n",
       "      <td>Jun 01, 2021</td>\n",
       "      <td>504.01</td>\n",
       "      <td>536.13</td>\n",
       "      <td>482.14</td>\n",
       "      <td>528.21</td>\n",
       "      <td>528.21</td>\n",
       "      <td>78560600</td>\n",
       "    </tr>\n",
       "    <tr>\n",
       "      <th>1</th>\n",
       "      <td>May 01, 2021</td>\n",
       "      <td>512.65</td>\n",
       "      <td>518.95</td>\n",
       "      <td>478.54</td>\n",
       "      <td>502.81</td>\n",
       "      <td>502.81</td>\n",
       "      <td>66927600</td>\n",
       "    </tr>\n",
       "    <tr>\n",
       "      <th>2</th>\n",
       "      <td>Apr 01, 2021</td>\n",
       "      <td>529.93</td>\n",
       "      <td>563.56</td>\n",
       "      <td>499.00</td>\n",
       "      <td>513.47</td>\n",
       "      <td>513.47</td>\n",
       "      <td>111573300</td>\n",
       "    </tr>\n",
       "    <tr>\n",
       "      <th>3</th>\n",
       "      <td>Mar 01, 2021</td>\n",
       "      <td>545.57</td>\n",
       "      <td>556.99</td>\n",
       "      <td>492.85</td>\n",
       "      <td>521.66</td>\n",
       "      <td>521.66</td>\n",
       "      <td>90183900</td>\n",
       "    </tr>\n",
       "    <tr>\n",
       "      <th>4</th>\n",
       "      <td>Feb 01, 2021</td>\n",
       "      <td>536.79</td>\n",
       "      <td>566.65</td>\n",
       "      <td>518.28</td>\n",
       "      <td>538.85</td>\n",
       "      <td>538.85</td>\n",
       "      <td>61902300</td>\n",
       "    </tr>\n",
       "  </tbody>\n",
       "</table>\n",
       "</div>"
      ],
      "text/plain": [
       "           Date    Open    High     Low  Close* Adj Close**     Volume\n",
       "0  Jun 01, 2021  504.01  536.13  482.14  528.21      528.21   78560600\n",
       "1  May 01, 2021  512.65  518.95  478.54  502.81      502.81   66927600\n",
       "2  Apr 01, 2021  529.93  563.56  499.00  513.47      513.47  111573300\n",
       "3  Mar 01, 2021  545.57  556.99  492.85  521.66      521.66   90183900\n",
       "4  Feb 01, 2021  536.79  566.65  518.28  538.85      538.85   61902300"
      ]
     },
     "execution_count": 21,
     "metadata": {},
     "output_type": "execute_result"
    }
   ],
   "source": [
    "population_data_read_html = pd.read_html(str(table), flavor='bs4')[0]\n",
    "population_data_read_html.head()"
   ]
  },
  {
   "cell_type": "markdown",
   "id": "622c8054",
   "metadata": {
    "papermill": {
     "duration": 0.048598,
     "end_time": "2022-03-16T18:23:11.427818",
     "exception": false,
     "start_time": "2022-03-16T18:23:11.379220",
     "status": "completed"
    },
    "tags": []
   },
   "source": [
    "### other example"
   ]
  },
  {
   "cell_type": "code",
   "execution_count": 22,
   "id": "d18ee8f6",
   "metadata": {
    "execution": {
     "iopub.execute_input": "2022-03-16T18:23:11.528091Z",
     "iopub.status.busy": "2022-03-16T18:23:11.527119Z",
     "iopub.status.idle": "2022-03-16T18:23:12.711997Z",
     "shell.execute_reply": "2022-03-16T18:23:12.711341Z",
     "shell.execute_reply.started": "2022-03-16T14:19:03.492697Z"
    },
    "papermill": {
     "duration": 1.236167,
     "end_time": "2022-03-16T18:23:12.712143",
     "exception": false,
     "start_time": "2022-03-16T18:23:11.475976",
     "status": "completed"
    },
    "tags": []
   },
   "outputs": [
    {
     "name": "stdout",
     "output_type": "stream",
     "text": [
      "Netflix, Inc. (NFLX) Stock Historical Prices & Data - Yahoo Finance\n"
     ]
    }
   ],
   "source": [
    "url = \"https://cf-courses-data.s3.us.cloud-object-storage.appdomain.cloud/IBMDeveloperSkillsNetwork-PY0220EN-SkillsNetwork/labs/project/netflix_data_webpage.html\"\n",
    "data  = requests.get(url).text\n",
    "soup = BeautifulSoup(data, 'html5lib')\n",
    "print(soup.title.text)"
   ]
  },
  {
   "cell_type": "code",
   "execution_count": 23,
   "id": "e7be375c",
   "metadata": {
    "execution": {
     "iopub.execute_input": "2022-03-16T18:23:12.814666Z",
     "iopub.status.busy": "2022-03-16T18:23:12.813643Z",
     "iopub.status.idle": "2022-03-16T18:23:13.039266Z",
     "shell.execute_reply": "2022-03-16T18:23:13.039818Z",
     "shell.execute_reply.started": "2022-03-16T14:19:40.796597Z"
    },
    "papermill": {
     "duration": 0.278492,
     "end_time": "2022-03-16T18:23:13.039995",
     "exception": false,
     "start_time": "2022-03-16T18:23:12.761503",
     "status": "completed"
    },
    "tags": []
   },
   "outputs": [
    {
     "data": {
      "text/html": [
       "<div>\n",
       "<style scoped>\n",
       "    .dataframe tbody tr th:only-of-type {\n",
       "        vertical-align: middle;\n",
       "    }\n",
       "\n",
       "    .dataframe tbody tr th {\n",
       "        vertical-align: top;\n",
       "    }\n",
       "\n",
       "    .dataframe thead th {\n",
       "        text-align: right;\n",
       "    }\n",
       "</style>\n",
       "<table border=\"1\" class=\"dataframe\">\n",
       "  <thead>\n",
       "    <tr style=\"text-align: right;\">\n",
       "      <th></th>\n",
       "      <th>Date</th>\n",
       "      <th>Open</th>\n",
       "      <th>High</th>\n",
       "      <th>Low</th>\n",
       "      <th>Close</th>\n",
       "      <th>Volume</th>\n",
       "      <th>Adj Close</th>\n",
       "    </tr>\n",
       "  </thead>\n",
       "  <tbody>\n",
       "    <tr>\n",
       "      <th>0</th>\n",
       "      <td>Jun 01, 2021</td>\n",
       "      <td>504.01</td>\n",
       "      <td>536.13</td>\n",
       "      <td>482.14</td>\n",
       "      <td>528.21</td>\n",
       "      <td>78,560,600</td>\n",
       "      <td>528.21</td>\n",
       "    </tr>\n",
       "    <tr>\n",
       "      <th>1</th>\n",
       "      <td>May 01, 2021</td>\n",
       "      <td>512.65</td>\n",
       "      <td>518.95</td>\n",
       "      <td>478.54</td>\n",
       "      <td>502.81</td>\n",
       "      <td>66,927,600</td>\n",
       "      <td>502.81</td>\n",
       "    </tr>\n",
       "    <tr>\n",
       "      <th>2</th>\n",
       "      <td>Apr 01, 2021</td>\n",
       "      <td>529.93</td>\n",
       "      <td>563.56</td>\n",
       "      <td>499.00</td>\n",
       "      <td>513.47</td>\n",
       "      <td>111,573,300</td>\n",
       "      <td>513.47</td>\n",
       "    </tr>\n",
       "    <tr>\n",
       "      <th>3</th>\n",
       "      <td>Mar 01, 2021</td>\n",
       "      <td>545.57</td>\n",
       "      <td>556.99</td>\n",
       "      <td>492.85</td>\n",
       "      <td>521.66</td>\n",
       "      <td>90,183,900</td>\n",
       "      <td>521.66</td>\n",
       "    </tr>\n",
       "    <tr>\n",
       "      <th>4</th>\n",
       "      <td>Feb 01, 2021</td>\n",
       "      <td>536.79</td>\n",
       "      <td>566.65</td>\n",
       "      <td>518.28</td>\n",
       "      <td>538.85</td>\n",
       "      <td>61,902,300</td>\n",
       "      <td>538.85</td>\n",
       "    </tr>\n",
       "  </tbody>\n",
       "</table>\n",
       "</div>"
      ],
      "text/plain": [
       "           Date    Open    High     Low   Close       Volume Adj Close\n",
       "0  Jun 01, 2021  504.01  536.13  482.14  528.21   78,560,600    528.21\n",
       "1  May 01, 2021  512.65  518.95  478.54  502.81   66,927,600    502.81\n",
       "2  Apr 01, 2021  529.93  563.56  499.00  513.47  111,573,300    513.47\n",
       "3  Mar 01, 2021  545.57  556.99  492.85  521.66   90,183,900    521.66\n",
       "4  Feb 01, 2021  536.79  566.65  518.28  538.85   61,902,300    538.85"
      ]
     },
     "execution_count": 23,
     "metadata": {},
     "output_type": "execute_result"
    }
   ],
   "source": [
    "amazon_data = pd.DataFrame(columns=[\"Date\", \"Open\", \"High\", \"Low\", \"Close\", \"Volume\"])\n",
    "\n",
    "for row in soup.find(\"tbody\").find_all(\"tr\"):\n",
    "    col = row.find_all(\"td\")\n",
    "    date = col[0].text\n",
    "    Open = col[1].text\n",
    "    high = col[2].text\n",
    "    low = col[3].text\n",
    "    close = col[4].text\n",
    "    adj_close = col[5].text\n",
    "    volume = col[6].text\n",
    "    \n",
    "    amazon_data = amazon_data.append({\"Date\":date, \"Open\":Open, \"High\":high, \"Low\":low, \"Close\":close, \"Adj Close\":adj_close, \"Volume\":volume}, ignore_index=True)\n",
    "    \n",
    "amazon_data.head()"
   ]
  },
  {
   "cell_type": "code",
   "execution_count": null,
   "id": "699c2d2e",
   "metadata": {
    "papermill": {
     "duration": 0.049682,
     "end_time": "2022-03-16T18:23:13.140438",
     "exception": false,
     "start_time": "2022-03-16T18:23:13.090756",
     "status": "completed"
    },
    "tags": []
   },
   "outputs": [],
   "source": []
  }
 ],
 "metadata": {
  "kernelspec": {
   "display_name": "Python 3",
   "language": "python",
   "name": "python3"
  },
  "language_info": {
   "codemirror_mode": {
    "name": "ipython",
    "version": 3
   },
   "file_extension": ".py",
   "mimetype": "text/x-python",
   "name": "python",
   "nbconvert_exporter": "python",
   "pygments_lexer": "ipython3",
   "version": "3.7.12"
  },
  "papermill": {
   "default_parameters": {},
   "duration": 40.811346,
   "end_time": "2022-03-16T18:23:13.899577",
   "environment_variables": {},
   "exception": null,
   "input_path": "__notebook__.ipynb",
   "output_path": "__notebook__.ipynb",
   "parameters": {},
   "start_time": "2022-03-16T18:22:33.088231",
   "version": "2.3.3"
  }
 },
 "nbformat": 4,
 "nbformat_minor": 5
}
