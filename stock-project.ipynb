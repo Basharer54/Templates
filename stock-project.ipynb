{
 "cells": [
  {
   "cell_type": "markdown",
   "id": "82a270ee",
   "metadata": {
    "papermill": {
     "duration": 0.03739,
     "end_time": "2022-03-16T14:31:19.602684",
     "exception": false,
     "start_time": "2022-03-16T14:31:19.565294",
     "status": "completed"
    },
    "tags": []
   },
   "source": [
    "<h1>Extracting Stock Data Using a Python Library</h1>"
   ]
  },
  {
   "cell_type": "markdown",
   "id": "87c586a3",
   "metadata": {
    "papermill": {
     "duration": 0.03584,
     "end_time": "2022-03-16T14:31:19.676097",
     "exception": false,
     "start_time": "2022-03-16T14:31:19.640257",
     "status": "completed"
    },
    "tags": []
   },
   "source": [
    "A company's stock share is a piece of the company more precisely:\n",
    "\n",
    "<p><b>A stock (also known as equity) is a security that represents the ownership of a fraction of a corporation. This\n",
    "entitles the owner of the stock to a proportion of the corporation's assets and profits equal to how much stock they own. Units of stock are called \"shares.\" <a href=\"https://www.investopedia.com/terms/s/stock.asp\">[1]</a></p></b>\n",
    "\n",
    "An investor can buy a stock and sell it later. If the stock price increases, the investor profits, If it decreases,the investor with incur a loss.  Determining the stock price is complex; it depends on the number of outstanding shares, the size of the company's future profits, and much more. People trade stocks throughout the day the stock **ticker** is a report of the price of a certain stock, updated continuously throughout the trading session by the various stock market exchanges.\n",
    "\n",
    "<p>You are a data scientist working for a hedge fund; it's your job to determine any suspicious stock activity. In this lab you will extract stock data using a Python library. We will use the <coode>yfinance</code> library, it allows us to extract data for stocks returning data in a pandas dataframe. You will use the lab to extract.</p>\n",
    "\n",
    "\n",
    "<h2>Table of Contents</h2>\n",
    "<div class=\"alert alert-block alert-info\" style=\"margin-top: 20px\">\n",
    "    <ul>\n",
    "        <li>Using yfinance to Extract Stock Info</li>\n",
    "        <li>Using yfinance to Extract Historical Share Price Data</li>\n",
    "        <li>Using yfinance to Extract Historical Dividends Data</li>\n",
    "    </ul>"
   ]
  },
  {
   "cell_type": "code",
   "execution_count": 1,
   "id": "b4c8d2ad",
   "metadata": {
    "execution": {
     "iopub.execute_input": "2022-03-16T14:31:19.759455Z",
     "iopub.status.busy": "2022-03-16T14:31:19.758483Z",
     "iopub.status.idle": "2022-03-16T14:31:33.179228Z",
     "shell.execute_reply": "2022-03-16T14:31:33.178370Z",
     "shell.execute_reply.started": "2022-03-16T01:43:07.939259Z"
    },
    "papermill": {
     "duration": 13.466333,
     "end_time": "2022-03-16T14:31:33.179412",
     "exception": false,
     "start_time": "2022-03-16T14:31:19.713079",
     "status": "completed"
    },
    "tags": []
   },
   "outputs": [
    {
     "name": "stdout",
     "output_type": "stream",
     "text": [
      "Collecting yfinance\r\n",
      "  Downloading yfinance-0.1.70-py2.py3-none-any.whl (26 kB)\r\n",
      "Requirement already satisfied: pandas>=0.24.0 in /opt/conda/lib/python3.7/site-packages (from yfinance) (1.3.5)\r\n",
      "Requirement already satisfied: numpy>=1.15 in /opt/conda/lib/python3.7/site-packages (from yfinance) (1.20.3)\r\n",
      "Requirement already satisfied: lxml>=4.5.1 in /opt/conda/lib/python3.7/site-packages (from yfinance) (4.8.0)\r\n",
      "Requirement already satisfied: requests>=2.26 in /opt/conda/lib/python3.7/site-packages (from yfinance) (2.26.0)\r\n",
      "Collecting multitasking>=0.0.7\r\n",
      "  Downloading multitasking-0.0.10.tar.gz (8.2 kB)\r\n",
      "  Preparing metadata (setup.py) ... \u001b[?25l-\b \bdone\r\n",
      "\u001b[?25hRequirement already satisfied: python-dateutil>=2.7.3 in /opt/conda/lib/python3.7/site-packages (from pandas>=0.24.0->yfinance) (2.8.2)\r\n",
      "Requirement already satisfied: pytz>=2017.3 in /opt/conda/lib/python3.7/site-packages (from pandas>=0.24.0->yfinance) (2021.3)\r\n",
      "Requirement already satisfied: idna<4,>=2.5 in /opt/conda/lib/python3.7/site-packages (from requests>=2.26->yfinance) (3.1)\r\n",
      "Requirement already satisfied: certifi>=2017.4.17 in /opt/conda/lib/python3.7/site-packages (from requests>=2.26->yfinance) (2021.10.8)\r\n",
      "Requirement already satisfied: urllib3<1.27,>=1.21.1 in /opt/conda/lib/python3.7/site-packages (from requests>=2.26->yfinance) (1.26.7)\r\n",
      "Requirement already satisfied: charset-normalizer~=2.0.0 in /opt/conda/lib/python3.7/site-packages (from requests>=2.26->yfinance) (2.0.9)\r\n",
      "Requirement already satisfied: six>=1.5 in /opt/conda/lib/python3.7/site-packages (from python-dateutil>=2.7.3->pandas>=0.24.0->yfinance) (1.16.0)\r\n",
      "Building wheels for collected packages: multitasking\r\n",
      "  Building wheel for multitasking (setup.py) ... \u001b[?25l-\b \b\\\b \bdone\r\n",
      "\u001b[?25h  Created wheel for multitasking: filename=multitasking-0.0.10-py3-none-any.whl size=8500 sha256=93014a5a46fb231e18f8d8e9a382fde9e4047c761d325e64f981596f64f2b370\r\n",
      "  Stored in directory: /root/.cache/pip/wheels/34/ba/79/c0260c6f1a03f420ec7673eff9981778f293b9107974679e36\r\n",
      "Successfully built multitasking\r\n",
      "Installing collected packages: multitasking, yfinance\r\n",
      "Successfully installed multitasking-0.0.10 yfinance-0.1.70\r\n",
      "\u001b[33mWARNING: Running pip as the 'root' user can result in broken permissions and conflicting behaviour with the system package manager. It is recommended to use a virtual environment instead: https://pip.pypa.io/warnings/venv\u001b[0m\r\n"
     ]
    }
   ],
   "source": [
    "!pip install yfinance"
   ]
  },
  {
   "cell_type": "code",
   "execution_count": 2,
   "id": "c9e543d4",
   "metadata": {
    "execution": {
     "iopub.execute_input": "2022-03-16T14:31:33.269751Z",
     "iopub.status.busy": "2022-03-16T14:31:33.269097Z",
     "iopub.status.idle": "2022-03-16T14:31:33.280551Z",
     "shell.execute_reply": "2022-03-16T14:31:33.279892Z",
     "shell.execute_reply.started": "2022-03-16T01:43:17.379168Z"
    },
    "papermill": {
     "duration": 0.056989,
     "end_time": "2022-03-16T14:31:33.280699",
     "exception": false,
     "start_time": "2022-03-16T14:31:33.223710",
     "status": "completed"
    },
    "tags": []
   },
   "outputs": [],
   "source": [
    "import yfinance as yf\n",
    "import pandas as pd"
   ]
  },
  {
   "cell_type": "markdown",
   "id": "c07bebe7",
   "metadata": {
    "papermill": {
     "duration": 0.04102,
     "end_time": "2022-03-16T14:31:33.362250",
     "exception": false,
     "start_time": "2022-03-16T14:31:33.321230",
     "status": "completed"
    },
    "tags": []
   },
   "source": [
    "<h2>Using the yfinance Library to Extract Stock Data </h2>\n",
    "\n",
    "Using the `Ticker` module we can create an object that will allow us to access functions to extract data. To do this we need to provide the ticker symbol for the stock, here the company is Apple and the ticker symbol is `AAPL`.\n"
   ]
  },
  {
   "cell_type": "code",
   "execution_count": 3,
   "id": "eba009f4",
   "metadata": {
    "execution": {
     "iopub.execute_input": "2022-03-16T14:31:33.446297Z",
     "iopub.status.busy": "2022-03-16T14:31:33.445639Z",
     "iopub.status.idle": "2022-03-16T14:31:33.456541Z",
     "shell.execute_reply": "2022-03-16T14:31:33.457081Z",
     "shell.execute_reply.started": "2022-03-16T01:43:17.924602Z"
    },
    "papermill": {
     "duration": 0.054271,
     "end_time": "2022-03-16T14:31:33.457257",
     "exception": false,
     "start_time": "2022-03-16T14:31:33.402986",
     "status": "completed"
    },
    "tags": []
   },
   "outputs": [],
   "source": [
    "apple = yf.Ticker(\"AAPL\")"
   ]
  },
  {
   "cell_type": "markdown",
   "id": "1c6a44ef",
   "metadata": {
    "papermill": {
     "duration": 0.040071,
     "end_time": "2022-03-16T14:31:33.537706",
     "exception": false,
     "start_time": "2022-03-16T14:31:33.497635",
     "status": "completed"
    },
    "tags": []
   },
   "source": [
    "<h3>stock info</h3>\n",
    "<p>Using the attribute  <code>info</code> we can extract information about the stock as a Python dictionary.\n",
    "</p>"
   ]
  },
  {
   "cell_type": "code",
   "execution_count": 4,
   "id": "7d5e85a6",
   "metadata": {
    "execution": {
     "iopub.execute_input": "2022-03-16T14:31:33.623761Z",
     "iopub.status.busy": "2022-03-16T14:31:33.623093Z",
     "iopub.status.idle": "2022-03-16T14:31:39.712417Z",
     "shell.execute_reply": "2022-03-16T14:31:39.711874Z",
     "shell.execute_reply.started": "2022-03-16T01:46:42.21253Z"
    },
    "papermill": {
     "duration": 6.133817,
     "end_time": "2022-03-16T14:31:39.712570",
     "exception": false,
     "start_time": "2022-03-16T14:31:33.578753",
     "status": "completed"
    },
    "tags": []
   },
   "outputs": [
    {
     "data": {
      "text/plain": [
       "{'zip': '95014',\n",
       " 'sector': 'Technology',\n",
       " 'fullTimeEmployees': 100000,\n",
       " 'longBusinessSummary': 'Apple Inc. designs, manufactures, and markets smartphones, personal computers, tablets, wearables, and accessories worldwide. It also sells various related services. In addition, the company offers iPhone, a line of smartphones; Mac, a line of personal computers; iPad, a line of multi-purpose tablets; AirPods Max, an over-ear wireless headphone; and wearables, home, and accessories comprising AirPods, Apple TV, Apple Watch, Beats products, HomePod, and iPod touch. Further, it provides AppleCare support services; cloud services store services; and operates various platforms, including the App Store that allow customers to discover and download applications and digital content, such as books, music, video, games, and podcasts. Additionally, the company offers various services, such as Apple Arcade, a game subscription service; Apple Music, which offers users a curated listening experience with on-demand radio stations; Apple News+, a subscription news and magazine service; Apple TV+, which offers exclusive original content; Apple Card, a co-branded credit card; and Apple Pay, a cashless payment service, as well as licenses its intellectual property. The company serves consumers, and small and mid-sized businesses; and the education, enterprise, and government markets. It distributes third-party applications for its products through the App Store. The company also sells its products through its retail and online stores, and direct sales force; and third-party cellular network carriers, wholesalers, retailers, and resellers. Apple Inc. was incorporated in 1977 and is headquartered in Cupertino, California.',\n",
       " 'city': 'Cupertino',\n",
       " 'phone': '408 996 1010',\n",
       " 'state': 'CA',\n",
       " 'country': 'United States',\n",
       " 'companyOfficers': [],\n",
       " 'website': 'https://www.apple.com',\n",
       " 'maxAge': 1,\n",
       " 'address1': 'One Apple Park Way',\n",
       " 'industry': 'Consumer Electronics',\n",
       " 'ebitdaMargins': 0.33890998,\n",
       " 'profitMargins': 0.26579002,\n",
       " 'grossMargins': 0.43019,\n",
       " 'operatingCashflow': 112241000448,\n",
       " 'revenueGrowth': 0.112,\n",
       " 'operatingMargins': 0.309,\n",
       " 'ebitda': 128217997312,\n",
       " 'targetLowPrice': 160,\n",
       " 'recommendationKey': 'buy',\n",
       " 'grossProfits': 152836000000,\n",
       " 'freeCashflow': 80153247744,\n",
       " 'targetMedianPrice': 199.5,\n",
       " 'currentPrice': 158.0281,\n",
       " 'earningsGrowth': 0.25,\n",
       " 'currentRatio': 1.038,\n",
       " 'returnOnAssets': 0.19875,\n",
       " 'numberOfAnalystOpinions': 44,\n",
       " 'targetMeanPrice': 193.53,\n",
       " 'debtToEquity': 170.714,\n",
       " 'returnOnEquity': 1.45567,\n",
       " 'targetHighPrice': 215,\n",
       " 'totalCash': 63913000960,\n",
       " 'totalDebt': 122797998080,\n",
       " 'totalRevenue': 378323009536,\n",
       " 'totalCashPerShare': 3.916,\n",
       " 'financialCurrency': 'USD',\n",
       " 'revenuePerShare': 22.838,\n",
       " 'quickRatio': 0.875,\n",
       " 'recommendationMean': 1.8,\n",
       " 'exchange': 'NMS',\n",
       " 'shortName': 'Apple Inc.',\n",
       " 'longName': 'Apple Inc.',\n",
       " 'exchangeTimezoneName': 'America/New_York',\n",
       " 'exchangeTimezoneShortName': 'EDT',\n",
       " 'isEsgPopulated': False,\n",
       " 'gmtOffSetMilliseconds': '-14400000',\n",
       " 'quoteType': 'EQUITY',\n",
       " 'symbol': 'AAPL',\n",
       " 'messageBoardId': 'finmb_24937',\n",
       " 'market': 'us_market',\n",
       " 'annualHoldingsTurnover': None,\n",
       " 'enterpriseToRevenue': 6.653,\n",
       " 'beta3Year': None,\n",
       " 'enterpriseToEbitda': 19.63,\n",
       " '52WeekChange': 0.24310672,\n",
       " 'morningStarRiskRating': None,\n",
       " 'forwardEps': 6.56,\n",
       " 'revenueQuarterlyGrowth': None,\n",
       " 'sharesOutstanding': 16319399936,\n",
       " 'fundInceptionDate': None,\n",
       " 'annualReportExpenseRatio': None,\n",
       " 'totalAssets': None,\n",
       " 'bookValue': 4.402,\n",
       " 'sharesShort': 110322490,\n",
       " 'sharesPercentSharesOut': 0.0068,\n",
       " 'fundFamily': None,\n",
       " 'lastFiscalYearEnd': 1632528000,\n",
       " 'heldPercentInstitutions': 0.59430003,\n",
       " 'netIncomeToCommon': 100554997760,\n",
       " 'trailingEps': 6.015,\n",
       " 'lastDividendValue': 0.22,\n",
       " 'SandP52WeekChange': 0.072551966,\n",
       " 'priceToBook': 35.899162,\n",
       " 'heldPercentInsiders': 0.0007,\n",
       " 'nextFiscalYearEnd': 1695600000,\n",
       " 'yield': None,\n",
       " 'mostRecentQuarter': 1640390400,\n",
       " 'shortRatio': 1.2,\n",
       " 'sharesShortPreviousMonthDate': 1643587200,\n",
       " 'floatShares': 16302795170,\n",
       " 'beta': 1.185531,\n",
       " 'enterpriseValue': 2516919255040,\n",
       " 'priceHint': 2,\n",
       " 'threeYearAverageReturn': None,\n",
       " 'lastSplitDate': 1598832000,\n",
       " 'lastSplitFactor': '4:1',\n",
       " 'legalType': None,\n",
       " 'lastDividendDate': 1643932800,\n",
       " 'morningStarOverallRating': None,\n",
       " 'earningsQuarterlyGrowth': 0.204,\n",
       " 'priceToSalesTrailing12Months': 7.0027714,\n",
       " 'dateShortInterest': 1646006400,\n",
       " 'pegRatio': 1.69,\n",
       " 'ytdReturn': None,\n",
       " 'forwardPE': 24.089651,\n",
       " 'lastCapGain': None,\n",
       " 'shortPercentOfFloat': 0.0068,\n",
       " 'sharesShortPriorMonth': 91388112,\n",
       " 'impliedSharesOutstanding': 0,\n",
       " 'category': None,\n",
       " 'fiveYearAverageReturn': None,\n",
       " 'previousClose': 155.09,\n",
       " 'regularMarketOpen': 157.05,\n",
       " 'twoHundredDayAverage': 153.8877,\n",
       " 'trailingAnnualDividendYield': 0.005577407,\n",
       " 'payoutRatio': 0.1434,\n",
       " 'volume24Hr': None,\n",
       " 'regularMarketDayHigh': 158.09,\n",
       " 'navPrice': None,\n",
       " 'averageDailyVolume10Day': 96292350,\n",
       " 'regularMarketPreviousClose': 155.09,\n",
       " 'fiftyDayAverage': 167.6362,\n",
       " 'trailingAnnualDividendRate': 0.865,\n",
       " 'open': 157.05,\n",
       " 'toCurrency': None,\n",
       " 'averageVolume10days': 96292350,\n",
       " 'expireDate': None,\n",
       " 'algorithm': None,\n",
       " 'dividendRate': 0.88,\n",
       " 'exDividendDate': 1643932800,\n",
       " 'circulatingSupply': None,\n",
       " 'startDate': None,\n",
       " 'regularMarketDayLow': 155.53,\n",
       " 'currency': 'USD',\n",
       " 'trailingPE': 26.272337,\n",
       " 'regularMarketVolume': 22546467,\n",
       " 'lastMarket': None,\n",
       " 'maxSupply': None,\n",
       " 'openInterest': None,\n",
       " 'marketCap': 2649309577216,\n",
       " 'volumeAllCurrencies': None,\n",
       " 'strikePrice': None,\n",
       " 'averageVolume': 94610615,\n",
       " 'dayLow': 155.53,\n",
       " 'ask': 157.81,\n",
       " 'askSize': 1300,\n",
       " 'volume': 22546467,\n",
       " 'fiftyTwoWeekHigh': 182.94,\n",
       " 'fromCurrency': None,\n",
       " 'fiveYearAvgDividendYield': 1.13,\n",
       " 'fiftyTwoWeekLow': 118.86,\n",
       " 'bid': 157.76,\n",
       " 'tradeable': False,\n",
       " 'dividendYield': 0.0057,\n",
       " 'bidSize': 1200,\n",
       " 'dayHigh': 158.09,\n",
       " 'regularMarketPrice': 158.0281,\n",
       " 'preMarketPrice': 157.01,\n",
       " 'logo_url': 'https://logo.clearbit.com/apple.com',\n",
       " 'trailingPegRatio': 3.2017}"
      ]
     },
     "execution_count": 4,
     "metadata": {},
     "output_type": "execute_result"
    }
   ],
   "source": [
    "apple_info=apple.info\n",
    "apple_info"
   ]
  },
  {
   "cell_type": "markdown",
   "id": "b703f55e",
   "metadata": {
    "papermill": {
     "duration": 0.041522,
     "end_time": "2022-03-16T14:31:39.795920",
     "exception": false,
     "start_time": "2022-03-16T14:31:39.754398",
     "status": "completed"
    },
    "tags": []
   },
   "source": [
    "We can get the <code>'country'</code> using the key country"
   ]
  },
  {
   "cell_type": "code",
   "execution_count": 5,
   "id": "f8337f84",
   "metadata": {
    "execution": {
     "iopub.execute_input": "2022-03-16T14:31:39.882912Z",
     "iopub.status.busy": "2022-03-16T14:31:39.882231Z",
     "iopub.status.idle": "2022-03-16T14:31:39.886912Z",
     "shell.execute_reply": "2022-03-16T14:31:39.887522Z",
     "shell.execute_reply.started": "2022-03-16T01:47:37.156385Z"
    },
    "papermill": {
     "duration": 0.0499,
     "end_time": "2022-03-16T14:31:39.887696",
     "exception": false,
     "start_time": "2022-03-16T14:31:39.837796",
     "status": "completed"
    },
    "tags": []
   },
   "outputs": [
    {
     "data": {
      "text/plain": [
       "'United States'"
      ]
     },
     "execution_count": 5,
     "metadata": {},
     "output_type": "execute_result"
    }
   ],
   "source": [
    "apple_info['country']"
   ]
  },
  {
   "cell_type": "markdown",
   "id": "304aa125",
   "metadata": {
    "papermill": {
     "duration": 0.041826,
     "end_time": "2022-03-16T14:31:39.972363",
     "exception": false,
     "start_time": "2022-03-16T14:31:39.930537",
     "status": "completed"
    },
    "tags": []
   },
   "source": [
    "<h3>Extracting Share Price</h3>\n",
    "\n",
    "A share is the single smallest part of a company's stock  that you can buy, the prices of these shares fluctuate over time. Using the <code>history()</code> method we can get the share price of the stock over a certain period of time. Using the `period` parameter we can set how far back from the present to get data. The options for `period` are 1 day (1d), 5d, 1 month (1mo) , 3mo, 6mo, 1 year (1y), 2y, 5y, 10y, ytd, and max.\n"
   ]
  },
  {
   "cell_type": "code",
   "execution_count": 6,
   "id": "1d8609c0",
   "metadata": {
    "execution": {
     "iopub.execute_input": "2022-03-16T14:31:40.061690Z",
     "iopub.status.busy": "2022-03-16T14:31:40.061077Z",
     "iopub.status.idle": "2022-03-16T14:31:41.066012Z",
     "shell.execute_reply": "2022-03-16T14:31:41.066497Z",
     "shell.execute_reply.started": "2022-03-16T01:51:21.54601Z"
    },
    "papermill": {
     "duration": 1.050542,
     "end_time": "2022-03-16T14:31:41.066690",
     "exception": false,
     "start_time": "2022-03-16T14:31:40.016148",
     "status": "completed"
    },
    "tags": []
   },
   "outputs": [],
   "source": [
    "apple_share_price_data = apple.history(period=\"max\")"
   ]
  },
  {
   "cell_type": "markdown",
   "id": "25a01210",
   "metadata": {
    "papermill": {
     "duration": 0.041329,
     "end_time": "2022-03-16T14:31:41.155939",
     "exception": false,
     "start_time": "2022-03-16T14:31:41.114610",
     "status": "completed"
    },
    "tags": []
   },
   "source": [
    "The format that the data is returned in is a Pandas DataFrame. With the `Date` as the index the share `Open`, `High`, `Low`, `Close`, `Volume`, and `Stock Splits` are given for each day.\n"
   ]
  },
  {
   "cell_type": "code",
   "execution_count": 7,
   "id": "10897d9c",
   "metadata": {
    "execution": {
     "iopub.execute_input": "2022-03-16T14:31:41.247240Z",
     "iopub.status.busy": "2022-03-16T14:31:41.246231Z",
     "iopub.status.idle": "2022-03-16T14:31:41.262102Z",
     "shell.execute_reply": "2022-03-16T14:31:41.262558Z",
     "shell.execute_reply.started": "2022-03-16T01:51:22.427733Z"
    },
    "papermill": {
     "duration": 0.06358,
     "end_time": "2022-03-16T14:31:41.262733",
     "exception": false,
     "start_time": "2022-03-16T14:31:41.199153",
     "status": "completed"
    },
    "tags": []
   },
   "outputs": [
    {
     "data": {
      "text/html": [
       "<div>\n",
       "<style scoped>\n",
       "    .dataframe tbody tr th:only-of-type {\n",
       "        vertical-align: middle;\n",
       "    }\n",
       "\n",
       "    .dataframe tbody tr th {\n",
       "        vertical-align: top;\n",
       "    }\n",
       "\n",
       "    .dataframe thead th {\n",
       "        text-align: right;\n",
       "    }\n",
       "</style>\n",
       "<table border=\"1\" class=\"dataframe\">\n",
       "  <thead>\n",
       "    <tr style=\"text-align: right;\">\n",
       "      <th></th>\n",
       "      <th>Open</th>\n",
       "      <th>High</th>\n",
       "      <th>Low</th>\n",
       "      <th>Close</th>\n",
       "      <th>Volume</th>\n",
       "      <th>Dividends</th>\n",
       "      <th>Stock Splits</th>\n",
       "    </tr>\n",
       "    <tr>\n",
       "      <th>Date</th>\n",
       "      <th></th>\n",
       "      <th></th>\n",
       "      <th></th>\n",
       "      <th></th>\n",
       "      <th></th>\n",
       "      <th></th>\n",
       "      <th></th>\n",
       "    </tr>\n",
       "  </thead>\n",
       "  <tbody>\n",
       "    <tr>\n",
       "      <th>1980-12-12</th>\n",
       "      <td>0.100323</td>\n",
       "      <td>0.100759</td>\n",
       "      <td>0.100323</td>\n",
       "      <td>0.100323</td>\n",
       "      <td>469033600</td>\n",
       "      <td>0.0</td>\n",
       "      <td>0.0</td>\n",
       "    </tr>\n",
       "    <tr>\n",
       "      <th>1980-12-15</th>\n",
       "      <td>0.095525</td>\n",
       "      <td>0.095525</td>\n",
       "      <td>0.095089</td>\n",
       "      <td>0.095089</td>\n",
       "      <td>175884800</td>\n",
       "      <td>0.0</td>\n",
       "      <td>0.0</td>\n",
       "    </tr>\n",
       "    <tr>\n",
       "      <th>1980-12-16</th>\n",
       "      <td>0.088546</td>\n",
       "      <td>0.088546</td>\n",
       "      <td>0.088110</td>\n",
       "      <td>0.088110</td>\n",
       "      <td>105728000</td>\n",
       "      <td>0.0</td>\n",
       "      <td>0.0</td>\n",
       "    </tr>\n",
       "    <tr>\n",
       "      <th>1980-12-17</th>\n",
       "      <td>0.090291</td>\n",
       "      <td>0.090727</td>\n",
       "      <td>0.090291</td>\n",
       "      <td>0.090291</td>\n",
       "      <td>86441600</td>\n",
       "      <td>0.0</td>\n",
       "      <td>0.0</td>\n",
       "    </tr>\n",
       "    <tr>\n",
       "      <th>1980-12-18</th>\n",
       "      <td>0.092908</td>\n",
       "      <td>0.093345</td>\n",
       "      <td>0.092908</td>\n",
       "      <td>0.092908</td>\n",
       "      <td>73449600</td>\n",
       "      <td>0.0</td>\n",
       "      <td>0.0</td>\n",
       "    </tr>\n",
       "  </tbody>\n",
       "</table>\n",
       "</div>"
      ],
      "text/plain": [
       "                Open      High       Low     Close     Volume  Dividends  \\\n",
       "Date                                                                       \n",
       "1980-12-12  0.100323  0.100759  0.100323  0.100323  469033600        0.0   \n",
       "1980-12-15  0.095525  0.095525  0.095089  0.095089  175884800        0.0   \n",
       "1980-12-16  0.088546  0.088546  0.088110  0.088110  105728000        0.0   \n",
       "1980-12-17  0.090291  0.090727  0.090291  0.090291   86441600        0.0   \n",
       "1980-12-18  0.092908  0.093345  0.092908  0.092908   73449600        0.0   \n",
       "\n",
       "            Stock Splits  \n",
       "Date                      \n",
       "1980-12-12           0.0  \n",
       "1980-12-15           0.0  \n",
       "1980-12-16           0.0  \n",
       "1980-12-17           0.0  \n",
       "1980-12-18           0.0  "
      ]
     },
     "execution_count": 7,
     "metadata": {},
     "output_type": "execute_result"
    }
   ],
   "source": [
    "apple_share_price_data.head()"
   ]
  },
  {
   "cell_type": "markdown",
   "id": "7356560e",
   "metadata": {
    "execution": {
     "iopub.execute_input": "2022-03-16T01:51:45.675876Z",
     "iopub.status.busy": "2022-03-16T01:51:45.674748Z",
     "iopub.status.idle": "2022-03-16T01:51:45.682304Z",
     "shell.execute_reply": "2022-03-16T01:51:45.680909Z",
     "shell.execute_reply.started": "2022-03-16T01:51:45.675807Z"
    },
    "papermill": {
     "duration": 0.041315,
     "end_time": "2022-03-16T14:31:41.345848",
     "exception": false,
     "start_time": "2022-03-16T14:31:41.304533",
     "status": "completed"
    },
    "tags": []
   },
   "source": [
    "We can reset the index of the DataFrame with the `reset_index` function. We also set the `inplace` paramter to `True` so the change takes place to the DataFrame itself.\n"
   ]
  },
  {
   "cell_type": "code",
   "execution_count": 8,
   "id": "73049e32",
   "metadata": {
    "execution": {
     "iopub.execute_input": "2022-03-16T14:31:41.432523Z",
     "iopub.status.busy": "2022-03-16T14:31:41.431918Z",
     "iopub.status.idle": "2022-03-16T14:31:41.437637Z",
     "shell.execute_reply": "2022-03-16T14:31:41.437126Z",
     "shell.execute_reply.started": "2022-03-16T01:52:16.981452Z"
    },
    "papermill": {
     "duration": 0.050265,
     "end_time": "2022-03-16T14:31:41.437792",
     "exception": false,
     "start_time": "2022-03-16T14:31:41.387527",
     "status": "completed"
    },
    "tags": []
   },
   "outputs": [],
   "source": [
    "apple_share_price_data.reset_index(inplace=True)"
   ]
  },
  {
   "cell_type": "markdown",
   "id": "29eba841",
   "metadata": {
    "papermill": {
     "duration": 0.041335,
     "end_time": "2022-03-16T14:31:41.520935",
     "exception": false,
     "start_time": "2022-03-16T14:31:41.479600",
     "status": "completed"
    },
    "tags": []
   },
   "source": [
    "We can plot the `Open` price against the `Date`:\n"
   ]
  },
  {
   "cell_type": "code",
   "execution_count": 9,
   "id": "4eb97c86",
   "metadata": {
    "execution": {
     "iopub.execute_input": "2022-03-16T14:31:41.607401Z",
     "iopub.status.busy": "2022-03-16T14:31:41.606762Z",
     "iopub.status.idle": "2022-03-16T14:31:42.050349Z",
     "shell.execute_reply": "2022-03-16T14:31:42.049366Z",
     "shell.execute_reply.started": "2022-03-16T01:52:53.760193Z"
    },
    "papermill": {
     "duration": 0.487965,
     "end_time": "2022-03-16T14:31:42.050504",
     "exception": false,
     "start_time": "2022-03-16T14:31:41.562539",
     "status": "completed"
    },
    "tags": []
   },
   "outputs": [
    {
     "data": {
      "text/plain": [
       "<AxesSubplot:xlabel='Date'>"
      ]
     },
     "execution_count": 9,
     "metadata": {},
     "output_type": "execute_result"
    },
    {
     "data": {
      "image/png": "[encoded data removed]",
      "text/plain": [
       "<Figure size 432x288 with 1 Axes>"
      ]
     },
     "metadata": {
      "needs_background": "light"
     },
     "output_type": "display_data"
    }
   ],
   "source": [
    "apple_share_price_data.plot(x=\"Date\", y=\"Open\")"
   ]
  },
  {
   "cell_type": "markdown",
   "id": "91608cfb",
   "metadata": {
    "papermill": {
     "duration": 0.04338,
     "end_time": "2022-03-16T14:31:42.138011",
     "exception": false,
     "start_time": "2022-03-16T14:31:42.094631",
     "status": "completed"
    },
    "tags": []
   },
   "source": [
    "<h3>Extracting Dividends</h3>\n",
    "\n",
    "Dividends are the distribution of a companys profits to shareholders. In this case they are defined as an amount of money returned per share an investor owns. Using the variable dividends we can get a dataframe of the data. The period of the data is given by the period defined in the `history` function."
   ]
  },
  {
   "cell_type": "code",
   "execution_count": 10,
   "id": "277bbae1",
   "metadata": {
    "execution": {
     "iopub.execute_input": "2022-03-16T14:31:42.228847Z",
     "iopub.status.busy": "2022-03-16T14:31:42.228189Z",
     "iopub.status.idle": "2022-03-16T14:31:42.236375Z",
     "shell.execute_reply": "2022-03-16T14:31:42.235875Z",
     "shell.execute_reply.started": "2022-03-16T01:55:28.441931Z"
    },
    "papermill": {
     "duration": 0.053903,
     "end_time": "2022-03-16T14:31:42.236516",
     "exception": false,
     "start_time": "2022-03-16T14:31:42.182613",
     "status": "completed"
    },
    "tags": []
   },
   "outputs": [
    {
     "data": {
      "text/plain": [
       "Date\n",
       "1987-05-11    0.000536\n",
       "1987-08-10    0.000536\n",
       "1987-11-17    0.000714\n",
       "1988-02-12    0.000714\n",
       "1988-05-16    0.000714\n",
       "                ...   \n",
       "2021-02-05    0.205000\n",
       "2021-05-07    0.220000\n",
       "2021-08-06    0.220000\n",
       "2021-11-05    0.220000\n",
       "2022-02-04    0.220000\n",
       "Name: Dividends, Length: 74, dtype: float64"
      ]
     },
     "execution_count": 10,
     "metadata": {},
     "output_type": "execute_result"
    }
   ],
   "source": [
    "apple.dividends"
   ]
  },
  {
   "cell_type": "markdown",
   "id": "9e364d8f",
   "metadata": {
    "papermill": {
     "duration": 0.043258,
     "end_time": "2022-03-16T14:31:42.324236",
     "exception": false,
     "start_time": "2022-03-16T14:31:42.280978",
     "status": "completed"
    },
    "tags": []
   },
   "source": [
    "We can plot the dividends overtime:\n"
   ]
  },
  {
   "cell_type": "code",
   "execution_count": 11,
   "id": "fa475400",
   "metadata": {
    "execution": {
     "iopub.execute_input": "2022-03-16T14:31:42.416155Z",
     "iopub.status.busy": "2022-03-16T14:31:42.415486Z",
     "iopub.status.idle": "2022-03-16T14:31:42.701566Z",
     "shell.execute_reply": "2022-03-16T14:31:42.700900Z",
     "shell.execute_reply.started": "2022-03-16T01:56:18.888158Z"
    },
    "papermill": {
     "duration": 0.333962,
     "end_time": "2022-03-16T14:31:42.701704",
     "exception": false,
     "start_time": "2022-03-16T14:31:42.367742",
     "status": "completed"
    },
    "tags": []
   },
   "outputs": [
    {
     "data": {
      "text/plain": [
       "<AxesSubplot:xlabel='Date'>"
      ]
     },
     "execution_count": 11,
     "metadata": {},
     "output_type": "execute_result"
    },
    {
     "data": {
      "image/png": "[encoded data removed]",
      "text/plain": [
       "<Figure size 432x288 with 1 Axes>"
      ]
     },
     "metadata": {
      "needs_background": "light"
     },
     "output_type": "display_data"
    }
   ],
   "source": [
    "apple.dividends.plot()"
   ]
  },
  {
   "cell_type": "markdown",
   "id": "f452b1da",
   "metadata": {
    "papermill": {
     "duration": 0.0456,
     "end_time": "2022-03-16T14:31:42.794655",
     "exception": false,
     "start_time": "2022-03-16T14:31:42.749055",
     "status": "completed"
    },
    "tags": []
   },
   "source": [
    "Now using the `Ticker` module create an object for AMD (Advanced Micro Devices) with the ticker symbol is `AMD` called; name the object <code>amd</code>."
   ]
  },
  {
   "cell_type": "code",
   "execution_count": 12,
   "id": "f3078e06",
   "metadata": {
    "execution": {
     "iopub.execute_input": "2022-03-16T14:31:42.889981Z",
     "iopub.status.busy": "2022-03-16T14:31:42.889296Z",
     "iopub.status.idle": "2022-03-16T14:31:48.223767Z",
     "shell.execute_reply": "2022-03-16T14:31:48.223196Z",
     "shell.execute_reply.started": "2022-03-16T02:06:26.741346Z"
    },
    "papermill": {
     "duration": 5.384337,
     "end_time": "2022-03-16T14:31:48.223949",
     "exception": false,
     "start_time": "2022-03-16T14:31:42.839612",
     "status": "completed"
    },
    "tags": []
   },
   "outputs": [],
   "source": [
    "amd = yf.Ticker(\"AMD\")\n",
    "info = amd.info"
   ]
  },
  {
   "cell_type": "markdown",
   "id": "3bcf71a9",
   "metadata": {
    "papermill": {
     "duration": 0.044661,
     "end_time": "2022-03-16T14:31:48.313572",
     "exception": false,
     "start_time": "2022-03-16T14:31:48.268911",
     "status": "completed"
    },
    "tags": []
   },
   "source": [
    " Use the key  <code>'country'</code> to find the country the stock belongs to"
   ]
  },
  {
   "cell_type": "code",
   "execution_count": 13,
   "id": "b7bc6a90",
   "metadata": {
    "execution": {
     "iopub.execute_input": "2022-03-16T14:31:48.406297Z",
     "iopub.status.busy": "2022-03-16T14:31:48.405658Z",
     "iopub.status.idle": "2022-03-16T14:31:48.411655Z",
     "shell.execute_reply": "2022-03-16T14:31:48.410984Z",
     "shell.execute_reply.started": "2022-03-16T02:06:32.61502Z"
    },
    "papermill": {
     "duration": 0.053386,
     "end_time": "2022-03-16T14:31:48.411791",
     "exception": false,
     "start_time": "2022-03-16T14:31:48.358405",
     "status": "completed"
    },
    "tags": []
   },
   "outputs": [
    {
     "data": {
      "text/plain": [
       "'United States'"
      ]
     },
     "execution_count": 13,
     "metadata": {},
     "output_type": "execute_result"
    }
   ],
   "source": [
    "info['country']"
   ]
  },
  {
   "cell_type": "markdown",
   "id": "07e5dbc7",
   "metadata": {
    "papermill": {
     "duration": 0.046205,
     "end_time": "2022-03-16T14:31:48.504208",
     "exception": false,
     "start_time": "2022-03-16T14:31:48.458003",
     "status": "completed"
    },
    "tags": []
   },
   "source": [
    " Use the key  <code>'sector'</code> to find the sector the stock belongs to"
   ]
  },
  {
   "cell_type": "code",
   "execution_count": 14,
   "id": "e90b386c",
   "metadata": {
    "execution": {
     "iopub.execute_input": "2022-03-16T14:31:48.602086Z",
     "iopub.status.busy": "2022-03-16T14:31:48.601269Z",
     "iopub.status.idle": "2022-03-16T14:31:48.604482Z",
     "shell.execute_reply": "2022-03-16T14:31:48.605002Z",
     "shell.execute_reply.started": "2022-03-16T02:06:32.624372Z"
    },
    "papermill": {
     "duration": 0.055726,
     "end_time": "2022-03-16T14:31:48.605170",
     "exception": false,
     "start_time": "2022-03-16T14:31:48.549444",
     "status": "completed"
    },
    "tags": []
   },
   "outputs": [
    {
     "data": {
      "text/plain": [
       "'Technology'"
      ]
     },
     "execution_count": 14,
     "metadata": {},
     "output_type": "execute_result"
    }
   ],
   "source": [
    "info['sector']"
   ]
  },
  {
   "cell_type": "markdown",
   "id": "80ace7e3",
   "metadata": {
    "papermill": {
     "duration": 0.045517,
     "end_time": "2022-03-16T14:31:48.697241",
     "exception": false,
     "start_time": "2022-03-16T14:31:48.651724",
     "status": "completed"
    },
    "tags": []
   },
   "source": [
    "Obtain stock data for AMD using the `history` function, set the `period` to max. Find the `Volume` traded on the first day (first row)."
   ]
  },
  {
   "cell_type": "code",
   "execution_count": 15,
   "id": "34223148",
   "metadata": {
    "execution": {
     "iopub.execute_input": "2022-03-16T14:31:48.793650Z",
     "iopub.status.busy": "2022-03-16T14:31:48.792971Z",
     "iopub.status.idle": "2022-03-16T14:31:49.215733Z",
     "shell.execute_reply": "2022-03-16T14:31:49.216252Z",
     "shell.execute_reply.started": "2022-03-16T02:12:31.07398Z"
    },
    "papermill": {
     "duration": 0.473298,
     "end_time": "2022-03-16T14:31:49.216425",
     "exception": false,
     "start_time": "2022-03-16T14:31:48.743127",
     "status": "completed"
    },
    "tags": []
   },
   "outputs": [
    {
     "data": {
      "text/html": [
       "<div>\n",
       "<style scoped>\n",
       "    .dataframe tbody tr th:only-of-type {\n",
       "        vertical-align: middle;\n",
       "    }\n",
       "\n",
       "    .dataframe tbody tr th {\n",
       "        vertical-align: top;\n",
       "    }\n",
       "\n",
       "    .dataframe thead th {\n",
       "        text-align: right;\n",
       "    }\n",
       "</style>\n",
       "<table border=\"1\" class=\"dataframe\">\n",
       "  <thead>\n",
       "    <tr style=\"text-align: right;\">\n",
       "      <th></th>\n",
       "      <th>Date</th>\n",
       "      <th>Open</th>\n",
       "      <th>High</th>\n",
       "      <th>Low</th>\n",
       "      <th>Close</th>\n",
       "      <th>Volume</th>\n",
       "      <th>Dividends</th>\n",
       "      <th>Stock Splits</th>\n",
       "    </tr>\n",
       "  </thead>\n",
       "  <tbody>\n",
       "    <tr>\n",
       "      <th>0</th>\n",
       "      <td>2022-02-16</td>\n",
       "      <td>119.050003</td>\n",
       "      <td>119.540001</td>\n",
       "      <td>114.220001</td>\n",
       "      <td>117.690002</td>\n",
       "      <td>119109600</td>\n",
       "      <td>0</td>\n",
       "      <td>0</td>\n",
       "    </tr>\n",
       "    <tr>\n",
       "      <th>1</th>\n",
       "      <td>2022-02-17</td>\n",
       "      <td>116.260002</td>\n",
       "      <td>116.980003</td>\n",
       "      <td>112.260002</td>\n",
       "      <td>112.370003</td>\n",
       "      <td>98179600</td>\n",
       "      <td>0</td>\n",
       "      <td>0</td>\n",
       "    </tr>\n",
       "    <tr>\n",
       "      <th>2</th>\n",
       "      <td>2022-02-18</td>\n",
       "      <td>113.900002</td>\n",
       "      <td>115.639999</td>\n",
       "      <td>109.889999</td>\n",
       "      <td>113.830002</td>\n",
       "      <td>114321200</td>\n",
       "      <td>0</td>\n",
       "      <td>0</td>\n",
       "    </tr>\n",
       "    <tr>\n",
       "      <th>3</th>\n",
       "      <td>2022-02-22</td>\n",
       "      <td>115.269997</td>\n",
       "      <td>119.199997</td>\n",
       "      <td>113.610001</td>\n",
       "      <td>115.650002</td>\n",
       "      <td>141648500</td>\n",
       "      <td>0</td>\n",
       "      <td>0</td>\n",
       "    </tr>\n",
       "    <tr>\n",
       "      <th>4</th>\n",
       "      <td>2022-02-23</td>\n",
       "      <td>117.400002</td>\n",
       "      <td>118.650002</td>\n",
       "      <td>109.040001</td>\n",
       "      <td>109.760002</td>\n",
       "      <td>120299400</td>\n",
       "      <td>0</td>\n",
       "      <td>0</td>\n",
       "    </tr>\n",
       "  </tbody>\n",
       "</table>\n",
       "</div>"
      ],
      "text/plain": [
       "        Date        Open        High         Low       Close     Volume  \\\n",
       "0 2022-02-16  119.050003  119.540001  114.220001  117.690002  119109600   \n",
       "1 2022-02-17  116.260002  116.980003  112.260002  112.370003   98179600   \n",
       "2 2022-02-18  113.900002  115.639999  109.889999  113.830002  114321200   \n",
       "3 2022-02-22  115.269997  119.199997  113.610001  115.650002  141648500   \n",
       "4 2022-02-23  117.400002  118.650002  109.040001  109.760002  120299400   \n",
       "\n",
       "   Dividends  Stock Splits  \n",
       "0          0             0  \n",
       "1          0             0  \n",
       "2          0             0  \n",
       "3          0             0  \n",
       "4          0             0  "
      ]
     },
     "execution_count": 15,
     "metadata": {},
     "output_type": "execute_result"
    }
   ],
   "source": [
    "history = amd.history(pireod='max')\n",
    "history.reset_index(inplace=True)\n",
    "history.head()"
   ]
  },
  {
   "cell_type": "code",
   "execution_count": 16,
   "id": "6b5d8c5e",
   "metadata": {
    "execution": {
     "iopub.execute_input": "2022-03-16T14:31:49.312903Z",
     "iopub.status.busy": "2022-03-16T14:31:49.312257Z",
     "iopub.status.idle": "2022-03-16T14:31:49.317649Z",
     "shell.execute_reply": "2022-03-16T14:31:49.318196Z",
     "shell.execute_reply.started": "2022-03-16T02:07:25.814872Z"
    },
    "papermill": {
     "duration": 0.055386,
     "end_time": "2022-03-16T14:31:49.318376",
     "exception": false,
     "start_time": "2022-03-16T14:31:49.262990",
     "status": "completed"
    },
    "tags": []
   },
   "outputs": [
    {
     "data": {
      "text/plain": [
       "119109600"
      ]
     },
     "execution_count": 16,
     "metadata": {},
     "output_type": "execute_result"
    }
   ],
   "source": [
    "history.Volume[0]"
   ]
  },
  {
   "cell_type": "markdown",
   "id": "349b8767",
   "metadata": {
    "papermill": {
     "duration": 0.047225,
     "end_time": "2022-03-16T14:31:49.412643",
     "exception": false,
     "start_time": "2022-03-16T14:31:49.365418",
     "status": "completed"
    },
    "tags": []
   },
   "source": [
    "<h1>Extracting Stock Data Using Web Scraping</h1>"
   ]
  },
  {
   "cell_type": "markdown",
   "id": "1742f768",
   "metadata": {
    "papermill": {
     "duration": 0.047132,
     "end_time": "2022-03-16T14:31:49.508281",
     "exception": false,
     "start_time": "2022-03-16T14:31:49.461149",
     "status": "completed"
    },
    "tags": []
   },
   "source": [
    "Not all stock data is available via API in this assignment; you will use web-scraping to obtain financial data.\n",
    "Using `beautiful soup` we will extract historical share data from a web-page.\n",
    "\n",
    "<h2>Table of Contents</h2>\n",
    "<div class=\"alert alert-block alert-info\" style=\"margin-top: 20px\">\n",
    "    <ul>\n",
    "        <li>Downloading the Webpage Using Requests Library</li>\n",
    "        <li>Parsing Webpage HTML Using BeautifulSoup</li>\n",
    "        <li>Extracting Data and Building DataFrame</li>\n",
    "    </ul>\n",
    "</div>\n",
    "\n",
    "<hr>\n"
   ]
  },
  {
   "cell_type": "code",
   "execution_count": 17,
   "id": "cbbfc4d6",
   "metadata": {
    "execution": {
     "iopub.execute_input": "2022-03-16T14:31:49.608424Z",
     "iopub.status.busy": "2022-03-16T14:31:49.607701Z",
     "iopub.status.idle": "2022-03-16T14:31:49.609432Z",
     "shell.execute_reply": "2022-03-16T14:31:49.609908Z",
     "shell.execute_reply.started": "2022-03-16T14:01:42.150879Z"
    },
    "papermill": {
     "duration": 0.05401,
     "end_time": "2022-03-16T14:31:49.610084",
     "exception": false,
     "start_time": "2022-03-16T14:31:49.556074",
     "status": "completed"
    },
    "tags": []
   },
   "outputs": [],
   "source": [
    "import pandas as pd\n",
    "\n",
    "from bs4 import BeautifulSoup\n",
    "import requests"
   ]
  },
  {
   "cell_type": "markdown",
   "id": "988550eb",
   "metadata": {
    "papermill": {
     "duration": 0.047206,
     "end_time": "2022-03-16T14:31:49.706011",
     "exception": false,
     "start_time": "2022-03-16T14:31:49.658805",
     "status": "completed"
    },
    "tags": []
   },
   "source": [
    "First we must use the `request` library to downlaod the webpage, and extract the text. We will extract Netflix stock data from this<a href=\"https://cf-courses-data.s3.us.cloud-object-storage.appdomain.cloud/IBMDeveloperSkillsNetwork-PY0220EN-SkillsNetwork/labs/project/netflix_data_webpage.html\"> <b>Link</b></a>."
   ]
  },
  {
   "cell_type": "code",
   "execution_count": 18,
   "id": "e350259a",
   "metadata": {
    "execution": {
     "iopub.execute_input": "2022-03-16T14:31:49.807647Z",
     "iopub.status.busy": "2022-03-16T14:31:49.806964Z",
     "iopub.status.idle": "2022-03-16T14:31:52.799013Z",
     "shell.execute_reply": "2022-03-16T14:31:52.799553Z",
     "shell.execute_reply.started": "2022-03-16T14:04:29.068472Z"
    },
    "papermill": {
     "duration": 3.047025,
     "end_time": "2022-03-16T14:31:52.799730",
     "exception": false,
     "start_time": "2022-03-16T14:31:49.752705",
     "status": "completed"
    },
    "tags": []
   },
   "outputs": [],
   "source": [
    "url = \"https://cf-courses-data.s3.us.cloud-object-storage.appdomain.cloud/IBMDeveloperSkillsNetwork-PY0220EN-SkillsNetwork/labs/project/netflix_data_webpage.html\"\n",
    "\n",
    "data  = requests.get(url).text"
   ]
  },
  {
   "cell_type": "markdown",
   "id": "36c070ca",
   "metadata": {
    "papermill": {
     "duration": 0.047507,
     "end_time": "2022-03-16T14:31:52.894764",
     "exception": false,
     "start_time": "2022-03-16T14:31:52.847257",
     "status": "completed"
    },
    "tags": []
   },
   "source": [
    "Next we must parse the text into html using `beautiful_soup`"
   ]
  },
  {
   "cell_type": "code",
   "execution_count": 19,
   "id": "6727f139",
   "metadata": {
    "execution": {
     "iopub.execute_input": "2022-03-16T14:31:52.993492Z",
     "iopub.status.busy": "2022-03-16T14:31:52.992832Z",
     "iopub.status.idle": "2022-03-16T14:31:53.292665Z",
     "shell.execute_reply": "2022-03-16T14:31:53.291755Z",
     "shell.execute_reply.started": "2022-03-16T14:15:30.981764Z"
    },
    "papermill": {
     "duration": 0.350673,
     "end_time": "2022-03-16T14:31:53.292883",
     "exception": false,
     "start_time": "2022-03-16T14:31:52.942210",
     "status": "completed"
    },
    "tags": []
   },
   "outputs": [
    {
     "name": "stdout",
     "output_type": "stream",
     "text": [
      "Netflix, Inc. (NFLX) Stock Historical Prices & Data - Yahoo Finance\n"
     ]
    }
   ],
   "source": [
    "soup = BeautifulSoup(data, 'html5lib')\n",
    "print(soup.title.text)"
   ]
  },
  {
   "cell_type": "markdown",
   "id": "c58a4ebb",
   "metadata": {
    "papermill": {
     "duration": 0.047064,
     "end_time": "2022-03-16T14:31:53.388568",
     "exception": false,
     "start_time": "2022-03-16T14:31:53.341504",
     "status": "completed"
    },
    "tags": []
   },
   "source": [
    "Now we can turn the html table into a pandas dataframe\n"
   ]
  },
  {
   "cell_type": "code",
   "execution_count": 20,
   "id": "a1dcc91e",
   "metadata": {
    "execution": {
     "iopub.execute_input": "2022-03-16T14:31:53.489921Z",
     "iopub.status.busy": "2022-03-16T14:31:53.489245Z",
     "iopub.status.idle": "2022-03-16T14:31:53.492110Z",
     "shell.execute_reply": "2022-03-16T14:31:53.492630Z",
     "shell.execute_reply.started": "2022-03-16T14:09:46.574726Z"
    },
    "papermill": {
     "duration": 0.057241,
     "end_time": "2022-03-16T14:31:53.492794",
     "exception": false,
     "start_time": "2022-03-16T14:31:53.435553",
     "status": "completed"
    },
    "tags": []
   },
   "outputs": [
    {
     "data": {
      "text/plain": [
       "1"
      ]
     },
     "execution_count": 20,
     "metadata": {},
     "output_type": "execute_result"
    }
   ],
   "source": [
    "table = soup.find_all('table')\n",
    "len(table)"
   ]
  },
  {
   "cell_type": "code",
   "execution_count": 21,
   "id": "140c18c1",
   "metadata": {
    "execution": {
     "iopub.execute_input": "2022-03-16T14:31:53.591204Z",
     "iopub.status.busy": "2022-03-16T14:31:53.590546Z",
     "iopub.status.idle": "2022-03-16T14:31:53.837381Z",
     "shell.execute_reply": "2022-03-16T14:31:53.836653Z",
     "shell.execute_reply.started": "2022-03-16T14:12:30.342334Z"
    },
    "papermill": {
     "duration": 0.297198,
     "end_time": "2022-03-16T14:31:53.837529",
     "exception": false,
     "start_time": "2022-03-16T14:31:53.540331",
     "status": "completed"
    },
    "tags": []
   },
   "outputs": [
    {
     "data": {
      "text/html": [
       "<div>\n",
       "<style scoped>\n",
       "    .dataframe tbody tr th:only-of-type {\n",
       "        vertical-align: middle;\n",
       "    }\n",
       "\n",
       "    .dataframe tbody tr th {\n",
       "        vertical-align: top;\n",
       "    }\n",
       "\n",
       "    .dataframe thead th {\n",
       "        text-align: right;\n",
       "    }\n",
       "</style>\n",
       "<table border=\"1\" class=\"dataframe\">\n",
       "  <thead>\n",
       "    <tr style=\"text-align: right;\">\n",
       "      <th></th>\n",
       "      <th>Date</th>\n",
       "      <th>Open</th>\n",
       "      <th>High</th>\n",
       "      <th>Low</th>\n",
       "      <th>Close*</th>\n",
       "      <th>Adj Close**</th>\n",
       "      <th>Volume</th>\n",
       "    </tr>\n",
       "  </thead>\n",
       "  <tbody>\n",
       "    <tr>\n",
       "      <th>0</th>\n",
       "      <td>Jun 01, 2021</td>\n",
       "      <td>504.01</td>\n",
       "      <td>536.13</td>\n",
       "      <td>482.14</td>\n",
       "      <td>528.21</td>\n",
       "      <td>528.21</td>\n",
       "      <td>78560600</td>\n",
       "    </tr>\n",
       "    <tr>\n",
       "      <th>1</th>\n",
       "      <td>May 01, 2021</td>\n",
       "      <td>512.65</td>\n",
       "      <td>518.95</td>\n",
       "      <td>478.54</td>\n",
       "      <td>502.81</td>\n",
       "      <td>502.81</td>\n",
       "      <td>66927600</td>\n",
       "    </tr>\n",
       "    <tr>\n",
       "      <th>2</th>\n",
       "      <td>Apr 01, 2021</td>\n",
       "      <td>529.93</td>\n",
       "      <td>563.56</td>\n",
       "      <td>499.00</td>\n",
       "      <td>513.47</td>\n",
       "      <td>513.47</td>\n",
       "      <td>111573300</td>\n",
       "    </tr>\n",
       "    <tr>\n",
       "      <th>3</th>\n",
       "      <td>Mar 01, 2021</td>\n",
       "      <td>545.57</td>\n",
       "      <td>556.99</td>\n",
       "      <td>492.85</td>\n",
       "      <td>521.66</td>\n",
       "      <td>521.66</td>\n",
       "      <td>90183900</td>\n",
       "    </tr>\n",
       "    <tr>\n",
       "      <th>4</th>\n",
       "      <td>Feb 01, 2021</td>\n",
       "      <td>536.79</td>\n",
       "      <td>566.65</td>\n",
       "      <td>518.28</td>\n",
       "      <td>538.85</td>\n",
       "      <td>538.85</td>\n",
       "      <td>61902300</td>\n",
       "    </tr>\n",
       "  </tbody>\n",
       "</table>\n",
       "</div>"
      ],
      "text/plain": [
       "           Date    Open    High     Low  Close* Adj Close**     Volume\n",
       "0  Jun 01, 2021  504.01  536.13  482.14  528.21      528.21   78560600\n",
       "1  May 01, 2021  512.65  518.95  478.54  502.81      502.81   66927600\n",
       "2  Apr 01, 2021  529.93  563.56  499.00  513.47      513.47  111573300\n",
       "3  Mar 01, 2021  545.57  556.99  492.85  521.66      521.66   90183900\n",
       "4  Feb 01, 2021  536.79  566.65  518.28  538.85      538.85   61902300"
      ]
     },
     "execution_count": 21,
     "metadata": {},
     "output_type": "execute_result"
    }
   ],
   "source": [
    "population_data_read_html = pd.read_html(str(table), flavor='bs4')[0]\n",
    "population_data_read_html.head()"
   ]
  },
  {
   "cell_type": "markdown",
   "id": "3ba2f52e",
   "metadata": {
    "papermill": {
     "duration": 0.049021,
     "end_time": "2022-03-16T14:31:53.935877",
     "exception": false,
     "start_time": "2022-03-16T14:31:53.886856",
     "status": "completed"
    },
    "tags": []
   },
   "source": [
    "<h3>other example</h3>"
   ]
  },
  {
   "cell_type": "code",
   "execution_count": 22,
   "id": "cf0def4b",
   "metadata": {
    "execution": {
     "iopub.execute_input": "2022-03-16T14:31:54.045462Z",
     "iopub.status.busy": "2022-03-16T14:31:54.044720Z",
     "iopub.status.idle": "2022-03-16T14:31:56.866432Z",
     "shell.execute_reply": "2022-03-16T14:31:56.866946Z",
     "shell.execute_reply.started": "2022-03-16T14:19:03.492697Z"
    },
    "papermill": {
     "duration": 2.880471,
     "end_time": "2022-03-16T14:31:56.867180",
     "exception": false,
     "start_time": "2022-03-16T14:31:53.986709",
     "status": "completed"
    },
    "tags": []
   },
   "outputs": [
    {
     "name": "stdout",
     "output_type": "stream",
     "text": [
      "Netflix, Inc. (NFLX) Stock Historical Prices & Data - Yahoo Finance\n"
     ]
    }
   ],
   "source": [
    "url = \"https://cf-courses-data.s3.us.cloud-object-storage.appdomain.cloud/IBMDeveloperSkillsNetwork-PY0220EN-SkillsNetwork/labs/project/netflix_data_webpage.html\"\n",
    "data  = requests.get(url).text\n",
    "soup = BeautifulSoup(data, 'html5lib')\n",
    "print(soup.title.text)"
   ]
  },
  {
   "cell_type": "code",
   "execution_count": 23,
   "id": "4c36b02c",
   "metadata": {
    "execution": {
     "iopub.execute_input": "2022-03-16T14:31:56.983955Z",
     "iopub.status.busy": "2022-03-16T14:31:56.983241Z",
     "iopub.status.idle": "2022-03-16T14:31:57.205524Z",
     "shell.execute_reply": "2022-03-16T14:31:57.206059Z",
     "shell.execute_reply.started": "2022-03-16T14:19:40.796597Z"
    },
    "papermill": {
     "duration": 0.289752,
     "end_time": "2022-03-16T14:31:57.206233",
     "exception": false,
     "start_time": "2022-03-16T14:31:56.916481",
     "status": "completed"
    },
    "tags": []
   },
   "outputs": [
    {
     "data": {
      "text/html": [
       "<div>\n",
       "<style scoped>\n",
       "    .dataframe tbody tr th:only-of-type {\n",
       "        vertical-align: middle;\n",
       "    }\n",
       "\n",
       "    .dataframe tbody tr th {\n",
       "        vertical-align: top;\n",
       "    }\n",
       "\n",
       "    .dataframe thead th {\n",
       "        text-align: right;\n",
       "    }\n",
       "</style>\n",
       "<table border=\"1\" class=\"dataframe\">\n",
       "  <thead>\n",
       "    <tr style=\"text-align: right;\">\n",
       "      <th></th>\n",
       "      <th>Date</th>\n",
       "      <th>Open</th>\n",
       "      <th>High</th>\n",
       "      <th>Low</th>\n",
       "      <th>Close</th>\n",
       "      <th>Volume</th>\n",
       "      <th>Adj Close</th>\n",
       "    </tr>\n",
       "  </thead>\n",
       "  <tbody>\n",
       "    <tr>\n",
       "      <th>0</th>\n",
       "      <td>Jun 01, 2021</td>\n",
       "      <td>504.01</td>\n",
       "      <td>536.13</td>\n",
       "      <td>482.14</td>\n",
       "      <td>528.21</td>\n",
       "      <td>78,560,600</td>\n",
       "      <td>528.21</td>\n",
       "    </tr>\n",
       "    <tr>\n",
       "      <th>1</th>\n",
       "      <td>May 01, 2021</td>\n",
       "      <td>512.65</td>\n",
       "      <td>518.95</td>\n",
       "      <td>478.54</td>\n",
       "      <td>502.81</td>\n",
       "      <td>66,927,600</td>\n",
       "      <td>502.81</td>\n",
       "    </tr>\n",
       "    <tr>\n",
       "      <th>2</th>\n",
       "      <td>Apr 01, 2021</td>\n",
       "      <td>529.93</td>\n",
       "      <td>563.56</td>\n",
       "      <td>499.00</td>\n",
       "      <td>513.47</td>\n",
       "      <td>111,573,300</td>\n",
       "      <td>513.47</td>\n",
       "    </tr>\n",
       "    <tr>\n",
       "      <th>3</th>\n",
       "      <td>Mar 01, 2021</td>\n",
       "      <td>545.57</td>\n",
       "      <td>556.99</td>\n",
       "      <td>492.85</td>\n",
       "      <td>521.66</td>\n",
       "      <td>90,183,900</td>\n",
       "      <td>521.66</td>\n",
       "    </tr>\n",
       "    <tr>\n",
       "      <th>4</th>\n",
       "      <td>Feb 01, 2021</td>\n",
       "      <td>536.79</td>\n",
       "      <td>566.65</td>\n",
       "      <td>518.28</td>\n",
       "      <td>538.85</td>\n",
       "      <td>61,902,300</td>\n",
       "      <td>538.85</td>\n",
       "    </tr>\n",
       "  </tbody>\n",
       "</table>\n",
       "</div>"
      ],
      "text/plain": [
       "           Date    Open    High     Low   Close       Volume Adj Close\n",
       "0  Jun 01, 2021  504.01  536.13  482.14  528.21   78,560,600    528.21\n",
       "1  May 01, 2021  512.65  518.95  478.54  502.81   66,927,600    502.81\n",
       "2  Apr 01, 2021  529.93  563.56  499.00  513.47  111,573,300    513.47\n",
       "3  Mar 01, 2021  545.57  556.99  492.85  521.66   90,183,900    521.66\n",
       "4  Feb 01, 2021  536.79  566.65  518.28  538.85   61,902,300    538.85"
      ]
     },
     "execution_count": 23,
     "metadata": {},
     "output_type": "execute_result"
    }
   ],
   "source": [
    "amazon_data = pd.DataFrame(columns=[\"Date\", \"Open\", \"High\", \"Low\", \"Close\", \"Volume\"])\n",
    "\n",
    "for row in soup.find(\"tbody\").find_all(\"tr\"):\n",
    "    col = row.find_all(\"td\")\n",
    "    date = col[0].text\n",
    "    Open = col[1].text\n",
    "    high = col[2].text\n",
    "    low = col[3].text\n",
    "    close = col[4].text\n",
    "    adj_close = col[5].text\n",
    "    volume = col[6].text\n",
    "    \n",
    "    amazon_data = amazon_data.append({\"Date\":date, \"Open\":Open, \"High\":high, \"Low\":low, \"Close\":close, \"Adj Close\":adj_close, \"Volume\":volume}, ignore_index=True)\n",
    "    \n",
    "amazon_data.head()"
   ]
  },
  {
   "cell_type": "code",
   "execution_count": null,
   "id": "52e8110a",
   "metadata": {
    "papermill": {
     "duration": 0.049232,
     "end_time": "2022-03-16T14:31:57.304872",
     "exception": false,
     "start_time": "2022-03-16T14:31:57.255640",
     "status": "completed"
    },
    "tags": []
   },
   "outputs": [],
   "source": []
  }
 ],
 "metadata": {
  "kernelspec": {
   "display_name": "Python 3",
   "language": "python",
   "name": "python3"
  },
  "language_info": {
   "codemirror_mode": {
    "name": "ipython",
    "version": 3
   },
   "file_extension": ".py",
   "mimetype": "text/x-python",
   "name": "python",
   "nbconvert_exporter": "python",
   "pygments_lexer": "ipython3",
   "version": "3.7.12"
  },
  "papermill": {
   "default_parameters": {},
   "duration": 48.859887,
   "end_time": "2022-03-16T14:31:58.065528",
   "environment_variables": {},
   "exception": null,
   "input_path": "__notebook__.ipynb",
   "output_path": "__notebook__.ipynb",
   "parameters": {},
   "start_time": "2022-03-16T14:31:09.205641",
   "version": "2.3.3"
  }
 },
 "nbformat": 4,
 "nbformat_minor": 5
}
