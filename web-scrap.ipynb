{
 "cells": [
  {
   "cell_type": "code",
   "execution_count": 1,
   "id": "bd779cb1",
   "metadata": {
    "_cell_guid": "b1076dfc-b9ad-4769-8c92-a6c4dae69d19",
    "_uuid": "8f2839f25d086af736a60e9eeb907d3b93b6e0e5",
    "execution": {
     "iopub.execute_input": "2022-03-16T00:59:30.896077Z",
     "iopub.status.busy": "2022-03-16T00:59:30.894298Z",
     "iopub.status.idle": "2022-03-16T00:59:31.244109Z",
     "shell.execute_reply": "2022-03-16T00:59:31.243394Z",
     "shell.execute_reply.started": "2022-03-15T23:52:00.767217Z"
    },
    "papermill": {
     "duration": 0.378556,
     "end_time": "2022-03-16T00:59:31.244312",
     "exception": false,
     "start_time": "2022-03-16T00:59:30.865756",
     "status": "completed"
    },
    "tags": []
   },
   "outputs": [],
   "source": [
    "from bs4 import BeautifulSoup"
   ]
  },
  {
   "cell_type": "code",
   "execution_count": 2,
   "id": "00b3da94",
   "metadata": {
    "execution": {
     "iopub.execute_input": "2022-03-16T00:59:31.294590Z",
     "iopub.status.busy": "2022-03-16T00:59:31.293639Z",
     "iopub.status.idle": "2022-03-16T00:59:31.295740Z",
     "shell.execute_reply": "2022-03-16T00:59:31.296217Z",
     "shell.execute_reply.started": "2022-03-15T23:52:00.989900Z"
    },
    "papermill": {
     "duration": 0.028169,
     "end_time": "2022-03-16T00:59:31.296390",
     "exception": false,
     "start_time": "2022-03-16T00:59:31.268221",
     "status": "completed"
    },
    "tags": []
   },
   "outputs": [],
   "source": [
    "html = \"<!DOCTYPE html><html><head><title>Page Title</title></head><body><h3><b id='boldest'>Lebron James</b></h3><p> Salary: $ 92,000,000 </p><h3> Stephen Curry</h3><p> Salary: $85,000, 000 </p><h3> Kevin Durant </h3><p> Salary: $73,200, 000</p></body></html>\""
   ]
  },
  {
   "cell_type": "code",
   "execution_count": 3,
   "id": "99eae26b",
   "metadata": {
    "execution": {
     "iopub.execute_input": "2022-03-16T00:59:31.346218Z",
     "iopub.status.busy": "2022-03-16T00:59:31.345364Z",
     "iopub.status.idle": "2022-03-16T00:59:31.348941Z",
     "shell.execute_reply": "2022-03-16T00:59:31.349532Z",
     "shell.execute_reply.started": "2022-03-15T23:52:01.404701Z"
    },
    "papermill": {
     "duration": 0.031614,
     "end_time": "2022-03-16T00:59:31.349727",
     "exception": false,
     "start_time": "2022-03-16T00:59:31.318113",
     "status": "completed"
    },
    "tags": []
   },
   "outputs": [
    {
     "name": "stdout",
     "output_type": "stream",
     "text": [
      "<!DOCTYPE html>\n",
      "<html>\n",
      " <head>\n",
      "  <title>\n",
      "   Page Title\n",
      "  </title>\n",
      " </head>\n",
      " <body>\n",
      "  <h3>\n",
      "   <b id=\"boldest\">\n",
      "    Lebron James\n",
      "   </b>\n",
      "  </h3>\n",
      "  <p>\n",
      "   Salary: $ 92,000,000\n",
      "  </p>\n",
      "  <h3>\n",
      "   Stephen Curry\n",
      "  </h3>\n",
      "  <p>\n",
      "   Salary: $85,000, 000\n",
      "  </p>\n",
      "  <h3>\n",
      "   Kevin Durant\n",
      "  </h3>\n",
      "  <p>\n",
      "   Salary: $73,200, 000\n",
      "  </p>\n",
      " </body>\n",
      "</html>\n"
     ]
    }
   ],
   "source": [
    "soup = BeautifulSoup(html, \"html.parser\")\n",
    "print(soup.prettify())"
   ]
  },
  {
   "cell_type": "code",
   "execution_count": 4,
   "id": "e87ceb33",
   "metadata": {
    "execution": {
     "iopub.execute_input": "2022-03-16T00:59:31.397679Z",
     "iopub.status.busy": "2022-03-16T00:59:31.397023Z",
     "iopub.status.idle": "2022-03-16T00:59:31.402787Z",
     "shell.execute_reply": "2022-03-16T00:59:31.402110Z",
     "shell.execute_reply.started": "2022-03-15T23:54:02.964746Z"
    },
    "papermill": {
     "duration": 0.030839,
     "end_time": "2022-03-16T00:59:31.402943",
     "exception": false,
     "start_time": "2022-03-16T00:59:31.372104",
     "status": "completed"
    },
    "tags": []
   },
   "outputs": [
    {
     "name": "stdout",
     "output_type": "stream",
     "text": [
      "<h3><b id=\"boldest\">Lebron James</b></h3>\n",
      "Lebron James\n",
      "<p> Salary: $ 92,000,000 </p>\n"
     ]
    }
   ],
   "source": [
    "tag_object = soup.h3\n",
    "print(tag_object)\n",
    "print(tag_object.text)\n",
    "print(tag_object.next_sibling)"
   ]
  },
  {
   "cell_type": "code",
   "execution_count": 5,
   "id": "0e46ba9d",
   "metadata": {
    "execution": {
     "iopub.execute_input": "2022-03-16T00:59:31.454020Z",
     "iopub.status.busy": "2022-03-16T00:59:31.453224Z",
     "iopub.status.idle": "2022-03-16T00:59:31.456485Z",
     "shell.execute_reply": "2022-03-16T00:59:31.456974Z",
     "shell.execute_reply.started": "2022-03-15T23:54:21.285132Z"
    },
    "papermill": {
     "duration": 0.031579,
     "end_time": "2022-03-16T00:59:31.457163",
     "exception": false,
     "start_time": "2022-03-16T00:59:31.425584",
     "status": "completed"
    },
    "tags": []
   },
   "outputs": [
    {
     "name": "stdout",
     "output_type": "stream",
     "text": [
      "<b id=\"boldest\">Lebron James</b>\n",
      "Lebron James\n",
      "{'id': 'boldest'}\n"
     ]
    }
   ],
   "source": [
    "tag_child = tag_object.b\n",
    "print(tag_child)\n",
    "print(tag_child.text)\n",
    "print(tag_child.attrs)"
   ]
  },
  {
   "cell_type": "code",
   "execution_count": 6,
   "id": "2511e9e7",
   "metadata": {
    "execution": {
     "iopub.execute_input": "2022-03-16T00:59:31.506984Z",
     "iopub.status.busy": "2022-03-16T00:59:31.505895Z",
     "iopub.status.idle": "2022-03-16T00:59:31.514321Z",
     "shell.execute_reply": "2022-03-16T00:59:31.513457Z",
     "shell.execute_reply.started": "2022-03-15T23:55:54.568870Z"
    },
    "papermill": {
     "duration": 0.034126,
     "end_time": "2022-03-16T00:59:31.514507",
     "exception": false,
     "start_time": "2022-03-16T00:59:31.480381",
     "status": "completed"
    },
    "tags": []
   },
   "outputs": [
    {
     "name": "stdout",
     "output_type": "stream",
     "text": [
      "<table>\n",
      " <tr>\n",
      "  <td id=\"flight\">\n",
      "   Flight No\n",
      "  </td>\n",
      "  <td>\n",
      "   Launch site\n",
      "  </td>\n",
      "  <td>\n",
      "   Payload mass\n",
      "  </td>\n",
      " </tr>\n",
      " <tr>\n",
      "  <td>\n",
      "   1\n",
      "  </td>\n",
      "  <td>\n",
      "   <a href=\"https://en.wikipedia.org/wiki/Florida\">\n",
      "    Florida\n",
      "    <a>\n",
      "    </a>\n",
      "   </a>\n",
      "  </td>\n",
      "  <td>\n",
      "   300 kg\n",
      "  </td>\n",
      " </tr>\n",
      " <tr>\n",
      "  <td>\n",
      "   2\n",
      "  </td>\n",
      "  <td>\n",
      "   <a href=\"https://en.wikipedia.org/wiki/Texas\">\n",
      "    Texas\n",
      "   </a>\n",
      "  </td>\n",
      "  <td>\n",
      "   94 kg\n",
      "  </td>\n",
      " </tr>\n",
      " <tr>\n",
      "  <td>\n",
      "   3\n",
      "  </td>\n",
      "  <td>\n",
      "   <a href=\"https://en.wikipedia.org/wiki/Florida\">\n",
      "    Florida\n",
      "    <a>\n",
      "    </a>\n",
      "   </a>\n",
      "  </td>\n",
      "  <td>\n",
      "   80 kg\n",
      "  </td>\n",
      " </tr>\n",
      "</table>\n"
     ]
    }
   ],
   "source": [
    "table=\"<table><tr><td id='flight'>Flight No</td><td>Launch site</td> <td>Payload mass</td></tr><tr> <td>1</td><td><a href='https://en.wikipedia.org/wiki/Florida'>Florida<a></td><td>300 kg</td></tr><tr><td>2</td><td><a href='https://en.wikipedia.org/wiki/Texas'>Texas</a></td><td>94 kg</td></tr><tr><td>3</td><td><a href='https://en.wikipedia.org/wiki/Florida'>Florida<a> </td><td>80 kg</td></tr></table>\"\n",
    "table_bs = BeautifulSoup(table, \"html.parser\")\n",
    "print(table_bs.prettify())"
   ]
  },
  {
   "cell_type": "code",
   "execution_count": 7,
   "id": "f82f81b3",
   "metadata": {
    "execution": {
     "iopub.execute_input": "2022-03-16T00:59:31.570081Z",
     "iopub.status.busy": "2022-03-16T00:59:31.569003Z",
     "iopub.status.idle": "2022-03-16T00:59:31.576565Z",
     "shell.execute_reply": "2022-03-16T00:59:31.575928Z",
     "shell.execute_reply.started": "2022-03-15T23:58:13.567079Z"
    },
    "papermill": {
     "duration": 0.037764,
     "end_time": "2022-03-16T00:59:31.576706",
     "exception": false,
     "start_time": "2022-03-16T00:59:31.538942",
     "status": "completed"
    },
    "tags": []
   },
   "outputs": [
    {
     "name": "stdout",
     "output_type": "stream",
     "text": [
      "[<tr><td id=\"flight\">Flight No</td><td>Launch site</td> <td>Payload mass</td></tr>, <tr> <td>1</td><td><a href=\"https://en.wikipedia.org/wiki/Florida\">Florida<a></a></a></td><td>300 kg</td></tr>, <tr><td>2</td><td><a href=\"https://en.wikipedia.org/wiki/Texas\">Texas</a></td><td>94 kg</td></tr>, <tr><td>3</td><td><a href=\"https://en.wikipedia.org/wiki/Florida\">Florida<a> </a></a></td><td>80 kg</td></tr>]\n",
      "\n",
      " <tr><td id=\"flight\">Flight No</td><td>Launch site</td> <td>Payload mass</td></tr>\n",
      "\n",
      " <td id=\"flight\">Flight No</td>\n",
      "\n",
      "          Flight No                    Launch site                   Payload mass         \n",
      "------------------------------------------------------------------------------------------\n",
      "              1                          Florida                        300 kg            \n",
      "------------------------------------------------------------------------------------------\n",
      "              2                           Texas                         94 kg             \n",
      "------------------------------------------------------------------------------------------\n",
      "              3                          Florida                        80 kg             \n",
      "------------------------------------------------------------------------------------------\n"
     ]
    }
   ],
   "source": [
    "table_rows=table_bs.find_all('tr') #use find_all\n",
    "print(table_rows)\n",
    "\n",
    "first_row = table_rows[0]\n",
    "print('\\n',first_row)\n",
    "\n",
    "first_cell = first_row.td\n",
    "print('\\n', first_cell)\n",
    "print()\n",
    "for row in table_rows:\n",
    "    cells = row.find_all('td')\n",
    "    for cell in cells:\n",
    "        print(f'{cell.text:^30}',end='')\n",
    "    print('\\n' + '-'*90)"
   ]
  },
  {
   "cell_type": "code",
   "execution_count": 8,
   "id": "047041b1",
   "metadata": {
    "execution": {
     "iopub.execute_input": "2022-03-16T00:59:31.629345Z",
     "iopub.status.busy": "2022-03-16T00:59:31.628659Z",
     "iopub.status.idle": "2022-03-16T00:59:31.631217Z",
     "shell.execute_reply": "2022-03-16T00:59:31.630654Z",
     "shell.execute_reply.started": "2022-03-16T00:00:51.947818Z"
    },
    "papermill": {
     "duration": 0.030931,
     "end_time": "2022-03-16T00:59:31.631353",
     "exception": false,
     "start_time": "2022-03-16T00:59:31.600422",
     "status": "completed"
    },
    "tags": []
   },
   "outputs": [],
   "source": [
    "import requests"
   ]
  },
  {
   "cell_type": "code",
   "execution_count": 9,
   "id": "3eb8ba6e",
   "metadata": {
    "execution": {
     "iopub.execute_input": "2022-03-16T00:59:31.689232Z",
     "iopub.status.busy": "2022-03-16T00:59:31.688527Z",
     "iopub.status.idle": "2022-03-16T00:59:32.718713Z",
     "shell.execute_reply": "2022-03-16T00:59:32.719618Z",
     "shell.execute_reply.started": "2022-03-16T00:30:19.617274Z"
    },
    "papermill": {
     "duration": 1.062927,
     "end_time": "2022-03-16T00:59:32.719845",
     "exception": false,
     "start_time": "2022-03-16T00:59:31.656918",
     "status": "completed"
    },
    "tags": []
   },
   "outputs": [
    {
     "name": "stdout",
     "output_type": "stream",
     "text": [
      "https://wikimedia.org/api/rest_v1/media/math/render/svg/68baa052181f707c662844a465bfeeb135e82bab\n",
      "https://wikimedia.org/api/rest_v1/media/math/render/svg/12f0c20e9335038ffebc3536dc301978226675a3\n",
      "https://wikimedia.org/api/rest_v1/media/math/render/svg/12f0c20e9335038ffebc3536dc301978226675a3\n",
      "https://wikimedia.org/api/rest_v1/media/math/render/svg/68baa052181f707c662844a465bfeeb135e82bab\n",
      "https://wikimedia.org/api/rest_v1/media/math/render/svg/774bb74188cbd4485eb30cf91a444a9949dad247\n",
      "https://wikimedia.org/api/rest_v1/media/math/render/svg/68baa052181f707c662844a465bfeeb135e82bab\n",
      "https://wikimedia.org/api/rest_v1/media/math/render/svg/68baa052181f707c662844a465bfeeb135e82bab\n",
      "https://wikimedia.org/api/rest_v1/media/math/render/svg/449494a083e0a1fda2b61c62b2f09b6bee4633dc\n",
      "https://wikimedia.org/api/rest_v1/media/math/render/svg/449494a083e0a1fda2b61c62b2f09b6bee4633dc\n",
      "https://wikimedia.org/api/rest_v1/media/math/render/svg/68baa052181f707c662844a465bfeeb135e82bab\n",
      "https://wikimedia.org/api/rest_v1/media/math/render/svg/68baa052181f707c662844a465bfeeb135e82bab\n",
      "https://wikimedia.org/api/rest_v1/media/math/render/svg/786849c765da7a84dbc3cce43e96aad58a5868dc\n",
      "https://wikimedia.org/api/rest_v1/media/math/render/svg/786849c765da7a84dbc3cce43e96aad58a5868dc\n",
      "https://wikimedia.org/api/rest_v1/media/math/render/svg/68baa052181f707c662844a465bfeeb135e82bab\n",
      "https://wikimedia.org/api/rest_v1/media/math/render/svg/c510b63578322050121fe966f2e5770bea43308d\n",
      "https://wikimedia.org/api/rest_v1/media/math/render/svg/68baa052181f707c662844a465bfeeb135e82bab\n",
      "https://wikimedia.org/api/rest_v1/media/math/render/svg/68baa052181f707c662844a465bfeeb135e82bab\n",
      "https://wikimedia.org/api/rest_v1/media/math/render/svg/f9add4085095b9b6d28d045fd9c92c2c09f549a7\n",
      "https://wikimedia.org/api/rest_v1/media/math/render/svg/f9add4085095b9b6d28d045fd9c92c2c09f549a7\n",
      "https://wikimedia.org/api/rest_v1/media/math/render/svg/68baa052181f707c662844a465bfeeb135e82bab\n",
      "https://wikimedia.org/api/rest_v1/media/math/render/svg/a53b4e76242764d1bca004168353c380fef25258\n",
      "https://wikimedia.org/api/rest_v1/media/math/render/svg/68baa052181f707c662844a465bfeeb135e82bab\n",
      "//upload.wikimedia.org/wikipedia/commons/thumb/3/3b/Function_machine2.svg/220px-Function_machine2.svg.png\n",
      "//upload.wikimedia.org/wikipedia/commons/thumb/9/96/Graph_of_example_function.svg/220px-Graph_of_example_function.svg.png\n",
      "//upload.wikimedia.org/wikipedia/commons/thumb/d/df/Function_color_example_3.svg/220px-Function_color_example_3.svg.png\n",
      "//upload.wikimedia.org/wikipedia/commons/thumb/8/83/Injection_keine_Injektion_2a.svg/220px-Injection_keine_Injektion_2a.svg.png\n",
      "//upload.wikimedia.org/wikipedia/commons/thumb/b/bd/Injection_keine_Injektion_1.svg/220px-Injection_keine_Injektion_1.svg.png\n",
      "https://wikimedia.org/api/rest_v1/media/math/render/svg/05ca3e4423ee56195ceb7c57afdd29a6d982b21e\n",
      "https://wikimedia.org/api/rest_v1/media/math/render/svg/a33f44183452b5378f25004fc9dfb7087266c0e7\n",
      "https://wikimedia.org/api/rest_v1/media/math/render/svg/754c028ad6a5e8ab485b93a831115fb5df068cee\n",
      "https://wikimedia.org/api/rest_v1/media/math/render/svg/04959fa49d431d0749d6c2f6e393b13256d42529\n",
      "https://wikimedia.org/api/rest_v1/media/math/render/svg/233b4c76e7ea7aad9de5488491e1c6c7363c0bea\n",
      "https://wikimedia.org/api/rest_v1/media/math/render/svg/59a83de58939a4ef8e4837ab6dd554da4278f557\n",
      "https://wikimedia.org/api/rest_v1/media/math/render/svg/44aba72977e43f863dd873b095d1dc0bd3f17608\n",
      "https://wikimedia.org/api/rest_v1/media/math/render/svg/ea78f54e69b72f398cf6077e61c50a05b532d4c0\n",
      "https://wikimedia.org/api/rest_v1/media/math/render/svg/3e580967f68f36743e894aa7944f032dda6ea01d\n",
      "https://wikimedia.org/api/rest_v1/media/math/render/svg/cf85883d74b75fe35ca8d3f2b44802df078e4fa1\n",
      "https://wikimedia.org/api/rest_v1/media/math/render/svg/65b53f15b168cb5ab622af5026b0a874e94a8c32\n",
      "https://wikimedia.org/api/rest_v1/media/math/render/svg/786849c765da7a84dbc3cce43e96aad58a5868dc\n",
      "https://wikimedia.org/api/rest_v1/media/math/render/svg/786849c765da7a84dbc3cce43e96aad58a5868dc\n",
      "https://wikimedia.org/api/rest_v1/media/math/render/svg/ba3b1c9d9e56b3327baceebfd1e530cc5b132a06\n",
      "https://wikimedia.org/api/rest_v1/media/math/render/svg/092c91a7a2ccb9481d3da9c5e59cd410c66dd87f\n",
      "https://wikimedia.org/api/rest_v1/media/math/render/svg/786849c765da7a84dbc3cce43e96aad58a5868dc\n",
      "https://wikimedia.org/api/rest_v1/media/math/render/svg/c83da8e3fd28ad40fade38a4a75b3de3be02e792\n",
      "https://wikimedia.org/api/rest_v1/media/math/render/svg/74aa51a3f14c082713cf147dda855df0f735f459\n",
      "https://wikimedia.org/api/rest_v1/media/math/render/svg/290b16963d52e4a7995aae01ee854b97a6ea10c0\n",
      "https://wikimedia.org/api/rest_v1/media/math/render/svg/7063c8d624a28d6798322fb19c71a580adfcbd68\n",
      "https://wikimedia.org/api/rest_v1/media/math/render/svg/7063c8d624a28d6798322fb19c71a580adfcbd68\n",
      "https://wikimedia.org/api/rest_v1/media/math/render/svg/04a7e56cbda7f3fa285ea6a6500af7901cbf58d9\n",
      "https://wikimedia.org/api/rest_v1/media/math/render/svg/b2702450f0458a5e01a698e248af552a7fab2b50\n",
      "https://wikimedia.org/api/rest_v1/media/math/render/svg/e82a8366e1505166fcef3257f1fec8f056140157\n",
      "https://wikimedia.org/api/rest_v1/media/math/render/svg/874c306411e808e8191e8aeb95e3440e1c68d6e9\n",
      "https://wikimedia.org/api/rest_v1/media/math/render/svg/874c306411e808e8191e8aeb95e3440e1c68d6e9\n",
      "https://wikimedia.org/api/rest_v1/media/math/render/svg/ee02b1f83705d1df5a9414b665d3e0eead9e786c\n",
      "https://wikimedia.org/api/rest_v1/media/math/render/svg/d9b32f7879b9ed63837691bf63021ba6d450daca\n",
      "https://wikimedia.org/api/rest_v1/media/math/render/svg/3322446e350dec66a9be262d198979af3d1c0da0\n",
      "https://wikimedia.org/api/rest_v1/media/math/render/svg/8e8095cc4a24833a2d13ab6afe89cf29873c13b3\n",
      "https://wikimedia.org/api/rest_v1/media/math/render/svg/dab922de5eb858b22ba59ddfcab0ed41db3e259d\n",
      "https://wikimedia.org/api/rest_v1/media/math/render/svg/ba9e4e970c8a3275e4c0fcceb79a3a55815f73b8\n",
      "https://wikimedia.org/api/rest_v1/media/math/render/svg/9fca324c6d96cbfbeb58d21833ee4321420a712c\n",
      "https://wikimedia.org/api/rest_v1/media/math/render/svg/132e57acb643253e7810ee9702d9581f159a1c61\n",
      "https://wikimedia.org/api/rest_v1/media/math/render/svg/87f9e315fd7e2ba406057a97300593c4802b53e4\n",
      "https://wikimedia.org/api/rest_v1/media/math/render/svg/132e57acb643253e7810ee9702d9581f159a1c61\n",
      "https://wikimedia.org/api/rest_v1/media/math/render/svg/202945cce41ecebb6f643f31d119c514bec7a074\n",
      "https://wikimedia.org/api/rest_v1/media/math/render/svg/132e57acb643253e7810ee9702d9581f159a1c61\n",
      "https://wikimedia.org/api/rest_v1/media/math/render/svg/87f9e315fd7e2ba406057a97300593c4802b53e4\n",
      "https://wikimedia.org/api/rest_v1/media/math/render/svg/87f9e315fd7e2ba406057a97300593c4802b53e4\n",
      "https://wikimedia.org/api/rest_v1/media/math/render/svg/202945cce41ecebb6f643f31d119c514bec7a074\n",
      "https://wikimedia.org/api/rest_v1/media/math/render/svg/132e57acb643253e7810ee9702d9581f159a1c61\n",
      "https://wikimedia.org/api/rest_v1/media/math/render/svg/75709a44930c3f020087d434e9bb260a0c46a0c8\n",
      "https://wikimedia.org/api/rest_v1/media/math/render/svg/e825429becf7730acee7e5a9da089c6b98ca759d\n",
      "https://wikimedia.org/api/rest_v1/media/math/render/svg/d48eb562511cd44c4a8d161d225c74e1a3cc626d\n",
      "https://wikimedia.org/api/rest_v1/media/math/render/svg/132e57acb643253e7810ee9702d9581f159a1c61\n",
      "https://wikimedia.org/api/rest_v1/media/math/render/svg/13080ea3fb204650e60021bcd68f35b7cb82cd50\n",
      "https://wikimedia.org/api/rest_v1/media/math/render/svg/a7fd153aab97fa5d1cd50604f5b61c15bda65a87\n",
      "https://wikimedia.org/api/rest_v1/media/math/render/svg/786849c765da7a84dbc3cce43e96aad58a5868dc\n",
      "https://wikimedia.org/api/rest_v1/media/math/render/svg/0522388d36b55de7babe4bbfc49475eaf590c2bd\n",
      "https://wikimedia.org/api/rest_v1/media/math/render/svg/b79c34c2d3762de89fa5bfe544076a6f7d8ca57e\n",
      "https://wikimedia.org/api/rest_v1/media/math/render/svg/b1cacd5f7bbe1027cc75fbe2fbd9cb5e79485302\n",
      "https://wikimedia.org/api/rest_v1/media/math/render/svg/0522388d36b55de7babe4bbfc49475eaf590c2bd\n",
      "https://wikimedia.org/api/rest_v1/media/math/render/svg/ee93a0bc45fd86054d8ac256bb58866c0ffb6336\n",
      "https://wikimedia.org/api/rest_v1/media/math/render/svg/1b779387bbccf8dcb6c6a52a8e052ae04529956c\n",
      "https://wikimedia.org/api/rest_v1/media/math/render/svg/3ba19534f962564659c4c764c520a9b1c2583290\n",
      "https://wikimedia.org/api/rest_v1/media/math/render/svg/fce516bccabebe7cdde546bd2b7bad97b948fbcb\n",
      "https://wikimedia.org/api/rest_v1/media/math/render/svg/d1137b8089b98c1ec27192e7fcd6cc0fd9eda861\n",
      "https://wikimedia.org/api/rest_v1/media/math/render/svg/b1175bc3324fa6a9f39bdc801c5cfa9e59e0eace\n",
      "https://wikimedia.org/api/rest_v1/media/math/render/svg/6d4091d575d27d2f4262b6643c8cd73a0ec82547\n",
      "https://wikimedia.org/api/rest_v1/media/math/render/svg/49d011f18f93c8dd315e1239145fa13330ef1f25\n",
      "https://wikimedia.org/api/rest_v1/media/math/render/svg/31a1bc0edf199414feff53da55c19b265bc5015a\n",
      "https://wikimedia.org/api/rest_v1/media/math/render/svg/cee1c0ec36a82f33f5e3d7434d5667881b4ec323\n",
      "https://wikimedia.org/api/rest_v1/media/math/render/svg/3e580967f68f36743e894aa7944f032dda6ea01d\n",
      "https://wikimedia.org/api/rest_v1/media/math/render/svg/07b9ff205beb51e7899846aeae788ae5e5546a3e\n",
      "https://wikimedia.org/api/rest_v1/media/math/render/svg/4359fae89639fe08a113bd9154bff6b52047c7c3\n",
      "https://wikimedia.org/api/rest_v1/media/math/render/svg/d26bfc0333372b856bcce14daf66a1086ca46270\n",
      "https://wikimedia.org/api/rest_v1/media/math/render/svg/ac74fb0c2e4233f6f7171ba8efbc87da28a8ff02\n",
      "https://wikimedia.org/api/rest_v1/media/math/render/svg/cee1c0ec36a82f33f5e3d7434d5667881b4ec323\n",
      "https://wikimedia.org/api/rest_v1/media/math/render/svg/ac74fb0c2e4233f6f7171ba8efbc87da28a8ff02\n",
      "https://wikimedia.org/api/rest_v1/media/math/render/svg/45053cc60f8206327a6f363cdd8a48d6c4b514f6\n",
      "https://wikimedia.org/api/rest_v1/media/math/render/svg/ec84b90236512e8d27ff1a8f7707b60b63327de1\n",
      "https://wikimedia.org/api/rest_v1/media/math/render/svg/3d2200b08e3d1e0047706d8545856c4637fd3bac\n",
      "https://wikimedia.org/api/rest_v1/media/math/render/svg/d9d82fbc2ad8b2a28d99505ba655143535160a9c\n",
      "https://wikimedia.org/api/rest_v1/media/math/render/svg/786849c765da7a84dbc3cce43e96aad58a5868dc\n",
      "https://wikimedia.org/api/rest_v1/media/math/render/svg/2ce771ebf861c26bb939244ea6abbd4dc8e945ff\n",
      "https://wikimedia.org/api/rest_v1/media/math/render/svg/d43615cae2b2eb2b4402bcd0b2bd7642eb855e5e\n",
      "https://wikimedia.org/api/rest_v1/media/math/render/svg/12bc6067e14b24bf50711c08808b7b2b3b7387d0\n",
      "https://wikimedia.org/api/rest_v1/media/math/render/svg/73b6aeeba784d2992f64addf82d9cbbf7962a722\n",
      "//upload.wikimedia.org/wikipedia/commons/thumb/d/d1/Motor_vehicle_deaths_in_the_US.svg/220px-Motor_vehicle_deaths_in_the_US.svg.png\n",
      "//upload.wikimedia.org/wikipedia/commons/thumb/b/bf/Motor_vehicle_deaths_in_the_US_histogram.svg/220px-Motor_vehicle_deaths_in_the_US_histogram.svg.png\n",
      "https://wikimedia.org/api/rest_v1/media/math/render/svg/49d011f18f93c8dd315e1239145fa13330ef1f25\n",
      "https://wikimedia.org/api/rest_v1/media/math/render/svg/c0f60a64d69fdc91d64307936f7d9970d9f3ec6b\n",
      "https://wikimedia.org/api/rest_v1/media/math/render/svg/124f43d066e62e8deeb05b6a0c75922786573fad\n",
      "https://wikimedia.org/api/rest_v1/media/math/render/svg/91ec217e885b4ff48e302d65301cf25c6fc7c447\n",
      "https://wikimedia.org/api/rest_v1/media/math/render/svg/2f624b81d622794760acd0cd347602595fa2504f\n",
      "https://wikimedia.org/api/rest_v1/media/math/render/svg/dc20967d7838bbfb6e9df31756dc24de3573ae3c\n",
      "https://wikimedia.org/api/rest_v1/media/math/render/svg/91ec217e885b4ff48e302d65301cf25c6fc7c447\n",
      "https://wikimedia.org/api/rest_v1/media/math/render/svg/b4d4a9e5ffd2cb2f9c274ea62034dc8e17d454e1\n",
      "https://wikimedia.org/api/rest_v1/media/math/render/svg/4814be15254b02f0bd651236bde3cb8954bdf092\n",
      "https://wikimedia.org/api/rest_v1/media/math/render/svg/a3ee958d3d5aa49d9e3954ebf344a2bddd4f4485\n",
      "https://wikimedia.org/api/rest_v1/media/math/render/svg/49d011f18f93c8dd315e1239145fa13330ef1f25\n",
      "https://wikimedia.org/api/rest_v1/media/math/render/svg/ca3316d91530b49bc3304209486939bad604be85\n",
      "https://wikimedia.org/api/rest_v1/media/math/render/svg/07b9ff205beb51e7899846aeae788ae5e5546a3e\n",
      "https://wikimedia.org/api/rest_v1/media/math/render/svg/6268a0bd7f3016093edf824725f1ffcba89f8064\n",
      "https://wikimedia.org/api/rest_v1/media/math/render/svg/27e65139fdbd5b6dbf26892e61f639d1f5817a40\n",
      "https://wikimedia.org/api/rest_v1/media/math/render/svg/50410f65ec5a8654714720d54c21fcaa3d2d2916\n",
      "https://wikimedia.org/api/rest_v1/media/math/render/svg/10b5ad4985af48d0fb7efa3c8afa5ad7d42bfc92\n",
      "https://wikimedia.org/api/rest_v1/media/math/render/svg/10b5ad4985af48d0fb7efa3c8afa5ad7d42bfc92\n",
      "https://wikimedia.org/api/rest_v1/media/math/render/svg/10b5ad4985af48d0fb7efa3c8afa5ad7d42bfc92\n",
      "https://wikimedia.org/api/rest_v1/media/math/render/svg/b2f61ca7838709fbae07dce9c0d513770f10cfae\n",
      "https://wikimedia.org/api/rest_v1/media/math/render/svg/10b5ad4985af48d0fb7efa3c8afa5ad7d42bfc92\n",
      "https://wikimedia.org/api/rest_v1/media/math/render/svg/b2f61ca7838709fbae07dce9c0d513770f10cfae\n",
      "https://wikimedia.org/api/rest_v1/media/math/render/svg/9050d0a90f81df4de49249892dcbf3bffca33fbc\n",
      "https://wikimedia.org/api/rest_v1/media/math/render/svg/2ea84d7ee047fd301242a46fbdf5c994605eb660\n",
      "https://wikimedia.org/api/rest_v1/media/math/render/svg/71320d636c7a43546bf4e94edb94649c5b2e82b9\n",
      "https://wikimedia.org/api/rest_v1/media/math/render/svg/c227490c73a1fd0ed1ef9a3f9d989398e2aca797\n",
      "https://wikimedia.org/api/rest_v1/media/math/render/svg/b0e05ca5e3aeb39bf0b062d3f4ebcfc2e339c16f\n",
      "https://wikimedia.org/api/rest_v1/media/math/render/svg/b186220738e26f8588c9932b5c8e277b4006a642\n",
      "https://wikimedia.org/api/rest_v1/media/math/render/svg/623b238853010f9319f926446bc6cb2253e53e02\n",
      "https://wikimedia.org/api/rest_v1/media/math/render/svg/8f280c0425786426a2cac3d1df83e73a5cdb4d1a\n",
      "https://wikimedia.org/api/rest_v1/media/math/render/svg/ae14fa7c63c808ffaf93f6df9b16baf3f87f6cff\n",
      "//upload.wikimedia.org/wikipedia/commons/thumb/2/21/Function_machine5.svg/201px-Function_machine5.svg.png\n",
      "//upload.wikimedia.org/wikipedia/commons/thumb/3/38/Example_for_a_composition_of_two_functions.svg/249px-Example_for_a_composition_of_two_functions.svg.png\n",
      "//upload.wikimedia.org/wikipedia/commons/thumb/c/c9/Compfun.svg/250px-Compfun.svg.png\n",
      "https://wikimedia.org/api/rest_v1/media/math/render/svg/f534aeb3ab207f6f247a9b05af9004d8d50aa464\n",
      "https://wikimedia.org/api/rest_v1/media/math/render/svg/95793cb619ae7bd33c59c5d5de5fd02ee1b092d4\n",
      "https://wikimedia.org/api/rest_v1/media/math/render/svg/8b357745fa4a2178733a502b4432072be8222fd4\n",
      "https://wikimedia.org/api/rest_v1/media/math/render/svg/ce7e4068e7e4675fb278d2098f3eeb0ec67c2881\n",
      "https://wikimedia.org/api/rest_v1/media/math/render/svg/572ddad8cd0a0758fb98e1c94c432dc2f7a06636\n",
      "https://wikimedia.org/api/rest_v1/media/math/render/svg/485f68954316eb2c28391474d3df7c40fd589413\n",
      "https://wikimedia.org/api/rest_v1/media/math/render/svg/44b235effd45a537b68a200facce95137756ab04\n",
      "https://wikimedia.org/api/rest_v1/media/math/render/svg/132441f34cc733c4645d0fa80d8544fc90262d9a\n",
      "https://wikimedia.org/api/rest_v1/media/math/render/svg/8b357745fa4a2178733a502b4432072be8222fd4\n",
      "https://wikimedia.org/api/rest_v1/media/math/render/svg/32720d89ba91ec2b5d5b706db20ee12420f187da\n",
      "https://wikimedia.org/api/rest_v1/media/math/render/svg/07b9ff205beb51e7899846aeae788ae5e5546a3e\n",
      "https://wikimedia.org/api/rest_v1/media/math/render/svg/74aab63eb9c503ca1d6168cba3d4a956f1aaaf45\n",
      "https://wikimedia.org/api/rest_v1/media/math/render/svg/2e57c217e011000e3e367cf58c8f8911cec1fb7c\n",
      "https://wikimedia.org/api/rest_v1/media/math/render/svg/b7745c86e833c00204c441b3420ecdf3a4e86bbb\n",
      "https://wikimedia.org/api/rest_v1/media/math/render/svg/20f0c665d4fd411c57fc15878a0407b5e74ec8c0\n",
      "https://wikimedia.org/api/rest_v1/media/math/render/svg/b57dc6b4af65497aea87a51de455949fb31fdf6e\n",
      "https://wikimedia.org/api/rest_v1/media/math/render/svg/5d05d156017b8ab2055e098ee863bc393efd2373\n",
      "https://wikimedia.org/api/rest_v1/media/math/render/svg/63d2b575826d75cfdbc1bea2f34ccfa71f1c59b7\n",
      "https://wikimedia.org/api/rest_v1/media/math/render/svg/ecc65ae260d9fcb0f29161fe1d5a8301c7616721\n",
      "https://wikimedia.org/api/rest_v1/media/math/render/svg/3e5cfa2f5c08d6fe7d046b73faa6e3f213acc802\n",
      "https://wikimedia.org/api/rest_v1/media/math/render/svg/2711c647e5397c7016ee21bbcea53565480bd5e1\n",
      "https://wikimedia.org/api/rest_v1/media/math/render/svg/ecc65ae260d9fcb0f29161fe1d5a8301c7616721\n",
      "https://wikimedia.org/api/rest_v1/media/math/render/svg/532d1022eef8f5f427703de9c6dd5b8d38d86316\n",
      "https://wikimedia.org/api/rest_v1/media/math/render/svg/6d728b72b3681c1a33529ac867bc49952dc812a4\n",
      "https://wikimedia.org/api/rest_v1/media/math/render/svg/07b9ff205beb51e7899846aeae788ae5e5546a3e\n",
      "https://wikimedia.org/api/rest_v1/media/math/render/svg/75e1353f0febe9bcf693d849ec82ce8d94e5f7bc\n",
      "https://wikimedia.org/api/rest_v1/media/math/render/svg/8b357745fa4a2178733a502b4432072be8222fd4\n",
      "https://wikimedia.org/api/rest_v1/media/math/render/svg/263df9f4ac00972d999b70dafb0a2f485531fa7e\n",
      "https://wikimedia.org/api/rest_v1/media/math/render/svg/4f5645c27403915e3d21d6eca5fad99cdcd5561b\n",
      "https://wikimedia.org/api/rest_v1/media/math/render/svg/86f21d0e31751534cd6584264ecf864a6aa792cf\n",
      "https://wikimedia.org/api/rest_v1/media/math/render/svg/b60bb15cd66fb9d9f721d9892b67c01cddd153be\n",
      "https://wikimedia.org/api/rest_v1/media/math/render/svg/2311a6a75c54b0ea085a381ba472c31d59321514\n",
      "https://wikimedia.org/api/rest_v1/media/math/render/svg/b5c58233f69bc7034d7b59fc99d4ada7ddc50243\n",
      "https://wikimedia.org/api/rest_v1/media/math/render/svg/b2d355db1cec99772b7d696063b1ef77d712d48f\n",
      "https://wikimedia.org/api/rest_v1/media/math/render/svg/4f5645c27403915e3d21d6eca5fad99cdcd5561b\n",
      "https://wikimedia.org/api/rest_v1/media/math/render/svg/c9867a6ecb3cc19e19e0af39fb46523e69e616c1\n",
      "https://wikimedia.org/api/rest_v1/media/math/render/svg/af2f479eab87e0bc784a0ed4246fa429c6164392\n",
      "https://wikimedia.org/api/rest_v1/media/math/render/svg/4c6684307f77a0709f6a253a27a719b9d8bf8a5a\n",
      "https://wikimedia.org/api/rest_v1/media/math/render/svg/b884e2d65b3356219702968b6751485fb8f38570\n",
      "https://wikimedia.org/api/rest_v1/media/math/render/svg/961d67d6b454b4df2301ac571808a3538b3a6d3f\n",
      "https://wikimedia.org/api/rest_v1/media/math/render/svg/b8a6208ec717213d4317e666f1ae872e00620a0d\n",
      "https://wikimedia.org/api/rest_v1/media/math/render/svg/87f9e315fd7e2ba406057a97300593c4802b53e4\n",
      "https://wikimedia.org/api/rest_v1/media/math/render/svg/0a5080a8b0a963407ea74ffa50702563771518d1\n",
      "https://wikimedia.org/api/rest_v1/media/math/render/svg/8b357745fa4a2178733a502b4432072be8222fd4\n",
      "https://wikimedia.org/api/rest_v1/media/math/render/svg/cee1c0ec36a82f33f5e3d7434d5667881b4ec323\n",
      "https://wikimedia.org/api/rest_v1/media/math/render/svg/263df9f4ac00972d999b70dafb0a2f485531fa7e\n",
      "https://wikimedia.org/api/rest_v1/media/math/render/svg/307ae8225c2aa1e6d08f0bc76bf698729263f9da\n",
      "https://wikimedia.org/api/rest_v1/media/math/render/svg/a68c9ed4e962731675c415d078cad57281ae86b8\n",
      "https://wikimedia.org/api/rest_v1/media/math/render/svg/87f9e315fd7e2ba406057a97300593c4802b53e4\n",
      "https://wikimedia.org/api/rest_v1/media/math/render/svg/9041b1fe9d0edbeee6a144fc971a4d51b9e5dda9\n",
      "https://wikimedia.org/api/rest_v1/media/math/render/svg/75e1353f0febe9bcf693d849ec82ce8d94e5f7bc\n",
      "https://wikimedia.org/api/rest_v1/media/math/render/svg/8b357745fa4a2178733a502b4432072be8222fd4\n",
      "https://wikimedia.org/api/rest_v1/media/math/render/svg/263df9f4ac00972d999b70dafb0a2f485531fa7e\n",
      "https://wikimedia.org/api/rest_v1/media/math/render/svg/2935e82106a6aeb3c354d02246be16fe2ac7e4a0\n",
      "https://wikimedia.org/api/rest_v1/media/math/render/svg/340d648bc681ff51cbcd847e207a453baccd313b\n",
      "https://wikimedia.org/api/rest_v1/media/math/render/svg/07b9ff205beb51e7899846aeae788ae5e5546a3e\n",
      "https://wikimedia.org/api/rest_v1/media/math/render/svg/34c1d5fd76a33e0efee96d289ac9422fcc23ef43\n",
      "https://wikimedia.org/api/rest_v1/media/math/render/svg/07b9ff205beb51e7899846aeae788ae5e5546a3e\n",
      "https://wikimedia.org/api/rest_v1/media/math/render/svg/132e57acb643253e7810ee9702d9581f159a1c61\n",
      "https://wikimedia.org/api/rest_v1/media/math/render/svg/8dd8f943a75adb4c382a271541c010eb0d60b3b3\n",
      "https://wikimedia.org/api/rest_v1/media/math/render/svg/dda9855e14e326136e924a70d0b0218a736bb7c1\n",
      "https://wikimedia.org/api/rest_v1/media/math/render/svg/132e57acb643253e7810ee9702d9581f159a1c61\n",
      "https://wikimedia.org/api/rest_v1/media/math/render/svg/8dd8f943a75adb4c382a271541c010eb0d60b3b3\n",
      "https://wikimedia.org/api/rest_v1/media/math/render/svg/8dd8f943a75adb4c382a271541c010eb0d60b3b3\n",
      "https://wikimedia.org/api/rest_v1/media/math/render/svg/2bac2730187f424f13f20378bbff79347e40dcea\n",
      "https://wikimedia.org/api/rest_v1/media/math/render/svg/99a865d36b32ea1d60f15dc3093f5b28093f192b\n",
      "https://wikimedia.org/api/rest_v1/media/math/render/svg/b87cdc2074a4c87a94344669b3d5d69c8228252a\n",
      "https://wikimedia.org/api/rest_v1/media/math/render/svg/1d3bce0e2ad9d88f54ac0c84124a5f2ec9abbbba\n",
      "https://wikimedia.org/api/rest_v1/media/math/render/svg/2b21a6f475b0e68475c6019abe1fed0b415e0e42\n",
      "https://wikimedia.org/api/rest_v1/media/math/render/svg/f4cbf8bbc622154cda8208d6e339495fe16a1f9a\n",
      "https://wikimedia.org/api/rest_v1/media/math/render/svg/65da883ca3d16b461e46c94777b0d9c4aa010e79\n",
      "https://wikimedia.org/api/rest_v1/media/math/render/svg/acc195ab3f9d65994b47774eb013601d09217aee\n",
      "https://wikimedia.org/api/rest_v1/media/math/render/svg/be592e07a07b4ce92cc30774ae3a8d984eca426e\n",
      "https://wikimedia.org/api/rest_v1/media/math/render/svg/07b9ff205beb51e7899846aeae788ae5e5546a3e\n",
      "https://wikimedia.org/api/rest_v1/media/math/render/svg/92463d8f349ef5f9731495571ea43612abc5efd6\n",
      "https://wikimedia.org/api/rest_v1/media/math/render/svg/30ea2d0884deecb78aa8fcff23d688b6cc0f512d\n",
      "https://wikimedia.org/api/rest_v1/media/math/render/svg/b1fe216fd10ada1d567e72ed5f059bfe97f1a1ba\n",
      "https://wikimedia.org/api/rest_v1/media/math/render/svg/ff6eba9778a4571d653a0173b97d104de1ef7216\n",
      "https://wikimedia.org/api/rest_v1/media/math/render/svg/993cd2447b94a4bbf667f8524f89ac64114d7fb8\n",
      "https://wikimedia.org/api/rest_v1/media/math/render/svg/b0b4e44944640076eadf15cd9062568526a2f868\n",
      "//upload.wikimedia.org/wikipedia/commons/thumb/7/79/Binary_operations_as_black_box.svg/220px-Binary_operations_as_black_box.svg.png\n",
      "https://wikimedia.org/api/rest_v1/media/math/render/svg/41cf50e4a314ca8e2c30964baa8d26e5be7a9386\n",
      "https://wikimedia.org/api/rest_v1/media/math/render/svg/c2ba86902ee98c41deb1275ddb8693977f27e1da\n",
      "https://wikimedia.org/api/rest_v1/media/math/render/svg/8a312d01e26e6dbb0bbeefe4e78b205f602fa8d6\n",
      "https://wikimedia.org/api/rest_v1/media/math/render/svg/ac794f5521dcce89913085a6d566e7cdb615dbb0\n",
      "https://wikimedia.org/api/rest_v1/media/math/render/svg/7935f7983d8a5ae59fea84efe65415235fa7c47b\n",
      "https://wikimedia.org/api/rest_v1/media/math/render/svg/c2685c5ed90347879276ed9996e9c759faec52e4\n",
      "https://wikimedia.org/api/rest_v1/media/math/render/svg/abbe58b9b83f8b6ec0da570e2249323a8930ef1e\n",
      "https://wikimedia.org/api/rest_v1/media/math/render/svg/3438a5b14dac3a9ca4a4d6799e7b20cafeba3947\n",
      "https://wikimedia.org/api/rest_v1/media/math/render/svg/28ced9a7c3754c3f7bdb7949396b20124a6ff96d\n",
      "https://wikimedia.org/api/rest_v1/media/math/render/svg/fb3c833c2c02e9f772ff207d8dcc47a5784b2084\n",
      "https://wikimedia.org/api/rest_v1/media/math/render/svg/e3f167e6675c4f46bf810073cd70d146bcf918f1\n",
      "https://wikimedia.org/api/rest_v1/media/math/render/svg/af4a0955af42beb5f85aa05fb8c07abedc13990d\n",
      "https://wikimedia.org/api/rest_v1/media/math/render/svg/786849c765da7a84dbc3cce43e96aad58a5868dc\n",
      "https://wikimedia.org/api/rest_v1/media/math/render/svg/af4a0955af42beb5f85aa05fb8c07abedc13990d\n",
      "https://wikimedia.org/api/rest_v1/media/math/render/svg/f9add4085095b9b6d28d045fd9c92c2c09f549a7\n",
      "https://wikimedia.org/api/rest_v1/media/math/render/svg/6ca24bc94a273ab98f6a7733692ca16cb69ae7ef\n",
      "//upload.wikimedia.org/wikipedia/commons/thumb/7/76/Gerade.svg/220px-Gerade.svg.png\n",
      "//upload.wikimedia.org/wikipedia/commons/thumb/f/f8/Polynomialdeg2.svg/220px-Polynomialdeg2.svg.png\n",
      "//upload.wikimedia.org/wikipedia/commons/thumb/7/71/Sine_cosine_one_period.svg/220px-Sine_cosine_one_period.svg.png\n",
      "https://wikimedia.org/api/rest_v1/media/math/render/svg/e426d18a2bc5fb702b5ba0497477739c65f1a667\n",
      "https://wikimedia.org/api/rest_v1/media/math/render/svg/d3f8c6b970bb8c30650eaea1922c3921aec7d659\n",
      "https://wikimedia.org/api/rest_v1/media/math/render/svg/669c4e870914fd443f1c2264450695a3b98fa040\n",
      "https://wikimedia.org/api/rest_v1/media/math/render/svg/d207e4d6d9278902dd0e1a54b1dab01f5b5037fa\n",
      "https://wikimedia.org/api/rest_v1/media/math/render/svg/857bf1f8402b34ead332926a1050dff7f421bc3d\n",
      "https://wikimedia.org/api/rest_v1/media/math/render/svg/95ca5e3d2957217ee417aff328d32fbff2de8d27\n",
      "https://wikimedia.org/api/rest_v1/media/math/render/svg/6bd7b575eed317bfdd3cbf64c5411ae3fcf72764\n",
      "https://wikimedia.org/api/rest_v1/media/math/render/svg/c510b63578322050121fe966f2e5770bea43308d\n",
      "https://wikimedia.org/api/rest_v1/media/math/render/svg/c510b63578322050121fe966f2e5770bea43308d\n",
      "//upload.wikimedia.org/wikipedia/commons/thumb/f/fb/Function_with_two_values_1.svg/220px-Function_with_two_values_1.svg.png\n",
      "//upload.wikimedia.org/wikipedia/commons/thumb/d/da/Xto3minus3x.svg/220px-Xto3minus3x.svg.png\n",
      "https://wikimedia.org/api/rest_v1/media/math/render/svg/c8b35dd572e629881da4083ad1681bc7cf420304\n",
      "https://wikimedia.org/api/rest_v1/media/math/render/svg/c8b35dd572e629881da4083ad1681bc7cf420304\n",
      "https://wikimedia.org/api/rest_v1/media/math/render/svg/43d17683413882a6695d00f6e2d49ba450ab4446\n",
      "https://wikimedia.org/api/rest_v1/media/math/render/svg/d50109ab6da5d52c015b69ef106459324ba333e3\n",
      "https://wikimedia.org/api/rest_v1/media/math/render/svg/d2b2ac300ad197f4bf3deae55b4b2e95ff3a03e0\n",
      "https://wikimedia.org/api/rest_v1/media/math/render/svg/c03884332a438b88000c08a603f510e1cb1afb7d\n",
      "https://wikimedia.org/api/rest_v1/media/math/render/svg/9b393766c20d0e835b81a0f3fd5007f5746eb1a7\n",
      "//upload.wikimedia.org/wikipedia/en/thumb/4/4a/Commons-logo.svg/30px-Commons-logo.svg.png\n",
      "//upload.wikimedia.org/wikipedia/en/thumb/8/8a/OOjs_UI_icon_edit-ltr-progressive.svg/10px-OOjs_UI_icon_edit-ltr-progressive.svg.png\n",
      "//en.wikipedia.org/wiki/Special:CentralAutoLogin/start?type=1x1\n",
      "/static/images/footer/wikimedia-button.png\n",
      "/static/images/footer/poweredby_mediawiki_88x31.png\n"
     ]
    }
   ],
   "source": [
    "url = \"https://en.wikipedia.org/wiki/Function_(mathematics)\"\n",
    "data  = requests.get(url).text\n",
    "soup = BeautifulSoup(data,\"html.parser\")\n",
    "for link in soup.find_all('img'):\n",
    "    print(link.get('src'))"
   ]
  },
  {
   "cell_type": "markdown",
   "id": "3ca0cbc4",
   "metadata": {
    "papermill": {
     "duration": 0.02441,
     "end_time": "2022-03-16T00:59:32.769800",
     "exception": false,
     "start_time": "2022-03-16T00:59:32.745390",
     "status": "completed"
    },
    "tags": []
   },
   "source": [
    "## Scrape data from HTML tables\n"
   ]
  },
  {
   "cell_type": "code",
   "execution_count": 10,
   "id": "97aa8897",
   "metadata": {
    "execution": {
     "iopub.execute_input": "2022-03-16T00:59:32.829262Z",
     "iopub.status.busy": "2022-03-16T00:59:32.828545Z",
     "iopub.status.idle": "2022-03-16T00:59:34.028546Z",
     "shell.execute_reply": "2022-03-16T00:59:34.027898Z",
     "shell.execute_reply.started": "2022-03-16T00:35:39.120009Z"
    },
    "papermill": {
     "duration": 1.234012,
     "end_time": "2022-03-16T00:59:34.028694",
     "exception": false,
     "start_time": "2022-03-16T00:59:32.794682",
     "status": "completed"
    },
    "tags": []
   },
   "outputs": [
    {
     "name": "stdout",
     "output_type": "stream",
     "text": [
      "      Number               Color             Color Name       Hex Code#RRGGBB   Decimal Code(R,G,B) \n",
      "------------------------------------------------------------------------------------------\n",
      "         1                                  lightsalmon           #FFA07A         rgb(255,160,122)  \n",
      "------------------------------------------------------------------------------------------\n",
      "         2                                     salmon             #FA8072         rgb(250,128,114)  \n",
      "------------------------------------------------------------------------------------------\n",
      "         3                                   darksalmon           #E9967A         rgb(233,150,122)  \n",
      "------------------------------------------------------------------------------------------\n",
      "         4                                   lightcoral           #F08080         rgb(240,128,128)  \n",
      "------------------------------------------------------------------------------------------\n",
      "         5                                     coral              #FF7F50         rgb(255,127,80)   \n",
      "------------------------------------------------------------------------------------------\n",
      "         6                                     tomato             #FF6347          rgb(255,99,71)   \n",
      "------------------------------------------------------------------------------------------\n",
      "         7                                   orangered            #FF4500          rgb(255,69,0)    \n",
      "------------------------------------------------------------------------------------------\n",
      "         8                                      gold              #FFD700          rgb(255,215,0)   \n",
      "------------------------------------------------------------------------------------------\n",
      "         9                                     orange             #FFA500          rgb(255,165,0)   \n",
      "------------------------------------------------------------------------------------------\n",
      "         10                                  darkorange           #FF8C00          rgb(255,140,0)   \n",
      "------------------------------------------------------------------------------------------\n",
      "         11                                 lightyellow           #FFFFE0         rgb(255,255,224)  \n",
      "------------------------------------------------------------------------------------------\n",
      "         12                                 lemonchiffon          #FFFACD         rgb(255,250,205)  \n",
      "------------------------------------------------------------------------------------------\n",
      "         13                                  papayawhip           #FFEFD5         rgb(255,239,213)  \n",
      "------------------------------------------------------------------------------------------\n",
      "         14                                   moccasin            #FFE4B5         rgb(255,228,181)  \n",
      "------------------------------------------------------------------------------------------\n",
      "         15                                  peachpuff            #FFDAB9         rgb(255,218,185)  \n",
      "------------------------------------------------------------------------------------------\n",
      "         16                                palegoldenrod          #EEE8AA         rgb(238,232,170)  \n",
      "------------------------------------------------------------------------------------------\n",
      "         17                                    khaki              #F0E68C         rgb(240,230,140)  \n",
      "------------------------------------------------------------------------------------------\n",
      "         18                                  darkkhaki            #BDB76B         rgb(189,183,107)  \n",
      "------------------------------------------------------------------------------------------\n",
      "         19                                    yellow             #FFFF00          rgb(255,255,0)   \n",
      "------------------------------------------------------------------------------------------\n",
      "         20                                  lawngreen            #7CFC00          rgb(124,252,0)   \n",
      "------------------------------------------------------------------------------------------\n",
      "         21                                  chartreuse           #7FFF00          rgb(127,255,0)   \n",
      "------------------------------------------------------------------------------------------\n",
      "         22                                  limegreen            #32CD32          rgb(50,205,50)   \n",
      "------------------------------------------------------------------------------------------\n",
      "         23                                     lime              #00FF00           rgb(0.255.0)    \n",
      "------------------------------------------------------------------------------------------\n",
      "         24                                 forestgreen           #228B22          rgb(34,139,34)   \n",
      "------------------------------------------------------------------------------------------\n",
      "         25                                    green              #008000           rgb(0,128,0)    \n",
      "------------------------------------------------------------------------------------------\n",
      "         26                                  powderblue           #B0E0E6         rgb(176,224,230)  \n",
      "------------------------------------------------------------------------------------------\n",
      "         27                                  lightblue            #ADD8E6         rgb(173,216,230)  \n",
      "------------------------------------------------------------------------------------------\n",
      "         28                                 lightskyblue          #87CEFA         rgb(135,206,250)  \n",
      "------------------------------------------------------------------------------------------\n",
      "         29                                   skyblue             #87CEEB         rgb(135,206,235)  \n",
      "------------------------------------------------------------------------------------------\n",
      "         30                                 deepskyblue           #00BFFF          rgb(0,191,255)   \n",
      "------------------------------------------------------------------------------------------\n",
      "         31                                lightsteelblue         #B0C4DE         rgb(176,196,222)  \n",
      "------------------------------------------------------------------------------------------\n",
      "         32                                  dodgerblue           #1E90FF         rgb(30,144,255)   \n",
      "------------------------------------------------------------------------------------------\n"
     ]
    }
   ],
   "source": [
    "url = \"https://cf-courses-data.s3.us.cloud-object-storage.appdomain.cloud/IBM-DA0321EN-SkillsNetwork/labs/datasets/HTMLColorCodes.html\"\n",
    "data  = requests.get(url).text\n",
    "soup = BeautifulSoup(data,\"html.parser\")\n",
    "table = soup.find('table', class_='main-table')\n",
    "table_rows = table.find_all('tr')\n",
    "for row in table_rows:\n",
    "    cells = row.find_all('td')\n",
    "    for cell in cells:\n",
    "        print(f'{cell.text:^20}',end='')\n",
    "    print('\\n' + '-'*90)"
   ]
  },
  {
   "cell_type": "markdown",
   "id": "43b73ee5",
   "metadata": {
    "papermill": {
     "duration": 0.025978,
     "end_time": "2022-03-16T00:59:34.080217",
     "exception": false,
     "start_time": "2022-03-16T00:59:34.054239",
     "status": "completed"
    },
    "tags": []
   },
   "source": [
    "## Scrape data from HTML tables into a DataFrame using BeautifulSoup and Pandas\n"
   ]
  },
  {
   "cell_type": "code",
   "execution_count": 11,
   "id": "51b61060",
   "metadata": {
    "execution": {
     "iopub.execute_input": "2022-03-16T00:59:34.136808Z",
     "iopub.status.busy": "2022-03-16T00:59:34.135728Z",
     "iopub.status.idle": "2022-03-16T00:59:34.138742Z",
     "shell.execute_reply": "2022-03-16T00:59:34.138210Z",
     "shell.execute_reply.started": "2022-03-16T00:37:43.031759Z"
    },
    "papermill": {
     "duration": 0.032537,
     "end_time": "2022-03-16T00:59:34.138888",
     "exception": false,
     "start_time": "2022-03-16T00:59:34.106351",
     "status": "completed"
    },
    "tags": []
   },
   "outputs": [],
   "source": [
    "import pandas as pd\n",
    "\n",
    "#The below url contains html tables with data about world population.\n",
    "url = \"https://en.wikipedia.org/wiki/World_population\""
   ]
  },
  {
   "cell_type": "code",
   "execution_count": 12,
   "id": "4b8444f1",
   "metadata": {
    "execution": {
     "iopub.execute_input": "2022-03-16T00:59:34.197709Z",
     "iopub.status.busy": "2022-03-16T00:59:34.196988Z",
     "iopub.status.idle": "2022-03-16T00:59:35.263019Z",
     "shell.execute_reply": "2022-03-16T00:59:35.262333Z",
     "shell.execute_reply.started": "2022-03-16T00:44:40.379057Z"
    },
    "papermill": {
     "duration": 1.0986,
     "end_time": "2022-03-16T00:59:35.263193",
     "exception": false,
     "start_time": "2022-03-16T00:59:34.164593",
     "status": "completed"
    },
    "tags": []
   },
   "outputs": [
    {
     "name": "stdout",
     "output_type": "stream",
     "text": [
      "26\n"
     ]
    }
   ],
   "source": [
    "# get the contents of the webpage in text format and store in a variable called data\n",
    "data  = requests.get(url).text\n",
    "\n",
    "soup = BeautifulSoup(data,\"html.parser\")\n",
    "\n",
    "#find all html tables in the web page\n",
    "tables = soup.find_all('table') # in html table is represented by the tag <table>\n",
    "\n",
    "# we can see how many tables were found by checking the length of the tables list\n",
    "print(len(tables))"
   ]
  },
  {
   "cell_type": "markdown",
   "id": "fc1447b2",
   "metadata": {
    "papermill": {
     "duration": 0.025213,
     "end_time": "2022-03-16T00:59:35.314068",
     "exception": false,
     "start_time": "2022-03-16T00:59:35.288855",
     "status": "completed"
    },
    "tags": []
   },
   "source": [
    "Assume that we are looking for the `10 most densly populated countries` table, we can look through the tables list and find the right one we are look for based on the data in each table or we can search for the table name if it is in the table but this option might not always work.\n"
   ]
  },
  {
   "cell_type": "code",
   "execution_count": 13,
   "id": "e1acf6c0",
   "metadata": {
    "execution": {
     "iopub.execute_input": "2022-03-16T00:59:35.414821Z",
     "iopub.status.busy": "2022-03-16T00:59:35.393930Z",
     "iopub.status.idle": "2022-03-16T00:59:35.462328Z",
     "shell.execute_reply": "2022-03-16T00:59:35.461683Z",
     "shell.execute_reply.started": "2022-03-16T00:44:43.407319Z"
    },
    "papermill": {
     "duration": 0.122816,
     "end_time": "2022-03-16T00:59:35.462480",
     "exception": false,
     "start_time": "2022-03-16T00:59:35.339664",
     "status": "completed"
    },
    "tags": []
   },
   "outputs": [
    {
     "name": "stdout",
     "output_type": "stream",
     "text": [
      "5\n"
     ]
    }
   ],
   "source": [
    "\n",
    "for index,table in enumerate(tables):\n",
    "    if (\"10 most densely populated countries\" in str(table)):\n",
    "        table_index = index\n",
    "print(table_index)"
   ]
  },
  {
   "cell_type": "code",
   "execution_count": 14,
   "id": "f6a6acb2",
   "metadata": {
    "execution": {
     "iopub.execute_input": "2022-03-16T00:59:35.519061Z",
     "iopub.status.busy": "2022-03-16T00:59:35.518413Z",
     "iopub.status.idle": "2022-03-16T00:59:35.573464Z",
     "shell.execute_reply": "2022-03-16T00:59:35.572826Z",
     "shell.execute_reply.started": "2022-03-16T00:45:43.917384Z"
    },
    "papermill": {
     "duration": 0.085116,
     "end_time": "2022-03-16T00:59:35.573602",
     "exception": false,
     "start_time": "2022-03-16T00:59:35.488486",
     "status": "completed"
    },
    "tags": []
   },
   "outputs": [
    {
     "data": {
      "text/html": [
       "<div>\n",
       "<style scoped>\n",
       "    .dataframe tbody tr th:only-of-type {\n",
       "        vertical-align: middle;\n",
       "    }\n",
       "\n",
       "    .dataframe tbody tr th {\n",
       "        vertical-align: top;\n",
       "    }\n",
       "\n",
       "    .dataframe thead th {\n",
       "        text-align: right;\n",
       "    }\n",
       "</style>\n",
       "<table border=\"1\" class=\"dataframe\">\n",
       "  <thead>\n",
       "    <tr style=\"text-align: right;\">\n",
       "      <th></th>\n",
       "      <th>Rank</th>\n",
       "      <th>Country</th>\n",
       "      <th>Population</th>\n",
       "      <th>Area</th>\n",
       "      <th>Density</th>\n",
       "    </tr>\n",
       "  </thead>\n",
       "  <tbody>\n",
       "    <tr>\n",
       "      <th>0</th>\n",
       "      <td>1</td>\n",
       "      <td>Singapore</td>\n",
       "      <td>5,704,000</td>\n",
       "      <td>710</td>\n",
       "      <td>8,033</td>\n",
       "    </tr>\n",
       "    <tr>\n",
       "      <th>1</th>\n",
       "      <td>2</td>\n",
       "      <td>Bangladesh</td>\n",
       "      <td>172,380,000</td>\n",
       "      <td>143,998</td>\n",
       "      <td>1,197</td>\n",
       "    </tr>\n",
       "    <tr>\n",
       "      <th>2</th>\n",
       "      <td>3</td>\n",
       "      <td>\\n Palestine\\n\\n</td>\n",
       "      <td>5,266,785</td>\n",
       "      <td>6,020</td>\n",
       "      <td>847</td>\n",
       "    </tr>\n",
       "    <tr>\n",
       "      <th>3</th>\n",
       "      <td>4</td>\n",
       "      <td>Lebanon</td>\n",
       "      <td>6,856,000</td>\n",
       "      <td>10,452</td>\n",
       "      <td>656</td>\n",
       "    </tr>\n",
       "    <tr>\n",
       "      <th>4</th>\n",
       "      <td>5</td>\n",
       "      <td>Taiwan</td>\n",
       "      <td>23,604,000</td>\n",
       "      <td>36,193</td>\n",
       "      <td>652</td>\n",
       "    </tr>\n",
       "    <tr>\n",
       "      <th>5</th>\n",
       "      <td>6</td>\n",
       "      <td>South Korea</td>\n",
       "      <td>51,781,000</td>\n",
       "      <td>99,538</td>\n",
       "      <td>520</td>\n",
       "    </tr>\n",
       "    <tr>\n",
       "      <th>6</th>\n",
       "      <td>7</td>\n",
       "      <td>Rwanda</td>\n",
       "      <td>12,374,000</td>\n",
       "      <td>26,338</td>\n",
       "      <td>470</td>\n",
       "    </tr>\n",
       "    <tr>\n",
       "      <th>7</th>\n",
       "      <td>8</td>\n",
       "      <td>Haiti</td>\n",
       "      <td>11,578,000</td>\n",
       "      <td>27,065</td>\n",
       "      <td>428</td>\n",
       "    </tr>\n",
       "    <tr>\n",
       "      <th>8</th>\n",
       "      <td>9</td>\n",
       "      <td>Netherlands</td>\n",
       "      <td>17,700,000</td>\n",
       "      <td>41,526</td>\n",
       "      <td>426</td>\n",
       "    </tr>\n",
       "    <tr>\n",
       "      <th>9</th>\n",
       "      <td>10</td>\n",
       "      <td>Israel</td>\n",
       "      <td>9,490,000</td>\n",
       "      <td>22,072</td>\n",
       "      <td>430</td>\n",
       "    </tr>\n",
       "  </tbody>\n",
       "</table>\n",
       "</div>"
      ],
      "text/plain": [
       "  Rank           Country   Population     Area Density\n",
       "0    1         Singapore    5,704,000      710   8,033\n",
       "1    2        Bangladesh  172,380,000  143,998   1,197\n",
       "2    3  \\n Palestine\\n\\n    5,266,785    6,020     847\n",
       "3    4           Lebanon    6,856,000   10,452     656\n",
       "4    5            Taiwan   23,604,000   36,193     652\n",
       "5    6       South Korea   51,781,000   99,538     520\n",
       "6    7            Rwanda   12,374,000   26,338     470\n",
       "7    8             Haiti   11,578,000   27,065     428\n",
       "8    9       Netherlands   17,700,000   41,526     426\n",
       "9   10            Israel    9,490,000   22,072     430"
      ]
     },
     "execution_count": 14,
     "metadata": {},
     "output_type": "execute_result"
    }
   ],
   "source": [
    "population_data = pd.DataFrame(columns=[\"Rank\", \"Country\", \"Population\", \"Area\", \"Density\"])\n",
    "\n",
    "for row in tables[table_index].tbody.find_all(\"tr\"):\n",
    "    col = row.find_all(\"td\")\n",
    "    if (col != []):\n",
    "        rank = col[0].text\n",
    "        country = col[1].text\n",
    "        population = col[2].text.strip()\n",
    "        area = col[3].text.strip()\n",
    "        density = col[4].text.strip()\n",
    "        population_data = population_data.append({\"Rank\":rank, \"Country\":country, \"Population\":population, \"Area\":area, \"Density\":density}, ignore_index=True)\n",
    "\n",
    "population_data"
   ]
  },
  {
   "cell_type": "markdown",
   "id": "e6d7184e",
   "metadata": {
    "papermill": {
     "duration": 0.02813,
     "end_time": "2022-03-16T00:59:35.629014",
     "exception": false,
     "start_time": "2022-03-16T00:59:35.600884",
     "status": "completed"
    },
    "tags": []
   },
   "source": [
    "Using the same `url`, `data`, `soup`, and `tables` object as in the last section we can use the `read_html` function to create a DataFrame.\n",
    "\n",
    "Remember the table we need is located in `tables[table_index]`\n",
    "\n",
    "We can now use the `pandas` function `read_html` and give it the string version of the table as well as the `flavor` which is the parsing engine `bs4`."
   ]
  },
  {
   "cell_type": "code",
   "execution_count": 15,
   "id": "69bceb61",
   "metadata": {
    "execution": {
     "iopub.execute_input": "2022-03-16T00:59:35.726384Z",
     "iopub.status.busy": "2022-03-16T00:59:35.725482Z",
     "iopub.status.idle": "2022-03-16T00:59:35.729584Z",
     "shell.execute_reply": "2022-03-16T00:59:35.729014Z",
     "shell.execute_reply.started": "2022-03-16T00:49:22.801728Z"
    },
    "papermill": {
     "duration": 0.074058,
     "end_time": "2022-03-16T00:59:35.729730",
     "exception": false,
     "start_time": "2022-03-16T00:59:35.655672",
     "status": "completed"
    },
    "tags": []
   },
   "outputs": [
    {
     "data": {
      "text/plain": [
       "[   Rank      Country  Population  Area(km2)  Density(pop/km2)\n",
       " 0     1    Singapore     5704000        710              8033\n",
       " 1     2   Bangladesh   172380000     143998              1197\n",
       " 2     3    Palestine     5266785       6020               847\n",
       " 3     4      Lebanon     6856000      10452               656\n",
       " 4     5       Taiwan    23604000      36193               652\n",
       " 5     6  South Korea    51781000      99538               520\n",
       " 6     7       Rwanda    12374000      26338               470\n",
       " 7     8        Haiti    11578000      27065               428\n",
       " 8     9  Netherlands    17700000      41526               426\n",
       " 9    10       Israel     9490000      22072               430]"
      ]
     },
     "execution_count": 15,
     "metadata": {},
     "output_type": "execute_result"
    }
   ],
   "source": [
    "pd.read_html(str(tables[5]), flavor='bs4')"
   ]
  },
  {
   "cell_type": "markdown",
   "id": "c5d092d4",
   "metadata": {
    "papermill": {
     "duration": 0.026583,
     "end_time": "2022-03-16T00:59:35.783409",
     "exception": false,
     "start_time": "2022-03-16T00:59:35.756826",
     "status": "completed"
    },
    "tags": []
   },
   "source": [
    "The function `read_html` always returns a list of DataFrames so we must pick the one we want out of the list.\n"
   ]
  },
  {
   "cell_type": "code",
   "execution_count": 16,
   "id": "c548e9c3",
   "metadata": {
    "execution": {
     "iopub.execute_input": "2022-03-16T00:59:35.848708Z",
     "iopub.status.busy": "2022-03-16T00:59:35.847589Z",
     "iopub.status.idle": "2022-03-16T00:59:35.884205Z",
     "shell.execute_reply": "2022-03-16T00:59:35.884725Z",
     "shell.execute_reply.started": "2022-03-16T00:49:36.640654Z"
    },
    "papermill": {
     "duration": 0.074492,
     "end_time": "2022-03-16T00:59:35.884913",
     "exception": false,
     "start_time": "2022-03-16T00:59:35.810421",
     "status": "completed"
    },
    "tags": []
   },
   "outputs": [
    {
     "data": {
      "text/html": [
       "<div>\n",
       "<style scoped>\n",
       "    .dataframe tbody tr th:only-of-type {\n",
       "        vertical-align: middle;\n",
       "    }\n",
       "\n",
       "    .dataframe tbody tr th {\n",
       "        vertical-align: top;\n",
       "    }\n",
       "\n",
       "    .dataframe thead th {\n",
       "        text-align: right;\n",
       "    }\n",
       "</style>\n",
       "<table border=\"1\" class=\"dataframe\">\n",
       "  <thead>\n",
       "    <tr style=\"text-align: right;\">\n",
       "      <th></th>\n",
       "      <th>Rank</th>\n",
       "      <th>Country</th>\n",
       "      <th>Population</th>\n",
       "      <th>Area(km2)</th>\n",
       "      <th>Density(pop/km2)</th>\n",
       "    </tr>\n",
       "  </thead>\n",
       "  <tbody>\n",
       "    <tr>\n",
       "      <th>0</th>\n",
       "      <td>1</td>\n",
       "      <td>Singapore</td>\n",
       "      <td>5704000</td>\n",
       "      <td>710</td>\n",
       "      <td>8033</td>\n",
       "    </tr>\n",
       "    <tr>\n",
       "      <th>1</th>\n",
       "      <td>2</td>\n",
       "      <td>Bangladesh</td>\n",
       "      <td>172380000</td>\n",
       "      <td>143998</td>\n",
       "      <td>1197</td>\n",
       "    </tr>\n",
       "    <tr>\n",
       "      <th>2</th>\n",
       "      <td>3</td>\n",
       "      <td>Palestine</td>\n",
       "      <td>5266785</td>\n",
       "      <td>6020</td>\n",
       "      <td>847</td>\n",
       "    </tr>\n",
       "    <tr>\n",
       "      <th>3</th>\n",
       "      <td>4</td>\n",
       "      <td>Lebanon</td>\n",
       "      <td>6856000</td>\n",
       "      <td>10452</td>\n",
       "      <td>656</td>\n",
       "    </tr>\n",
       "    <tr>\n",
       "      <th>4</th>\n",
       "      <td>5</td>\n",
       "      <td>Taiwan</td>\n",
       "      <td>23604000</td>\n",
       "      <td>36193</td>\n",
       "      <td>652</td>\n",
       "    </tr>\n",
       "    <tr>\n",
       "      <th>5</th>\n",
       "      <td>6</td>\n",
       "      <td>South Korea</td>\n",
       "      <td>51781000</td>\n",
       "      <td>99538</td>\n",
       "      <td>520</td>\n",
       "    </tr>\n",
       "    <tr>\n",
       "      <th>6</th>\n",
       "      <td>7</td>\n",
       "      <td>Rwanda</td>\n",
       "      <td>12374000</td>\n",
       "      <td>26338</td>\n",
       "      <td>470</td>\n",
       "    </tr>\n",
       "    <tr>\n",
       "      <th>7</th>\n",
       "      <td>8</td>\n",
       "      <td>Haiti</td>\n",
       "      <td>11578000</td>\n",
       "      <td>27065</td>\n",
       "      <td>428</td>\n",
       "    </tr>\n",
       "    <tr>\n",
       "      <th>8</th>\n",
       "      <td>9</td>\n",
       "      <td>Netherlands</td>\n",
       "      <td>17700000</td>\n",
       "      <td>41526</td>\n",
       "      <td>426</td>\n",
       "    </tr>\n",
       "    <tr>\n",
       "      <th>9</th>\n",
       "      <td>10</td>\n",
       "      <td>Israel</td>\n",
       "      <td>9490000</td>\n",
       "      <td>22072</td>\n",
       "      <td>430</td>\n",
       "    </tr>\n",
       "  </tbody>\n",
       "</table>\n",
       "</div>"
      ],
      "text/plain": [
       "   Rank      Country  Population  Area(km2)  Density(pop/km2)\n",
       "0     1    Singapore     5704000        710              8033\n",
       "1     2   Bangladesh   172380000     143998              1197\n",
       "2     3    Palestine     5266785       6020               847\n",
       "3     4      Lebanon     6856000      10452               656\n",
       "4     5       Taiwan    23604000      36193               652\n",
       "5     6  South Korea    51781000      99538               520\n",
       "6     7       Rwanda    12374000      26338               470\n",
       "7     8        Haiti    11578000      27065               428\n",
       "8     9  Netherlands    17700000      41526               426\n",
       "9    10       Israel     9490000      22072               430"
      ]
     },
     "execution_count": 16,
     "metadata": {},
     "output_type": "execute_result"
    }
   ],
   "source": [
    "population_data_read_html = pd.read_html(str(tables[5]), flavor='bs4')[0]\n",
    "\n",
    "population_data_read_html"
   ]
  },
  {
   "cell_type": "code",
   "execution_count": 17,
   "id": "4ed8d743",
   "metadata": {
    "execution": {
     "iopub.execute_input": "2022-03-16T00:59:35.945505Z",
     "iopub.status.busy": "2022-03-16T00:59:35.944824Z",
     "iopub.status.idle": "2022-03-16T00:59:37.828867Z",
     "shell.execute_reply": "2022-03-16T00:59:37.828255Z",
     "shell.execute_reply.started": "2022-03-16T00:50:28.904652Z"
    },
    "papermill": {
     "duration": 1.91611,
     "end_time": "2022-03-16T00:59:37.829002",
     "exception": false,
     "start_time": "2022-03-16T00:59:35.912892",
     "status": "completed"
    },
    "tags": []
   },
   "outputs": [
    {
     "data": {
      "text/html": [
       "<div>\n",
       "<style scoped>\n",
       "    .dataframe tbody tr th:only-of-type {\n",
       "        vertical-align: middle;\n",
       "    }\n",
       "\n",
       "    .dataframe tbody tr th {\n",
       "        vertical-align: top;\n",
       "    }\n",
       "\n",
       "    .dataframe thead th {\n",
       "        text-align: right;\n",
       "    }\n",
       "</style>\n",
       "<table border=\"1\" class=\"dataframe\">\n",
       "  <thead>\n",
       "    <tr style=\"text-align: right;\">\n",
       "      <th></th>\n",
       "      <th>Rank</th>\n",
       "      <th>Country</th>\n",
       "      <th>Population</th>\n",
       "      <th>Area(km2)</th>\n",
       "      <th>Density(pop/km2)</th>\n",
       "    </tr>\n",
       "  </thead>\n",
       "  <tbody>\n",
       "    <tr>\n",
       "      <th>0</th>\n",
       "      <td>1</td>\n",
       "      <td>Singapore</td>\n",
       "      <td>5704000</td>\n",
       "      <td>710</td>\n",
       "      <td>8033</td>\n",
       "    </tr>\n",
       "    <tr>\n",
       "      <th>1</th>\n",
       "      <td>2</td>\n",
       "      <td>Bangladesh</td>\n",
       "      <td>172380000</td>\n",
       "      <td>143998</td>\n",
       "      <td>1197</td>\n",
       "    </tr>\n",
       "    <tr>\n",
       "      <th>2</th>\n",
       "      <td>3</td>\n",
       "      <td>Palestine</td>\n",
       "      <td>5266785</td>\n",
       "      <td>6020</td>\n",
       "      <td>847</td>\n",
       "    </tr>\n",
       "    <tr>\n",
       "      <th>3</th>\n",
       "      <td>4</td>\n",
       "      <td>Lebanon</td>\n",
       "      <td>6856000</td>\n",
       "      <td>10452</td>\n",
       "      <td>656</td>\n",
       "    </tr>\n",
       "    <tr>\n",
       "      <th>4</th>\n",
       "      <td>5</td>\n",
       "      <td>Taiwan</td>\n",
       "      <td>23604000</td>\n",
       "      <td>36193</td>\n",
       "      <td>652</td>\n",
       "    </tr>\n",
       "    <tr>\n",
       "      <th>5</th>\n",
       "      <td>6</td>\n",
       "      <td>South Korea</td>\n",
       "      <td>51781000</td>\n",
       "      <td>99538</td>\n",
       "      <td>520</td>\n",
       "    </tr>\n",
       "    <tr>\n",
       "      <th>6</th>\n",
       "      <td>7</td>\n",
       "      <td>Rwanda</td>\n",
       "      <td>12374000</td>\n",
       "      <td>26338</td>\n",
       "      <td>470</td>\n",
       "    </tr>\n",
       "    <tr>\n",
       "      <th>7</th>\n",
       "      <td>8</td>\n",
       "      <td>Haiti</td>\n",
       "      <td>11578000</td>\n",
       "      <td>27065</td>\n",
       "      <td>428</td>\n",
       "    </tr>\n",
       "    <tr>\n",
       "      <th>8</th>\n",
       "      <td>9</td>\n",
       "      <td>Netherlands</td>\n",
       "      <td>17700000</td>\n",
       "      <td>41526</td>\n",
       "      <td>426</td>\n",
       "    </tr>\n",
       "    <tr>\n",
       "      <th>9</th>\n",
       "      <td>10</td>\n",
       "      <td>Israel</td>\n",
       "      <td>9490000</td>\n",
       "      <td>22072</td>\n",
       "      <td>430</td>\n",
       "    </tr>\n",
       "  </tbody>\n",
       "</table>\n",
       "</div>"
      ],
      "text/plain": [
       "   Rank      Country  Population  Area(km2)  Density(pop/km2)\n",
       "0     1    Singapore     5704000        710              8033\n",
       "1     2   Bangladesh   172380000     143998              1197\n",
       "2     3    Palestine     5266785       6020               847\n",
       "3     4      Lebanon     6856000      10452               656\n",
       "4     5       Taiwan    23604000      36193               652\n",
       "5     6  South Korea    51781000      99538               520\n",
       "6     7       Rwanda    12374000      26338               470\n",
       "7     8        Haiti    11578000      27065               428\n",
       "8     9  Netherlands    17700000      41526               426\n",
       "9    10       Israel     9490000      22072               430"
      ]
     },
     "execution_count": 17,
     "metadata": {},
     "output_type": "execute_result"
    }
   ],
   "source": [
    "pd.read_html(url, match=\"10 most densely populated countries\", flavor='bs4')[0]"
   ]
  },
  {
   "cell_type": "code",
   "execution_count": null,
   "id": "5fb4208a",
   "metadata": {
    "papermill": {
     "duration": 0.028492,
     "end_time": "2022-03-16T00:59:37.885666",
     "exception": false,
     "start_time": "2022-03-16T00:59:37.857174",
     "status": "completed"
    },
    "tags": []
   },
   "outputs": [],
   "source": []
  }
 ],
 "metadata": {
  "kernelspec": {
   "display_name": "Python 3",
   "language": "python",
   "name": "python3"
  },
  "language_info": {
   "codemirror_mode": {
    "name": "ipython",
    "version": 3
   },
   "file_extension": ".py",
   "mimetype": "text/x-python",
   "name": "python",
   "nbconvert_exporter": "python",
   "pygments_lexer": "ipython3",
   "version": "3.7.12"
  },
  "papermill": {
   "default_parameters": {},
   "duration": 18.454929,
   "end_time": "2022-03-16T00:59:38.624891",
   "environment_variables": {},
   "exception": null,
   "input_path": "__notebook__.ipynb",
   "output_path": "__notebook__.ipynb",
   "parameters": {},
   "start_time": "2022-03-16T00:59:20.169962",
   "version": "2.3.3"
  }
 },
 "nbformat": 4,
 "nbformat_minor": 5
}
