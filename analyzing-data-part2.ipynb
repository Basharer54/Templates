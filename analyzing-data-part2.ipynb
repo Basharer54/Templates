{
 "cells": [
  {
   "cell_type": "markdown",
   "id": "7e75f378",
   "metadata": {
    "papermill": {
     "duration": 0.0546,
     "end_time": "2022-03-23T17:47:02.915800",
     "exception": false,
     "start_time": "2022-03-23T17:47:02.861200",
     "status": "completed"
    },
    "tags": []
   },
   "source": [
    "# Data Analysis with Python\n",
    "\n",
    "\n",
    "## Objectives\n",
    "After completing this lab you will be able to:\n",
    "\n",
    "- Explore features or charecteristics to predict price of car\n",
    "\n",
    "## Table of Contents\n",
    "- Import Data\n",
    "- Analyzing Individual Feature Patterns using Visualization\n",
    "- Descriptive Statistical Analysis\n",
    "- Basics of Grouping\n",
    "- Correlation and Causation\n",
    "- ANOVA"
   ]
  },
  {
   "cell_type": "code",
   "execution_count": 1,
   "id": "e9fa90c9",
   "metadata": {
    "_cell_guid": "b1076dfc-b9ad-4769-8c92-a6c4dae69d19",
    "_uuid": "8f2839f25d086af736a60e9eeb907d3b93b6e0e5",
    "execution": {
     "iopub.execute_input": "2022-03-23T17:47:03.038380Z",
     "iopub.status.busy": "2022-03-23T17:47:03.037704Z",
     "iopub.status.idle": "2022-03-23T17:47:04.074836Z",
     "shell.execute_reply": "2022-03-23T17:47:04.073718Z",
     "shell.execute_reply.started": "2022-03-23T17:31:21.200036Z"
    },
    "papermill": {
     "duration": 1.101585,
     "end_time": "2022-03-23T17:47:04.075039",
     "exception": false,
     "start_time": "2022-03-23T17:47:02.973454",
     "status": "completed"
    },
    "tags": []
   },
   "outputs": [],
   "source": [
    "import numpy as np\n",
    "import pandas as pd\n",
    "import matplotlib.pyplot as plt\n",
    "import seaborn as sns\n",
    "from scipy import stats"
   ]
  },
  {
   "cell_type": "markdown",
   "id": "e2be7200",
   "metadata": {
    "papermill": {
     "duration": 0.052881,
     "end_time": "2022-03-23T17:47:04.181258",
     "exception": false,
     "start_time": "2022-03-23T17:47:04.128377",
     "status": "completed"
    },
    "tags": []
   },
   "source": [
    "## 1. Import Data\n",
    "\n",
    "For reading a csv datasets from a GitHub repository:\n",
    "- Open the GitHub repository page in your web browser.\n",
    "- Click on the dataset file you want to read from the GitHub repository. A preview of the file will open.\n",
    "- You will find a \"Raw\" button to the upper right corner of the file preview. Click on it.\n",
    "- The file preview will open with a URL like this:  https://raw.githubusercontent.com/insaid......\n",
    "- Copy this URL and paste in pd.read_csv() to read it."
   ]
  },
  {
   "cell_type": "code",
   "execution_count": 2,
   "id": "5157377d",
   "metadata": {
    "execution": {
     "iopub.execute_input": "2022-03-23T17:47:04.291057Z",
     "iopub.status.busy": "2022-03-23T17:47:04.290085Z",
     "iopub.status.idle": "2022-03-23T17:47:04.712088Z",
     "shell.execute_reply": "2022-03-23T17:47:04.712607Z",
     "shell.execute_reply.started": "2022-03-23T17:31:22.209577Z"
    },
    "papermill": {
     "duration": 0.478621,
     "end_time": "2022-03-23T17:47:04.712788",
     "exception": false,
     "start_time": "2022-03-23T17:47:04.234167",
     "status": "completed"
    },
    "tags": []
   },
   "outputs": [
    {
     "data": {
      "text/html": [
       "<div>\n",
       "<style scoped>\n",
       "    .dataframe tbody tr th:only-of-type {\n",
       "        vertical-align: middle;\n",
       "    }\n",
       "\n",
       "    .dataframe tbody tr th {\n",
       "        vertical-align: top;\n",
       "    }\n",
       "\n",
       "    .dataframe thead th {\n",
       "        text-align: right;\n",
       "    }\n",
       "</style>\n",
       "<table border=\"1\" class=\"dataframe\">\n",
       "  <thead>\n",
       "    <tr style=\"text-align: right;\">\n",
       "      <th></th>\n",
       "      <th>symboling</th>\n",
       "      <th>normalized-losses</th>\n",
       "      <th>make</th>\n",
       "      <th>num-of-doors</th>\n",
       "      <th>body-style</th>\n",
       "      <th>drive-wheels</th>\n",
       "      <th>engine-location</th>\n",
       "      <th>wheel-base</th>\n",
       "      <th>length</th>\n",
       "      <th>width</th>\n",
       "      <th>...</th>\n",
       "      <th>horsepower</th>\n",
       "      <th>peak-rpm</th>\n",
       "      <th>city-mpg</th>\n",
       "      <th>highway-mpg</th>\n",
       "      <th>price</th>\n",
       "      <th>horsepower-binned</th>\n",
       "      <th>fuel-type-diesel</th>\n",
       "      <th>fuel-type-gas</th>\n",
       "      <th>aspiration-std</th>\n",
       "      <th>aspiration-turbo</th>\n",
       "    </tr>\n",
       "  </thead>\n",
       "  <tbody>\n",
       "    <tr>\n",
       "      <th>0</th>\n",
       "      <td>3</td>\n",
       "      <td>122</td>\n",
       "      <td>alfa-romero</td>\n",
       "      <td>two</td>\n",
       "      <td>convertible</td>\n",
       "      <td>rwd</td>\n",
       "      <td>front</td>\n",
       "      <td>88.6</td>\n",
       "      <td>0.811148</td>\n",
       "      <td>0.890278</td>\n",
       "      <td>...</td>\n",
       "      <td>111</td>\n",
       "      <td>5000.0</td>\n",
       "      <td>21</td>\n",
       "      <td>27</td>\n",
       "      <td>13495.0</td>\n",
       "      <td>Low</td>\n",
       "      <td>0</td>\n",
       "      <td>1</td>\n",
       "      <td>1</td>\n",
       "      <td>0</td>\n",
       "    </tr>\n",
       "    <tr>\n",
       "      <th>1</th>\n",
       "      <td>3</td>\n",
       "      <td>122</td>\n",
       "      <td>alfa-romero</td>\n",
       "      <td>two</td>\n",
       "      <td>convertible</td>\n",
       "      <td>rwd</td>\n",
       "      <td>front</td>\n",
       "      <td>88.6</td>\n",
       "      <td>0.811148</td>\n",
       "      <td>0.890278</td>\n",
       "      <td>...</td>\n",
       "      <td>111</td>\n",
       "      <td>5000.0</td>\n",
       "      <td>21</td>\n",
       "      <td>27</td>\n",
       "      <td>16500.0</td>\n",
       "      <td>Low</td>\n",
       "      <td>0</td>\n",
       "      <td>1</td>\n",
       "      <td>1</td>\n",
       "      <td>0</td>\n",
       "    </tr>\n",
       "    <tr>\n",
       "      <th>2</th>\n",
       "      <td>1</td>\n",
       "      <td>122</td>\n",
       "      <td>alfa-romero</td>\n",
       "      <td>two</td>\n",
       "      <td>hatchback</td>\n",
       "      <td>rwd</td>\n",
       "      <td>front</td>\n",
       "      <td>94.5</td>\n",
       "      <td>0.822681</td>\n",
       "      <td>0.909722</td>\n",
       "      <td>...</td>\n",
       "      <td>154</td>\n",
       "      <td>5000.0</td>\n",
       "      <td>19</td>\n",
       "      <td>26</td>\n",
       "      <td>16500.0</td>\n",
       "      <td>Medium</td>\n",
       "      <td>0</td>\n",
       "      <td>1</td>\n",
       "      <td>1</td>\n",
       "      <td>0</td>\n",
       "    </tr>\n",
       "    <tr>\n",
       "      <th>3</th>\n",
       "      <td>2</td>\n",
       "      <td>164</td>\n",
       "      <td>audi</td>\n",
       "      <td>four</td>\n",
       "      <td>sedan</td>\n",
       "      <td>fwd</td>\n",
       "      <td>front</td>\n",
       "      <td>99.8</td>\n",
       "      <td>0.848630</td>\n",
       "      <td>0.919444</td>\n",
       "      <td>...</td>\n",
       "      <td>102</td>\n",
       "      <td>5500.0</td>\n",
       "      <td>24</td>\n",
       "      <td>30</td>\n",
       "      <td>13950.0</td>\n",
       "      <td>Low</td>\n",
       "      <td>0</td>\n",
       "      <td>1</td>\n",
       "      <td>1</td>\n",
       "      <td>0</td>\n",
       "    </tr>\n",
       "    <tr>\n",
       "      <th>4</th>\n",
       "      <td>2</td>\n",
       "      <td>164</td>\n",
       "      <td>audi</td>\n",
       "      <td>four</td>\n",
       "      <td>sedan</td>\n",
       "      <td>4wd</td>\n",
       "      <td>front</td>\n",
       "      <td>99.4</td>\n",
       "      <td>0.848630</td>\n",
       "      <td>0.922222</td>\n",
       "      <td>...</td>\n",
       "      <td>115</td>\n",
       "      <td>5500.0</td>\n",
       "      <td>18</td>\n",
       "      <td>22</td>\n",
       "      <td>17450.0</td>\n",
       "      <td>Low</td>\n",
       "      <td>0</td>\n",
       "      <td>1</td>\n",
       "      <td>1</td>\n",
       "      <td>0</td>\n",
       "    </tr>\n",
       "  </tbody>\n",
       "</table>\n",
       "<p>5 rows × 29 columns</p>\n",
       "</div>"
      ],
      "text/plain": [
       "   symboling  normalized-losses         make num-of-doors   body-style  \\\n",
       "0          3                122  alfa-romero          two  convertible   \n",
       "1          3                122  alfa-romero          two  convertible   \n",
       "2          1                122  alfa-romero          two    hatchback   \n",
       "3          2                164         audi         four        sedan   \n",
       "4          2                164         audi         four        sedan   \n",
       "\n",
       "  drive-wheels engine-location  wheel-base    length     width  ...  \\\n",
       "0          rwd           front        88.6  0.811148  0.890278  ...   \n",
       "1          rwd           front        88.6  0.811148  0.890278  ...   \n",
       "2          rwd           front        94.5  0.822681  0.909722  ...   \n",
       "3          fwd           front        99.8  0.848630  0.919444  ...   \n",
       "4          4wd           front        99.4  0.848630  0.922222  ...   \n",
       "\n",
       "   horsepower  peak-rpm city-mpg highway-mpg    price horsepower-binned  \\\n",
       "0         111    5000.0       21          27  13495.0               Low   \n",
       "1         111    5000.0       21          27  16500.0               Low   \n",
       "2         154    5000.0       19          26  16500.0            Medium   \n",
       "3         102    5500.0       24          30  13950.0               Low   \n",
       "4         115    5500.0       18          22  17450.0               Low   \n",
       "\n",
       "   fuel-type-diesel  fuel-type-gas  aspiration-std  aspiration-turbo  \n",
       "0                 0              1               1                 0  \n",
       "1                 0              1               1                 0  \n",
       "2                 0              1               1                 0  \n",
       "3                 0              1               1                 0  \n",
       "4                 0              1               1                 0  \n",
       "\n",
       "[5 rows x 29 columns]"
      ]
     },
     "execution_count": 2,
     "metadata": {},
     "output_type": "execute_result"
    }
   ],
   "source": [
    "file_name = 'https://raw.githubusercontent.com/Basharer54/Templates/main/clean_df.csv'\n",
    "df = pd.read_csv(file_name)\n",
    "df.head()"
   ]
  },
  {
   "cell_type": "markdown",
   "id": "4d4b0ed2",
   "metadata": {
    "papermill": {
     "duration": 0.054473,
     "end_time": "2022-03-23T17:47:04.822979",
     "exception": false,
     "start_time": "2022-03-23T17:47:04.768506",
     "status": "completed"
    },
    "tags": []
   },
   "source": [
    "## 2. Analyzing Individual Feature Patterns Using Visualization\n",
    "\n",
    "### How to choose the right visualization method?\n",
    "When visualizing individual variables, it is important to first understand what type of variable you are dealing with. This will help us find the right visualization method for that variable.\n",
    "\n",
    "\n",
    "For example, we can calculate the correlation between variables of type \"int64\" or \"float64\" using the method \"corr\":"
   ]
  },
  {
   "cell_type": "code",
   "execution_count": 3,
   "id": "2bde429e",
   "metadata": {
    "execution": {
     "iopub.execute_input": "2022-03-23T17:47:04.935265Z",
     "iopub.status.busy": "2022-03-23T17:47:04.934277Z",
     "iopub.status.idle": "2022-03-23T17:47:04.971335Z",
     "shell.execute_reply": "2022-03-23T17:47:04.971822Z",
     "shell.execute_reply.started": "2022-03-23T17:31:22.840984Z"
    },
    "papermill": {
     "duration": 0.0948,
     "end_time": "2022-03-23T17:47:04.972007",
     "exception": false,
     "start_time": "2022-03-23T17:47:04.877207",
     "status": "completed"
    },
    "tags": []
   },
   "outputs": [
    {
     "data": {
      "text/html": [
       "<div>\n",
       "<style scoped>\n",
       "    .dataframe tbody tr th:only-of-type {\n",
       "        vertical-align: middle;\n",
       "    }\n",
       "\n",
       "    .dataframe tbody tr th {\n",
       "        vertical-align: top;\n",
       "    }\n",
       "\n",
       "    .dataframe thead th {\n",
       "        text-align: right;\n",
       "    }\n",
       "</style>\n",
       "<table border=\"1\" class=\"dataframe\">\n",
       "  <thead>\n",
       "    <tr style=\"text-align: right;\">\n",
       "      <th></th>\n",
       "      <th>symboling</th>\n",
       "      <th>normalized-losses</th>\n",
       "      <th>wheel-base</th>\n",
       "      <th>length</th>\n",
       "      <th>width</th>\n",
       "      <th>height</th>\n",
       "      <th>curb-weight</th>\n",
       "      <th>engine-size</th>\n",
       "      <th>bore</th>\n",
       "      <th>stroke</th>\n",
       "      <th>compression-ratio</th>\n",
       "      <th>horsepower</th>\n",
       "      <th>peak-rpm</th>\n",
       "      <th>city-mpg</th>\n",
       "      <th>highway-mpg</th>\n",
       "      <th>price</th>\n",
       "      <th>fuel-type-diesel</th>\n",
       "      <th>fuel-type-gas</th>\n",
       "      <th>aspiration-std</th>\n",
       "      <th>aspiration-turbo</th>\n",
       "    </tr>\n",
       "  </thead>\n",
       "  <tbody>\n",
       "    <tr>\n",
       "      <th>symboling</th>\n",
       "      <td>1.000000</td>\n",
       "      <td>0.466264</td>\n",
       "      <td>-0.535987</td>\n",
       "      <td>-0.365404</td>\n",
       "      <td>-0.242423</td>\n",
       "      <td>-0.550160</td>\n",
       "      <td>-0.233118</td>\n",
       "      <td>-0.110581</td>\n",
       "      <td>0.243521</td>\n",
       "      <td>0.245613</td>\n",
       "      <td>-0.182196</td>\n",
       "      <td>0.076328</td>\n",
       "      <td>0.184721</td>\n",
       "      <td>-0.035527</td>\n",
       "      <td>0.036233</td>\n",
       "      <td>-0.082391</td>\n",
       "      <td>-0.196735</td>\n",
       "      <td>0.196735</td>\n",
       "      <td>0.054615</td>\n",
       "      <td>-0.054615</td>\n",
       "    </tr>\n",
       "    <tr>\n",
       "      <th>normalized-losses</th>\n",
       "      <td>0.466264</td>\n",
       "      <td>1.000000</td>\n",
       "      <td>-0.056661</td>\n",
       "      <td>0.019424</td>\n",
       "      <td>0.086802</td>\n",
       "      <td>-0.373737</td>\n",
       "      <td>0.099404</td>\n",
       "      <td>0.112360</td>\n",
       "      <td>0.124511</td>\n",
       "      <td>0.126034</td>\n",
       "      <td>-0.114713</td>\n",
       "      <td>0.217034</td>\n",
       "      <td>0.166059</td>\n",
       "      <td>-0.225016</td>\n",
       "      <td>-0.181877</td>\n",
       "      <td>0.133999</td>\n",
       "      <td>-0.101546</td>\n",
       "      <td>0.101546</td>\n",
       "      <td>0.006911</td>\n",
       "      <td>-0.006911</td>\n",
       "    </tr>\n",
       "    <tr>\n",
       "      <th>wheel-base</th>\n",
       "      <td>-0.535987</td>\n",
       "      <td>-0.056661</td>\n",
       "      <td>1.000000</td>\n",
       "      <td>0.876024</td>\n",
       "      <td>0.814507</td>\n",
       "      <td>0.590742</td>\n",
       "      <td>0.782097</td>\n",
       "      <td>0.572027</td>\n",
       "      <td>-0.074380</td>\n",
       "      <td>-0.079330</td>\n",
       "      <td>0.250313</td>\n",
       "      <td>0.368584</td>\n",
       "      <td>-0.217522</td>\n",
       "      <td>-0.470606</td>\n",
       "      <td>-0.543304</td>\n",
       "      <td>0.584642</td>\n",
       "      <td>0.307237</td>\n",
       "      <td>-0.307237</td>\n",
       "      <td>-0.256889</td>\n",
       "      <td>0.256889</td>\n",
       "    </tr>\n",
       "    <tr>\n",
       "      <th>length</th>\n",
       "      <td>-0.365404</td>\n",
       "      <td>0.019424</td>\n",
       "      <td>0.876024</td>\n",
       "      <td>1.000000</td>\n",
       "      <td>0.857170</td>\n",
       "      <td>0.492063</td>\n",
       "      <td>0.880665</td>\n",
       "      <td>0.685025</td>\n",
       "      <td>-0.050463</td>\n",
       "      <td>-0.057929</td>\n",
       "      <td>0.159733</td>\n",
       "      <td>0.581018</td>\n",
       "      <td>-0.227380</td>\n",
       "      <td>-0.665192</td>\n",
       "      <td>-0.698142</td>\n",
       "      <td>0.690628</td>\n",
       "      <td>0.211187</td>\n",
       "      <td>-0.211187</td>\n",
       "      <td>-0.230085</td>\n",
       "      <td>0.230085</td>\n",
       "    </tr>\n",
       "    <tr>\n",
       "      <th>width</th>\n",
       "      <td>-0.242423</td>\n",
       "      <td>0.086802</td>\n",
       "      <td>0.814507</td>\n",
       "      <td>0.857170</td>\n",
       "      <td>1.000000</td>\n",
       "      <td>0.306002</td>\n",
       "      <td>0.866201</td>\n",
       "      <td>0.729436</td>\n",
       "      <td>-0.004059</td>\n",
       "      <td>-0.009260</td>\n",
       "      <td>0.189867</td>\n",
       "      <td>0.615817</td>\n",
       "      <td>-0.193213</td>\n",
       "      <td>-0.633531</td>\n",
       "      <td>-0.680635</td>\n",
       "      <td>0.751265</td>\n",
       "      <td>0.244356</td>\n",
       "      <td>-0.244356</td>\n",
       "      <td>-0.305732</td>\n",
       "      <td>0.305732</td>\n",
       "    </tr>\n",
       "    <tr>\n",
       "      <th>height</th>\n",
       "      <td>-0.550160</td>\n",
       "      <td>-0.373737</td>\n",
       "      <td>0.590742</td>\n",
       "      <td>0.492063</td>\n",
       "      <td>0.306002</td>\n",
       "      <td>1.000000</td>\n",
       "      <td>0.307581</td>\n",
       "      <td>0.074694</td>\n",
       "      <td>-0.240217</td>\n",
       "      <td>-0.244270</td>\n",
       "      <td>0.259737</td>\n",
       "      <td>-0.088696</td>\n",
       "      <td>-0.187717</td>\n",
       "      <td>-0.049800</td>\n",
       "      <td>-0.104812</td>\n",
       "      <td>0.135486</td>\n",
       "      <td>0.281578</td>\n",
       "      <td>-0.281578</td>\n",
       "      <td>-0.090336</td>\n",
       "      <td>0.090336</td>\n",
       "    </tr>\n",
       "    <tr>\n",
       "      <th>curb-weight</th>\n",
       "      <td>-0.233118</td>\n",
       "      <td>0.099404</td>\n",
       "      <td>0.782097</td>\n",
       "      <td>0.880665</td>\n",
       "      <td>0.866201</td>\n",
       "      <td>0.307581</td>\n",
       "      <td>1.000000</td>\n",
       "      <td>0.849072</td>\n",
       "      <td>-0.029485</td>\n",
       "      <td>-0.036691</td>\n",
       "      <td>0.156433</td>\n",
       "      <td>0.756718</td>\n",
       "      <td>-0.188590</td>\n",
       "      <td>-0.749543</td>\n",
       "      <td>-0.794889</td>\n",
       "      <td>0.834415</td>\n",
       "      <td>0.221046</td>\n",
       "      <td>-0.221046</td>\n",
       "      <td>-0.321955</td>\n",
       "      <td>0.321955</td>\n",
       "    </tr>\n",
       "    <tr>\n",
       "      <th>engine-size</th>\n",
       "      <td>-0.110581</td>\n",
       "      <td>0.112360</td>\n",
       "      <td>0.572027</td>\n",
       "      <td>0.685025</td>\n",
       "      <td>0.729436</td>\n",
       "      <td>0.074694</td>\n",
       "      <td>0.849072</td>\n",
       "      <td>1.000000</td>\n",
       "      <td>-0.177698</td>\n",
       "      <td>-0.183013</td>\n",
       "      <td>0.028889</td>\n",
       "      <td>0.822255</td>\n",
       "      <td>-0.186924</td>\n",
       "      <td>-0.650546</td>\n",
       "      <td>-0.679571</td>\n",
       "      <td>0.872335</td>\n",
       "      <td>0.070779</td>\n",
       "      <td>-0.070779</td>\n",
       "      <td>-0.110040</td>\n",
       "      <td>0.110040</td>\n",
       "    </tr>\n",
       "    <tr>\n",
       "      <th>bore</th>\n",
       "      <td>0.243521</td>\n",
       "      <td>0.124511</td>\n",
       "      <td>-0.074380</td>\n",
       "      <td>-0.050463</td>\n",
       "      <td>-0.004059</td>\n",
       "      <td>-0.240217</td>\n",
       "      <td>-0.029485</td>\n",
       "      <td>-0.177698</td>\n",
       "      <td>1.000000</td>\n",
       "      <td>0.999672</td>\n",
       "      <td>-0.027237</td>\n",
       "      <td>0.031766</td>\n",
       "      <td>0.189485</td>\n",
       "      <td>-0.196827</td>\n",
       "      <td>-0.170635</td>\n",
       "      <td>0.005399</td>\n",
       "      <td>-0.046482</td>\n",
       "      <td>0.046482</td>\n",
       "      <td>0.062876</td>\n",
       "      <td>-0.062876</td>\n",
       "    </tr>\n",
       "    <tr>\n",
       "      <th>stroke</th>\n",
       "      <td>0.245613</td>\n",
       "      <td>0.126034</td>\n",
       "      <td>-0.079330</td>\n",
       "      <td>-0.057929</td>\n",
       "      <td>-0.009260</td>\n",
       "      <td>-0.244270</td>\n",
       "      <td>-0.036691</td>\n",
       "      <td>-0.183013</td>\n",
       "      <td>0.999672</td>\n",
       "      <td>1.000000</td>\n",
       "      <td>-0.023685</td>\n",
       "      <td>0.024642</td>\n",
       "      <td>0.189387</td>\n",
       "      <td>-0.188074</td>\n",
       "      <td>-0.161747</td>\n",
       "      <td>-0.001799</td>\n",
       "      <td>-0.042777</td>\n",
       "      <td>0.042777</td>\n",
       "      <td>0.062400</td>\n",
       "      <td>-0.062400</td>\n",
       "    </tr>\n",
       "    <tr>\n",
       "      <th>compression-ratio</th>\n",
       "      <td>-0.182196</td>\n",
       "      <td>-0.114713</td>\n",
       "      <td>0.250313</td>\n",
       "      <td>0.159733</td>\n",
       "      <td>0.189867</td>\n",
       "      <td>0.259737</td>\n",
       "      <td>0.156433</td>\n",
       "      <td>0.028889</td>\n",
       "      <td>-0.027237</td>\n",
       "      <td>-0.023685</td>\n",
       "      <td>1.000000</td>\n",
       "      <td>-0.215986</td>\n",
       "      <td>-0.275573</td>\n",
       "      <td>0.331425</td>\n",
       "      <td>0.268465</td>\n",
       "      <td>0.071107</td>\n",
       "      <td>0.985231</td>\n",
       "      <td>-0.985231</td>\n",
       "      <td>-0.307522</td>\n",
       "      <td>0.307522</td>\n",
       "    </tr>\n",
       "    <tr>\n",
       "      <th>horsepower</th>\n",
       "      <td>0.076328</td>\n",
       "      <td>0.217034</td>\n",
       "      <td>0.368584</td>\n",
       "      <td>0.581018</td>\n",
       "      <td>0.615817</td>\n",
       "      <td>-0.088696</td>\n",
       "      <td>0.756718</td>\n",
       "      <td>0.822255</td>\n",
       "      <td>0.031766</td>\n",
       "      <td>0.024642</td>\n",
       "      <td>-0.215986</td>\n",
       "      <td>1.000000</td>\n",
       "      <td>0.039036</td>\n",
       "      <td>-0.822819</td>\n",
       "      <td>-0.803373</td>\n",
       "      <td>0.806429</td>\n",
       "      <td>-0.170419</td>\n",
       "      <td>0.170419</td>\n",
       "      <td>-0.248610</td>\n",
       "      <td>0.248610</td>\n",
       "    </tr>\n",
       "    <tr>\n",
       "      <th>peak-rpm</th>\n",
       "      <td>0.184721</td>\n",
       "      <td>0.166059</td>\n",
       "      <td>-0.217522</td>\n",
       "      <td>-0.227380</td>\n",
       "      <td>-0.193213</td>\n",
       "      <td>-0.187717</td>\n",
       "      <td>-0.188590</td>\n",
       "      <td>-0.186924</td>\n",
       "      <td>0.189485</td>\n",
       "      <td>0.189387</td>\n",
       "      <td>-0.275573</td>\n",
       "      <td>0.039036</td>\n",
       "      <td>1.000000</td>\n",
       "      <td>-0.055397</td>\n",
       "      <td>-0.043958</td>\n",
       "      <td>-0.037470</td>\n",
       "      <td>-0.305794</td>\n",
       "      <td>0.305794</td>\n",
       "      <td>0.097952</td>\n",
       "      <td>-0.097952</td>\n",
       "    </tr>\n",
       "    <tr>\n",
       "      <th>city-mpg</th>\n",
       "      <td>-0.035527</td>\n",
       "      <td>-0.225016</td>\n",
       "      <td>-0.470606</td>\n",
       "      <td>-0.665192</td>\n",
       "      <td>-0.633531</td>\n",
       "      <td>-0.049800</td>\n",
       "      <td>-0.749543</td>\n",
       "      <td>-0.650546</td>\n",
       "      <td>-0.196827</td>\n",
       "      <td>-0.188074</td>\n",
       "      <td>0.331425</td>\n",
       "      <td>-0.822819</td>\n",
       "      <td>-0.055397</td>\n",
       "      <td>1.000000</td>\n",
       "      <td>0.972044</td>\n",
       "      <td>-0.686571</td>\n",
       "      <td>0.265676</td>\n",
       "      <td>-0.265676</td>\n",
       "      <td>0.189237</td>\n",
       "      <td>-0.189237</td>\n",
       "    </tr>\n",
       "    <tr>\n",
       "      <th>highway-mpg</th>\n",
       "      <td>0.036233</td>\n",
       "      <td>-0.181877</td>\n",
       "      <td>-0.543304</td>\n",
       "      <td>-0.698142</td>\n",
       "      <td>-0.680635</td>\n",
       "      <td>-0.104812</td>\n",
       "      <td>-0.794889</td>\n",
       "      <td>-0.679571</td>\n",
       "      <td>-0.170635</td>\n",
       "      <td>-0.161747</td>\n",
       "      <td>0.268465</td>\n",
       "      <td>-0.803373</td>\n",
       "      <td>-0.043958</td>\n",
       "      <td>0.972044</td>\n",
       "      <td>1.000000</td>\n",
       "      <td>-0.704692</td>\n",
       "      <td>0.198690</td>\n",
       "      <td>-0.198690</td>\n",
       "      <td>0.241851</td>\n",
       "      <td>-0.241851</td>\n",
       "    </tr>\n",
       "    <tr>\n",
       "      <th>price</th>\n",
       "      <td>-0.082391</td>\n",
       "      <td>0.133999</td>\n",
       "      <td>0.584642</td>\n",
       "      <td>0.690628</td>\n",
       "      <td>0.751265</td>\n",
       "      <td>0.135486</td>\n",
       "      <td>0.834415</td>\n",
       "      <td>0.872335</td>\n",
       "      <td>0.005399</td>\n",
       "      <td>-0.001799</td>\n",
       "      <td>0.071107</td>\n",
       "      <td>0.806429</td>\n",
       "      <td>-0.037470</td>\n",
       "      <td>-0.686571</td>\n",
       "      <td>-0.704692</td>\n",
       "      <td>1.000000</td>\n",
       "      <td>0.110326</td>\n",
       "      <td>-0.110326</td>\n",
       "      <td>-0.179578</td>\n",
       "      <td>0.179578</td>\n",
       "    </tr>\n",
       "    <tr>\n",
       "      <th>fuel-type-diesel</th>\n",
       "      <td>-0.196735</td>\n",
       "      <td>-0.101546</td>\n",
       "      <td>0.307237</td>\n",
       "      <td>0.211187</td>\n",
       "      <td>0.244356</td>\n",
       "      <td>0.281578</td>\n",
       "      <td>0.221046</td>\n",
       "      <td>0.070779</td>\n",
       "      <td>-0.046482</td>\n",
       "      <td>-0.042777</td>\n",
       "      <td>0.985231</td>\n",
       "      <td>-0.170419</td>\n",
       "      <td>-0.305794</td>\n",
       "      <td>0.265676</td>\n",
       "      <td>0.198690</td>\n",
       "      <td>0.110326</td>\n",
       "      <td>1.000000</td>\n",
       "      <td>-1.000000</td>\n",
       "      <td>-0.408228</td>\n",
       "      <td>0.408228</td>\n",
       "    </tr>\n",
       "    <tr>\n",
       "      <th>fuel-type-gas</th>\n",
       "      <td>0.196735</td>\n",
       "      <td>0.101546</td>\n",
       "      <td>-0.307237</td>\n",
       "      <td>-0.211187</td>\n",
       "      <td>-0.244356</td>\n",
       "      <td>-0.281578</td>\n",
       "      <td>-0.221046</td>\n",
       "      <td>-0.070779</td>\n",
       "      <td>0.046482</td>\n",
       "      <td>0.042777</td>\n",
       "      <td>-0.985231</td>\n",
       "      <td>0.170419</td>\n",
       "      <td>0.305794</td>\n",
       "      <td>-0.265676</td>\n",
       "      <td>-0.198690</td>\n",
       "      <td>-0.110326</td>\n",
       "      <td>-1.000000</td>\n",
       "      <td>1.000000</td>\n",
       "      <td>0.408228</td>\n",
       "      <td>-0.408228</td>\n",
       "    </tr>\n",
       "    <tr>\n",
       "      <th>aspiration-std</th>\n",
       "      <td>0.054615</td>\n",
       "      <td>0.006911</td>\n",
       "      <td>-0.256889</td>\n",
       "      <td>-0.230085</td>\n",
       "      <td>-0.305732</td>\n",
       "      <td>-0.090336</td>\n",
       "      <td>-0.321955</td>\n",
       "      <td>-0.110040</td>\n",
       "      <td>0.062876</td>\n",
       "      <td>0.062400</td>\n",
       "      <td>-0.307522</td>\n",
       "      <td>-0.248610</td>\n",
       "      <td>0.097952</td>\n",
       "      <td>0.189237</td>\n",
       "      <td>0.241851</td>\n",
       "      <td>-0.179578</td>\n",
       "      <td>-0.408228</td>\n",
       "      <td>0.408228</td>\n",
       "      <td>1.000000</td>\n",
       "      <td>-1.000000</td>\n",
       "    </tr>\n",
       "    <tr>\n",
       "      <th>aspiration-turbo</th>\n",
       "      <td>-0.054615</td>\n",
       "      <td>-0.006911</td>\n",
       "      <td>0.256889</td>\n",
       "      <td>0.230085</td>\n",
       "      <td>0.305732</td>\n",
       "      <td>0.090336</td>\n",
       "      <td>0.321955</td>\n",
       "      <td>0.110040</td>\n",
       "      <td>-0.062876</td>\n",
       "      <td>-0.062400</td>\n",
       "      <td>0.307522</td>\n",
       "      <td>0.248610</td>\n",
       "      <td>-0.097952</td>\n",
       "      <td>-0.189237</td>\n",
       "      <td>-0.241851</td>\n",
       "      <td>0.179578</td>\n",
       "      <td>0.408228</td>\n",
       "      <td>-0.408228</td>\n",
       "      <td>-1.000000</td>\n",
       "      <td>1.000000</td>\n",
       "    </tr>\n",
       "  </tbody>\n",
       "</table>\n",
       "</div>"
      ],
      "text/plain": [
       "                   symboling  normalized-losses  wheel-base    length  \\\n",
       "symboling           1.000000           0.466264   -0.535987 -0.365404   \n",
       "normalized-losses   0.466264           1.000000   -0.056661  0.019424   \n",
       "wheel-base         -0.535987          -0.056661    1.000000  0.876024   \n",
       "length             -0.365404           0.019424    0.876024  1.000000   \n",
       "width              -0.242423           0.086802    0.814507  0.857170   \n",
       "height             -0.550160          -0.373737    0.590742  0.492063   \n",
       "curb-weight        -0.233118           0.099404    0.782097  0.880665   \n",
       "engine-size        -0.110581           0.112360    0.572027  0.685025   \n",
       "bore                0.243521           0.124511   -0.074380 -0.050463   \n",
       "stroke              0.245613           0.126034   -0.079330 -0.057929   \n",
       "compression-ratio  -0.182196          -0.114713    0.250313  0.159733   \n",
       "horsepower          0.076328           0.217034    0.368584  0.581018   \n",
       "peak-rpm            0.184721           0.166059   -0.217522 -0.227380   \n",
       "city-mpg           -0.035527          -0.225016   -0.470606 -0.665192   \n",
       "highway-mpg         0.036233          -0.181877   -0.543304 -0.698142   \n",
       "price              -0.082391           0.133999    0.584642  0.690628   \n",
       "fuel-type-diesel   -0.196735          -0.101546    0.307237  0.211187   \n",
       "fuel-type-gas       0.196735           0.101546   -0.307237 -0.211187   \n",
       "aspiration-std      0.054615           0.006911   -0.256889 -0.230085   \n",
       "aspiration-turbo   -0.054615          -0.006911    0.256889  0.230085   \n",
       "\n",
       "                      width    height  curb-weight  engine-size      bore  \\\n",
       "symboling         -0.242423 -0.550160    -0.233118    -0.110581  0.243521   \n",
       "normalized-losses  0.086802 -0.373737     0.099404     0.112360  0.124511   \n",
       "wheel-base         0.814507  0.590742     0.782097     0.572027 -0.074380   \n",
       "length             0.857170  0.492063     0.880665     0.685025 -0.050463   \n",
       "width              1.000000  0.306002     0.866201     0.729436 -0.004059   \n",
       "height             0.306002  1.000000     0.307581     0.074694 -0.240217   \n",
       "curb-weight        0.866201  0.307581     1.000000     0.849072 -0.029485   \n",
       "engine-size        0.729436  0.074694     0.849072     1.000000 -0.177698   \n",
       "bore              -0.004059 -0.240217    -0.029485    -0.177698  1.000000   \n",
       "stroke            -0.009260 -0.244270    -0.036691    -0.183013  0.999672   \n",
       "compression-ratio  0.189867  0.259737     0.156433     0.028889 -0.027237   \n",
       "horsepower         0.615817 -0.088696     0.756718     0.822255  0.031766   \n",
       "peak-rpm          -0.193213 -0.187717    -0.188590    -0.186924  0.189485   \n",
       "city-mpg          -0.633531 -0.049800    -0.749543    -0.650546 -0.196827   \n",
       "highway-mpg       -0.680635 -0.104812    -0.794889    -0.679571 -0.170635   \n",
       "price              0.751265  0.135486     0.834415     0.872335  0.005399   \n",
       "fuel-type-diesel   0.244356  0.281578     0.221046     0.070779 -0.046482   \n",
       "fuel-type-gas     -0.244356 -0.281578    -0.221046    -0.070779  0.046482   \n",
       "aspiration-std    -0.305732 -0.090336    -0.321955    -0.110040  0.062876   \n",
       "aspiration-turbo   0.305732  0.090336     0.321955     0.110040 -0.062876   \n",
       "\n",
       "                     stroke  compression-ratio  horsepower  peak-rpm  \\\n",
       "symboling          0.245613          -0.182196    0.076328  0.184721   \n",
       "normalized-losses  0.126034          -0.114713    0.217034  0.166059   \n",
       "wheel-base        -0.079330           0.250313    0.368584 -0.217522   \n",
       "length            -0.057929           0.159733    0.581018 -0.227380   \n",
       "width             -0.009260           0.189867    0.615817 -0.193213   \n",
       "height            -0.244270           0.259737   -0.088696 -0.187717   \n",
       "curb-weight       -0.036691           0.156433    0.756718 -0.188590   \n",
       "engine-size       -0.183013           0.028889    0.822255 -0.186924   \n",
       "bore               0.999672          -0.027237    0.031766  0.189485   \n",
       "stroke             1.000000          -0.023685    0.024642  0.189387   \n",
       "compression-ratio -0.023685           1.000000   -0.215986 -0.275573   \n",
       "horsepower         0.024642          -0.215986    1.000000  0.039036   \n",
       "peak-rpm           0.189387          -0.275573    0.039036  1.000000   \n",
       "city-mpg          -0.188074           0.331425   -0.822819 -0.055397   \n",
       "highway-mpg       -0.161747           0.268465   -0.803373 -0.043958   \n",
       "price             -0.001799           0.071107    0.806429 -0.037470   \n",
       "fuel-type-diesel  -0.042777           0.985231   -0.170419 -0.305794   \n",
       "fuel-type-gas      0.042777          -0.985231    0.170419  0.305794   \n",
       "aspiration-std     0.062400          -0.307522   -0.248610  0.097952   \n",
       "aspiration-turbo  -0.062400           0.307522    0.248610 -0.097952   \n",
       "\n",
       "                   city-mpg  highway-mpg     price  fuel-type-diesel  \\\n",
       "symboling         -0.035527     0.036233 -0.082391         -0.196735   \n",
       "normalized-losses -0.225016    -0.181877  0.133999         -0.101546   \n",
       "wheel-base        -0.470606    -0.543304  0.584642          0.307237   \n",
       "length            -0.665192    -0.698142  0.690628          0.211187   \n",
       "width             -0.633531    -0.680635  0.751265          0.244356   \n",
       "height            -0.049800    -0.104812  0.135486          0.281578   \n",
       "curb-weight       -0.749543    -0.794889  0.834415          0.221046   \n",
       "engine-size       -0.650546    -0.679571  0.872335          0.070779   \n",
       "bore              -0.196827    -0.170635  0.005399         -0.046482   \n",
       "stroke            -0.188074    -0.161747 -0.001799         -0.042777   \n",
       "compression-ratio  0.331425     0.268465  0.071107          0.985231   \n",
       "horsepower        -0.822819    -0.803373  0.806429         -0.170419   \n",
       "peak-rpm          -0.055397    -0.043958 -0.037470         -0.305794   \n",
       "city-mpg           1.000000     0.972044 -0.686571          0.265676   \n",
       "highway-mpg        0.972044     1.000000 -0.704692          0.198690   \n",
       "price             -0.686571    -0.704692  1.000000          0.110326   \n",
       "fuel-type-diesel   0.265676     0.198690  0.110326          1.000000   \n",
       "fuel-type-gas     -0.265676    -0.198690 -0.110326         -1.000000   \n",
       "aspiration-std     0.189237     0.241851 -0.179578         -0.408228   \n",
       "aspiration-turbo  -0.189237    -0.241851  0.179578          0.408228   \n",
       "\n",
       "                   fuel-type-gas  aspiration-std  aspiration-turbo  \n",
       "symboling               0.196735        0.054615         -0.054615  \n",
       "normalized-losses       0.101546        0.006911         -0.006911  \n",
       "wheel-base             -0.307237       -0.256889          0.256889  \n",
       "length                 -0.211187       -0.230085          0.230085  \n",
       "width                  -0.244356       -0.305732          0.305732  \n",
       "height                 -0.281578       -0.090336          0.090336  \n",
       "curb-weight            -0.221046       -0.321955          0.321955  \n",
       "engine-size            -0.070779       -0.110040          0.110040  \n",
       "bore                    0.046482        0.062876         -0.062876  \n",
       "stroke                  0.042777        0.062400         -0.062400  \n",
       "compression-ratio      -0.985231       -0.307522          0.307522  \n",
       "horsepower              0.170419       -0.248610          0.248610  \n",
       "peak-rpm                0.305794        0.097952         -0.097952  \n",
       "city-mpg               -0.265676        0.189237         -0.189237  \n",
       "highway-mpg            -0.198690        0.241851         -0.241851  \n",
       "price                  -0.110326       -0.179578          0.179578  \n",
       "fuel-type-diesel       -1.000000       -0.408228          0.408228  \n",
       "fuel-type-gas           1.000000        0.408228         -0.408228  \n",
       "aspiration-std          0.408228        1.000000         -1.000000  \n",
       "aspiration-turbo       -0.408228       -1.000000          1.000000  "
      ]
     },
     "execution_count": 3,
     "metadata": {},
     "output_type": "execute_result"
    }
   ],
   "source": [
    "df.corr()"
   ]
  },
  {
   "cell_type": "markdown",
   "id": "a180ef57",
   "metadata": {
    "papermill": {
     "duration": 0.056118,
     "end_time": "2022-03-23T17:47:05.084304",
     "exception": false,
     "start_time": "2022-03-23T17:47:05.028186",
     "status": "completed"
    },
    "tags": []
   },
   "source": [
    "###  Continuous Numerical Variables:\n",
    "Continuous numerical variables are variables that may contain any value within some range. They can be of type \"int64\" or \"float64\". A great way to visualize these variables is by using scatterplots with fitted lines.\n",
    "\n",
    "In order to start understanding the (linear) relationship between an individual variable and the price, we can use `sns.regplot` which plots the scatterplot plus the fitted regression line for the data.\n",
    "\n",
    "Let's see several examples of different linear relationships:\n",
    "\n",
    "#### 1. Positive Linear Relationship \n",
    "Let's find the scatterplot of \"engine-size\" and \"price\"."
   ]
  },
  {
   "cell_type": "code",
   "execution_count": 4,
   "id": "b9ae6369",
   "metadata": {
    "execution": {
     "iopub.execute_input": "2022-03-23T17:47:05.198371Z",
     "iopub.status.busy": "2022-03-23T17:47:05.197404Z",
     "iopub.status.idle": "2022-03-23T17:47:05.505214Z",
     "shell.execute_reply": "2022-03-23T17:47:05.504529Z",
     "shell.execute_reply.started": "2022-03-23T17:31:24.581591Z"
    },
    "papermill": {
     "duration": 0.365892,
     "end_time": "2022-03-23T17:47:05.505368",
     "exception": false,
     "start_time": "2022-03-23T17:47:05.139476",
     "status": "completed"
    },
    "tags": []
   },
   "outputs": [
    {
     "data": {
      "image/png": "[encoded data removed]",
      "text/plain": [
       "<Figure size 432x288 with 1 Axes>"
      ]
     },
     "metadata": {
      "needs_background": "light"
     },
     "output_type": "display_data"
    }
   ],
   "source": [
    "# Engine size as potential predictor variable of price\n",
    "sns.regplot(x='engine-size', y='price', data=df)\n",
    "plt.show()"
   ]
  },
  {
   "cell_type": "markdown",
   "id": "f174c7bb",
   "metadata": {
    "papermill": {
     "duration": 0.058295,
     "end_time": "2022-03-23T17:47:05.620995",
     "exception": false,
     "start_time": "2022-03-23T17:47:05.562700",
     "status": "completed"
    },
    "tags": []
   },
   "source": [
    "As the engine-size goes up, the price goes up: this indicates a positive direct correlation between these two variables. Engine size seems like a pretty good predictor of price since the regression line is almost a perfect diagonal line.\n",
    "\n",
    "We can examine the correlation between 'engine-size' and 'price' and see that it's approximately 0.87."
   ]
  },
  {
   "cell_type": "code",
   "execution_count": 5,
   "id": "415b9881",
   "metadata": {
    "execution": {
     "iopub.execute_input": "2022-03-23T17:47:05.740508Z",
     "iopub.status.busy": "2022-03-23T17:47:05.739434Z",
     "iopub.status.idle": "2022-03-23T17:47:05.754119Z",
     "shell.execute_reply": "2022-03-23T17:47:05.754690Z",
     "shell.execute_reply.started": "2022-03-23T17:31:25.138613Z"
    },
    "papermill": {
     "duration": 0.076392,
     "end_time": "2022-03-23T17:47:05.754895",
     "exception": false,
     "start_time": "2022-03-23T17:47:05.678503",
     "status": "completed"
    },
    "tags": []
   },
   "outputs": [
    {
     "data": {
      "text/html": [
       "<div>\n",
       "<style scoped>\n",
       "    .dataframe tbody tr th:only-of-type {\n",
       "        vertical-align: middle;\n",
       "    }\n",
       "\n",
       "    .dataframe tbody tr th {\n",
       "        vertical-align: top;\n",
       "    }\n",
       "\n",
       "    .dataframe thead th {\n",
       "        text-align: right;\n",
       "    }\n",
       "</style>\n",
       "<table border=\"1\" class=\"dataframe\">\n",
       "  <thead>\n",
       "    <tr style=\"text-align: right;\">\n",
       "      <th></th>\n",
       "      <th>engine-size</th>\n",
       "      <th>price</th>\n",
       "    </tr>\n",
       "  </thead>\n",
       "  <tbody>\n",
       "    <tr>\n",
       "      <th>engine-size</th>\n",
       "      <td>1.000000</td>\n",
       "      <td>0.872335</td>\n",
       "    </tr>\n",
       "    <tr>\n",
       "      <th>price</th>\n",
       "      <td>0.872335</td>\n",
       "      <td>1.000000</td>\n",
       "    </tr>\n",
       "  </tbody>\n",
       "</table>\n",
       "</div>"
      ],
      "text/plain": [
       "             engine-size     price\n",
       "engine-size     1.000000  0.872335\n",
       "price           0.872335  1.000000"
      ]
     },
     "execution_count": 5,
     "metadata": {},
     "output_type": "execute_result"
    }
   ],
   "source": [
    "df[['engine-size', 'price']].corr()"
   ]
  },
  {
   "cell_type": "markdown",
   "id": "ce746160",
   "metadata": {
    "papermill": {
     "duration": 0.058553,
     "end_time": "2022-03-23T17:47:05.872008",
     "exception": false,
     "start_time": "2022-03-23T17:47:05.813455",
     "status": "completed"
    },
    "tags": []
   },
   "source": [
    "#### 2. Negative Linear Relationship\n",
    "Highway mpg is a potential predictor variable of price. Let's find the scatterplot of \"highway-mpg\" and \"price\"."
   ]
  },
  {
   "cell_type": "code",
   "execution_count": 6,
   "id": "6c760499",
   "metadata": {
    "execution": {
     "iopub.execute_input": "2022-03-23T17:47:05.994210Z",
     "iopub.status.busy": "2022-03-23T17:47:05.993106Z",
     "iopub.status.idle": "2022-03-23T17:47:06.277162Z",
     "shell.execute_reply": "2022-03-23T17:47:06.277656Z",
     "shell.execute_reply.started": "2022-03-23T17:31:25.659487Z"
    },
    "papermill": {
     "duration": 0.347233,
     "end_time": "2022-03-23T17:47:06.277846",
     "exception": false,
     "start_time": "2022-03-23T17:47:05.930613",
     "status": "completed"
    },
    "tags": []
   },
   "outputs": [
    {
     "data": {
      "image/png": "[encoded data removed]",
      "text/plain": [
       "<Figure size 432x288 with 1 Axes>"
      ]
     },
     "metadata": {
      "needs_background": "light"
     },
     "output_type": "display_data"
    }
   ],
   "source": [
    "sns.regplot(x='highway-mpg', y='price', data=df)\n",
    "plt.show()"
   ]
  },
  {
   "cell_type": "markdown",
   "id": "c191c1ab",
   "metadata": {
    "papermill": {
     "duration": 0.057748,
     "end_time": "2022-03-23T17:47:06.394309",
     "exception": false,
     "start_time": "2022-03-23T17:47:06.336561",
     "status": "completed"
    },
    "tags": []
   },
   "source": [
    "As highway-mpg goes up, the price goes down: this indicates an inverse/negative relationship between these two variables. Highway mpg could potentially be a predictor of price.\n",
    "\n",
    "We can examine the correlation between 'highway-mpg' and 'price' and see it's approximately -0.704."
   ]
  },
  {
   "cell_type": "code",
   "execution_count": 7,
   "id": "13edf599",
   "metadata": {
    "execution": {
     "iopub.execute_input": "2022-03-23T17:47:06.514758Z",
     "iopub.status.busy": "2022-03-23T17:47:06.514132Z",
     "iopub.status.idle": "2022-03-23T17:47:06.527662Z",
     "shell.execute_reply": "2022-03-23T17:47:06.526891Z",
     "shell.execute_reply.started": "2022-03-23T17:31:26.193566Z"
    },
    "papermill": {
     "duration": 0.074917,
     "end_time": "2022-03-23T17:47:06.527808",
     "exception": false,
     "start_time": "2022-03-23T17:47:06.452891",
     "status": "completed"
    },
    "tags": []
   },
   "outputs": [
    {
     "data": {
      "text/html": [
       "<div>\n",
       "<style scoped>\n",
       "    .dataframe tbody tr th:only-of-type {\n",
       "        vertical-align: middle;\n",
       "    }\n",
       "\n",
       "    .dataframe tbody tr th {\n",
       "        vertical-align: top;\n",
       "    }\n",
       "\n",
       "    .dataframe thead th {\n",
       "        text-align: right;\n",
       "    }\n",
       "</style>\n",
       "<table border=\"1\" class=\"dataframe\">\n",
       "  <thead>\n",
       "    <tr style=\"text-align: right;\">\n",
       "      <th></th>\n",
       "      <th>highway-mpg</th>\n",
       "      <th>price</th>\n",
       "    </tr>\n",
       "  </thead>\n",
       "  <tbody>\n",
       "    <tr>\n",
       "      <th>highway-mpg</th>\n",
       "      <td>1.000000</td>\n",
       "      <td>-0.704692</td>\n",
       "    </tr>\n",
       "    <tr>\n",
       "      <th>price</th>\n",
       "      <td>-0.704692</td>\n",
       "      <td>1.000000</td>\n",
       "    </tr>\n",
       "  </tbody>\n",
       "</table>\n",
       "</div>"
      ],
      "text/plain": [
       "             highway-mpg     price\n",
       "highway-mpg     1.000000 -0.704692\n",
       "price          -0.704692  1.000000"
      ]
     },
     "execution_count": 7,
     "metadata": {},
     "output_type": "execute_result"
    }
   ],
   "source": [
    "df[['highway-mpg', 'price']].corr()"
   ]
  },
  {
   "cell_type": "markdown",
   "id": "513b2809",
   "metadata": {
    "papermill": {
     "duration": 0.060916,
     "end_time": "2022-03-23T17:47:06.648478",
     "exception": false,
     "start_time": "2022-03-23T17:47:06.587562",
     "status": "completed"
    },
    "tags": []
   },
   "source": [
    "#### 3. Weak Linear Relationship\n",
    "Let's see if \"peak-rpm\" is a predictor variable of \"price\"."
   ]
  },
  {
   "cell_type": "code",
   "execution_count": 8,
   "id": "4b8c70a7",
   "metadata": {
    "execution": {
     "iopub.execute_input": "2022-03-23T17:47:06.770360Z",
     "iopub.status.busy": "2022-03-23T17:47:06.769690Z",
     "iopub.status.idle": "2022-03-23T17:47:07.064606Z",
     "shell.execute_reply": "2022-03-23T17:47:07.065200Z",
     "shell.execute_reply.started": "2022-03-23T17:31:26.631073Z"
    },
    "papermill": {
     "duration": 0.357802,
     "end_time": "2022-03-23T17:47:07.065387",
     "exception": false,
     "start_time": "2022-03-23T17:47:06.707585",
     "status": "completed"
    },
    "tags": []
   },
   "outputs": [
    {
     "data": {
      "image/png": "[encoded data removed]",
      "text/plain": [
       "<Figure size 432x288 with 1 Axes>"
      ]
     },
     "metadata": {
      "needs_background": "light"
     },
     "output_type": "display_data"
    }
   ],
   "source": [
    "sns.regplot(x='peak-rpm', y='price', data=df)\n",
    "plt.show()"
   ]
  },
  {
   "cell_type": "markdown",
   "id": "72f1afbd",
   "metadata": {
    "papermill": {
     "duration": 0.059669,
     "end_time": "2022-03-23T17:47:07.185747",
     "exception": false,
     "start_time": "2022-03-23T17:47:07.126078",
     "status": "completed"
    },
    "tags": []
   },
   "source": [
    "peak rpm does not seem like a good predictor of the price at all since the regression line is close to horizontal. Also, the data points are very scattered and far from the fitted line, showing lots of variability. Therefore, it's not a reliable variable.\n",
    "\n",
    "We can examine the correlation between 'peak-rpm' and 'price' and see it's approximately -0.101616."
   ]
  },
  {
   "cell_type": "code",
   "execution_count": 9,
   "id": "ba506c8a",
   "metadata": {
    "execution": {
     "iopub.execute_input": "2022-03-23T17:47:07.309218Z",
     "iopub.status.busy": "2022-03-23T17:47:07.308572Z",
     "iopub.status.idle": "2022-03-23T17:47:07.319132Z",
     "shell.execute_reply": "2022-03-23T17:47:07.319709Z",
     "shell.execute_reply.started": "2022-03-23T17:31:27.086890Z"
    },
    "papermill": {
     "duration": 0.074197,
     "end_time": "2022-03-23T17:47:07.319874",
     "exception": false,
     "start_time": "2022-03-23T17:47:07.245677",
     "status": "completed"
    },
    "tags": []
   },
   "outputs": [
    {
     "data": {
      "text/html": [
       "<div>\n",
       "<style scoped>\n",
       "    .dataframe tbody tr th:only-of-type {\n",
       "        vertical-align: middle;\n",
       "    }\n",
       "\n",
       "    .dataframe tbody tr th {\n",
       "        vertical-align: top;\n",
       "    }\n",
       "\n",
       "    .dataframe thead th {\n",
       "        text-align: right;\n",
       "    }\n",
       "</style>\n",
       "<table border=\"1\" class=\"dataframe\">\n",
       "  <thead>\n",
       "    <tr style=\"text-align: right;\">\n",
       "      <th></th>\n",
       "      <th>peak-rpm</th>\n",
       "      <th>price</th>\n",
       "    </tr>\n",
       "  </thead>\n",
       "  <tbody>\n",
       "    <tr>\n",
       "      <th>peak-rpm</th>\n",
       "      <td>1.00000</td>\n",
       "      <td>-0.03747</td>\n",
       "    </tr>\n",
       "    <tr>\n",
       "      <th>price</th>\n",
       "      <td>-0.03747</td>\n",
       "      <td>1.00000</td>\n",
       "    </tr>\n",
       "  </tbody>\n",
       "</table>\n",
       "</div>"
      ],
      "text/plain": [
       "          peak-rpm    price\n",
       "peak-rpm   1.00000 -0.03747\n",
       "price     -0.03747  1.00000"
      ]
     },
     "execution_count": 9,
     "metadata": {},
     "output_type": "execute_result"
    }
   ],
   "source": [
    "df[['peak-rpm','price']].corr()"
   ]
  },
  {
   "cell_type": "markdown",
   "id": "cd88ed64",
   "metadata": {
    "papermill": {
     "duration": 0.060475,
     "end_time": "2022-03-23T17:47:07.440556",
     "exception": false,
     "start_time": "2022-03-23T17:47:07.380081",
     "status": "completed"
    },
    "tags": []
   },
   "source": [
    "### Categorical Variables\n",
    "These are variables that describe a 'characteristic' of a data unit, and are selected from a small group of categories. The categorical variables can have the type \"object\" or \"int64\". A good way to visualize categorical variables is by using boxplots.\n",
    "\n",
    "Let's look at the relationship between \"body-style\" and \"price\"."
   ]
  },
  {
   "cell_type": "code",
   "execution_count": 10,
   "id": "f8f1a00d",
   "metadata": {
    "execution": {
     "iopub.execute_input": "2022-03-23T17:47:07.565421Z",
     "iopub.status.busy": "2022-03-23T17:47:07.564753Z",
     "iopub.status.idle": "2022-03-23T17:47:07.768261Z",
     "shell.execute_reply": "2022-03-23T17:47:07.767236Z",
     "shell.execute_reply.started": "2022-03-23T17:31:27.765916Z"
    },
    "papermill": {
     "duration": 0.267128,
     "end_time": "2022-03-23T17:47:07.768438",
     "exception": false,
     "start_time": "2022-03-23T17:47:07.501310",
     "status": "completed"
    },
    "tags": []
   },
   "outputs": [
    {
     "data": {
      "image/png": "[encoded data removed]",
      "text/plain": [
       "<Figure size 432x288 with 1 Axes>"
      ]
     },
     "metadata": {
      "needs_background": "light"
     },
     "output_type": "display_data"
    }
   ],
   "source": [
    "sns.boxplot(x='body-style', y='price', data=df)\n",
    "plt.show()"
   ]
  },
  {
   "cell_type": "markdown",
   "id": "b233e9f8",
   "metadata": {
    "papermill": {
     "duration": 0.063092,
     "end_time": "2022-03-23T17:47:07.894889",
     "exception": false,
     "start_time": "2022-03-23T17:47:07.831797",
     "status": "completed"
    },
    "tags": []
   },
   "source": [
    "We see that the distributions of price between the different body-style categories have a significant overlap, so body-style would not be a good predictor of price. Let's examine engine \"engine-location\" and \"price\":"
   ]
  },
  {
   "cell_type": "code",
   "execution_count": 11,
   "id": "0fce458c",
   "metadata": {
    "execution": {
     "iopub.execute_input": "2022-03-23T17:47:08.025099Z",
     "iopub.status.busy": "2022-03-23T17:47:08.024033Z",
     "iopub.status.idle": "2022-03-23T17:47:08.219036Z",
     "shell.execute_reply": "2022-03-23T17:47:08.219714Z",
     "shell.execute_reply.started": "2022-03-23T17:31:29.128126Z"
    },
    "papermill": {
     "duration": 0.262996,
     "end_time": "2022-03-23T17:47:08.219932",
     "exception": false,
     "start_time": "2022-03-23T17:47:07.956936",
     "status": "completed"
    },
    "tags": []
   },
   "outputs": [
    {
     "data": {
      "image/png": "[encoded data removed]",
      "text/plain": [
       "<Figure size 432x288 with 1 Axes>"
      ]
     },
     "metadata": {
      "needs_background": "light"
     },
     "output_type": "display_data"
    }
   ],
   "source": [
    "sns.boxplot(x='engine-location', y='price', data=df)\n",
    "plt.show()"
   ]
  },
  {
   "cell_type": "markdown",
   "id": "538fb1a1",
   "metadata": {
    "papermill": {
     "duration": 0.063113,
     "end_time": "2022-03-23T17:47:08.346250",
     "exception": false,
     "start_time": "2022-03-23T17:47:08.283137",
     "status": "completed"
    },
    "tags": []
   },
   "source": [
    "Here we see that the distribution of price between these two engine-location categories, front and rear, are distinct enough to take engine-location as a potential good predictor of price.\n",
    "\n",
    "Let's examine \"drive-wheels\" and \"price\"."
   ]
  },
  {
   "cell_type": "code",
   "execution_count": 12,
   "id": "f315e091",
   "metadata": {
    "execution": {
     "iopub.execute_input": "2022-03-23T17:47:08.481103Z",
     "iopub.status.busy": "2022-03-23T17:47:08.480017Z",
     "iopub.status.idle": "2022-03-23T17:47:08.684961Z",
     "shell.execute_reply": "2022-03-23T17:47:08.685452Z",
     "shell.execute_reply.started": "2022-03-23T17:31:33.303963Z"
    },
    "papermill": {
     "duration": 0.276267,
     "end_time": "2022-03-23T17:47:08.685641",
     "exception": false,
     "start_time": "2022-03-23T17:47:08.409374",
     "status": "completed"
    },
    "tags": []
   },
   "outputs": [
    {
     "data": {
      "image/png": "[encoded data removed]",
      "text/plain": [
       "<Figure size 432x288 with 1 Axes>"
      ]
     },
     "metadata": {
      "needs_background": "light"
     },
     "output_type": "display_data"
    }
   ],
   "source": [
    "sns.boxplot(x='drive-wheels', y='price', data=df)\n",
    "plt.show()"
   ]
  },
  {
   "cell_type": "markdown",
   "id": "2638cf47",
   "metadata": {
    "papermill": {
     "duration": 0.063897,
     "end_time": "2022-03-23T17:47:08.812717",
     "exception": false,
     "start_time": "2022-03-23T17:47:08.748820",
     "status": "completed"
    },
    "tags": []
   },
   "source": [
    "Here we see that the distribution of price between the different drive-wheels categories differs. As such, drive-wheels could potentially be a predictor of price."
   ]
  },
  {
   "cell_type": "markdown",
   "id": "315112ea",
   "metadata": {
    "papermill": {
     "duration": 0.064053,
     "end_time": "2022-03-23T17:47:08.939837",
     "exception": false,
     "start_time": "2022-03-23T17:47:08.875784",
     "status": "completed"
    },
    "tags": []
   },
   "source": [
    "## 3. Descriptive Statistical Analysis\n",
    "\n",
    "Let's first take a look at the variables by utilizing a description method.\n",
    "\n",
    "The describe function automatically computes basic statistics for all continuous variables. Any NaN values are automatically skipped in these statistics.\n",
    "\n",
    "This will show:\n",
    "\n",
    "- the count of that variable\n",
    "- the mean\n",
    "- the standard deviation (std)\n",
    "- the minimum value\n",
    "- the IQR (Interquartile Range: 25%, 50% and 75%)\n",
    "- the maximum value\n",
    "\n",
    "\n",
    "We can apply the method \"describe\" as follows:"
   ]
  },
  {
   "cell_type": "code",
   "execution_count": 13,
   "id": "1abecd27",
   "metadata": {
    "execution": {
     "iopub.execute_input": "2022-03-23T17:47:09.070997Z",
     "iopub.status.busy": "2022-03-23T17:47:09.070018Z",
     "iopub.status.idle": "2022-03-23T17:47:09.133831Z",
     "shell.execute_reply": "2022-03-23T17:47:09.134361Z",
     "shell.execute_reply.started": "2022-03-23T17:31:35.866505Z"
    },
    "papermill": {
     "duration": 0.131342,
     "end_time": "2022-03-23T17:47:09.134535",
     "exception": false,
     "start_time": "2022-03-23T17:47:09.003193",
     "status": "completed"
    },
    "tags": []
   },
   "outputs": [
    {
     "data": {
      "text/html": [
       "<div>\n",
       "<style scoped>\n",
       "    .dataframe tbody tr th:only-of-type {\n",
       "        vertical-align: middle;\n",
       "    }\n",
       "\n",
       "    .dataframe tbody tr th {\n",
       "        vertical-align: top;\n",
       "    }\n",
       "\n",
       "    .dataframe thead th {\n",
       "        text-align: right;\n",
       "    }\n",
       "</style>\n",
       "<table border=\"1\" class=\"dataframe\">\n",
       "  <thead>\n",
       "    <tr style=\"text-align: right;\">\n",
       "      <th></th>\n",
       "      <th>symboling</th>\n",
       "      <th>normalized-losses</th>\n",
       "      <th>wheel-base</th>\n",
       "      <th>length</th>\n",
       "      <th>width</th>\n",
       "      <th>height</th>\n",
       "      <th>curb-weight</th>\n",
       "      <th>engine-size</th>\n",
       "      <th>bore</th>\n",
       "      <th>stroke</th>\n",
       "      <th>compression-ratio</th>\n",
       "      <th>horsepower</th>\n",
       "      <th>peak-rpm</th>\n",
       "      <th>city-mpg</th>\n",
       "      <th>highway-mpg</th>\n",
       "      <th>price</th>\n",
       "      <th>fuel-type-diesel</th>\n",
       "      <th>fuel-type-gas</th>\n",
       "      <th>aspiration-std</th>\n",
       "      <th>aspiration-turbo</th>\n",
       "    </tr>\n",
       "  </thead>\n",
       "  <tbody>\n",
       "    <tr>\n",
       "      <th>count</th>\n",
       "      <td>201.000000</td>\n",
       "      <td>201.00000</td>\n",
       "      <td>201.000000</td>\n",
       "      <td>201.000000</td>\n",
       "      <td>201.000000</td>\n",
       "      <td>201.000000</td>\n",
       "      <td>201.000000</td>\n",
       "      <td>201.000000</td>\n",
       "      <td>201.000000</td>\n",
       "      <td>201.000000</td>\n",
       "      <td>201.000000</td>\n",
       "      <td>201.000000</td>\n",
       "      <td>201.000000</td>\n",
       "      <td>201.000000</td>\n",
       "      <td>201.000000</td>\n",
       "      <td>201.000000</td>\n",
       "      <td>201.000000</td>\n",
       "      <td>201.000000</td>\n",
       "      <td>201.000000</td>\n",
       "      <td>201.000000</td>\n",
       "    </tr>\n",
       "    <tr>\n",
       "      <th>mean</th>\n",
       "      <td>0.840796</td>\n",
       "      <td>122.00000</td>\n",
       "      <td>98.797015</td>\n",
       "      <td>0.837102</td>\n",
       "      <td>0.915126</td>\n",
       "      <td>0.899108</td>\n",
       "      <td>2555.666667</td>\n",
       "      <td>126.875622</td>\n",
       "      <td>5.692289</td>\n",
       "      <td>5.619950</td>\n",
       "      <td>10.164279</td>\n",
       "      <td>103.582090</td>\n",
       "      <td>5067.880597</td>\n",
       "      <td>25.179104</td>\n",
       "      <td>30.686567</td>\n",
       "      <td>13207.129353</td>\n",
       "      <td>0.099502</td>\n",
       "      <td>0.900498</td>\n",
       "      <td>0.820896</td>\n",
       "      <td>0.179104</td>\n",
       "    </tr>\n",
       "    <tr>\n",
       "      <th>std</th>\n",
       "      <td>1.254802</td>\n",
       "      <td>31.99625</td>\n",
       "      <td>6.066366</td>\n",
       "      <td>0.059213</td>\n",
       "      <td>0.029187</td>\n",
       "      <td>0.040933</td>\n",
       "      <td>517.296727</td>\n",
       "      <td>41.546834</td>\n",
       "      <td>16.616706</td>\n",
       "      <td>16.627881</td>\n",
       "      <td>4.004965</td>\n",
       "      <td>37.411422</td>\n",
       "      <td>689.686904</td>\n",
       "      <td>6.423220</td>\n",
       "      <td>6.815150</td>\n",
       "      <td>7947.066342</td>\n",
       "      <td>0.300083</td>\n",
       "      <td>0.300083</td>\n",
       "      <td>0.384397</td>\n",
       "      <td>0.384397</td>\n",
       "    </tr>\n",
       "    <tr>\n",
       "      <th>min</th>\n",
       "      <td>-2.000000</td>\n",
       "      <td>65.00000</td>\n",
       "      <td>86.600000</td>\n",
       "      <td>0.678039</td>\n",
       "      <td>0.837500</td>\n",
       "      <td>0.799331</td>\n",
       "      <td>1488.000000</td>\n",
       "      <td>61.000000</td>\n",
       "      <td>2.540000</td>\n",
       "      <td>2.070000</td>\n",
       "      <td>7.000000</td>\n",
       "      <td>48.000000</td>\n",
       "      <td>122.000000</td>\n",
       "      <td>13.000000</td>\n",
       "      <td>16.000000</td>\n",
       "      <td>5118.000000</td>\n",
       "      <td>0.000000</td>\n",
       "      <td>0.000000</td>\n",
       "      <td>0.000000</td>\n",
       "      <td>0.000000</td>\n",
       "    </tr>\n",
       "    <tr>\n",
       "      <th>25%</th>\n",
       "      <td>0.000000</td>\n",
       "      <td>101.00000</td>\n",
       "      <td>94.500000</td>\n",
       "      <td>0.801538</td>\n",
       "      <td>0.890278</td>\n",
       "      <td>0.869565</td>\n",
       "      <td>2169.000000</td>\n",
       "      <td>98.000000</td>\n",
       "      <td>3.150000</td>\n",
       "      <td>3.110000</td>\n",
       "      <td>8.600000</td>\n",
       "      <td>70.000000</td>\n",
       "      <td>4800.000000</td>\n",
       "      <td>19.000000</td>\n",
       "      <td>25.000000</td>\n",
       "      <td>7775.000000</td>\n",
       "      <td>0.000000</td>\n",
       "      <td>1.000000</td>\n",
       "      <td>1.000000</td>\n",
       "      <td>0.000000</td>\n",
       "    </tr>\n",
       "    <tr>\n",
       "      <th>50%</th>\n",
       "      <td>1.000000</td>\n",
       "      <td>122.00000</td>\n",
       "      <td>97.000000</td>\n",
       "      <td>0.832292</td>\n",
       "      <td>0.909722</td>\n",
       "      <td>0.904682</td>\n",
       "      <td>2414.000000</td>\n",
       "      <td>120.000000</td>\n",
       "      <td>3.310000</td>\n",
       "      <td>3.290000</td>\n",
       "      <td>9.000000</td>\n",
       "      <td>95.000000</td>\n",
       "      <td>5100.000000</td>\n",
       "      <td>24.000000</td>\n",
       "      <td>30.000000</td>\n",
       "      <td>10295.000000</td>\n",
       "      <td>0.000000</td>\n",
       "      <td>1.000000</td>\n",
       "      <td>1.000000</td>\n",
       "      <td>0.000000</td>\n",
       "    </tr>\n",
       "    <tr>\n",
       "      <th>75%</th>\n",
       "      <td>2.000000</td>\n",
       "      <td>137.00000</td>\n",
       "      <td>102.400000</td>\n",
       "      <td>0.881788</td>\n",
       "      <td>0.925000</td>\n",
       "      <td>0.928094</td>\n",
       "      <td>2926.000000</td>\n",
       "      <td>141.000000</td>\n",
       "      <td>3.600000</td>\n",
       "      <td>3.460000</td>\n",
       "      <td>9.400000</td>\n",
       "      <td>116.000000</td>\n",
       "      <td>5500.000000</td>\n",
       "      <td>30.000000</td>\n",
       "      <td>34.000000</td>\n",
       "      <td>16500.000000</td>\n",
       "      <td>0.000000</td>\n",
       "      <td>1.000000</td>\n",
       "      <td>1.000000</td>\n",
       "      <td>0.000000</td>\n",
       "    </tr>\n",
       "    <tr>\n",
       "      <th>max</th>\n",
       "      <td>3.000000</td>\n",
       "      <td>256.00000</td>\n",
       "      <td>120.900000</td>\n",
       "      <td>1.000000</td>\n",
       "      <td>1.000000</td>\n",
       "      <td>1.000000</td>\n",
       "      <td>4066.000000</td>\n",
       "      <td>326.000000</td>\n",
       "      <td>122.000000</td>\n",
       "      <td>122.000000</td>\n",
       "      <td>23.000000</td>\n",
       "      <td>262.000000</td>\n",
       "      <td>6600.000000</td>\n",
       "      <td>49.000000</td>\n",
       "      <td>54.000000</td>\n",
       "      <td>45400.000000</td>\n",
       "      <td>1.000000</td>\n",
       "      <td>1.000000</td>\n",
       "      <td>1.000000</td>\n",
       "      <td>1.000000</td>\n",
       "    </tr>\n",
       "  </tbody>\n",
       "</table>\n",
       "</div>"
      ],
      "text/plain": [
       "        symboling  normalized-losses  wheel-base      length       width  \\\n",
       "count  201.000000          201.00000  201.000000  201.000000  201.000000   \n",
       "mean     0.840796          122.00000   98.797015    0.837102    0.915126   \n",
       "std      1.254802           31.99625    6.066366    0.059213    0.029187   \n",
       "min     -2.000000           65.00000   86.600000    0.678039    0.837500   \n",
       "25%      0.000000          101.00000   94.500000    0.801538    0.890278   \n",
       "50%      1.000000          122.00000   97.000000    0.832292    0.909722   \n",
       "75%      2.000000          137.00000  102.400000    0.881788    0.925000   \n",
       "max      3.000000          256.00000  120.900000    1.000000    1.000000   \n",
       "\n",
       "           height  curb-weight  engine-size        bore      stroke  \\\n",
       "count  201.000000   201.000000   201.000000  201.000000  201.000000   \n",
       "mean     0.899108  2555.666667   126.875622    5.692289    5.619950   \n",
       "std      0.040933   517.296727    41.546834   16.616706   16.627881   \n",
       "min      0.799331  1488.000000    61.000000    2.540000    2.070000   \n",
       "25%      0.869565  2169.000000    98.000000    3.150000    3.110000   \n",
       "50%      0.904682  2414.000000   120.000000    3.310000    3.290000   \n",
       "75%      0.928094  2926.000000   141.000000    3.600000    3.460000   \n",
       "max      1.000000  4066.000000   326.000000  122.000000  122.000000   \n",
       "\n",
       "       compression-ratio  horsepower     peak-rpm    city-mpg  highway-mpg  \\\n",
       "count         201.000000  201.000000   201.000000  201.000000   201.000000   \n",
       "mean           10.164279  103.582090  5067.880597   25.179104    30.686567   \n",
       "std             4.004965   37.411422   689.686904    6.423220     6.815150   \n",
       "min             7.000000   48.000000   122.000000   13.000000    16.000000   \n",
       "25%             8.600000   70.000000  4800.000000   19.000000    25.000000   \n",
       "50%             9.000000   95.000000  5100.000000   24.000000    30.000000   \n",
       "75%             9.400000  116.000000  5500.000000   30.000000    34.000000   \n",
       "max            23.000000  262.000000  6600.000000   49.000000    54.000000   \n",
       "\n",
       "              price  fuel-type-diesel  fuel-type-gas  aspiration-std  \\\n",
       "count    201.000000        201.000000     201.000000      201.000000   \n",
       "mean   13207.129353          0.099502       0.900498        0.820896   \n",
       "std     7947.066342          0.300083       0.300083        0.384397   \n",
       "min     5118.000000          0.000000       0.000000        0.000000   \n",
       "25%     7775.000000          0.000000       1.000000        1.000000   \n",
       "50%    10295.000000          0.000000       1.000000        1.000000   \n",
       "75%    16500.000000          0.000000       1.000000        1.000000   \n",
       "max    45400.000000          1.000000       1.000000        1.000000   \n",
       "\n",
       "       aspiration-turbo  \n",
       "count        201.000000  \n",
       "mean           0.179104  \n",
       "std            0.384397  \n",
       "min            0.000000  \n",
       "25%            0.000000  \n",
       "50%            0.000000  \n",
       "75%            0.000000  \n",
       "max            1.000000  "
      ]
     },
     "execution_count": 13,
     "metadata": {},
     "output_type": "execute_result"
    }
   ],
   "source": [
    "df.describe()"
   ]
  },
  {
   "cell_type": "markdown",
   "id": "79b227c0",
   "metadata": {
    "papermill": {
     "duration": 0.063249,
     "end_time": "2022-03-23T17:47:09.261556",
     "exception": false,
     "start_time": "2022-03-23T17:47:09.198307",
     "status": "completed"
    },
    "tags": []
   },
   "source": [
    "The default setting of \"describe\" skips variables of type object. We can apply the method \"describe\" on the variables of type 'object' as follows:"
   ]
  },
  {
   "cell_type": "code",
   "execution_count": 14,
   "id": "d160cab1",
   "metadata": {
    "execution": {
     "iopub.execute_input": "2022-03-23T17:47:09.392458Z",
     "iopub.status.busy": "2022-03-23T17:47:09.391824Z",
     "iopub.status.idle": "2022-03-23T17:47:09.421507Z",
     "shell.execute_reply": "2022-03-23T17:47:09.422180Z",
     "shell.execute_reply.started": "2022-03-23T17:31:36.882298Z"
    },
    "papermill": {
     "duration": 0.097227,
     "end_time": "2022-03-23T17:47:09.422357",
     "exception": false,
     "start_time": "2022-03-23T17:47:09.325130",
     "status": "completed"
    },
    "tags": []
   },
   "outputs": [
    {
     "data": {
      "text/html": [
       "<div>\n",
       "<style scoped>\n",
       "    .dataframe tbody tr th:only-of-type {\n",
       "        vertical-align: middle;\n",
       "    }\n",
       "\n",
       "    .dataframe tbody tr th {\n",
       "        vertical-align: top;\n",
       "    }\n",
       "\n",
       "    .dataframe thead th {\n",
       "        text-align: right;\n",
       "    }\n",
       "</style>\n",
       "<table border=\"1\" class=\"dataframe\">\n",
       "  <thead>\n",
       "    <tr style=\"text-align: right;\">\n",
       "      <th></th>\n",
       "      <th>make</th>\n",
       "      <th>num-of-doors</th>\n",
       "      <th>body-style</th>\n",
       "      <th>drive-wheels</th>\n",
       "      <th>engine-location</th>\n",
       "      <th>engine-type</th>\n",
       "      <th>num-of-cylinders</th>\n",
       "      <th>fuel-system</th>\n",
       "      <th>horsepower-binned</th>\n",
       "    </tr>\n",
       "  </thead>\n",
       "  <tbody>\n",
       "    <tr>\n",
       "      <th>count</th>\n",
       "      <td>201</td>\n",
       "      <td>201</td>\n",
       "      <td>201</td>\n",
       "      <td>201</td>\n",
       "      <td>201</td>\n",
       "      <td>201</td>\n",
       "      <td>201</td>\n",
       "      <td>201</td>\n",
       "      <td>201</td>\n",
       "    </tr>\n",
       "    <tr>\n",
       "      <th>unique</th>\n",
       "      <td>22</td>\n",
       "      <td>2</td>\n",
       "      <td>5</td>\n",
       "      <td>3</td>\n",
       "      <td>2</td>\n",
       "      <td>6</td>\n",
       "      <td>7</td>\n",
       "      <td>8</td>\n",
       "      <td>3</td>\n",
       "    </tr>\n",
       "    <tr>\n",
       "      <th>top</th>\n",
       "      <td>toyota</td>\n",
       "      <td>four</td>\n",
       "      <td>sedan</td>\n",
       "      <td>fwd</td>\n",
       "      <td>front</td>\n",
       "      <td>ohc</td>\n",
       "      <td>four</td>\n",
       "      <td>mpfi</td>\n",
       "      <td>Low</td>\n",
       "    </tr>\n",
       "    <tr>\n",
       "      <th>freq</th>\n",
       "      <td>32</td>\n",
       "      <td>115</td>\n",
       "      <td>94</td>\n",
       "      <td>118</td>\n",
       "      <td>198</td>\n",
       "      <td>145</td>\n",
       "      <td>157</td>\n",
       "      <td>92</td>\n",
       "      <td>151</td>\n",
       "    </tr>\n",
       "  </tbody>\n",
       "</table>\n",
       "</div>"
      ],
      "text/plain": [
       "          make num-of-doors body-style drive-wheels engine-location  \\\n",
       "count      201          201        201          201             201   \n",
       "unique      22            2          5            3               2   \n",
       "top     toyota         four      sedan          fwd           front   \n",
       "freq        32          115         94          118             198   \n",
       "\n",
       "       engine-type num-of-cylinders fuel-system horsepower-binned  \n",
       "count          201              201         201               201  \n",
       "unique           6                7           8                 3  \n",
       "top            ohc             four        mpfi               Low  \n",
       "freq           145              157          92               151  "
      ]
     },
     "execution_count": 14,
     "metadata": {},
     "output_type": "execute_result"
    }
   ],
   "source": [
    "df.describe(include=['object'])"
   ]
  },
  {
   "cell_type": "markdown",
   "id": "60987652",
   "metadata": {
    "papermill": {
     "duration": 0.064001,
     "end_time": "2022-03-23T17:47:09.550258",
     "exception": false,
     "start_time": "2022-03-23T17:47:09.486257",
     "status": "completed"
    },
    "tags": []
   },
   "source": [
    "#### Value Counts\n",
    "Value counts is a good way of understanding how many units of each characteristic/variable we have. We can apply the \"value_counts\" method on the column \"drive-wheels\". Don’t forget the method \"value_counts\" only works on pandas series, not pandas dataframes. As a result, we only include one bracket df['drive-wheels'], not two brackets df[['drive-wheels']]."
   ]
  },
  {
   "cell_type": "code",
   "execution_count": 15,
   "id": "db2e1877",
   "metadata": {
    "execution": {
     "iopub.execute_input": "2022-03-23T17:47:09.687979Z",
     "iopub.status.busy": "2022-03-23T17:47:09.687316Z",
     "iopub.status.idle": "2022-03-23T17:47:09.689762Z",
     "shell.execute_reply": "2022-03-23T17:47:09.690355Z",
     "shell.execute_reply.started": "2022-03-23T17:31:38.166362Z"
    },
    "papermill": {
     "duration": 0.075709,
     "end_time": "2022-03-23T17:47:09.690520",
     "exception": false,
     "start_time": "2022-03-23T17:47:09.614811",
     "status": "completed"
    },
    "tags": []
   },
   "outputs": [
    {
     "data": {
      "text/plain": [
       "fwd    118\n",
       "rwd     75\n",
       "4wd      8\n",
       "Name: drive-wheels, dtype: int64"
      ]
     },
     "execution_count": 15,
     "metadata": {},
     "output_type": "execute_result"
    }
   ],
   "source": [
    "df['drive-wheels'].value_counts()"
   ]
  },
  {
   "cell_type": "markdown",
   "id": "09171a4a",
   "metadata": {
    "papermill": {
     "duration": 0.066721,
     "end_time": "2022-03-23T17:47:09.821586",
     "exception": false,
     "start_time": "2022-03-23T17:47:09.754865",
     "status": "completed"
    },
    "tags": []
   },
   "source": [
    "We can convert the series to a dataframe as follows:"
   ]
  },
  {
   "cell_type": "code",
   "execution_count": 16,
   "id": "650aed36",
   "metadata": {
    "execution": {
     "iopub.execute_input": "2022-03-23T17:47:09.955377Z",
     "iopub.status.busy": "2022-03-23T17:47:09.954617Z",
     "iopub.status.idle": "2022-03-23T17:47:09.964194Z",
     "shell.execute_reply": "2022-03-23T17:47:09.964676Z",
     "shell.execute_reply.started": "2022-03-23T17:31:40.424036Z"
    },
    "papermill": {
     "duration": 0.078205,
     "end_time": "2022-03-23T17:47:09.964857",
     "exception": false,
     "start_time": "2022-03-23T17:47:09.886652",
     "status": "completed"
    },
    "tags": []
   },
   "outputs": [
    {
     "data": {
      "text/html": [
       "<div>\n",
       "<style scoped>\n",
       "    .dataframe tbody tr th:only-of-type {\n",
       "        vertical-align: middle;\n",
       "    }\n",
       "\n",
       "    .dataframe tbody tr th {\n",
       "        vertical-align: top;\n",
       "    }\n",
       "\n",
       "    .dataframe thead th {\n",
       "        text-align: right;\n",
       "    }\n",
       "</style>\n",
       "<table border=\"1\" class=\"dataframe\">\n",
       "  <thead>\n",
       "    <tr style=\"text-align: right;\">\n",
       "      <th></th>\n",
       "      <th>drive-wheels</th>\n",
       "    </tr>\n",
       "  </thead>\n",
       "  <tbody>\n",
       "    <tr>\n",
       "      <th>fwd</th>\n",
       "      <td>118</td>\n",
       "    </tr>\n",
       "    <tr>\n",
       "      <th>rwd</th>\n",
       "      <td>75</td>\n",
       "    </tr>\n",
       "    <tr>\n",
       "      <th>4wd</th>\n",
       "      <td>8</td>\n",
       "    </tr>\n",
       "  </tbody>\n",
       "</table>\n",
       "</div>"
      ],
      "text/plain": [
       "     drive-wheels\n",
       "fwd           118\n",
       "rwd            75\n",
       "4wd             8"
      ]
     },
     "execution_count": 16,
     "metadata": {},
     "output_type": "execute_result"
    }
   ],
   "source": [
    "df['drive-wheels'].value_counts().to_frame()"
   ]
  },
  {
   "cell_type": "markdown",
   "id": "12326d2a",
   "metadata": {
    "papermill": {
     "duration": 0.066515,
     "end_time": "2022-03-23T17:47:10.100791",
     "exception": false,
     "start_time": "2022-03-23T17:47:10.034276",
     "status": "completed"
    },
    "tags": []
   },
   "source": [
    "Let's repeat the above steps but save the results to the dataframe \"drive_wheels_counts\" and rename the column 'drive-wheels' to 'value_counts' and rename the index to 'drive-wheels':"
   ]
  },
  {
   "cell_type": "code",
   "execution_count": 17,
   "id": "9c928333",
   "metadata": {
    "execution": {
     "iopub.execute_input": "2022-03-23T17:47:10.245396Z",
     "iopub.status.busy": "2022-03-23T17:47:10.244713Z",
     "iopub.status.idle": "2022-03-23T17:47:10.247342Z",
     "shell.execute_reply": "2022-03-23T17:47:10.247812Z",
     "shell.execute_reply.started": "2022-03-23T17:31:42.099800Z"
    },
    "papermill": {
     "duration": 0.081854,
     "end_time": "2022-03-23T17:47:10.247997",
     "exception": false,
     "start_time": "2022-03-23T17:47:10.166143",
     "status": "completed"
    },
    "tags": []
   },
   "outputs": [
    {
     "data": {
      "text/html": [
       "<div>\n",
       "<style scoped>\n",
       "    .dataframe tbody tr th:only-of-type {\n",
       "        vertical-align: middle;\n",
       "    }\n",
       "\n",
       "    .dataframe tbody tr th {\n",
       "        vertical-align: top;\n",
       "    }\n",
       "\n",
       "    .dataframe thead th {\n",
       "        text-align: right;\n",
       "    }\n",
       "</style>\n",
       "<table border=\"1\" class=\"dataframe\">\n",
       "  <thead>\n",
       "    <tr style=\"text-align: right;\">\n",
       "      <th></th>\n",
       "      <th>value_counts</th>\n",
       "    </tr>\n",
       "    <tr>\n",
       "      <th>drive-wheels</th>\n",
       "      <th></th>\n",
       "    </tr>\n",
       "  </thead>\n",
       "  <tbody>\n",
       "    <tr>\n",
       "      <th>fwd</th>\n",
       "      <td>118</td>\n",
       "    </tr>\n",
       "    <tr>\n",
       "      <th>rwd</th>\n",
       "      <td>75</td>\n",
       "    </tr>\n",
       "    <tr>\n",
       "      <th>4wd</th>\n",
       "      <td>8</td>\n",
       "    </tr>\n",
       "  </tbody>\n",
       "</table>\n",
       "</div>"
      ],
      "text/plain": [
       "              value_counts\n",
       "drive-wheels              \n",
       "fwd                    118\n",
       "rwd                     75\n",
       "4wd                      8"
      ]
     },
     "execution_count": 17,
     "metadata": {},
     "output_type": "execute_result"
    }
   ],
   "source": [
    "drive_wheels_counts = df['drive-wheels'].value_counts().to_frame()\n",
    "drive_wheels_counts.rename(columns={'drive-wheels': 'value_counts'}, inplace=True)\n",
    "drive_wheels_counts.index.name = 'drive-wheels'\n",
    "drive_wheels_counts"
   ]
  },
  {
   "cell_type": "markdown",
   "id": "a755cedd",
   "metadata": {
    "papermill": {
     "duration": 0.065351,
     "end_time": "2022-03-23T17:47:10.379261",
     "exception": false,
     "start_time": "2022-03-23T17:47:10.313910",
     "status": "completed"
    },
    "tags": []
   },
   "source": [
    "We can repeat the above process for the variable 'engine-location'."
   ]
  },
  {
   "cell_type": "code",
   "execution_count": 18,
   "id": "3cae02bf",
   "metadata": {
    "execution": {
     "iopub.execute_input": "2022-03-23T17:47:10.514268Z",
     "iopub.status.busy": "2022-03-23T17:47:10.513611Z",
     "iopub.status.idle": "2022-03-23T17:47:10.524720Z",
     "shell.execute_reply": "2022-03-23T17:47:10.525319Z",
     "shell.execute_reply.started": "2022-03-23T17:31:46.110328Z"
    },
    "papermill": {
     "duration": 0.080404,
     "end_time": "2022-03-23T17:47:10.525498",
     "exception": false,
     "start_time": "2022-03-23T17:47:10.445094",
     "status": "completed"
    },
    "tags": []
   },
   "outputs": [
    {
     "data": {
      "text/html": [
       "<div>\n",
       "<style scoped>\n",
       "    .dataframe tbody tr th:only-of-type {\n",
       "        vertical-align: middle;\n",
       "    }\n",
       "\n",
       "    .dataframe tbody tr th {\n",
       "        vertical-align: top;\n",
       "    }\n",
       "\n",
       "    .dataframe thead th {\n",
       "        text-align: right;\n",
       "    }\n",
       "</style>\n",
       "<table border=\"1\" class=\"dataframe\">\n",
       "  <thead>\n",
       "    <tr style=\"text-align: right;\">\n",
       "      <th></th>\n",
       "      <th>value_counts</th>\n",
       "    </tr>\n",
       "    <tr>\n",
       "      <th>engine-location</th>\n",
       "      <th></th>\n",
       "    </tr>\n",
       "  </thead>\n",
       "  <tbody>\n",
       "    <tr>\n",
       "      <th>front</th>\n",
       "      <td>198</td>\n",
       "    </tr>\n",
       "    <tr>\n",
       "      <th>rear</th>\n",
       "      <td>3</td>\n",
       "    </tr>\n",
       "  </tbody>\n",
       "</table>\n",
       "</div>"
      ],
      "text/plain": [
       "                 value_counts\n",
       "engine-location              \n",
       "front                     198\n",
       "rear                        3"
      ]
     },
     "execution_count": 18,
     "metadata": {},
     "output_type": "execute_result"
    }
   ],
   "source": [
    "# engine-location as variable\n",
    "engine_loc_counts = df['engine-location'].value_counts().to_frame()\n",
    "engine_loc_counts.rename(columns={'engine-location': 'value_counts'}, inplace=True)\n",
    "engine_loc_counts.index.name = 'engine-location'\n",
    "engine_loc_counts"
   ]
  },
  {
   "cell_type": "markdown",
   "id": "dad62cdf",
   "metadata": {
    "papermill": {
     "duration": 0.066298,
     "end_time": "2022-03-23T17:47:10.658797",
     "exception": false,
     "start_time": "2022-03-23T17:47:10.592499",
     "status": "completed"
    },
    "tags": []
   },
   "source": [
    "After examining the value counts of the engine location, we see that engine location would not be a good predictor variable for the price. This is because we only have three cars with a rear engine and 198 with an engine in the front, so this result is skewed. Thus, we are not able to draw any conclusions about the engine location."
   ]
  },
  {
   "cell_type": "markdown",
   "id": "833a75ea",
   "metadata": {
    "papermill": {
     "duration": 0.065882,
     "end_time": "2022-03-23T17:47:10.791704",
     "exception": false,
     "start_time": "2022-03-23T17:47:10.725822",
     "status": "completed"
    },
    "tags": []
   },
   "source": [
    "#### 4. Basics of Grouping\n",
    "\n",
    "The \"groupby\" method groups data by different categories. The data is grouped based on one or several variables, and analysis is performed on the individual groups.\n",
    "\n",
    "For example, let's group by the variable \"drive-wheels\". We see that there are 3 different categories of drive wheels."
   ]
  },
  {
   "cell_type": "code",
   "execution_count": 19,
   "id": "f878b632",
   "metadata": {
    "execution": {
     "iopub.execute_input": "2022-03-23T17:47:10.931561Z",
     "iopub.status.busy": "2022-03-23T17:47:10.930852Z",
     "iopub.status.idle": "2022-03-23T17:47:10.934787Z",
     "shell.execute_reply": "2022-03-23T17:47:10.934273Z",
     "shell.execute_reply.started": "2022-03-23T17:31:48.397999Z"
    },
    "papermill": {
     "duration": 0.077027,
     "end_time": "2022-03-23T17:47:10.934929",
     "exception": false,
     "start_time": "2022-03-23T17:47:10.857902",
     "status": "completed"
    },
    "tags": []
   },
   "outputs": [
    {
     "data": {
      "text/plain": [
       "array(['rwd', 'fwd', '4wd'], dtype=object)"
      ]
     },
     "execution_count": 19,
     "metadata": {},
     "output_type": "execute_result"
    }
   ],
   "source": [
    "df['drive-wheels'].unique()"
   ]
  },
  {
   "cell_type": "markdown",
   "id": "a62a25ad",
   "metadata": {
    "papermill": {
     "duration": 0.066749,
     "end_time": "2022-03-23T17:47:11.068937",
     "exception": false,
     "start_time": "2022-03-23T17:47:11.002188",
     "status": "completed"
    },
    "tags": []
   },
   "source": [
    "If we want to know, on average, which type of drive wheel is most valuable, we can group \"drive-wheels\" and then average them.\n",
    "\n",
    "We can select the columns 'drive-wheels', 'body-style' and 'price', then assign it to the variable \"df_group_one\"."
   ]
  },
  {
   "cell_type": "code",
   "execution_count": 20,
   "id": "f5e62972",
   "metadata": {
    "execution": {
     "iopub.execute_input": "2022-03-23T17:47:11.206465Z",
     "iopub.status.busy": "2022-03-23T17:47:11.205772Z",
     "iopub.status.idle": "2022-03-23T17:47:11.210721Z",
     "shell.execute_reply": "2022-03-23T17:47:11.211276Z",
     "shell.execute_reply.started": "2022-03-23T17:31:49.652921Z"
    },
    "papermill": {
     "duration": 0.075565,
     "end_time": "2022-03-23T17:47:11.211448",
     "exception": false,
     "start_time": "2022-03-23T17:47:11.135883",
     "status": "completed"
    },
    "tags": []
   },
   "outputs": [],
   "source": [
    "df_group_one = df[['drive-wheels','body-style','price']]"
   ]
  },
  {
   "cell_type": "markdown",
   "id": "0dbac8a6",
   "metadata": {
    "papermill": {
     "duration": 0.066483,
     "end_time": "2022-03-23T17:47:11.344860",
     "exception": false,
     "start_time": "2022-03-23T17:47:11.278377",
     "status": "completed"
    },
    "tags": []
   },
   "source": [
    "We can then calculate the average price for each of the different categories of data."
   ]
  },
  {
   "cell_type": "code",
   "execution_count": 21,
   "id": "65f99946",
   "metadata": {
    "execution": {
     "iopub.execute_input": "2022-03-23T17:47:11.484232Z",
     "iopub.status.busy": "2022-03-23T17:47:11.483576Z",
     "iopub.status.idle": "2022-03-23T17:47:11.500149Z",
     "shell.execute_reply": "2022-03-23T17:47:11.499578Z",
     "shell.execute_reply.started": "2022-03-23T17:31:51.779658Z"
    },
    "papermill": {
     "duration": 0.088553,
     "end_time": "2022-03-23T17:47:11.500301",
     "exception": false,
     "start_time": "2022-03-23T17:47:11.411748",
     "status": "completed"
    },
    "tags": []
   },
   "outputs": [
    {
     "data": {
      "text/html": [
       "<div>\n",
       "<style scoped>\n",
       "    .dataframe tbody tr th:only-of-type {\n",
       "        vertical-align: middle;\n",
       "    }\n",
       "\n",
       "    .dataframe tbody tr th {\n",
       "        vertical-align: top;\n",
       "    }\n",
       "\n",
       "    .dataframe thead th {\n",
       "        text-align: right;\n",
       "    }\n",
       "</style>\n",
       "<table border=\"1\" class=\"dataframe\">\n",
       "  <thead>\n",
       "    <tr style=\"text-align: right;\">\n",
       "      <th></th>\n",
       "      <th>drive-wheels</th>\n",
       "      <th>price</th>\n",
       "    </tr>\n",
       "  </thead>\n",
       "  <tbody>\n",
       "    <tr>\n",
       "      <th>0</th>\n",
       "      <td>4wd</td>\n",
       "      <td>10241.000000</td>\n",
       "    </tr>\n",
       "    <tr>\n",
       "      <th>1</th>\n",
       "      <td>fwd</td>\n",
       "      <td>9244.779661</td>\n",
       "    </tr>\n",
       "    <tr>\n",
       "      <th>2</th>\n",
       "      <td>rwd</td>\n",
       "      <td>19757.613333</td>\n",
       "    </tr>\n",
       "  </tbody>\n",
       "</table>\n",
       "</div>"
      ],
      "text/plain": [
       "  drive-wheels         price\n",
       "0          4wd  10241.000000\n",
       "1          fwd   9244.779661\n",
       "2          rwd  19757.613333"
      ]
     },
     "execution_count": 21,
     "metadata": {},
     "output_type": "execute_result"
    }
   ],
   "source": [
    "# grouping results\n",
    "df_group_one = df_group_one.groupby(['drive-wheels'],as_index=False).mean()\n",
    "df_group_one"
   ]
  },
  {
   "cell_type": "markdown",
   "id": "337db219",
   "metadata": {
    "papermill": {
     "duration": 0.067677,
     "end_time": "2022-03-23T17:47:11.635774",
     "exception": false,
     "start_time": "2022-03-23T17:47:11.568097",
     "status": "completed"
    },
    "tags": []
   },
   "source": [
    "From our data, it seems rear-wheel drive vehicles are, on average, the most expensive, while 4-wheel and front-wheel are approximately the same in price.\n",
    "\n",
    "You can also group by multiple variables. For example, let's group by both 'drive-wheels' and 'body-style'. This groups the dataframe by the unique combination of 'drive-wheels' and 'body-style'. We can store the results in the variable 'grouped_test1'."
   ]
  },
  {
   "cell_type": "code",
   "execution_count": 22,
   "id": "de15ad5c",
   "metadata": {
    "execution": {
     "iopub.execute_input": "2022-03-23T17:47:11.777904Z",
     "iopub.status.busy": "2022-03-23T17:47:11.777251Z",
     "iopub.status.idle": "2022-03-23T17:47:11.791328Z",
     "shell.execute_reply": "2022-03-23T17:47:11.791848Z",
     "shell.execute_reply.started": "2022-03-23T17:31:56.469710Z"
    },
    "papermill": {
     "duration": 0.088759,
     "end_time": "2022-03-23T17:47:11.792034",
     "exception": false,
     "start_time": "2022-03-23T17:47:11.703275",
     "status": "completed"
    },
    "tags": []
   },
   "outputs": [
    {
     "data": {
      "text/html": [
       "<div>\n",
       "<style scoped>\n",
       "    .dataframe tbody tr th:only-of-type {\n",
       "        vertical-align: middle;\n",
       "    }\n",
       "\n",
       "    .dataframe tbody tr th {\n",
       "        vertical-align: top;\n",
       "    }\n",
       "\n",
       "    .dataframe thead th {\n",
       "        text-align: right;\n",
       "    }\n",
       "</style>\n",
       "<table border=\"1\" class=\"dataframe\">\n",
       "  <thead>\n",
       "    <tr style=\"text-align: right;\">\n",
       "      <th></th>\n",
       "      <th>drive-wheels</th>\n",
       "      <th>body-style</th>\n",
       "      <th>price</th>\n",
       "    </tr>\n",
       "  </thead>\n",
       "  <tbody>\n",
       "    <tr>\n",
       "      <th>0</th>\n",
       "      <td>4wd</td>\n",
       "      <td>hatchback</td>\n",
       "      <td>7603.000000</td>\n",
       "    </tr>\n",
       "    <tr>\n",
       "      <th>1</th>\n",
       "      <td>4wd</td>\n",
       "      <td>sedan</td>\n",
       "      <td>12647.333333</td>\n",
       "    </tr>\n",
       "    <tr>\n",
       "      <th>2</th>\n",
       "      <td>4wd</td>\n",
       "      <td>wagon</td>\n",
       "      <td>9095.750000</td>\n",
       "    </tr>\n",
       "    <tr>\n",
       "      <th>3</th>\n",
       "      <td>fwd</td>\n",
       "      <td>convertible</td>\n",
       "      <td>11595.000000</td>\n",
       "    </tr>\n",
       "    <tr>\n",
       "      <th>4</th>\n",
       "      <td>fwd</td>\n",
       "      <td>hardtop</td>\n",
       "      <td>8249.000000</td>\n",
       "    </tr>\n",
       "    <tr>\n",
       "      <th>5</th>\n",
       "      <td>fwd</td>\n",
       "      <td>hatchback</td>\n",
       "      <td>8396.387755</td>\n",
       "    </tr>\n",
       "    <tr>\n",
       "      <th>6</th>\n",
       "      <td>fwd</td>\n",
       "      <td>sedan</td>\n",
       "      <td>9811.800000</td>\n",
       "    </tr>\n",
       "    <tr>\n",
       "      <th>7</th>\n",
       "      <td>fwd</td>\n",
       "      <td>wagon</td>\n",
       "      <td>9997.333333</td>\n",
       "    </tr>\n",
       "    <tr>\n",
       "      <th>8</th>\n",
       "      <td>rwd</td>\n",
       "      <td>convertible</td>\n",
       "      <td>23949.600000</td>\n",
       "    </tr>\n",
       "    <tr>\n",
       "      <th>9</th>\n",
       "      <td>rwd</td>\n",
       "      <td>hardtop</td>\n",
       "      <td>24202.714286</td>\n",
       "    </tr>\n",
       "    <tr>\n",
       "      <th>10</th>\n",
       "      <td>rwd</td>\n",
       "      <td>hatchback</td>\n",
       "      <td>14337.777778</td>\n",
       "    </tr>\n",
       "    <tr>\n",
       "      <th>11</th>\n",
       "      <td>rwd</td>\n",
       "      <td>sedan</td>\n",
       "      <td>21711.833333</td>\n",
       "    </tr>\n",
       "    <tr>\n",
       "      <th>12</th>\n",
       "      <td>rwd</td>\n",
       "      <td>wagon</td>\n",
       "      <td>16994.222222</td>\n",
       "    </tr>\n",
       "  </tbody>\n",
       "</table>\n",
       "</div>"
      ],
      "text/plain": [
       "   drive-wheels   body-style         price\n",
       "0           4wd    hatchback   7603.000000\n",
       "1           4wd        sedan  12647.333333\n",
       "2           4wd        wagon   9095.750000\n",
       "3           fwd  convertible  11595.000000\n",
       "4           fwd      hardtop   8249.000000\n",
       "5           fwd    hatchback   8396.387755\n",
       "6           fwd        sedan   9811.800000\n",
       "7           fwd        wagon   9997.333333\n",
       "8           rwd  convertible  23949.600000\n",
       "9           rwd      hardtop  24202.714286\n",
       "10          rwd    hatchback  14337.777778\n",
       "11          rwd        sedan  21711.833333\n",
       "12          rwd        wagon  16994.222222"
      ]
     },
     "execution_count": 22,
     "metadata": {},
     "output_type": "execute_result"
    }
   ],
   "source": [
    "# grouping results\n",
    "df_gptest = df[['drive-wheels','body-style','price']]\n",
    "grouped_test1 = df_gptest.groupby(['drive-wheels','body-style'],as_index=False).mean()\n",
    "grouped_test1"
   ]
  },
  {
   "cell_type": "markdown",
   "id": "696b2126",
   "metadata": {
    "papermill": {
     "duration": 0.067679,
     "end_time": "2022-03-23T17:47:11.927729",
     "exception": false,
     "start_time": "2022-03-23T17:47:11.860050",
     "status": "completed"
    },
    "tags": []
   },
   "source": [
    "This grouped data is much easier to visualize when it is made into a pivot table. A pivot table is like an Excel spreadsheet, with one variable along the column and another along the row. We can convert the dataframe to a pivot table using the method \"pivot\" to create a pivot table from the groups.\n",
    "\n",
    "In this case, we will leave the drive-wheels variable as the rows of the table, and pivot body-style to become the columns of the table:"
   ]
  },
  {
   "cell_type": "code",
   "execution_count": 23,
   "id": "3e931715",
   "metadata": {
    "execution": {
     "iopub.execute_input": "2022-03-23T17:47:12.070417Z",
     "iopub.status.busy": "2022-03-23T17:47:12.069708Z",
     "iopub.status.idle": "2022-03-23T17:47:12.089430Z",
     "shell.execute_reply": "2022-03-23T17:47:12.090003Z",
     "shell.execute_reply.started": "2022-03-23T17:31:59.714374Z"
    },
    "papermill": {
     "duration": 0.09353,
     "end_time": "2022-03-23T17:47:12.090174",
     "exception": false,
     "start_time": "2022-03-23T17:47:11.996644",
     "status": "completed"
    },
    "tags": []
   },
   "outputs": [
    {
     "data": {
      "text/html": [
       "<div>\n",
       "<style scoped>\n",
       "    .dataframe tbody tr th:only-of-type {\n",
       "        vertical-align: middle;\n",
       "    }\n",
       "\n",
       "    .dataframe tbody tr th {\n",
       "        vertical-align: top;\n",
       "    }\n",
       "\n",
       "    .dataframe thead tr th {\n",
       "        text-align: left;\n",
       "    }\n",
       "\n",
       "    .dataframe thead tr:last-of-type th {\n",
       "        text-align: right;\n",
       "    }\n",
       "</style>\n",
       "<table border=\"1\" class=\"dataframe\">\n",
       "  <thead>\n",
       "    <tr>\n",
       "      <th></th>\n",
       "      <th colspan=\"5\" halign=\"left\">price</th>\n",
       "    </tr>\n",
       "    <tr>\n",
       "      <th>body-style</th>\n",
       "      <th>convertible</th>\n",
       "      <th>hardtop</th>\n",
       "      <th>hatchback</th>\n",
       "      <th>sedan</th>\n",
       "      <th>wagon</th>\n",
       "    </tr>\n",
       "    <tr>\n",
       "      <th>drive-wheels</th>\n",
       "      <th></th>\n",
       "      <th></th>\n",
       "      <th></th>\n",
       "      <th></th>\n",
       "      <th></th>\n",
       "    </tr>\n",
       "  </thead>\n",
       "  <tbody>\n",
       "    <tr>\n",
       "      <th>4wd</th>\n",
       "      <td>NaN</td>\n",
       "      <td>NaN</td>\n",
       "      <td>7603.000000</td>\n",
       "      <td>12647.333333</td>\n",
       "      <td>9095.750000</td>\n",
       "    </tr>\n",
       "    <tr>\n",
       "      <th>fwd</th>\n",
       "      <td>11595.0</td>\n",
       "      <td>8249.000000</td>\n",
       "      <td>8396.387755</td>\n",
       "      <td>9811.800000</td>\n",
       "      <td>9997.333333</td>\n",
       "    </tr>\n",
       "    <tr>\n",
       "      <th>rwd</th>\n",
       "      <td>23949.6</td>\n",
       "      <td>24202.714286</td>\n",
       "      <td>14337.777778</td>\n",
       "      <td>21711.833333</td>\n",
       "      <td>16994.222222</td>\n",
       "    </tr>\n",
       "  </tbody>\n",
       "</table>\n",
       "</div>"
      ],
      "text/plain": [
       "                   price                                            \\\n",
       "body-style   convertible       hardtop     hatchback         sedan   \n",
       "drive-wheels                                                         \n",
       "4wd                  NaN           NaN   7603.000000  12647.333333   \n",
       "fwd              11595.0   8249.000000   8396.387755   9811.800000   \n",
       "rwd              23949.6  24202.714286  14337.777778  21711.833333   \n",
       "\n",
       "                            \n",
       "body-style           wagon  \n",
       "drive-wheels                \n",
       "4wd            9095.750000  \n",
       "fwd            9997.333333  \n",
       "rwd           16994.222222  "
      ]
     },
     "execution_count": 23,
     "metadata": {},
     "output_type": "execute_result"
    }
   ],
   "source": [
    "grouped_pivot = grouped_test1.pivot(index='drive-wheels',columns='body-style')\n",
    "grouped_pivot"
   ]
  },
  {
   "cell_type": "markdown",
   "id": "01906f98",
   "metadata": {
    "papermill": {
     "duration": 0.068048,
     "end_time": "2022-03-23T17:47:12.226901",
     "exception": false,
     "start_time": "2022-03-23T17:47:12.158853",
     "status": "completed"
    },
    "tags": []
   },
   "source": [
    "Often, we won't have data for some of the pivot cells. We can fill these missing cells with the value 0, but any other value could potentially be used as well. It should be mentioned that missing data is quite a complex subject and is an entire course on its own."
   ]
  },
  {
   "cell_type": "code",
   "execution_count": 24,
   "id": "8adfeb08",
   "metadata": {
    "execution": {
     "iopub.execute_input": "2022-03-23T17:47:12.367966Z",
     "iopub.status.busy": "2022-03-23T17:47:12.367312Z",
     "iopub.status.idle": "2022-03-23T17:47:12.381125Z",
     "shell.execute_reply": "2022-03-23T17:47:12.381633Z",
     "shell.execute_reply.started": "2022-03-23T17:32:03.111117Z"
    },
    "papermill": {
     "duration": 0.086231,
     "end_time": "2022-03-23T17:47:12.381804",
     "exception": false,
     "start_time": "2022-03-23T17:47:12.295573",
     "status": "completed"
    },
    "tags": []
   },
   "outputs": [
    {
     "data": {
      "text/html": [
       "<div>\n",
       "<style scoped>\n",
       "    .dataframe tbody tr th:only-of-type {\n",
       "        vertical-align: middle;\n",
       "    }\n",
       "\n",
       "    .dataframe tbody tr th {\n",
       "        vertical-align: top;\n",
       "    }\n",
       "\n",
       "    .dataframe thead tr th {\n",
       "        text-align: left;\n",
       "    }\n",
       "\n",
       "    .dataframe thead tr:last-of-type th {\n",
       "        text-align: right;\n",
       "    }\n",
       "</style>\n",
       "<table border=\"1\" class=\"dataframe\">\n",
       "  <thead>\n",
       "    <tr>\n",
       "      <th></th>\n",
       "      <th colspan=\"5\" halign=\"left\">price</th>\n",
       "    </tr>\n",
       "    <tr>\n",
       "      <th>body-style</th>\n",
       "      <th>convertible</th>\n",
       "      <th>hardtop</th>\n",
       "      <th>hatchback</th>\n",
       "      <th>sedan</th>\n",
       "      <th>wagon</th>\n",
       "    </tr>\n",
       "    <tr>\n",
       "      <th>drive-wheels</th>\n",
       "      <th></th>\n",
       "      <th></th>\n",
       "      <th></th>\n",
       "      <th></th>\n",
       "      <th></th>\n",
       "    </tr>\n",
       "  </thead>\n",
       "  <tbody>\n",
       "    <tr>\n",
       "      <th>4wd</th>\n",
       "      <td>0.0</td>\n",
       "      <td>0.000000</td>\n",
       "      <td>7603.000000</td>\n",
       "      <td>12647.333333</td>\n",
       "      <td>9095.750000</td>\n",
       "    </tr>\n",
       "    <tr>\n",
       "      <th>fwd</th>\n",
       "      <td>11595.0</td>\n",
       "      <td>8249.000000</td>\n",
       "      <td>8396.387755</td>\n",
       "      <td>9811.800000</td>\n",
       "      <td>9997.333333</td>\n",
       "    </tr>\n",
       "    <tr>\n",
       "      <th>rwd</th>\n",
       "      <td>23949.6</td>\n",
       "      <td>24202.714286</td>\n",
       "      <td>14337.777778</td>\n",
       "      <td>21711.833333</td>\n",
       "      <td>16994.222222</td>\n",
       "    </tr>\n",
       "  </tbody>\n",
       "</table>\n",
       "</div>"
      ],
      "text/plain": [
       "                   price                                            \\\n",
       "body-style   convertible       hardtop     hatchback         sedan   \n",
       "drive-wheels                                                         \n",
       "4wd                  0.0      0.000000   7603.000000  12647.333333   \n",
       "fwd              11595.0   8249.000000   8396.387755   9811.800000   \n",
       "rwd              23949.6  24202.714286  14337.777778  21711.833333   \n",
       "\n",
       "                            \n",
       "body-style           wagon  \n",
       "drive-wheels                \n",
       "4wd            9095.750000  \n",
       "fwd            9997.333333  \n",
       "rwd           16994.222222  "
      ]
     },
     "execution_count": 24,
     "metadata": {},
     "output_type": "execute_result"
    }
   ],
   "source": [
    "grouped_pivot = grouped_pivot.fillna(0) #fill missing values with 0\n",
    "grouped_pivot"
   ]
  },
  {
   "cell_type": "code",
   "execution_count": 25,
   "id": "b21d2e6b",
   "metadata": {
    "execution": {
     "iopub.execute_input": "2022-03-23T17:47:12.524478Z",
     "iopub.status.busy": "2022-03-23T17:47:12.523821Z",
     "iopub.status.idle": "2022-03-23T17:47:12.769825Z",
     "shell.execute_reply": "2022-03-23T17:47:12.769169Z",
     "shell.execute_reply.started": "2022-03-23T17:32:05.366070Z"
    },
    "papermill": {
     "duration": 0.318872,
     "end_time": "2022-03-23T17:47:12.770017",
     "exception": false,
     "start_time": "2022-03-23T17:47:12.451145",
     "status": "completed"
    },
    "tags": []
   },
   "outputs": [
    {
     "data": {
      "image/png": "[encoded data removed]",
      "text/plain": [
       "<Figure size 432x288 with 2 Axes>"
      ]
     },
     "metadata": {
      "needs_background": "light"
     },
     "output_type": "display_data"
    }
   ],
   "source": [
    "#use the grouped results\n",
    "plt.pcolor(grouped_pivot, cmap='RdBu')\n",
    "plt.colorbar()\n",
    "plt.show()"
   ]
  },
  {
   "cell_type": "markdown",
   "id": "91ddb98f",
   "metadata": {
    "papermill": {
     "duration": 0.07038,
     "end_time": "2022-03-23T17:47:12.913032",
     "exception": false,
     "start_time": "2022-03-23T17:47:12.842652",
     "status": "completed"
    },
    "tags": []
   },
   "source": [
    "The heatmap plots the target variable (price) proportional to colour with respect to the variables 'drive-wheel' and 'body-style' on the vertical and horizontal axis, respectively. This allows us to visualize how the price is related to 'drive-wheel' and 'body-style'.\n",
    "\n",
    "The default labels convey no useful information to us. Let's change that:"
   ]
  },
  {
   "cell_type": "code",
   "execution_count": 26,
   "id": "047246db",
   "metadata": {
    "execution": {
     "iopub.execute_input": "2022-03-23T17:47:13.078864Z",
     "iopub.status.busy": "2022-03-23T17:47:13.072326Z",
     "iopub.status.idle": "2022-03-23T17:47:13.300183Z",
     "shell.execute_reply": "2022-03-23T17:47:13.300684Z",
     "shell.execute_reply.started": "2022-03-23T17:32:08.021368Z"
    },
    "papermill": {
     "duration": 0.31392,
     "end_time": "2022-03-23T17:47:13.300893",
     "exception": false,
     "start_time": "2022-03-23T17:47:12.986973",
     "status": "completed"
    },
    "tags": []
   },
   "outputs": [
    {
     "data": {
      "image/png": "[encoded data removed]",
      "text/plain": [
       "<Figure size 432x288 with 2 Axes>"
      ]
     },
     "metadata": {
      "needs_background": "light"
     },
     "output_type": "display_data"
    }
   ],
   "source": [
    "fig, ax = plt.subplots()\n",
    "im = ax.pcolor(grouped_pivot, cmap='RdBu')\n",
    "\n",
    "#label names\n",
    "row_labels = grouped_pivot.columns.levels[1]\n",
    "col_labels = grouped_pivot.index\n",
    "\n",
    "#move ticks and labels to the center\n",
    "ax.set_xticks(np.arange(grouped_pivot.shape[1]) + 0.5, minor=False)\n",
    "ax.set_yticks(np.arange(grouped_pivot.shape[0]) + 0.5, minor=False)\n",
    "\n",
    "#insert labels\n",
    "ax.set_xticklabels(row_labels, minor=False)\n",
    "ax.set_yticklabels(col_labels, minor=False)\n",
    "\n",
    "#rotate label if too long\n",
    "plt.xticks(rotation=90)\n",
    "\n",
    "fig.colorbar(im)\n",
    "plt.show()"
   ]
  },
  {
   "cell_type": "markdown",
   "id": "19655498",
   "metadata": {
    "papermill": {
     "duration": 0.07168,
     "end_time": "2022-03-23T17:47:13.445463",
     "exception": false,
     "start_time": "2022-03-23T17:47:13.373783",
     "status": "completed"
    },
    "tags": []
   },
   "source": [
    "Visualization is very important in data science, and Python visualization packages provide great freedom. We will go more in-depth in a separate Python visualizations course.\n",
    "\n",
    "The main question we want to answer in this module is, \"What are the main characteristics which have the most impact on the car price?\".\n",
    "\n",
    "To get a better measure of the important characteristics, we look at the correlation of these variables with the car price. In other words: how is the car price dependent on this variable?"
   ]
  },
  {
   "cell_type": "markdown",
   "id": "77fce7bb",
   "metadata": {
    "papermill": {
     "duration": 0.071434,
     "end_time": "2022-03-23T17:47:13.588970",
     "exception": false,
     "start_time": "2022-03-23T17:47:13.517536",
     "status": "completed"
    },
    "tags": []
   },
   "source": [
    "#### 5. Correlation and Causation\n",
    "Correlation: a measure of the extent of interdependence between variables.\n",
    "\n",
    "Causation: the relationship between cause and effect between two variables.\n",
    "\n",
    "It is important to know the difference between these two. Correlation does not imply causation. Determining correlation is much simpler the determining causation as causation may require independent experimentation.\n",
    "\n",
    "Pearson Correlation\n",
    "\n",
    "The Pearson Correlation measures the linear dependence between two variables X and Y.\n",
    "\n",
    "The resulting coefficient is a value between -1 and 1 inclusive, where:\n",
    "\n",
    "- 1: Perfect positive linear correlation.\n",
    "- 0: No linear correlation, the two variables most likely do not affect each other.\n",
    "- -1: Perfect negative linear correlation.\n",
    "Pearson Correlation is the default method of the function \"corr\". Like before, we can calculate the Pearson Correlation of the of the 'int64' or 'float64' variables."
   ]
  },
  {
   "cell_type": "code",
   "execution_count": 27,
   "id": "b5f8380a",
   "metadata": {
    "execution": {
     "iopub.execute_input": "2022-03-23T17:47:13.739560Z",
     "iopub.status.busy": "2022-03-23T17:47:13.738887Z",
     "iopub.status.idle": "2022-03-23T17:47:13.774729Z",
     "shell.execute_reply": "2022-03-23T17:47:13.774216Z",
     "shell.execute_reply.started": "2022-03-23T17:32:09.301403Z"
    },
    "papermill": {
     "duration": 0.113529,
     "end_time": "2022-03-23T17:47:13.774884",
     "exception": false,
     "start_time": "2022-03-23T17:47:13.661355",
     "status": "completed"
    },
    "tags": []
   },
   "outputs": [
    {
     "data": {
      "text/html": [
       "<div>\n",
       "<style scoped>\n",
       "    .dataframe tbody tr th:only-of-type {\n",
       "        vertical-align: middle;\n",
       "    }\n",
       "\n",
       "    .dataframe tbody tr th {\n",
       "        vertical-align: top;\n",
       "    }\n",
       "\n",
       "    .dataframe thead th {\n",
       "        text-align: right;\n",
       "    }\n",
       "</style>\n",
       "<table border=\"1\" class=\"dataframe\">\n",
       "  <thead>\n",
       "    <tr style=\"text-align: right;\">\n",
       "      <th></th>\n",
       "      <th>symboling</th>\n",
       "      <th>normalized-losses</th>\n",
       "      <th>wheel-base</th>\n",
       "      <th>length</th>\n",
       "      <th>width</th>\n",
       "      <th>height</th>\n",
       "      <th>curb-weight</th>\n",
       "      <th>engine-size</th>\n",
       "      <th>bore</th>\n",
       "      <th>stroke</th>\n",
       "      <th>compression-ratio</th>\n",
       "      <th>horsepower</th>\n",
       "      <th>peak-rpm</th>\n",
       "      <th>city-mpg</th>\n",
       "      <th>highway-mpg</th>\n",
       "      <th>price</th>\n",
       "      <th>fuel-type-diesel</th>\n",
       "      <th>fuel-type-gas</th>\n",
       "      <th>aspiration-std</th>\n",
       "      <th>aspiration-turbo</th>\n",
       "    </tr>\n",
       "  </thead>\n",
       "  <tbody>\n",
       "    <tr>\n",
       "      <th>symboling</th>\n",
       "      <td>1.000000</td>\n",
       "      <td>0.466264</td>\n",
       "      <td>-0.535987</td>\n",
       "      <td>-0.365404</td>\n",
       "      <td>-0.242423</td>\n",
       "      <td>-0.550160</td>\n",
       "      <td>-0.233118</td>\n",
       "      <td>-0.110581</td>\n",
       "      <td>0.243521</td>\n",
       "      <td>0.245613</td>\n",
       "      <td>-0.182196</td>\n",
       "      <td>0.076328</td>\n",
       "      <td>0.184721</td>\n",
       "      <td>-0.035527</td>\n",
       "      <td>0.036233</td>\n",
       "      <td>-0.082391</td>\n",
       "      <td>-0.196735</td>\n",
       "      <td>0.196735</td>\n",
       "      <td>0.054615</td>\n",
       "      <td>-0.054615</td>\n",
       "    </tr>\n",
       "    <tr>\n",
       "      <th>normalized-losses</th>\n",
       "      <td>0.466264</td>\n",
       "      <td>1.000000</td>\n",
       "      <td>-0.056661</td>\n",
       "      <td>0.019424</td>\n",
       "      <td>0.086802</td>\n",
       "      <td>-0.373737</td>\n",
       "      <td>0.099404</td>\n",
       "      <td>0.112360</td>\n",
       "      <td>0.124511</td>\n",
       "      <td>0.126034</td>\n",
       "      <td>-0.114713</td>\n",
       "      <td>0.217034</td>\n",
       "      <td>0.166059</td>\n",
       "      <td>-0.225016</td>\n",
       "      <td>-0.181877</td>\n",
       "      <td>0.133999</td>\n",
       "      <td>-0.101546</td>\n",
       "      <td>0.101546</td>\n",
       "      <td>0.006911</td>\n",
       "      <td>-0.006911</td>\n",
       "    </tr>\n",
       "    <tr>\n",
       "      <th>wheel-base</th>\n",
       "      <td>-0.535987</td>\n",
       "      <td>-0.056661</td>\n",
       "      <td>1.000000</td>\n",
       "      <td>0.876024</td>\n",
       "      <td>0.814507</td>\n",
       "      <td>0.590742</td>\n",
       "      <td>0.782097</td>\n",
       "      <td>0.572027</td>\n",
       "      <td>-0.074380</td>\n",
       "      <td>-0.079330</td>\n",
       "      <td>0.250313</td>\n",
       "      <td>0.368584</td>\n",
       "      <td>-0.217522</td>\n",
       "      <td>-0.470606</td>\n",
       "      <td>-0.543304</td>\n",
       "      <td>0.584642</td>\n",
       "      <td>0.307237</td>\n",
       "      <td>-0.307237</td>\n",
       "      <td>-0.256889</td>\n",
       "      <td>0.256889</td>\n",
       "    </tr>\n",
       "    <tr>\n",
       "      <th>length</th>\n",
       "      <td>-0.365404</td>\n",
       "      <td>0.019424</td>\n",
       "      <td>0.876024</td>\n",
       "      <td>1.000000</td>\n",
       "      <td>0.857170</td>\n",
       "      <td>0.492063</td>\n",
       "      <td>0.880665</td>\n",
       "      <td>0.685025</td>\n",
       "      <td>-0.050463</td>\n",
       "      <td>-0.057929</td>\n",
       "      <td>0.159733</td>\n",
       "      <td>0.581018</td>\n",
       "      <td>-0.227380</td>\n",
       "      <td>-0.665192</td>\n",
       "      <td>-0.698142</td>\n",
       "      <td>0.690628</td>\n",
       "      <td>0.211187</td>\n",
       "      <td>-0.211187</td>\n",
       "      <td>-0.230085</td>\n",
       "      <td>0.230085</td>\n",
       "    </tr>\n",
       "    <tr>\n",
       "      <th>width</th>\n",
       "      <td>-0.242423</td>\n",
       "      <td>0.086802</td>\n",
       "      <td>0.814507</td>\n",
       "      <td>0.857170</td>\n",
       "      <td>1.000000</td>\n",
       "      <td>0.306002</td>\n",
       "      <td>0.866201</td>\n",
       "      <td>0.729436</td>\n",
       "      <td>-0.004059</td>\n",
       "      <td>-0.009260</td>\n",
       "      <td>0.189867</td>\n",
       "      <td>0.615817</td>\n",
       "      <td>-0.193213</td>\n",
       "      <td>-0.633531</td>\n",
       "      <td>-0.680635</td>\n",
       "      <td>0.751265</td>\n",
       "      <td>0.244356</td>\n",
       "      <td>-0.244356</td>\n",
       "      <td>-0.305732</td>\n",
       "      <td>0.305732</td>\n",
       "    </tr>\n",
       "    <tr>\n",
       "      <th>height</th>\n",
       "      <td>-0.550160</td>\n",
       "      <td>-0.373737</td>\n",
       "      <td>0.590742</td>\n",
       "      <td>0.492063</td>\n",
       "      <td>0.306002</td>\n",
       "      <td>1.000000</td>\n",
       "      <td>0.307581</td>\n",
       "      <td>0.074694</td>\n",
       "      <td>-0.240217</td>\n",
       "      <td>-0.244270</td>\n",
       "      <td>0.259737</td>\n",
       "      <td>-0.088696</td>\n",
       "      <td>-0.187717</td>\n",
       "      <td>-0.049800</td>\n",
       "      <td>-0.104812</td>\n",
       "      <td>0.135486</td>\n",
       "      <td>0.281578</td>\n",
       "      <td>-0.281578</td>\n",
       "      <td>-0.090336</td>\n",
       "      <td>0.090336</td>\n",
       "    </tr>\n",
       "    <tr>\n",
       "      <th>curb-weight</th>\n",
       "      <td>-0.233118</td>\n",
       "      <td>0.099404</td>\n",
       "      <td>0.782097</td>\n",
       "      <td>0.880665</td>\n",
       "      <td>0.866201</td>\n",
       "      <td>0.307581</td>\n",
       "      <td>1.000000</td>\n",
       "      <td>0.849072</td>\n",
       "      <td>-0.029485</td>\n",
       "      <td>-0.036691</td>\n",
       "      <td>0.156433</td>\n",
       "      <td>0.756718</td>\n",
       "      <td>-0.188590</td>\n",
       "      <td>-0.749543</td>\n",
       "      <td>-0.794889</td>\n",
       "      <td>0.834415</td>\n",
       "      <td>0.221046</td>\n",
       "      <td>-0.221046</td>\n",
       "      <td>-0.321955</td>\n",
       "      <td>0.321955</td>\n",
       "    </tr>\n",
       "    <tr>\n",
       "      <th>engine-size</th>\n",
       "      <td>-0.110581</td>\n",
       "      <td>0.112360</td>\n",
       "      <td>0.572027</td>\n",
       "      <td>0.685025</td>\n",
       "      <td>0.729436</td>\n",
       "      <td>0.074694</td>\n",
       "      <td>0.849072</td>\n",
       "      <td>1.000000</td>\n",
       "      <td>-0.177698</td>\n",
       "      <td>-0.183013</td>\n",
       "      <td>0.028889</td>\n",
       "      <td>0.822255</td>\n",
       "      <td>-0.186924</td>\n",
       "      <td>-0.650546</td>\n",
       "      <td>-0.679571</td>\n",
       "      <td>0.872335</td>\n",
       "      <td>0.070779</td>\n",
       "      <td>-0.070779</td>\n",
       "      <td>-0.110040</td>\n",
       "      <td>0.110040</td>\n",
       "    </tr>\n",
       "    <tr>\n",
       "      <th>bore</th>\n",
       "      <td>0.243521</td>\n",
       "      <td>0.124511</td>\n",
       "      <td>-0.074380</td>\n",
       "      <td>-0.050463</td>\n",
       "      <td>-0.004059</td>\n",
       "      <td>-0.240217</td>\n",
       "      <td>-0.029485</td>\n",
       "      <td>-0.177698</td>\n",
       "      <td>1.000000</td>\n",
       "      <td>0.999672</td>\n",
       "      <td>-0.027237</td>\n",
       "      <td>0.031766</td>\n",
       "      <td>0.189485</td>\n",
       "      <td>-0.196827</td>\n",
       "      <td>-0.170635</td>\n",
       "      <td>0.005399</td>\n",
       "      <td>-0.046482</td>\n",
       "      <td>0.046482</td>\n",
       "      <td>0.062876</td>\n",
       "      <td>-0.062876</td>\n",
       "    </tr>\n",
       "    <tr>\n",
       "      <th>stroke</th>\n",
       "      <td>0.245613</td>\n",
       "      <td>0.126034</td>\n",
       "      <td>-0.079330</td>\n",
       "      <td>-0.057929</td>\n",
       "      <td>-0.009260</td>\n",
       "      <td>-0.244270</td>\n",
       "      <td>-0.036691</td>\n",
       "      <td>-0.183013</td>\n",
       "      <td>0.999672</td>\n",
       "      <td>1.000000</td>\n",
       "      <td>-0.023685</td>\n",
       "      <td>0.024642</td>\n",
       "      <td>0.189387</td>\n",
       "      <td>-0.188074</td>\n",
       "      <td>-0.161747</td>\n",
       "      <td>-0.001799</td>\n",
       "      <td>-0.042777</td>\n",
       "      <td>0.042777</td>\n",
       "      <td>0.062400</td>\n",
       "      <td>-0.062400</td>\n",
       "    </tr>\n",
       "    <tr>\n",
       "      <th>compression-ratio</th>\n",
       "      <td>-0.182196</td>\n",
       "      <td>-0.114713</td>\n",
       "      <td>0.250313</td>\n",
       "      <td>0.159733</td>\n",
       "      <td>0.189867</td>\n",
       "      <td>0.259737</td>\n",
       "      <td>0.156433</td>\n",
       "      <td>0.028889</td>\n",
       "      <td>-0.027237</td>\n",
       "      <td>-0.023685</td>\n",
       "      <td>1.000000</td>\n",
       "      <td>-0.215986</td>\n",
       "      <td>-0.275573</td>\n",
       "      <td>0.331425</td>\n",
       "      <td>0.268465</td>\n",
       "      <td>0.071107</td>\n",
       "      <td>0.985231</td>\n",
       "      <td>-0.985231</td>\n",
       "      <td>-0.307522</td>\n",
       "      <td>0.307522</td>\n",
       "    </tr>\n",
       "    <tr>\n",
       "      <th>horsepower</th>\n",
       "      <td>0.076328</td>\n",
       "      <td>0.217034</td>\n",
       "      <td>0.368584</td>\n",
       "      <td>0.581018</td>\n",
       "      <td>0.615817</td>\n",
       "      <td>-0.088696</td>\n",
       "      <td>0.756718</td>\n",
       "      <td>0.822255</td>\n",
       "      <td>0.031766</td>\n",
       "      <td>0.024642</td>\n",
       "      <td>-0.215986</td>\n",
       "      <td>1.000000</td>\n",
       "      <td>0.039036</td>\n",
       "      <td>-0.822819</td>\n",
       "      <td>-0.803373</td>\n",
       "      <td>0.806429</td>\n",
       "      <td>-0.170419</td>\n",
       "      <td>0.170419</td>\n",
       "      <td>-0.248610</td>\n",
       "      <td>0.248610</td>\n",
       "    </tr>\n",
       "    <tr>\n",
       "      <th>peak-rpm</th>\n",
       "      <td>0.184721</td>\n",
       "      <td>0.166059</td>\n",
       "      <td>-0.217522</td>\n",
       "      <td>-0.227380</td>\n",
       "      <td>-0.193213</td>\n",
       "      <td>-0.187717</td>\n",
       "      <td>-0.188590</td>\n",
       "      <td>-0.186924</td>\n",
       "      <td>0.189485</td>\n",
       "      <td>0.189387</td>\n",
       "      <td>-0.275573</td>\n",
       "      <td>0.039036</td>\n",
       "      <td>1.000000</td>\n",
       "      <td>-0.055397</td>\n",
       "      <td>-0.043958</td>\n",
       "      <td>-0.037470</td>\n",
       "      <td>-0.305794</td>\n",
       "      <td>0.305794</td>\n",
       "      <td>0.097952</td>\n",
       "      <td>-0.097952</td>\n",
       "    </tr>\n",
       "    <tr>\n",
       "      <th>city-mpg</th>\n",
       "      <td>-0.035527</td>\n",
       "      <td>-0.225016</td>\n",
       "      <td>-0.470606</td>\n",
       "      <td>-0.665192</td>\n",
       "      <td>-0.633531</td>\n",
       "      <td>-0.049800</td>\n",
       "      <td>-0.749543</td>\n",
       "      <td>-0.650546</td>\n",
       "      <td>-0.196827</td>\n",
       "      <td>-0.188074</td>\n",
       "      <td>0.331425</td>\n",
       "      <td>-0.822819</td>\n",
       "      <td>-0.055397</td>\n",
       "      <td>1.000000</td>\n",
       "      <td>0.972044</td>\n",
       "      <td>-0.686571</td>\n",
       "      <td>0.265676</td>\n",
       "      <td>-0.265676</td>\n",
       "      <td>0.189237</td>\n",
       "      <td>-0.189237</td>\n",
       "    </tr>\n",
       "    <tr>\n",
       "      <th>highway-mpg</th>\n",
       "      <td>0.036233</td>\n",
       "      <td>-0.181877</td>\n",
       "      <td>-0.543304</td>\n",
       "      <td>-0.698142</td>\n",
       "      <td>-0.680635</td>\n",
       "      <td>-0.104812</td>\n",
       "      <td>-0.794889</td>\n",
       "      <td>-0.679571</td>\n",
       "      <td>-0.170635</td>\n",
       "      <td>-0.161747</td>\n",
       "      <td>0.268465</td>\n",
       "      <td>-0.803373</td>\n",
       "      <td>-0.043958</td>\n",
       "      <td>0.972044</td>\n",
       "      <td>1.000000</td>\n",
       "      <td>-0.704692</td>\n",
       "      <td>0.198690</td>\n",
       "      <td>-0.198690</td>\n",
       "      <td>0.241851</td>\n",
       "      <td>-0.241851</td>\n",
       "    </tr>\n",
       "    <tr>\n",
       "      <th>price</th>\n",
       "      <td>-0.082391</td>\n",
       "      <td>0.133999</td>\n",
       "      <td>0.584642</td>\n",
       "      <td>0.690628</td>\n",
       "      <td>0.751265</td>\n",
       "      <td>0.135486</td>\n",
       "      <td>0.834415</td>\n",
       "      <td>0.872335</td>\n",
       "      <td>0.005399</td>\n",
       "      <td>-0.001799</td>\n",
       "      <td>0.071107</td>\n",
       "      <td>0.806429</td>\n",
       "      <td>-0.037470</td>\n",
       "      <td>-0.686571</td>\n",
       "      <td>-0.704692</td>\n",
       "      <td>1.000000</td>\n",
       "      <td>0.110326</td>\n",
       "      <td>-0.110326</td>\n",
       "      <td>-0.179578</td>\n",
       "      <td>0.179578</td>\n",
       "    </tr>\n",
       "    <tr>\n",
       "      <th>fuel-type-diesel</th>\n",
       "      <td>-0.196735</td>\n",
       "      <td>-0.101546</td>\n",
       "      <td>0.307237</td>\n",
       "      <td>0.211187</td>\n",
       "      <td>0.244356</td>\n",
       "      <td>0.281578</td>\n",
       "      <td>0.221046</td>\n",
       "      <td>0.070779</td>\n",
       "      <td>-0.046482</td>\n",
       "      <td>-0.042777</td>\n",
       "      <td>0.985231</td>\n",
       "      <td>-0.170419</td>\n",
       "      <td>-0.305794</td>\n",
       "      <td>0.265676</td>\n",
       "      <td>0.198690</td>\n",
       "      <td>0.110326</td>\n",
       "      <td>1.000000</td>\n",
       "      <td>-1.000000</td>\n",
       "      <td>-0.408228</td>\n",
       "      <td>0.408228</td>\n",
       "    </tr>\n",
       "    <tr>\n",
       "      <th>fuel-type-gas</th>\n",
       "      <td>0.196735</td>\n",
       "      <td>0.101546</td>\n",
       "      <td>-0.307237</td>\n",
       "      <td>-0.211187</td>\n",
       "      <td>-0.244356</td>\n",
       "      <td>-0.281578</td>\n",
       "      <td>-0.221046</td>\n",
       "      <td>-0.070779</td>\n",
       "      <td>0.046482</td>\n",
       "      <td>0.042777</td>\n",
       "      <td>-0.985231</td>\n",
       "      <td>0.170419</td>\n",
       "      <td>0.305794</td>\n",
       "      <td>-0.265676</td>\n",
       "      <td>-0.198690</td>\n",
       "      <td>-0.110326</td>\n",
       "      <td>-1.000000</td>\n",
       "      <td>1.000000</td>\n",
       "      <td>0.408228</td>\n",
       "      <td>-0.408228</td>\n",
       "    </tr>\n",
       "    <tr>\n",
       "      <th>aspiration-std</th>\n",
       "      <td>0.054615</td>\n",
       "      <td>0.006911</td>\n",
       "      <td>-0.256889</td>\n",
       "      <td>-0.230085</td>\n",
       "      <td>-0.305732</td>\n",
       "      <td>-0.090336</td>\n",
       "      <td>-0.321955</td>\n",
       "      <td>-0.110040</td>\n",
       "      <td>0.062876</td>\n",
       "      <td>0.062400</td>\n",
       "      <td>-0.307522</td>\n",
       "      <td>-0.248610</td>\n",
       "      <td>0.097952</td>\n",
       "      <td>0.189237</td>\n",
       "      <td>0.241851</td>\n",
       "      <td>-0.179578</td>\n",
       "      <td>-0.408228</td>\n",
       "      <td>0.408228</td>\n",
       "      <td>1.000000</td>\n",
       "      <td>-1.000000</td>\n",
       "    </tr>\n",
       "    <tr>\n",
       "      <th>aspiration-turbo</th>\n",
       "      <td>-0.054615</td>\n",
       "      <td>-0.006911</td>\n",
       "      <td>0.256889</td>\n",
       "      <td>0.230085</td>\n",
       "      <td>0.305732</td>\n",
       "      <td>0.090336</td>\n",
       "      <td>0.321955</td>\n",
       "      <td>0.110040</td>\n",
       "      <td>-0.062876</td>\n",
       "      <td>-0.062400</td>\n",
       "      <td>0.307522</td>\n",
       "      <td>0.248610</td>\n",
       "      <td>-0.097952</td>\n",
       "      <td>-0.189237</td>\n",
       "      <td>-0.241851</td>\n",
       "      <td>0.179578</td>\n",
       "      <td>0.408228</td>\n",
       "      <td>-0.408228</td>\n",
       "      <td>-1.000000</td>\n",
       "      <td>1.000000</td>\n",
       "    </tr>\n",
       "  </tbody>\n",
       "</table>\n",
       "</div>"
      ],
      "text/plain": [
       "                   symboling  normalized-losses  wheel-base    length  \\\n",
       "symboling           1.000000           0.466264   -0.535987 -0.365404   \n",
       "normalized-losses   0.466264           1.000000   -0.056661  0.019424   \n",
       "wheel-base         -0.535987          -0.056661    1.000000  0.876024   \n",
       "length             -0.365404           0.019424    0.876024  1.000000   \n",
       "width              -0.242423           0.086802    0.814507  0.857170   \n",
       "height             -0.550160          -0.373737    0.590742  0.492063   \n",
       "curb-weight        -0.233118           0.099404    0.782097  0.880665   \n",
       "engine-size        -0.110581           0.112360    0.572027  0.685025   \n",
       "bore                0.243521           0.124511   -0.074380 -0.050463   \n",
       "stroke              0.245613           0.126034   -0.079330 -0.057929   \n",
       "compression-ratio  -0.182196          -0.114713    0.250313  0.159733   \n",
       "horsepower          0.076328           0.217034    0.368584  0.581018   \n",
       "peak-rpm            0.184721           0.166059   -0.217522 -0.227380   \n",
       "city-mpg           -0.035527          -0.225016   -0.470606 -0.665192   \n",
       "highway-mpg         0.036233          -0.181877   -0.543304 -0.698142   \n",
       "price              -0.082391           0.133999    0.584642  0.690628   \n",
       "fuel-type-diesel   -0.196735          -0.101546    0.307237  0.211187   \n",
       "fuel-type-gas       0.196735           0.101546   -0.307237 -0.211187   \n",
       "aspiration-std      0.054615           0.006911   -0.256889 -0.230085   \n",
       "aspiration-turbo   -0.054615          -0.006911    0.256889  0.230085   \n",
       "\n",
       "                      width    height  curb-weight  engine-size      bore  \\\n",
       "symboling         -0.242423 -0.550160    -0.233118    -0.110581  0.243521   \n",
       "normalized-losses  0.086802 -0.373737     0.099404     0.112360  0.124511   \n",
       "wheel-base         0.814507  0.590742     0.782097     0.572027 -0.074380   \n",
       "length             0.857170  0.492063     0.880665     0.685025 -0.050463   \n",
       "width              1.000000  0.306002     0.866201     0.729436 -0.004059   \n",
       "height             0.306002  1.000000     0.307581     0.074694 -0.240217   \n",
       "curb-weight        0.866201  0.307581     1.000000     0.849072 -0.029485   \n",
       "engine-size        0.729436  0.074694     0.849072     1.000000 -0.177698   \n",
       "bore              -0.004059 -0.240217    -0.029485    -0.177698  1.000000   \n",
       "stroke            -0.009260 -0.244270    -0.036691    -0.183013  0.999672   \n",
       "compression-ratio  0.189867  0.259737     0.156433     0.028889 -0.027237   \n",
       "horsepower         0.615817 -0.088696     0.756718     0.822255  0.031766   \n",
       "peak-rpm          -0.193213 -0.187717    -0.188590    -0.186924  0.189485   \n",
       "city-mpg          -0.633531 -0.049800    -0.749543    -0.650546 -0.196827   \n",
       "highway-mpg       -0.680635 -0.104812    -0.794889    -0.679571 -0.170635   \n",
       "price              0.751265  0.135486     0.834415     0.872335  0.005399   \n",
       "fuel-type-diesel   0.244356  0.281578     0.221046     0.070779 -0.046482   \n",
       "fuel-type-gas     -0.244356 -0.281578    -0.221046    -0.070779  0.046482   \n",
       "aspiration-std    -0.305732 -0.090336    -0.321955    -0.110040  0.062876   \n",
       "aspiration-turbo   0.305732  0.090336     0.321955     0.110040 -0.062876   \n",
       "\n",
       "                     stroke  compression-ratio  horsepower  peak-rpm  \\\n",
       "symboling          0.245613          -0.182196    0.076328  0.184721   \n",
       "normalized-losses  0.126034          -0.114713    0.217034  0.166059   \n",
       "wheel-base        -0.079330           0.250313    0.368584 -0.217522   \n",
       "length            -0.057929           0.159733    0.581018 -0.227380   \n",
       "width             -0.009260           0.189867    0.615817 -0.193213   \n",
       "height            -0.244270           0.259737   -0.088696 -0.187717   \n",
       "curb-weight       -0.036691           0.156433    0.756718 -0.188590   \n",
       "engine-size       -0.183013           0.028889    0.822255 -0.186924   \n",
       "bore               0.999672          -0.027237    0.031766  0.189485   \n",
       "stroke             1.000000          -0.023685    0.024642  0.189387   \n",
       "compression-ratio -0.023685           1.000000   -0.215986 -0.275573   \n",
       "horsepower         0.024642          -0.215986    1.000000  0.039036   \n",
       "peak-rpm           0.189387          -0.275573    0.039036  1.000000   \n",
       "city-mpg          -0.188074           0.331425   -0.822819 -0.055397   \n",
       "highway-mpg       -0.161747           0.268465   -0.803373 -0.043958   \n",
       "price             -0.001799           0.071107    0.806429 -0.037470   \n",
       "fuel-type-diesel  -0.042777           0.985231   -0.170419 -0.305794   \n",
       "fuel-type-gas      0.042777          -0.985231    0.170419  0.305794   \n",
       "aspiration-std     0.062400          -0.307522   -0.248610  0.097952   \n",
       "aspiration-turbo  -0.062400           0.307522    0.248610 -0.097952   \n",
       "\n",
       "                   city-mpg  highway-mpg     price  fuel-type-diesel  \\\n",
       "symboling         -0.035527     0.036233 -0.082391         -0.196735   \n",
       "normalized-losses -0.225016    -0.181877  0.133999         -0.101546   \n",
       "wheel-base        -0.470606    -0.543304  0.584642          0.307237   \n",
       "length            -0.665192    -0.698142  0.690628          0.211187   \n",
       "width             -0.633531    -0.680635  0.751265          0.244356   \n",
       "height            -0.049800    -0.104812  0.135486          0.281578   \n",
       "curb-weight       -0.749543    -0.794889  0.834415          0.221046   \n",
       "engine-size       -0.650546    -0.679571  0.872335          0.070779   \n",
       "bore              -0.196827    -0.170635  0.005399         -0.046482   \n",
       "stroke            -0.188074    -0.161747 -0.001799         -0.042777   \n",
       "compression-ratio  0.331425     0.268465  0.071107          0.985231   \n",
       "horsepower        -0.822819    -0.803373  0.806429         -0.170419   \n",
       "peak-rpm          -0.055397    -0.043958 -0.037470         -0.305794   \n",
       "city-mpg           1.000000     0.972044 -0.686571          0.265676   \n",
       "highway-mpg        0.972044     1.000000 -0.704692          0.198690   \n",
       "price             -0.686571    -0.704692  1.000000          0.110326   \n",
       "fuel-type-diesel   0.265676     0.198690  0.110326          1.000000   \n",
       "fuel-type-gas     -0.265676    -0.198690 -0.110326         -1.000000   \n",
       "aspiration-std     0.189237     0.241851 -0.179578         -0.408228   \n",
       "aspiration-turbo  -0.189237    -0.241851  0.179578          0.408228   \n",
       "\n",
       "                   fuel-type-gas  aspiration-std  aspiration-turbo  \n",
       "symboling               0.196735        0.054615         -0.054615  \n",
       "normalized-losses       0.101546        0.006911         -0.006911  \n",
       "wheel-base             -0.307237       -0.256889          0.256889  \n",
       "length                 -0.211187       -0.230085          0.230085  \n",
       "width                  -0.244356       -0.305732          0.305732  \n",
       "height                 -0.281578       -0.090336          0.090336  \n",
       "curb-weight            -0.221046       -0.321955          0.321955  \n",
       "engine-size            -0.070779       -0.110040          0.110040  \n",
       "bore                    0.046482        0.062876         -0.062876  \n",
       "stroke                  0.042777        0.062400         -0.062400  \n",
       "compression-ratio      -0.985231       -0.307522          0.307522  \n",
       "horsepower              0.170419       -0.248610          0.248610  \n",
       "peak-rpm                0.305794        0.097952         -0.097952  \n",
       "city-mpg               -0.265676        0.189237         -0.189237  \n",
       "highway-mpg            -0.198690        0.241851         -0.241851  \n",
       "price                  -0.110326       -0.179578          0.179578  \n",
       "fuel-type-diesel       -1.000000       -0.408228          0.408228  \n",
       "fuel-type-gas           1.000000        0.408228         -0.408228  \n",
       "aspiration-std          0.408228        1.000000         -1.000000  \n",
       "aspiration-turbo       -0.408228       -1.000000          1.000000  "
      ]
     },
     "execution_count": 27,
     "metadata": {},
     "output_type": "execute_result"
    }
   ],
   "source": [
    "df.corr()"
   ]
  },
  {
   "cell_type": "markdown",
   "id": "a6b095dc",
   "metadata": {
    "papermill": {
     "duration": 0.073162,
     "end_time": "2022-03-23T17:47:13.920918",
     "exception": false,
     "start_time": "2022-03-23T17:47:13.847756",
     "status": "completed"
    },
    "tags": []
   },
   "source": [
    "Sometimes we would like to know the significant of the correlation estimate.\n",
    "\n",
    "P-value\n",
    "\n",
    "What is this P-value? The P-value is the probability value that the correlation between these two variables is statistically significant. Normally, we choose a significance level of 0.05, which means that we are 95% confident that the correlation between the variables is significant.\n",
    "\n",
    "By convention, when the\n",
    "\n",
    "- p-value is  <  0.001: we say there is strong evidence that the correlation is significant.\n",
    "- the p-value is  <  0.05: there is moderate evidence that the correlation is significant.\n",
    "- the p-value is  <  0.1: there is weak evidence that the correlation is significant.\n",
    "- the p-value is  >  0.1: there is no evidence that the correlation is significant.\n",
    "We can obtain this information using \"stats\" module in the \"scipy\" library."
   ]
  },
  {
   "cell_type": "code",
   "execution_count": 28,
   "id": "98521f18",
   "metadata": {
    "execution": {
     "iopub.execute_input": "2022-03-23T17:47:14.078785Z",
     "iopub.status.busy": "2022-03-23T17:47:14.078042Z",
     "iopub.status.idle": "2022-03-23T17:47:14.082657Z",
     "shell.execute_reply": "2022-03-23T17:47:14.083222Z",
     "shell.execute_reply.started": "2022-03-23T17:32:21.613962Z"
    },
    "papermill": {
     "duration": 0.090237,
     "end_time": "2022-03-23T17:47:14.083410",
     "exception": false,
     "start_time": "2022-03-23T17:47:13.993173",
     "status": "completed"
    },
    "tags": []
   },
   "outputs": [
    {
     "name": "stdout",
     "output_type": "stream",
     "text": [
      "wheel-base  coef= 0.584641822265508    p=8.076488270733218e-20\n",
      "horsepower  coef= 0.806429390457692    p=2.7444670418335615e-47\n",
      "length  coef= 0.6906283804483639    p=8.016477466159328e-30\n",
      "width  coef= 0.7512653440522675    p=9.200335510481123e-38\n",
      "curb-weight  coef= 0.8344145257702843    p=2.189577238894065e-53\n",
      "engine-size  coef= 0.8723351674455185    p=9.265491622198389e-64\n",
      "bore  coef= 0.005399275177997419    p=0.9393625495207799\n",
      "city-mpg  coef= -0.6865710067844678    p=2.321132065567641e-29\n",
      "highway-mpg  coef= -0.704692265058953    p=1.7495471144476358e-31\n"
     ]
    }
   ],
   "source": [
    "for col in df[['wheel-base', 'horsepower', 'length', 'width', 'curb-weight', 'engine-size', 'bore', 'city-mpg', 'highway-mpg',]]:\n",
    "    pearson_coef, p_value = stats.pearsonr(df[col], df['price'])\n",
    "    print(f'{col}  coef= {pearson_coef}    p={p_value}')"
   ]
  },
  {
   "cell_type": "markdown",
   "id": "59032a6d",
   "metadata": {
    "papermill": {
     "duration": 0.073063,
     "end_time": "2022-03-23T17:47:14.229360",
     "exception": false,
     "start_time": "2022-03-23T17:47:14.156297",
     "status": "completed"
    },
    "tags": []
   },
   "source": [
    "##### Conclusions:\n",
    "\n",
    "`wheel-base vs. price` Since the p-value is  <  0.001, the correlation is statistically significant, although the linear relationship isn't extremely strong (~0.585).\n",
    "\n",
    "`Horsepower vs. Price` Since the p-value is < 0.001, the correlation is statistically significant, and the linear relationship is quite strong (~0.809, close to 1).\n",
    "\n",
    "`Length vs. Price` Since the p-value is < 0.001, the correlation statistically significant, and the linear relationship is moderately strong (~0.691).\n",
    "\n",
    "`Width vs. Price` Since the p-value is < 0.001, the correlation is statistically significant, and the linear relationship is quite strong (~0.751).\n",
    "\n",
    "`Curb-Weight vs. Price` Since the p-value is < 0.001, the correlation is statistically significant, and the linear relationship is quite strong (~0.834).\n",
    "\n",
    "`Engine-Size vs. Price` Since the p-value is  <  0.001, the correlation is statistically significant, and the linear relationship is very strong (~0.872).\n",
    "\n",
    "`City-mpg vs. Price` Since the p-value is  <  0.001, the correlation is statistically significant, and the coefficient of about -0.687 shows that the relationship is negative and moderately strong.\n",
    "\n",
    "`Highway-mpg vs. Price` Since the p-value is < 0.001, the correlation is statistically significant, and the coefficient of about -0.705 shows that the relationship is negative and moderately strong."
   ]
  },
  {
   "cell_type": "markdown",
   "id": "b0f9b6f9",
   "metadata": {
    "papermill": {
     "duration": 0.07214,
     "end_time": "2022-03-23T17:47:14.374153",
     "exception": false,
     "start_time": "2022-03-23T17:47:14.302013",
     "status": "completed"
    },
    "tags": []
   },
   "source": [
    "#### 6. ANOVA\n",
    "\n",
    "##### ANOVA: Analysis of Variance\n",
    "The Analysis of Variance (ANOVA) is a statistical method used to test whether there are significant differences between the means of two or more groups. ANOVA returns two parameters:\n",
    "\n",
    "F-test score: ANOVA assumes the means of all groups are the same, calculates how much the actual means deviate from the assumption, and reports it as the F-test score. A larger score means there is a larger difference between the means.\n",
    "\n",
    "P-value: P-value tells how statistically significant our calculated score value is.\n",
    "\n",
    "If our price variable is strongly correlated with the variable we are analyzing, we expect ANOVA to return a sizeable F-test score and a small p-value.\n",
    "\n",
    "\n",
    "##### Drive Wheels\n",
    "Since ANOVA analyzes the difference between different groups of the same variable, the groupby function will come in handy. Because the ANOVA algorithm averages the data automatically, we do not need to take the average before hand.\n",
    "\n",
    "To see if different types of 'drive-wheels' impact 'price', we group the data."
   ]
  },
  {
   "cell_type": "code",
   "execution_count": 29,
   "id": "8bb3bba6",
   "metadata": {
    "execution": {
     "iopub.execute_input": "2022-03-23T17:47:14.535973Z",
     "iopub.status.busy": "2022-03-23T17:47:14.535299Z",
     "iopub.status.idle": "2022-03-23T17:47:14.538536Z",
     "shell.execute_reply": "2022-03-23T17:47:14.538016Z",
     "shell.execute_reply.started": "2022-03-23T17:34:29.746868Z"
    },
    "papermill": {
     "duration": 0.090966,
     "end_time": "2022-03-23T17:47:14.538673",
     "exception": false,
     "start_time": "2022-03-23T17:47:14.447707",
     "status": "completed"
    },
    "tags": []
   },
   "outputs": [
    {
     "data": {
      "text/html": [
       "<div>\n",
       "<style scoped>\n",
       "    .dataframe tbody tr th:only-of-type {\n",
       "        vertical-align: middle;\n",
       "    }\n",
       "\n",
       "    .dataframe tbody tr th {\n",
       "        vertical-align: top;\n",
       "    }\n",
       "\n",
       "    .dataframe thead th {\n",
       "        text-align: right;\n",
       "    }\n",
       "</style>\n",
       "<table border=\"1\" class=\"dataframe\">\n",
       "  <thead>\n",
       "    <tr style=\"text-align: right;\">\n",
       "      <th></th>\n",
       "      <th>drive-wheels</th>\n",
       "      <th>price</th>\n",
       "    </tr>\n",
       "  </thead>\n",
       "  <tbody>\n",
       "    <tr>\n",
       "      <th>0</th>\n",
       "      <td>rwd</td>\n",
       "      <td>13495.0</td>\n",
       "    </tr>\n",
       "    <tr>\n",
       "      <th>1</th>\n",
       "      <td>rwd</td>\n",
       "      <td>16500.0</td>\n",
       "    </tr>\n",
       "    <tr>\n",
       "      <th>2</th>\n",
       "      <td>rwd</td>\n",
       "      <td>16500.0</td>\n",
       "    </tr>\n",
       "    <tr>\n",
       "      <th>3</th>\n",
       "      <td>fwd</td>\n",
       "      <td>13950.0</td>\n",
       "    </tr>\n",
       "    <tr>\n",
       "      <th>4</th>\n",
       "      <td>4wd</td>\n",
       "      <td>17450.0</td>\n",
       "    </tr>\n",
       "    <tr>\n",
       "      <th>5</th>\n",
       "      <td>fwd</td>\n",
       "      <td>15250.0</td>\n",
       "    </tr>\n",
       "    <tr>\n",
       "      <th>6</th>\n",
       "      <td>fwd</td>\n",
       "      <td>17710.0</td>\n",
       "    </tr>\n",
       "    <tr>\n",
       "      <th>7</th>\n",
       "      <td>fwd</td>\n",
       "      <td>18920.0</td>\n",
       "    </tr>\n",
       "    <tr>\n",
       "      <th>8</th>\n",
       "      <td>fwd</td>\n",
       "      <td>23875.0</td>\n",
       "    </tr>\n",
       "    <tr>\n",
       "      <th>9</th>\n",
       "      <td>rwd</td>\n",
       "      <td>16430.0</td>\n",
       "    </tr>\n",
       "    <tr>\n",
       "      <th>10</th>\n",
       "      <td>rwd</td>\n",
       "      <td>16925.0</td>\n",
       "    </tr>\n",
       "    <tr>\n",
       "      <th>136</th>\n",
       "      <td>4wd</td>\n",
       "      <td>7603.0</td>\n",
       "    </tr>\n",
       "    <tr>\n",
       "      <th>140</th>\n",
       "      <td>4wd</td>\n",
       "      <td>9233.0</td>\n",
       "    </tr>\n",
       "    <tr>\n",
       "      <th>141</th>\n",
       "      <td>4wd</td>\n",
       "      <td>11259.0</td>\n",
       "    </tr>\n",
       "    <tr>\n",
       "      <th>144</th>\n",
       "      <td>4wd</td>\n",
       "      <td>8013.0</td>\n",
       "    </tr>\n",
       "  </tbody>\n",
       "</table>\n",
       "</div>"
      ],
      "text/plain": [
       "    drive-wheels    price\n",
       "0            rwd  13495.0\n",
       "1            rwd  16500.0\n",
       "2            rwd  16500.0\n",
       "3            fwd  13950.0\n",
       "4            4wd  17450.0\n",
       "5            fwd  15250.0\n",
       "6            fwd  17710.0\n",
       "7            fwd  18920.0\n",
       "8            fwd  23875.0\n",
       "9            rwd  16430.0\n",
       "10           rwd  16925.0\n",
       "136          4wd   7603.0\n",
       "140          4wd   9233.0\n",
       "141          4wd  11259.0\n",
       "144          4wd   8013.0"
      ]
     },
     "execution_count": 29,
     "metadata": {},
     "output_type": "execute_result"
    }
   ],
   "source": [
    "groubed_wheels = df[['drive-wheels','price']].groupby(['drive-wheels'])\n",
    "groubed_wheels.head()"
   ]
  },
  {
   "cell_type": "code",
   "execution_count": 30,
   "id": "abc04322",
   "metadata": {
    "execution": {
     "iopub.execute_input": "2022-03-23T17:47:14.695020Z",
     "iopub.status.busy": "2022-03-23T17:47:14.694313Z",
     "iopub.status.idle": "2022-03-23T17:47:14.700823Z",
     "shell.execute_reply": "2022-03-23T17:47:14.700235Z",
     "shell.execute_reply.started": "2022-03-23T17:37:54.297778Z"
    },
    "papermill": {
     "duration": 0.088489,
     "end_time": "2022-03-23T17:47:14.700990",
     "exception": false,
     "start_time": "2022-03-23T17:47:14.612501",
     "status": "completed"
    },
    "tags": []
   },
   "outputs": [
    {
     "name": "stdout",
     "output_type": "stream",
     "text": [
      "ANOVA results: F= 67.95406500780399 , P = 3.3945443577151245e-23\n"
     ]
    }
   ],
   "source": [
    "f_val, p_val = stats.f_oneway(groubed_wheels.get_group('fwd')['price'],\n",
    "                              groubed_wheels.get_group('rwd')['price'],\n",
    "                              groubed_wheels.get_group('4wd')['price'])\n",
    "print( \"ANOVA results: F=\", f_val, \", P =\", p_val)   "
   ]
  },
  {
   "cell_type": "markdown",
   "id": "e29f52fc",
   "metadata": {
    "papermill": {
     "duration": 0.074471,
     "end_time": "2022-03-23T17:47:14.850065",
     "exception": false,
     "start_time": "2022-03-23T17:47:14.775594",
     "status": "completed"
    },
    "tags": []
   },
   "source": [
    "This is a great result with a large F-test score showing a strong correlation and a P-value of almost 0 implying almost certain statistical significance. But does this mean all three tested groups are all this highly correlated?\n",
    "\n",
    "Let's examine them separately.\n",
    "\n",
    "#### fwd and rwd"
   ]
  },
  {
   "cell_type": "code",
   "execution_count": 31,
   "id": "01563db9",
   "metadata": {
    "execution": {
     "iopub.execute_input": "2022-03-23T17:47:15.007980Z",
     "iopub.status.busy": "2022-03-23T17:47:15.006835Z",
     "iopub.status.idle": "2022-03-23T17:47:15.012681Z",
     "shell.execute_reply": "2022-03-23T17:47:15.012087Z",
     "shell.execute_reply.started": "2022-03-23T17:44:55.170627Z"
    },
    "papermill": {
     "duration": 0.088338,
     "end_time": "2022-03-23T17:47:15.012844",
     "exception": false,
     "start_time": "2022-03-23T17:47:14.924506",
     "status": "completed"
    },
    "tags": []
   },
   "outputs": [
    {
     "name": "stdout",
     "output_type": "stream",
     "text": [
      "ANOVA results: F= 130.5533160959111 , P = 2.2355306355677845e-23\n"
     ]
    }
   ],
   "source": [
    "f_val, p_val = stats.f_oneway(groubed_wheels.get_group('fwd')['price'], groubed_wheels.get_group('rwd')['price'])  \n",
    "print( \"ANOVA results: F=\", f_val, \", P =\", p_val )"
   ]
  },
  {
   "cell_type": "markdown",
   "id": "f9a15c86",
   "metadata": {
    "papermill": {
     "duration": 0.07493,
     "end_time": "2022-03-23T17:47:15.164445",
     "exception": false,
     "start_time": "2022-03-23T17:47:15.089515",
     "status": "completed"
    },
    "tags": []
   },
   "source": [
    "#### 4wd and rwd"
   ]
  },
  {
   "cell_type": "code",
   "execution_count": 32,
   "id": "cd0acbb5",
   "metadata": {
    "execution": {
     "iopub.execute_input": "2022-03-23T17:47:15.321908Z",
     "iopub.status.busy": "2022-03-23T17:47:15.321184Z",
     "iopub.status.idle": "2022-03-23T17:47:15.324558Z",
     "shell.execute_reply": "2022-03-23T17:47:15.325087Z",
     "shell.execute_reply.started": "2022-03-23T17:41:09.942166Z"
    },
    "papermill": {
     "duration": 0.085664,
     "end_time": "2022-03-23T17:47:15.325289",
     "exception": false,
     "start_time": "2022-03-23T17:47:15.239625",
     "status": "completed"
    },
    "tags": []
   },
   "outputs": [
    {
     "name": "stdout",
     "output_type": "stream",
     "text": [
      "ANOVA results: F= 8.580681368924756 , P = 0.004411492211225333\n"
     ]
    }
   ],
   "source": [
    "f_val, p_val = stats.f_oneway(groubed_wheels.get_group('4wd')['price'], groubed_wheels.get_group('rwd')['price'])  \n",
    "print( \"ANOVA results: F=\", f_val, \", P =\", p_val )"
   ]
  },
  {
   "cell_type": "markdown",
   "id": "552f062a",
   "metadata": {
    "papermill": {
     "duration": 0.075722,
     "end_time": "2022-03-23T17:47:15.476645",
     "exception": false,
     "start_time": "2022-03-23T17:47:15.400923",
     "status": "completed"
    },
    "tags": []
   },
   "source": [
    "#### 4wd and fwd"
   ]
  },
  {
   "cell_type": "code",
   "execution_count": 33,
   "id": "f2478f20",
   "metadata": {
    "execution": {
     "iopub.execute_input": "2022-03-23T17:47:15.635441Z",
     "iopub.status.busy": "2022-03-23T17:47:15.634663Z",
     "iopub.status.idle": "2022-03-23T17:47:15.638035Z",
     "shell.execute_reply": "2022-03-23T17:47:15.638606Z",
     "shell.execute_reply.started": "2022-03-23T17:41:40.258366Z"
    },
    "papermill": {
     "duration": 0.085752,
     "end_time": "2022-03-23T17:47:15.638810",
     "exception": false,
     "start_time": "2022-03-23T17:47:15.553058",
     "status": "completed"
    },
    "tags": []
   },
   "outputs": [
    {
     "name": "stdout",
     "output_type": "stream",
     "text": [
      "ANOVA results: F= 0.665465750252303 , P = 0.41620116697845666\n"
     ]
    }
   ],
   "source": [
    "f_val, p_val = stats.f_oneway(groubed_wheels.get_group('4wd')['price'], groubed_wheels.get_group('fwd')['price'])  \n",
    "print( \"ANOVA results: F=\", f_val, \", P =\", p_val )"
   ]
  },
  {
   "cell_type": "markdown",
   "id": "15fbfa6a",
   "metadata": {
    "papermill": {
     "duration": 0.077548,
     "end_time": "2022-03-23T17:47:15.792405",
     "exception": false,
     "start_time": "2022-03-23T17:47:15.714857",
     "status": "completed"
    },
    "tags": []
   },
   "source": [
    "## Conclusion: Important Variables\n",
    "We now have a better idea of what our data looks like and which variables are important to take into account when predicting the car price. We have narrowed it down to the following variables:\n",
    "\n",
    "### Continuous numerical variables:\n",
    "\n",
    "- Length\n",
    "- Width\n",
    "- Curb-weight\n",
    "- Engine-size\n",
    "- Horsepower\n",
    "- City-mpg\n",
    "- Highway-mpg\n",
    "- Wheel-base\n",
    "- Bore\n",
    "\n",
    "### Categorical variables:\n",
    "\n",
    "- Drive-wheels\n",
    "\n",
    "As we now move into building machine learning models to automate our analysis, feeding the model with variables that meaningfully affect our target variable will improve our model's prediction performance."
   ]
  }
 ],
 "metadata": {
  "kernelspec": {
   "display_name": "Python 3",
   "language": "python",
   "name": "python3"
  },
  "language_info": {
   "codemirror_mode": {
    "name": "ipython",
    "version": 3
   },
   "file_extension": ".py",
   "mimetype": "text/x-python",
   "name": "python",
   "nbconvert_exporter": "python",
   "pygments_lexer": "ipython3",
   "version": "3.7.12"
  },
  "papermill": {
   "default_parameters": {},
   "duration": 23.954474,
   "end_time": "2022-03-23T17:47:16.880036",
   "environment_variables": {},
   "exception": null,
   "input_path": "__notebook__.ipynb",
   "output_path": "__notebook__.ipynb",
   "parameters": {},
   "start_time": "2022-03-23T17:46:52.925562",
   "version": "2.3.3"
  }
 },
 "nbformat": 4,
 "nbformat_minor": 5
}
