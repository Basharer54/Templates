{
 "cells": [
  {
   "cell_type": "markdown",
   "id": "fcfdab9b",
   "metadata": {
    "papermill": {
     "duration": 0.035802,
     "end_time": "2022-03-16T16:34:51.753167",
     "exception": false,
     "start_time": "2022-03-16T16:34:51.717365",
     "status": "completed"
    },
    "tags": []
   },
   "source": [
    "# Introduction to Pandas in Python\n",
    "\n",
    "\n",
    "## Objectives\n",
    "\n",
    "After completing this lab you will be able to:\n",
    "\n",
    "*   Use Pandas to access and view data"
   ]
  },
  {
   "cell_type": "markdown",
   "id": "d18feb24",
   "metadata": {
    "papermill": {
     "duration": 0.031858,
     "end_time": "2022-03-16T16:34:51.822990",
     "exception": false,
     "start_time": "2022-03-16T16:34:51.791132",
     "status": "completed"
    },
    "tags": []
   },
   "source": [
    "<h2>Table of Contents</h2>\n",
    "<div class=\"alert alert-block alert-info\" style=\"margin-top: 20px\">\n",
    "    <ul>\n",
    "        <li><a href=\"https://https://data/?utm_medium=Exinfluencer&utm_source=Exinfluencer&utm_content=000026UJ&utm_term=10006555&utm_id=NA-SkillsNetwork-Channel-SkillsNetworkCoursesIBMDeveloperSkillsNetworkPY0101ENSkillsNetwork19487395-2021-01-01set/?utm_medium=Exinfluencer&utm_source=Exinfluencer&utm_content=000026UJ&utm_term=10006555&utm_id=NA-SkillsNetwork-Channel-SkillsNetworkCoursesIBMDeveloperSkillsNetworkPY0101ENSkillsNetwork19487395-2021-01-01\">About the Dataset</a></li>\n",
    "        <li><a href=\"https://pandas/?utm_medium=Exinfluencer&utm_source=Exinfluencer&utm_content=000026UJ&utm_term=10006555&utm_id=NA-SkillsNetwork-Channel-SkillsNetworkCoursesIBMDeveloperSkillsNetworkPY0101ENSkillsNetwork19487395-2021-01-01\">Introduction of <code>Pandas</code></a></li>\n",
    "        <li><a href=\"data\">Viewing Data and Accessing Data</a></li>\n",
    "    </ul>\n",
    "\n",
    "</div>\n",
    "\n",
    "<hr>\n"
   ]
  },
  {
   "cell_type": "markdown",
   "id": "a071806f",
   "metadata": {
    "papermill": {
     "duration": 0.030988,
     "end_time": "2022-03-16T16:34:51.886500",
     "exception": false,
     "start_time": "2022-03-16T16:34:51.855512",
     "status": "completed"
    },
    "tags": []
   },
   "source": [
    "<h2 id=\"dataset\">About the Dataset</h2>\n"
   ]
  },
  {
   "cell_type": "markdown",
   "id": "b757a152",
   "metadata": {
    "papermill": {
     "duration": 0.031519,
     "end_time": "2022-03-16T16:34:51.949247",
     "exception": false,
     "start_time": "2022-03-16T16:34:51.917728",
     "status": "completed"
    },
    "tags": []
   },
   "source": [
    "The table has one row for each album and several columns.\n",
    "\n",
    "<ul>\n",
    "    <li><b>artist</b>: Name of the artist</li>\n",
    "    <li><b>album</b>: Name of the album</li>\n",
    "    <li><b>released_year</b>: Year the album was released</li>\n",
    "    <li><b>length_min_sec</b>: Length of the album (hours,minutes,seconds)</li>\n",
    "    <li><b>genre</b>: Genre of the album</li>\n",
    "    <li><b>music_recording_sales_millions</b>: Music recording sales (millions in USD) on <a href=\"http://www.song-database.com/?utm_medium=Exinfluencer&utm_source=Exinfluencer&utm_content=000026UJ&utm_term=10006555&utm_id=NA-SkillsNetwork-Channel-SkillsNetworkCoursesIBMDeveloperSkillsNetworkPY0101ENSkillsNetwork19487395-2021-01-01?utm_medium=Exinfluencer&utm_source=Exinfluencer&utm_content=000026UJ&utm_term=10006555&utm_id=NA-SkillsNetwork-Channel-SkillsNetworkCoursesIBMDeveloperSkillsNetworkPY0101ENSkillsNetwork19487395-2021-01-01\">[SONG://DATABASE]</a></li>\n",
    "    <li><b>claimed_sales_millions</b>: Album's claimed sales (millions in USD) on <a href=\"http://www.song-database.com/\">[SONG://DATABASE]</a></li>\n",
    "    <li><b>date_released</b>: Date on which the album was released</li>\n",
    "    <li><b>soundtrack</b>: Indicates if the album is the movie soundtrack (Y) or (N)</li>\n",
    "    <li><b>rating_of_friends</b>: Indicates the rating from your friends from 1 to 10</li>\n",
    "</ul>\n",
    "\n",
    "You can see the dataset here:\n",
    "\n",
    "<font size=\"1\">\n",
    "<table font-size:xx-small>\n",
    "  <tr>\n",
    "    <th>Artist</th>\n",
    "    <th>Album</th> \n",
    "    <th>Released</th>\n",
    "    <th>Length</th>\n",
    "    <th>Genre</th> \n",
    "    <th>Music recording sales (millions)</th>\n",
    "    <th>Claimed sales (millions)</th>\n",
    "    <th>Released</th>\n",
    "    <th>Soundtrack</th>\n",
    "    <th>Rating (friends)</th>\n",
    "  </tr>\n",
    "  <tr>\n",
    "    <td>Michael Jackson</td>\n",
    "    <td>Thriller</td> \n",
    "    <td>1982</td>\n",
    "    <td>00:42:19</td>\n",
    "    <td>Pop, rock, R&B</td>\n",
    "    <td>46</td>\n",
    "    <td>65</td>\n",
    "    <td>30-Nov-82</td>\n",
    "    <td></td>\n",
    "    <td>10.0</td>\n",
    "  </tr>\n",
    "  <tr>\n",
    "    <td>AC/DC</td>\n",
    "    <td>Back in Black</td> \n",
    "    <td>1980</td>\n",
    "    <td>00:42:11</td>\n",
    "    <td>Hard rock</td>\n",
    "    <td>26.1</td>\n",
    "    <td>50</td>\n",
    "    <td>25-Jul-80</td>\n",
    "    <td></td>\n",
    "    <td>8.5</td>\n",
    "  </tr>\n",
    "    <tr>\n",
    "    <td>Pink Floyd</td>\n",
    "    <td>The Dark Side of the Moon</td> \n",
    "    <td>1973</td>\n",
    "    <td>00:42:49</td>\n",
    "    <td>Progressive rock</td>\n",
    "    <td>24.2</td>\n",
    "    <td>45</td>\n",
    "    <td>01-Mar-73</td>\n",
    "    <td></td>\n",
    "    <td>9.5</td>\n",
    "  </tr>\n",
    "    <tr>\n",
    "    <td>Whitney Houston</td>\n",
    "    <td>The Bodyguard</td> \n",
    "    <td>1992</td>\n",
    "    <td>00:57:44</td>\n",
    "    <td>Soundtrack/R&B, soul, pop</td>\n",
    "    <td>26.1</td>\n",
    "    <td>50</td>\n",
    "    <td>25-Jul-80</td>\n",
    "    <td>Y</td>\n",
    "    <td>7.0</td>\n",
    "  </tr>\n",
    "    <tr>\n",
    "    <td>Meat Loaf</td>\n",
    "    <td>Bat Out of Hell</td> \n",
    "    <td>1977</td>\n",
    "    <td>00:46:33</td>\n",
    "    <td>Hard rock, progressive rock</td>\n",
    "    <td>20.6</td>\n",
    "    <td>43</td>\n",
    "    <td>21-Oct-77</td>\n",
    "    <td></td>\n",
    "    <td>7.0</td>\n",
    "  </tr>\n",
    "    <tr>\n",
    "    <td>Eagles</td>\n",
    "    <td>Their Greatest Hits (1971-1975)</td> \n",
    "    <td>1976</td>\n",
    "    <td>00:43:08</td>\n",
    "    <td>Rock, soft rock, folk rock</td>\n",
    "    <td>32.2</td>\n",
    "    <td>42</td>\n",
    "    <td>17-Feb-76</td>\n",
    "    <td></td>\n",
    "    <td>9.5</td>\n",
    "  </tr>\n",
    "    <tr>\n",
    "    <td>Bee Gees</td>\n",
    "    <td>Saturday Night Fever</td> \n",
    "    <td>1977</td>\n",
    "    <td>1:15:54</td>\n",
    "    <td>Disco</td>\n",
    "    <td>20.6</td>\n",
    "    <td>40</td>\n",
    "    <td>15-Nov-77</td>\n",
    "    <td>Y</td>\n",
    "    <td>9.0</td>\n",
    "  </tr>\n",
    "    <tr>\n",
    "    <td>Fleetwood Mac</td>\n",
    "    <td>Rumours</td> \n",
    "    <td>1977</td>\n",
    "    <td>00:40:01</td>\n",
    "    <td>Soft rock</td>\n",
    "    <td>27.9</td>\n",
    "    <td>40</td>\n",
    "    <td>04-Feb-77</td>\n",
    "    <td></td>\n",
    "    <td>9.5</td>\n",
    "  </tr>\n",
    "</table></font>\n"
   ]
  },
  {
   "cell_type": "markdown",
   "id": "d7d3e9c9",
   "metadata": {
    "papermill": {
     "duration": 0.031111,
     "end_time": "2022-03-16T16:34:52.011540",
     "exception": false,
     "start_time": "2022-03-16T16:34:51.980429",
     "status": "completed"
    },
    "tags": []
   },
   "source": [
    "<hr>\n"
   ]
  },
  {
   "cell_type": "markdown",
   "id": "3e0a702d",
   "metadata": {
    "papermill": {
     "duration": 0.030778,
     "end_time": "2022-03-16T16:34:52.073712",
     "exception": false,
     "start_time": "2022-03-16T16:34:52.042934",
     "status": "completed"
    },
    "tags": []
   },
   "source": [
    "<h2 id=\"pandas\">Introduction of <code>Pandas</code></h2>\n"
   ]
  },
  {
   "cell_type": "code",
   "execution_count": 1,
   "id": "ec711489",
   "metadata": {
    "execution": {
     "iopub.execute_input": "2022-03-16T16:34:52.144527Z",
     "iopub.status.busy": "2022-03-16T16:34:52.143581Z",
     "iopub.status.idle": "2022-03-16T16:35:02.403337Z",
     "shell.execute_reply": "2022-03-16T16:35:02.402709Z",
     "shell.execute_reply.started": "2022-03-16T16:32:13.086332Z"
    },
    "papermill": {
     "duration": 10.298717,
     "end_time": "2022-03-16T16:35:02.403498",
     "exception": false,
     "start_time": "2022-03-16T16:34:52.104781",
     "status": "completed"
    },
    "tags": []
   },
   "outputs": [
    {
     "name": "stdout",
     "output_type": "stream",
     "text": [
      "Collecting openpyxl\r\n",
      "  Downloading openpyxl-3.0.9-py2.py3-none-any.whl (242 kB)\r\n",
      "     |████████████████████████████████| 242 kB 595 kB/s            \r\n",
      "\u001b[?25hCollecting et-xmlfile\r\n",
      "  Downloading et_xmlfile-1.1.0-py3-none-any.whl (4.7 kB)\r\n",
      "Installing collected packages: et-xmlfile, openpyxl\r\n",
      "Successfully installed et-xmlfile-1.1.0 openpyxl-3.0.9\r\n",
      "\u001b[33mWARNING: Running pip as the 'root' user can result in broken permissions and conflicting behaviour with the system package manager. It is recommended to use a virtual environment instead: https://pip.pypa.io/warnings/venv\u001b[0m\r\n"
     ]
    }
   ],
   "source": [
    "# Dependency needed to install file \n",
    "\n",
    "!pip install openpyxl"
   ]
  },
  {
   "cell_type": "code",
   "execution_count": 2,
   "id": "3092c2f8",
   "metadata": {
    "execution": {
     "iopub.execute_input": "2022-03-16T16:35:02.479477Z",
     "iopub.status.busy": "2022-03-16T16:35:02.478632Z",
     "iopub.status.idle": "2022-03-16T16:35:02.481385Z",
     "shell.execute_reply": "2022-03-16T16:35:02.480953Z",
     "shell.execute_reply.started": "2022-03-16T16:32:21.855064Z"
    },
    "papermill": {
     "duration": 0.042475,
     "end_time": "2022-03-16T16:35:02.481510",
     "exception": false,
     "start_time": "2022-03-16T16:35:02.439035",
     "status": "completed"
    },
    "tags": []
   },
   "outputs": [],
   "source": [
    "# Import required library\n",
    "\n",
    "import pandas as pd"
   ]
  },
  {
   "cell_type": "markdown",
   "id": "9c541dfe",
   "metadata": {
    "papermill": {
     "duration": 0.034392,
     "end_time": "2022-03-16T16:35:02.550464",
     "exception": false,
     "start_time": "2022-03-16T16:35:02.516072",
     "status": "completed"
    },
    "tags": []
   },
   "source": [
    "After the import command, we now have access to a large number of pre-built classes and functions. This assumes the library is installed; in our lab environment all the necessary libraries are installed. One way pandas allows you to work with data is a dataframe. Let's go through the process to go from a comma separated values (<b>.csv</b>) file to a dataframe. This variable <code>csv_path</code> stores the path of the <b>.csv</b>, that is  used as an argument to the <code>read_csv</code> function. The result is stored in the object <code>df</code>, this is a common short form used for a variable referring to a Pandas dataframe.\n"
   ]
  },
  {
   "cell_type": "code",
   "execution_count": 3,
   "id": "bb3a55ef",
   "metadata": {
    "execution": {
     "iopub.execute_input": "2022-03-16T16:35:02.625429Z",
     "iopub.status.busy": "2022-03-16T16:35:02.624647Z",
     "iopub.status.idle": "2022-03-16T16:35:02.639513Z",
     "shell.execute_reply": "2022-03-16T16:35:02.640037Z",
     "shell.execute_reply.started": "2022-03-16T16:32:21.862398Z"
    },
    "papermill": {
     "duration": 0.055709,
     "end_time": "2022-03-16T16:35:02.640211",
     "exception": false,
     "start_time": "2022-03-16T16:35:02.584502",
     "status": "completed"
    },
    "scrolled": true,
    "tags": []
   },
   "outputs": [],
   "source": [
    "# Read data from CSV file\n",
    "\n",
    "csv_path = '../input/data-s/data.csv'\n",
    "df = pd.read_csv(csv_path)"
   ]
  },
  {
   "cell_type": "markdown",
   "id": "122e3a87",
   "metadata": {
    "papermill": {
     "duration": 0.033533,
     "end_time": "2022-03-16T16:35:02.708246",
     "exception": false,
     "start_time": "2022-03-16T16:35:02.674713",
     "status": "completed"
    },
    "tags": []
   },
   "source": [
    "We can use the method <code>head()</code> to examine the first five rows of a dataframe:\n"
   ]
  },
  {
   "cell_type": "code",
   "execution_count": 4,
   "id": "c63bfd78",
   "metadata": {
    "execution": {
     "iopub.execute_input": "2022-03-16T16:35:02.779361Z",
     "iopub.status.busy": "2022-03-16T16:35:02.778472Z",
     "iopub.status.idle": "2022-03-16T16:35:02.800274Z",
     "shell.execute_reply": "2022-03-16T16:35:02.800722Z",
     "shell.execute_reply.started": "2022-03-16T16:32:21.890599Z"
    },
    "papermill": {
     "duration": 0.058707,
     "end_time": "2022-03-16T16:35:02.800882",
     "exception": false,
     "start_time": "2022-03-16T16:35:02.742175",
     "status": "completed"
    },
    "tags": []
   },
   "outputs": [
    {
     "data": {
      "text/html": [
       "<div>\n",
       "<style scoped>\n",
       "    .dataframe tbody tr th:only-of-type {\n",
       "        vertical-align: middle;\n",
       "    }\n",
       "\n",
       "    .dataframe tbody tr th {\n",
       "        vertical-align: top;\n",
       "    }\n",
       "\n",
       "    .dataframe thead th {\n",
       "        text-align: right;\n",
       "    }\n",
       "</style>\n",
       "<table border=\"1\" class=\"dataframe\">\n",
       "  <thead>\n",
       "    <tr style=\"text-align: right;\">\n",
       "      <th></th>\n",
       "      <th>Unnamed: 0</th>\n",
       "      <th>Artist</th>\n",
       "      <th>Album</th>\n",
       "      <th>Released</th>\n",
       "      <th>Length</th>\n",
       "      <th>Genre</th>\n",
       "      <th>Music Recording Sales (millions)</th>\n",
       "      <th>Claimed Sales (millions)</th>\n",
       "      <th>Released.1</th>\n",
       "      <th>Soundtrack</th>\n",
       "      <th>Rating</th>\n",
       "    </tr>\n",
       "  </thead>\n",
       "  <tbody>\n",
       "    <tr>\n",
       "      <th>0</th>\n",
       "      <td>0</td>\n",
       "      <td>Michael Jackson</td>\n",
       "      <td>Thriller</td>\n",
       "      <td>1982</td>\n",
       "      <td>0:42:19</td>\n",
       "      <td>pop, rock, R&amp;B</td>\n",
       "      <td>46.0</td>\n",
       "      <td>65</td>\n",
       "      <td>30-Nov-82</td>\n",
       "      <td>NaN</td>\n",
       "      <td>10.0</td>\n",
       "    </tr>\n",
       "    <tr>\n",
       "      <th>1</th>\n",
       "      <td>1</td>\n",
       "      <td>AC/DC</td>\n",
       "      <td>Back in Black</td>\n",
       "      <td>1980</td>\n",
       "      <td>0:42:11</td>\n",
       "      <td>hard rock</td>\n",
       "      <td>26.1</td>\n",
       "      <td>50</td>\n",
       "      <td>25-Jul-80</td>\n",
       "      <td>NaN</td>\n",
       "      <td>9.5</td>\n",
       "    </tr>\n",
       "    <tr>\n",
       "      <th>2</th>\n",
       "      <td>2</td>\n",
       "      <td>Pink Floyd</td>\n",
       "      <td>The Dark Side of the Moon</td>\n",
       "      <td>1973</td>\n",
       "      <td>0:42:49</td>\n",
       "      <td>progressive rock</td>\n",
       "      <td>24.2</td>\n",
       "      <td>45</td>\n",
       "      <td>01-Mar-73</td>\n",
       "      <td>NaN</td>\n",
       "      <td>9.0</td>\n",
       "    </tr>\n",
       "    <tr>\n",
       "      <th>3</th>\n",
       "      <td>3</td>\n",
       "      <td>Whitney Houston</td>\n",
       "      <td>The Bodyguard</td>\n",
       "      <td>1992</td>\n",
       "      <td>0:57:44</td>\n",
       "      <td>R&amp;B, soul, pop</td>\n",
       "      <td>27.4</td>\n",
       "      <td>44</td>\n",
       "      <td>17-Nov-92</td>\n",
       "      <td>Y</td>\n",
       "      <td>8.5</td>\n",
       "    </tr>\n",
       "    <tr>\n",
       "      <th>4</th>\n",
       "      <td>4</td>\n",
       "      <td>Meat Loaf</td>\n",
       "      <td>Bat Out of Hell</td>\n",
       "      <td>1977</td>\n",
       "      <td>0:46:33</td>\n",
       "      <td>hard rock, progressive rock</td>\n",
       "      <td>20.6</td>\n",
       "      <td>43</td>\n",
       "      <td>21-Oct-77</td>\n",
       "      <td>NaN</td>\n",
       "      <td>8.0</td>\n",
       "    </tr>\n",
       "  </tbody>\n",
       "</table>\n",
       "</div>"
      ],
      "text/plain": [
       "   Unnamed: 0           Artist                      Album  Released   Length  \\\n",
       "0           0  Michael Jackson                   Thriller      1982  0:42:19   \n",
       "1           1            AC/DC              Back in Black      1980  0:42:11   \n",
       "2           2       Pink Floyd  The Dark Side of the Moon      1973  0:42:49   \n",
       "3           3  Whitney Houston              The Bodyguard      1992  0:57:44   \n",
       "4           4        Meat Loaf            Bat Out of Hell      1977  0:46:33   \n",
       "\n",
       "                         Genre  Music Recording Sales (millions)  \\\n",
       "0               pop, rock, R&B                              46.0   \n",
       "1                    hard rock                              26.1   \n",
       "2             progressive rock                              24.2   \n",
       "3               R&B, soul, pop                              27.4   \n",
       "4  hard rock, progressive rock                              20.6   \n",
       "\n",
       "   Claimed Sales (millions) Released.1 Soundtrack  Rating  \n",
       "0                        65  30-Nov-82        NaN    10.0  \n",
       "1                        50  25-Jul-80        NaN     9.5  \n",
       "2                        45  01-Mar-73        NaN     9.0  \n",
       "3                        44  17-Nov-92          Y     8.5  \n",
       "4                        43  21-Oct-77        NaN     8.0  "
      ]
     },
     "execution_count": 4,
     "metadata": {},
     "output_type": "execute_result"
    }
   ],
   "source": [
    "# Print first five rows of the dataframe\n",
    "\n",
    "df.head()"
   ]
  },
  {
   "cell_type": "markdown",
   "id": "2ac5b04e",
   "metadata": {
    "papermill": {
     "duration": 0.034233,
     "end_time": "2022-03-16T16:35:02.870603",
     "exception": false,
     "start_time": "2022-03-16T16:35:02.836370",
     "status": "completed"
    },
    "tags": []
   },
   "source": [
    "We use the path of the excel file and the function <code>read_excel</code>. The result is a data frame as before:\n"
   ]
  },
  {
   "cell_type": "code",
   "execution_count": 5,
   "id": "0c4e0595",
   "metadata": {
    "execution": {
     "iopub.execute_input": "2022-03-16T16:35:02.942590Z",
     "iopub.status.busy": "2022-03-16T16:35:02.941716Z",
     "iopub.status.idle": "2022-03-16T16:35:03.281651Z",
     "shell.execute_reply": "2022-03-16T16:35:03.282109Z",
     "shell.execute_reply.started": "2022-03-16T16:34:11.842759Z"
    },
    "papermill": {
     "duration": 0.377424,
     "end_time": "2022-03-16T16:35:03.282278",
     "exception": false,
     "start_time": "2022-03-16T16:35:02.904854",
     "status": "completed"
    },
    "tags": []
   },
   "outputs": [
    {
     "data": {
      "text/html": [
       "<div>\n",
       "<style scoped>\n",
       "    .dataframe tbody tr th:only-of-type {\n",
       "        vertical-align: middle;\n",
       "    }\n",
       "\n",
       "    .dataframe tbody tr th {\n",
       "        vertical-align: top;\n",
       "    }\n",
       "\n",
       "    .dataframe thead th {\n",
       "        text-align: right;\n",
       "    }\n",
       "</style>\n",
       "<table border=\"1\" class=\"dataframe\">\n",
       "  <thead>\n",
       "    <tr style=\"text-align: right;\">\n",
       "      <th></th>\n",
       "      <th>Unnamed: 0</th>\n",
       "      <th>Artist</th>\n",
       "      <th>Album</th>\n",
       "      <th>Released</th>\n",
       "      <th>Length</th>\n",
       "      <th>Genre</th>\n",
       "      <th>Music Recording Sales (millions)</th>\n",
       "      <th>Claimed Sales (millions)</th>\n",
       "      <th>Released.1</th>\n",
       "      <th>Soundtrack</th>\n",
       "      <th>Rating</th>\n",
       "    </tr>\n",
       "  </thead>\n",
       "  <tbody>\n",
       "    <tr>\n",
       "      <th>0</th>\n",
       "      <td>0</td>\n",
       "      <td>Michael Jackson</td>\n",
       "      <td>Thriller</td>\n",
       "      <td>1982</td>\n",
       "      <td>00:42:19</td>\n",
       "      <td>pop, rock, R&amp;B</td>\n",
       "      <td>46.0</td>\n",
       "      <td>65</td>\n",
       "      <td>1982-11-30</td>\n",
       "      <td>NaN</td>\n",
       "      <td>10.0</td>\n",
       "    </tr>\n",
       "    <tr>\n",
       "      <th>1</th>\n",
       "      <td>1</td>\n",
       "      <td>AC/DC</td>\n",
       "      <td>Back in Black</td>\n",
       "      <td>1980</td>\n",
       "      <td>00:42:11</td>\n",
       "      <td>hard rock</td>\n",
       "      <td>26.1</td>\n",
       "      <td>50</td>\n",
       "      <td>1980-07-25</td>\n",
       "      <td>NaN</td>\n",
       "      <td>9.5</td>\n",
       "    </tr>\n",
       "    <tr>\n",
       "      <th>2</th>\n",
       "      <td>2</td>\n",
       "      <td>Pink Floyd</td>\n",
       "      <td>The Dark Side of the Moon</td>\n",
       "      <td>1973</td>\n",
       "      <td>00:42:49</td>\n",
       "      <td>progressive rock</td>\n",
       "      <td>24.2</td>\n",
       "      <td>45</td>\n",
       "      <td>1973-03-01</td>\n",
       "      <td>NaN</td>\n",
       "      <td>9.0</td>\n",
       "    </tr>\n",
       "    <tr>\n",
       "      <th>3</th>\n",
       "      <td>3</td>\n",
       "      <td>Whitney Houston</td>\n",
       "      <td>The Bodyguard</td>\n",
       "      <td>1992</td>\n",
       "      <td>00:57:44</td>\n",
       "      <td>R&amp;B, soul, pop</td>\n",
       "      <td>27.4</td>\n",
       "      <td>44</td>\n",
       "      <td>1992-11-17</td>\n",
       "      <td>Y</td>\n",
       "      <td>8.5</td>\n",
       "    </tr>\n",
       "    <tr>\n",
       "      <th>4</th>\n",
       "      <td>4</td>\n",
       "      <td>Meat Loaf</td>\n",
       "      <td>Bat Out of Hell</td>\n",
       "      <td>1977</td>\n",
       "      <td>00:46:33</td>\n",
       "      <td>hard rock, progressive rock</td>\n",
       "      <td>20.6</td>\n",
       "      <td>43</td>\n",
       "      <td>1977-10-21</td>\n",
       "      <td>NaN</td>\n",
       "      <td>8.0</td>\n",
       "    </tr>\n",
       "  </tbody>\n",
       "</table>\n",
       "</div>"
      ],
      "text/plain": [
       "   Unnamed: 0           Artist                      Album  Released    Length  \\\n",
       "0           0  Michael Jackson                   Thriller      1982  00:42:19   \n",
       "1           1            AC/DC              Back in Black      1980  00:42:11   \n",
       "2           2       Pink Floyd  The Dark Side of the Moon      1973  00:42:49   \n",
       "3           3  Whitney Houston              The Bodyguard      1992  00:57:44   \n",
       "4           4        Meat Loaf            Bat Out of Hell      1977  00:46:33   \n",
       "\n",
       "                         Genre  Music Recording Sales (millions)  \\\n",
       "0               pop, rock, R&B                              46.0   \n",
       "1                    hard rock                              26.1   \n",
       "2             progressive rock                              24.2   \n",
       "3               R&B, soul, pop                              27.4   \n",
       "4  hard rock, progressive rock                              20.6   \n",
       "\n",
       "   Claimed Sales (millions) Released.1 Soundtrack  Rating  \n",
       "0                        65 1982-11-30        NaN    10.0  \n",
       "1                        50 1980-07-25        NaN     9.5  \n",
       "2                        45 1973-03-01        NaN     9.0  \n",
       "3                        44 1992-11-17          Y     8.5  \n",
       "4                        43 1977-10-21        NaN     8.0  "
      ]
     },
     "execution_count": 5,
     "metadata": {},
     "output_type": "execute_result"
    }
   ],
   "source": [
    "# Read data from Excel File and print the first five rows\n",
    "xlsx_path = '../input/data-s/data.xlsx'\n",
    "df = pd.read_excel(xlsx_path)\n",
    "df.head()"
   ]
  },
  {
   "cell_type": "markdown",
   "id": "5228f537",
   "metadata": {
    "papermill": {
     "duration": 0.034498,
     "end_time": "2022-03-16T16:35:03.352252",
     "exception": false,
     "start_time": "2022-03-16T16:35:03.317754",
     "status": "completed"
    },
    "tags": []
   },
   "source": [
    "We can access the column <b>Length</b> and assign it a new dataframe <b>x</b>:\n"
   ]
  },
  {
   "cell_type": "code",
   "execution_count": 6,
   "id": "dadf2df9",
   "metadata": {
    "execution": {
     "iopub.execute_input": "2022-03-16T16:35:03.425939Z",
     "iopub.status.busy": "2022-03-16T16:35:03.425060Z",
     "iopub.status.idle": "2022-03-16T16:35:03.437438Z",
     "shell.execute_reply": "2022-03-16T16:35:03.437971Z",
     "shell.execute_reply.started": "2022-03-16T16:32:21.957705Z"
    },
    "papermill": {
     "duration": 0.051058,
     "end_time": "2022-03-16T16:35:03.438160",
     "exception": false,
     "start_time": "2022-03-16T16:35:03.387102",
     "status": "completed"
    },
    "tags": []
   },
   "outputs": [
    {
     "data": {
      "text/html": [
       "<div>\n",
       "<style scoped>\n",
       "    .dataframe tbody tr th:only-of-type {\n",
       "        vertical-align: middle;\n",
       "    }\n",
       "\n",
       "    .dataframe tbody tr th {\n",
       "        vertical-align: top;\n",
       "    }\n",
       "\n",
       "    .dataframe thead th {\n",
       "        text-align: right;\n",
       "    }\n",
       "</style>\n",
       "<table border=\"1\" class=\"dataframe\">\n",
       "  <thead>\n",
       "    <tr style=\"text-align: right;\">\n",
       "      <th></th>\n",
       "      <th>Length</th>\n",
       "    </tr>\n",
       "  </thead>\n",
       "  <tbody>\n",
       "    <tr>\n",
       "      <th>0</th>\n",
       "      <td>00:42:19</td>\n",
       "    </tr>\n",
       "    <tr>\n",
       "      <th>1</th>\n",
       "      <td>00:42:11</td>\n",
       "    </tr>\n",
       "    <tr>\n",
       "      <th>2</th>\n",
       "      <td>00:42:49</td>\n",
       "    </tr>\n",
       "    <tr>\n",
       "      <th>3</th>\n",
       "      <td>00:57:44</td>\n",
       "    </tr>\n",
       "    <tr>\n",
       "      <th>4</th>\n",
       "      <td>00:46:33</td>\n",
       "    </tr>\n",
       "    <tr>\n",
       "      <th>5</th>\n",
       "      <td>00:43:08</td>\n",
       "    </tr>\n",
       "    <tr>\n",
       "      <th>6</th>\n",
       "      <td>01:15:54</td>\n",
       "    </tr>\n",
       "    <tr>\n",
       "      <th>7</th>\n",
       "      <td>00:40:01</td>\n",
       "    </tr>\n",
       "  </tbody>\n",
       "</table>\n",
       "</div>"
      ],
      "text/plain": [
       "     Length\n",
       "0  00:42:19\n",
       "1  00:42:11\n",
       "2  00:42:49\n",
       "3  00:57:44\n",
       "4  00:46:33\n",
       "5  00:43:08\n",
       "6  01:15:54\n",
       "7  00:40:01"
      ]
     },
     "execution_count": 6,
     "metadata": {},
     "output_type": "execute_result"
    }
   ],
   "source": [
    "# Access to the column Length\n",
    "\n",
    "x = df[['Length']]\n",
    "x"
   ]
  },
  {
   "cell_type": "markdown",
   "id": "8dbb6885",
   "metadata": {
    "papermill": {
     "duration": 0.036099,
     "end_time": "2022-03-16T16:35:03.509754",
     "exception": false,
     "start_time": "2022-03-16T16:35:03.473655",
     "status": "completed"
    },
    "tags": []
   },
   "source": [
    "The process is shown in the figure:\n"
   ]
  },
  {
   "cell_type": "markdown",
   "id": "a5fe0d61",
   "metadata": {
    "papermill": {
     "duration": 0.035264,
     "end_time": "2022-03-16T16:35:03.580597",
     "exception": false,
     "start_time": "2022-03-16T16:35:03.545333",
     "status": "completed"
    },
    "tags": []
   },
   "source": [
    "<img src=\"https://cf-courses-data.s3.us.cloud-object-storage.appdomain.cloud/IBMDeveloperSkillsNetwork-PY0101EN-SkillsNetwork/labs/Module%204/images/DataEgOne.png\" width=\"750\" />\n"
   ]
  },
  {
   "cell_type": "markdown",
   "id": "732365bf",
   "metadata": {
    "papermill": {
     "duration": 0.035341,
     "end_time": "2022-03-16T16:35:03.651362",
     "exception": false,
     "start_time": "2022-03-16T16:35:03.616021",
     "status": "completed"
    },
    "tags": []
   },
   "source": [
    "<hr>\n"
   ]
  },
  {
   "cell_type": "markdown",
   "id": "83006906",
   "metadata": {
    "papermill": {
     "duration": 0.035401,
     "end_time": "2022-03-16T16:35:03.722249",
     "exception": false,
     "start_time": "2022-03-16T16:35:03.686848",
     "status": "completed"
    },
    "tags": []
   },
   "source": [
    "<h2 id=\"data\">Viewing Data and Accessing Data</h2>\n"
   ]
  },
  {
   "cell_type": "markdown",
   "id": "48af02b7",
   "metadata": {
    "papermill": {
     "duration": 0.047594,
     "end_time": "2022-03-16T16:35:03.817315",
     "exception": false,
     "start_time": "2022-03-16T16:35:03.769721",
     "status": "completed"
    },
    "tags": []
   },
   "source": [
    "You can also get a column as a series. You can think of a Pandas series as a 1-D dataframe. Just use one bracket:\n"
   ]
  },
  {
   "cell_type": "code",
   "execution_count": 7,
   "id": "4b56dae2",
   "metadata": {
    "execution": {
     "iopub.execute_input": "2022-03-16T16:35:03.897029Z",
     "iopub.status.busy": "2022-03-16T16:35:03.896127Z",
     "iopub.status.idle": "2022-03-16T16:35:03.903421Z",
     "shell.execute_reply": "2022-03-16T16:35:03.903924Z",
     "shell.execute_reply.started": "2022-03-16T16:32:21.968641Z"
    },
    "papermill": {
     "duration": 0.046268,
     "end_time": "2022-03-16T16:35:03.904082",
     "exception": false,
     "start_time": "2022-03-16T16:35:03.857814",
     "status": "completed"
    },
    "tags": []
   },
   "outputs": [
    {
     "data": {
      "text/plain": [
       "0    00:42:19\n",
       "1    00:42:11\n",
       "2    00:42:49\n",
       "3    00:57:44\n",
       "4    00:46:33\n",
       "5    00:43:08\n",
       "6    01:15:54\n",
       "7    00:40:01\n",
       "Name: Length, dtype: object"
      ]
     },
     "execution_count": 7,
     "metadata": {},
     "output_type": "execute_result"
    }
   ],
   "source": [
    "# Get the column as a series\n",
    "\n",
    "x = df['Length']\n",
    "x"
   ]
  },
  {
   "cell_type": "markdown",
   "id": "726fe4ab",
   "metadata": {
    "papermill": {
     "duration": 0.035814,
     "end_time": "2022-03-16T16:35:03.975860",
     "exception": false,
     "start_time": "2022-03-16T16:35:03.940046",
     "status": "completed"
    },
    "tags": []
   },
   "source": [
    "You can also get a column as a dataframe. For example, we can assign the column <b>Artist</b>:\n"
   ]
  },
  {
   "cell_type": "code",
   "execution_count": 8,
   "id": "ae9e56f5",
   "metadata": {
    "execution": {
     "iopub.execute_input": "2022-03-16T16:35:04.053401Z",
     "iopub.status.busy": "2022-03-16T16:35:04.052485Z",
     "iopub.status.idle": "2022-03-16T16:35:04.058446Z",
     "shell.execute_reply": "2022-03-16T16:35:04.058978Z",
     "shell.execute_reply.started": "2022-03-16T16:32:21.985504Z"
    },
    "papermill": {
     "duration": 0.046849,
     "end_time": "2022-03-16T16:35:04.059144",
     "exception": false,
     "start_time": "2022-03-16T16:35:04.012295",
     "status": "completed"
    },
    "tags": []
   },
   "outputs": [
    {
     "data": {
      "text/plain": [
       "pandas.core.frame.DataFrame"
      ]
     },
     "execution_count": 8,
     "metadata": {},
     "output_type": "execute_result"
    }
   ],
   "source": [
    "# Get the column as a dataframe\n",
    "\n",
    "x = df[['Artist']]\n",
    "type(x)"
   ]
  },
  {
   "cell_type": "markdown",
   "id": "cd23aa1e",
   "metadata": {
    "papermill": {
     "duration": 0.036581,
     "end_time": "2022-03-16T16:35:04.131895",
     "exception": false,
     "start_time": "2022-03-16T16:35:04.095314",
     "status": "completed"
    },
    "tags": []
   },
   "source": [
    "You can do the same thing for multiple columns; we just put the dataframe name, in this case, <code>df</code>, and the name of the multiple column headers enclosed in double brackets. The result is a new dataframe comprised of the specified columns:\n"
   ]
  },
  {
   "cell_type": "code",
   "execution_count": 9,
   "id": "5414de83",
   "metadata": {
    "execution": {
     "iopub.execute_input": "2022-03-16T16:35:04.207669Z",
     "iopub.status.busy": "2022-03-16T16:35:04.206789Z",
     "iopub.status.idle": "2022-03-16T16:35:04.216749Z",
     "shell.execute_reply": "2022-03-16T16:35:04.217232Z",
     "shell.execute_reply.started": "2022-03-16T16:32:22.001054Z"
    },
    "papermill": {
     "duration": 0.04926,
     "end_time": "2022-03-16T16:35:04.217386",
     "exception": false,
     "start_time": "2022-03-16T16:35:04.168126",
     "status": "completed"
    },
    "tags": []
   },
   "outputs": [
    {
     "data": {
      "text/html": [
       "<div>\n",
       "<style scoped>\n",
       "    .dataframe tbody tr th:only-of-type {\n",
       "        vertical-align: middle;\n",
       "    }\n",
       "\n",
       "    .dataframe tbody tr th {\n",
       "        vertical-align: top;\n",
       "    }\n",
       "\n",
       "    .dataframe thead th {\n",
       "        text-align: right;\n",
       "    }\n",
       "</style>\n",
       "<table border=\"1\" class=\"dataframe\">\n",
       "  <thead>\n",
       "    <tr style=\"text-align: right;\">\n",
       "      <th></th>\n",
       "      <th>Artist</th>\n",
       "      <th>Length</th>\n",
       "      <th>Genre</th>\n",
       "    </tr>\n",
       "  </thead>\n",
       "  <tbody>\n",
       "    <tr>\n",
       "      <th>0</th>\n",
       "      <td>Michael Jackson</td>\n",
       "      <td>00:42:19</td>\n",
       "      <td>pop, rock, R&amp;B</td>\n",
       "    </tr>\n",
       "    <tr>\n",
       "      <th>1</th>\n",
       "      <td>AC/DC</td>\n",
       "      <td>00:42:11</td>\n",
       "      <td>hard rock</td>\n",
       "    </tr>\n",
       "    <tr>\n",
       "      <th>2</th>\n",
       "      <td>Pink Floyd</td>\n",
       "      <td>00:42:49</td>\n",
       "      <td>progressive rock</td>\n",
       "    </tr>\n",
       "    <tr>\n",
       "      <th>3</th>\n",
       "      <td>Whitney Houston</td>\n",
       "      <td>00:57:44</td>\n",
       "      <td>R&amp;B, soul, pop</td>\n",
       "    </tr>\n",
       "    <tr>\n",
       "      <th>4</th>\n",
       "      <td>Meat Loaf</td>\n",
       "      <td>00:46:33</td>\n",
       "      <td>hard rock, progressive rock</td>\n",
       "    </tr>\n",
       "    <tr>\n",
       "      <th>5</th>\n",
       "      <td>Eagles</td>\n",
       "      <td>00:43:08</td>\n",
       "      <td>rock, soft rock, folk rock</td>\n",
       "    </tr>\n",
       "    <tr>\n",
       "      <th>6</th>\n",
       "      <td>Bee Gees</td>\n",
       "      <td>01:15:54</td>\n",
       "      <td>disco</td>\n",
       "    </tr>\n",
       "    <tr>\n",
       "      <th>7</th>\n",
       "      <td>Fleetwood Mac</td>\n",
       "      <td>00:40:01</td>\n",
       "      <td>soft rock</td>\n",
       "    </tr>\n",
       "  </tbody>\n",
       "</table>\n",
       "</div>"
      ],
      "text/plain": [
       "            Artist    Length                        Genre\n",
       "0  Michael Jackson  00:42:19               pop, rock, R&B\n",
       "1            AC/DC  00:42:11                    hard rock\n",
       "2       Pink Floyd  00:42:49             progressive rock\n",
       "3  Whitney Houston  00:57:44               R&B, soul, pop\n",
       "4        Meat Loaf  00:46:33  hard rock, progressive rock\n",
       "5           Eagles  00:43:08   rock, soft rock, folk rock\n",
       "6         Bee Gees  01:15:54                        disco\n",
       "7    Fleetwood Mac  00:40:01                    soft rock"
      ]
     },
     "execution_count": 9,
     "metadata": {},
     "output_type": "execute_result"
    }
   ],
   "source": [
    "# Access to multiple columns\n",
    "\n",
    "y = df[['Artist','Length','Genre']]\n",
    "y"
   ]
  },
  {
   "cell_type": "markdown",
   "id": "626f2e86",
   "metadata": {
    "papermill": {
     "duration": 0.036309,
     "end_time": "2022-03-16T16:35:04.290334",
     "exception": false,
     "start_time": "2022-03-16T16:35:04.254025",
     "status": "completed"
    },
    "tags": []
   },
   "source": [
    "The process is shown in the figure:\n"
   ]
  },
  {
   "cell_type": "markdown",
   "id": "77a331de",
   "metadata": {
    "papermill": {
     "duration": 0.036267,
     "end_time": "2022-03-16T16:35:04.363285",
     "exception": false,
     "start_time": "2022-03-16T16:35:04.327018",
     "status": "completed"
    },
    "tags": []
   },
   "source": [
    "<img src = \"https://cf-courses-data.s3.us.cloud-object-storage.appdomain.cloud/IBMDeveloperSkillsNetwork-PY0101EN-SkillsNetwork/labs/Module%204/images/DataEgTwo.png\" width=\"1100\" />\n"
   ]
  },
  {
   "cell_type": "markdown",
   "id": "24ccfe0d",
   "metadata": {
    "papermill": {
     "duration": 0.036304,
     "end_time": "2022-03-16T16:35:04.436021",
     "exception": false,
     "start_time": "2022-03-16T16:35:04.399717",
     "status": "completed"
    },
    "tags": []
   },
   "source": [
    "One way to access unique elements is the <code>iloc</code> method, where you can access the 1st row and the 1st column as follows:\n"
   ]
  },
  {
   "cell_type": "code",
   "execution_count": 10,
   "id": "9ccefb1e",
   "metadata": {
    "execution": {
     "iopub.execute_input": "2022-03-16T16:35:04.513427Z",
     "iopub.status.busy": "2022-03-16T16:35:04.512572Z",
     "iopub.status.idle": "2022-03-16T16:35:04.517727Z",
     "shell.execute_reply": "2022-03-16T16:35:04.518248Z",
     "shell.execute_reply.started": "2022-03-16T16:32:22.027150Z"
    },
    "papermill": {
     "duration": 0.045608,
     "end_time": "2022-03-16T16:35:04.518404",
     "exception": false,
     "start_time": "2022-03-16T16:35:04.472796",
     "status": "completed"
    },
    "tags": []
   },
   "outputs": [
    {
     "data": {
      "text/plain": [
       "0"
      ]
     },
     "execution_count": 10,
     "metadata": {},
     "output_type": "execute_result"
    }
   ],
   "source": [
    "# Access the value on the first row and the first column\n",
    "\n",
    "df.iloc[0, 0]"
   ]
  },
  {
   "cell_type": "markdown",
   "id": "20341d92",
   "metadata": {
    "papermill": {
     "duration": 0.036536,
     "end_time": "2022-03-16T16:35:04.592170",
     "exception": false,
     "start_time": "2022-03-16T16:35:04.555634",
     "status": "completed"
    },
    "tags": []
   },
   "source": [
    "You can access the 2nd row and the 1st column as follows:\n"
   ]
  },
  {
   "cell_type": "code",
   "execution_count": 11,
   "id": "798ee1fe",
   "metadata": {
    "execution": {
     "iopub.execute_input": "2022-03-16T16:35:04.669672Z",
     "iopub.status.busy": "2022-03-16T16:35:04.668797Z",
     "iopub.status.idle": "2022-03-16T16:35:04.673933Z",
     "shell.execute_reply": "2022-03-16T16:35:04.674441Z",
     "shell.execute_reply.started": "2022-03-16T16:32:22.035846Z"
    },
    "papermill": {
     "duration": 0.045401,
     "end_time": "2022-03-16T16:35:04.674623",
     "exception": false,
     "start_time": "2022-03-16T16:35:04.629222",
     "status": "completed"
    },
    "tags": []
   },
   "outputs": [
    {
     "data": {
      "text/plain": [
       "1"
      ]
     },
     "execution_count": 11,
     "metadata": {},
     "output_type": "execute_result"
    }
   ],
   "source": [
    "# Access the value on the second row and the first column\n",
    "\n",
    "df.iloc[1,0]"
   ]
  },
  {
   "cell_type": "markdown",
   "id": "f636c5c8",
   "metadata": {
    "papermill": {
     "duration": 0.0371,
     "end_time": "2022-03-16T16:35:04.749065",
     "exception": false,
     "start_time": "2022-03-16T16:35:04.711965",
     "status": "completed"
    },
    "tags": []
   },
   "source": [
    "You can access the 1st row and the 3rd column as follows:\n"
   ]
  },
  {
   "cell_type": "code",
   "execution_count": 12,
   "id": "a72e2c99",
   "metadata": {
    "execution": {
     "iopub.execute_input": "2022-03-16T16:35:04.828115Z",
     "iopub.status.busy": "2022-03-16T16:35:04.827203Z",
     "iopub.status.idle": "2022-03-16T16:35:04.832704Z",
     "shell.execute_reply": "2022-03-16T16:35:04.833183Z",
     "shell.execute_reply.started": "2022-03-16T16:32:22.050420Z"
    },
    "papermill": {
     "duration": 0.046719,
     "end_time": "2022-03-16T16:35:04.833343",
     "exception": false,
     "start_time": "2022-03-16T16:35:04.786624",
     "status": "completed"
    },
    "tags": []
   },
   "outputs": [
    {
     "data": {
      "text/plain": [
       "'Thriller'"
      ]
     },
     "execution_count": 12,
     "metadata": {},
     "output_type": "execute_result"
    }
   ],
   "source": [
    "# Access the value on the first row and the third column\n",
    "\n",
    "df.iloc[0,2]"
   ]
  },
  {
   "cell_type": "code",
   "execution_count": 13,
   "id": "36decfeb",
   "metadata": {
    "execution": {
     "iopub.execute_input": "2022-03-16T16:35:04.912338Z",
     "iopub.status.busy": "2022-03-16T16:35:04.911454Z",
     "iopub.status.idle": "2022-03-16T16:35:04.916582Z",
     "shell.execute_reply": "2022-03-16T16:35:04.917091Z",
     "shell.execute_reply.started": "2022-03-16T16:32:22.064403Z"
    },
    "papermill": {
     "duration": 0.045985,
     "end_time": "2022-03-16T16:35:04.917245",
     "exception": false,
     "start_time": "2022-03-16T16:35:04.871260",
     "status": "completed"
    },
    "tags": []
   },
   "outputs": [
    {
     "data": {
      "text/plain": [
       "'Back in Black'"
      ]
     },
     "execution_count": 13,
     "metadata": {},
     "output_type": "execute_result"
    }
   ],
   "source": [
    "# Access the value on the second row and the third column\n",
    "df.iloc[1,2]"
   ]
  },
  {
   "cell_type": "markdown",
   "id": "a3c16f55",
   "metadata": {
    "papermill": {
     "duration": 0.038644,
     "end_time": "2022-03-16T16:35:04.993664",
     "exception": false,
     "start_time": "2022-03-16T16:35:04.955020",
     "status": "completed"
    },
    "tags": []
   },
   "source": [
    "This is shown in the following image\n"
   ]
  },
  {
   "cell_type": "markdown",
   "id": "91543782",
   "metadata": {
    "papermill": {
     "duration": 0.037951,
     "end_time": "2022-03-16T16:35:05.070079",
     "exception": false,
     "start_time": "2022-03-16T16:35:05.032128",
     "status": "completed"
    },
    "tags": []
   },
   "source": [
    "<img src=\"https://cf-courses-data.s3.us.cloud-object-storage.appdomain.cloud/IBMDeveloperSkillsNetwork-PY0101EN-SkillsNetwork/labs/Module%204/images/2_loc.PNG\" width=\"750\" />\n"
   ]
  },
  {
   "cell_type": "markdown",
   "id": "d3475ac9",
   "metadata": {
    "papermill": {
     "duration": 0.037508,
     "end_time": "2022-03-16T16:35:05.145344",
     "exception": false,
     "start_time": "2022-03-16T16:35:05.107836",
     "status": "completed"
    },
    "tags": []
   },
   "source": [
    "You can access the column using the name as well, the following are the same as above:\n"
   ]
  },
  {
   "cell_type": "code",
   "execution_count": 14,
   "id": "e9810ed0",
   "metadata": {
    "execution": {
     "iopub.execute_input": "2022-03-16T16:35:05.224137Z",
     "iopub.status.busy": "2022-03-16T16:35:05.223253Z",
     "iopub.status.idle": "2022-03-16T16:35:05.229680Z",
     "shell.execute_reply": "2022-03-16T16:35:05.230096Z",
     "shell.execute_reply.started": "2022-03-16T16:32:22.077198Z"
    },
    "papermill": {
     "duration": 0.047268,
     "end_time": "2022-03-16T16:35:05.230259",
     "exception": false,
     "start_time": "2022-03-16T16:35:05.182991",
     "status": "completed"
    },
    "tags": []
   },
   "outputs": [
    {
     "data": {
      "text/plain": [
       "'AC/DC'"
      ]
     },
     "execution_count": 14,
     "metadata": {},
     "output_type": "execute_result"
    }
   ],
   "source": [
    "# Access the column using the name\n",
    "\n",
    "df.loc[1, 'Artist']"
   ]
  },
  {
   "cell_type": "code",
   "execution_count": 15,
   "id": "23398e64",
   "metadata": {
    "execution": {
     "iopub.execute_input": "2022-03-16T16:35:05.309887Z",
     "iopub.status.busy": "2022-03-16T16:35:05.309009Z",
     "iopub.status.idle": "2022-03-16T16:35:05.313798Z",
     "shell.execute_reply": "2022-03-16T16:35:05.314219Z",
     "shell.execute_reply.started": "2022-03-16T16:32:22.092887Z"
    },
    "papermill": {
     "duration": 0.046048,
     "end_time": "2022-03-16T16:35:05.314372",
     "exception": false,
     "start_time": "2022-03-16T16:35:05.268324",
     "status": "completed"
    },
    "tags": []
   },
   "outputs": [
    {
     "data": {
      "text/plain": [
       "'AC/DC'"
      ]
     },
     "execution_count": 15,
     "metadata": {},
     "output_type": "execute_result"
    }
   ],
   "source": [
    "# Access the column using the name\n",
    "\n",
    "df.loc[1, 'Artist']"
   ]
  },
  {
   "cell_type": "code",
   "execution_count": 16,
   "id": "18390788",
   "metadata": {
    "execution": {
     "iopub.execute_input": "2022-03-16T16:35:05.394393Z",
     "iopub.status.busy": "2022-03-16T16:35:05.393514Z",
     "iopub.status.idle": "2022-03-16T16:35:05.398266Z",
     "shell.execute_reply": "2022-03-16T16:35:05.398747Z",
     "shell.execute_reply.started": "2022-03-16T16:32:22.104976Z"
    },
    "papermill": {
     "duration": 0.046281,
     "end_time": "2022-03-16T16:35:05.398903",
     "exception": false,
     "start_time": "2022-03-16T16:35:05.352622",
     "status": "completed"
    },
    "tags": []
   },
   "outputs": [
    {
     "data": {
      "text/plain": [
       "1982"
      ]
     },
     "execution_count": 16,
     "metadata": {},
     "output_type": "execute_result"
    }
   ],
   "source": [
    "# Access the column using the name\n",
    "\n",
    "df.loc[0, 'Released']"
   ]
  },
  {
   "cell_type": "code",
   "execution_count": 17,
   "id": "f2e26f07",
   "metadata": {
    "execution": {
     "iopub.execute_input": "2022-03-16T16:35:05.481217Z",
     "iopub.status.busy": "2022-03-16T16:35:05.480604Z",
     "iopub.status.idle": "2022-03-16T16:35:05.485062Z",
     "shell.execute_reply": "2022-03-16T16:35:05.485535Z",
     "shell.execute_reply.started": "2022-03-16T16:32:22.118400Z"
    },
    "papermill": {
     "duration": 0.047247,
     "end_time": "2022-03-16T16:35:05.485725",
     "exception": false,
     "start_time": "2022-03-16T16:35:05.438478",
     "status": "completed"
    },
    "tags": []
   },
   "outputs": [
    {
     "data": {
      "text/plain": [
       "1980"
      ]
     },
     "execution_count": 17,
     "metadata": {},
     "output_type": "execute_result"
    }
   ],
   "source": [
    "# Access the column using the name\n",
    "\n",
    "df.loc[1, 'Released']"
   ]
  },
  {
   "cell_type": "markdown",
   "id": "53998861",
   "metadata": {
    "papermill": {
     "duration": 0.038945,
     "end_time": "2022-03-16T16:35:05.564461",
     "exception": false,
     "start_time": "2022-03-16T16:35:05.525516",
     "status": "completed"
    },
    "tags": []
   },
   "source": [
    "<img src=\"https://cf-courses-data.s3.us.cloud-object-storage.appdomain.cloud/IBMDeveloperSkillsNetwork-PY0101EN-SkillsNetwork/labs/Module%204/images/1_loc.png\" width=\"750\" />\n"
   ]
  },
  {
   "cell_type": "markdown",
   "id": "af18cb30",
   "metadata": {
    "papermill": {
     "duration": 0.03895,
     "end_time": "2022-03-16T16:35:05.642747",
     "exception": false,
     "start_time": "2022-03-16T16:35:05.603797",
     "status": "completed"
    },
    "tags": []
   },
   "source": [
    "You can perform slicing using both the index and the name of the column:\n"
   ]
  },
  {
   "cell_type": "code",
   "execution_count": 18,
   "id": "ffb758e7",
   "metadata": {
    "execution": {
     "iopub.execute_input": "2022-03-16T16:35:05.731324Z",
     "iopub.status.busy": "2022-03-16T16:35:05.730732Z",
     "iopub.status.idle": "2022-03-16T16:35:05.733066Z",
     "shell.execute_reply": "2022-03-16T16:35:05.733486Z",
     "shell.execute_reply.started": "2022-03-16T16:32:22.129220Z"
    },
    "papermill": {
     "duration": 0.052007,
     "end_time": "2022-03-16T16:35:05.733655",
     "exception": false,
     "start_time": "2022-03-16T16:35:05.681648",
     "status": "completed"
    },
    "tags": []
   },
   "outputs": [
    {
     "data": {
      "text/html": [
       "<div>\n",
       "<style scoped>\n",
       "    .dataframe tbody tr th:only-of-type {\n",
       "        vertical-align: middle;\n",
       "    }\n",
       "\n",
       "    .dataframe tbody tr th {\n",
       "        vertical-align: top;\n",
       "    }\n",
       "\n",
       "    .dataframe thead th {\n",
       "        text-align: right;\n",
       "    }\n",
       "</style>\n",
       "<table border=\"1\" class=\"dataframe\">\n",
       "  <thead>\n",
       "    <tr style=\"text-align: right;\">\n",
       "      <th></th>\n",
       "      <th>Unnamed: 0</th>\n",
       "      <th>Artist</th>\n",
       "      <th>Album</th>\n",
       "    </tr>\n",
       "  </thead>\n",
       "  <tbody>\n",
       "    <tr>\n",
       "      <th>0</th>\n",
       "      <td>0</td>\n",
       "      <td>Michael Jackson</td>\n",
       "      <td>Thriller</td>\n",
       "    </tr>\n",
       "    <tr>\n",
       "      <th>1</th>\n",
       "      <td>1</td>\n",
       "      <td>AC/DC</td>\n",
       "      <td>Back in Black</td>\n",
       "    </tr>\n",
       "  </tbody>\n",
       "</table>\n",
       "</div>"
      ],
      "text/plain": [
       "   Unnamed: 0           Artist          Album\n",
       "0           0  Michael Jackson       Thriller\n",
       "1           1            AC/DC  Back in Black"
      ]
     },
     "execution_count": 18,
     "metadata": {},
     "output_type": "execute_result"
    }
   ],
   "source": [
    "# Slicing the dataframe\n",
    "\n",
    "df.iloc[0:2, 0:3]"
   ]
  },
  {
   "cell_type": "markdown",
   "id": "91f7e57c",
   "metadata": {
    "papermill": {
     "duration": 0.039433,
     "end_time": "2022-03-16T16:35:05.812516",
     "exception": false,
     "start_time": "2022-03-16T16:35:05.773083",
     "status": "completed"
    },
    "tags": []
   },
   "source": [
    "<img src=\"https://cf-courses-data.s3.us.cloud-object-storage.appdomain.cloud/IBMDeveloperSkillsNetwork-PY0101EN-SkillsNetwork/labs/Module%204/images/4_loc.png\" width=\"750\" />\n"
   ]
  },
  {
   "cell_type": "code",
   "execution_count": 19,
   "id": "d3261514",
   "metadata": {
    "execution": {
     "iopub.execute_input": "2022-03-16T16:35:05.903290Z",
     "iopub.status.busy": "2022-03-16T16:35:05.902539Z",
     "iopub.status.idle": "2022-03-16T16:35:05.905095Z",
     "shell.execute_reply": "2022-03-16T16:35:05.905505Z",
     "shell.execute_reply.started": "2022-03-16T16:32:22.148660Z"
    },
    "papermill": {
     "duration": 0.053333,
     "end_time": "2022-03-16T16:35:05.905679",
     "exception": false,
     "start_time": "2022-03-16T16:35:05.852346",
     "status": "completed"
    },
    "tags": []
   },
   "outputs": [
    {
     "data": {
      "text/html": [
       "<div>\n",
       "<style scoped>\n",
       "    .dataframe tbody tr th:only-of-type {\n",
       "        vertical-align: middle;\n",
       "    }\n",
       "\n",
       "    .dataframe tbody tr th {\n",
       "        vertical-align: top;\n",
       "    }\n",
       "\n",
       "    .dataframe thead th {\n",
       "        text-align: right;\n",
       "    }\n",
       "</style>\n",
       "<table border=\"1\" class=\"dataframe\">\n",
       "  <thead>\n",
       "    <tr style=\"text-align: right;\">\n",
       "      <th></th>\n",
       "      <th>Artist</th>\n",
       "      <th>Album</th>\n",
       "      <th>Released</th>\n",
       "    </tr>\n",
       "  </thead>\n",
       "  <tbody>\n",
       "    <tr>\n",
       "      <th>0</th>\n",
       "      <td>Michael Jackson</td>\n",
       "      <td>Thriller</td>\n",
       "      <td>1982</td>\n",
       "    </tr>\n",
       "    <tr>\n",
       "      <th>1</th>\n",
       "      <td>AC/DC</td>\n",
       "      <td>Back in Black</td>\n",
       "      <td>1980</td>\n",
       "    </tr>\n",
       "    <tr>\n",
       "      <th>2</th>\n",
       "      <td>Pink Floyd</td>\n",
       "      <td>The Dark Side of the Moon</td>\n",
       "      <td>1973</td>\n",
       "    </tr>\n",
       "  </tbody>\n",
       "</table>\n",
       "</div>"
      ],
      "text/plain": [
       "            Artist                      Album  Released\n",
       "0  Michael Jackson                   Thriller      1982\n",
       "1            AC/DC              Back in Black      1980\n",
       "2       Pink Floyd  The Dark Side of the Moon      1973"
      ]
     },
     "execution_count": 19,
     "metadata": {},
     "output_type": "execute_result"
    }
   ],
   "source": [
    "# Slicing the dataframe using name\n",
    "\n",
    "df.loc[0:2, 'Artist':'Released']"
   ]
  },
  {
   "cell_type": "markdown",
   "id": "394c7a8f",
   "metadata": {
    "papermill": {
     "duration": 0.04008,
     "end_time": "2022-03-16T16:35:05.985605",
     "exception": false,
     "start_time": "2022-03-16T16:35:05.945525",
     "status": "completed"
    },
    "tags": []
   },
   "source": [
    "<img src=\"https://cf-courses-data.s3.us.cloud-object-storage.appdomain.cloud/IBMDeveloperSkillsNetwork-PY0101EN-SkillsNetwork/labs/Module%204/images/3_loc.png\" width=\"750\" />\n"
   ]
  },
  {
   "cell_type": "markdown",
   "id": "bc103869",
   "metadata": {
    "papermill": {
     "duration": 0.039472,
     "end_time": "2022-03-16T16:35:06.065172",
     "exception": false,
     "start_time": "2022-03-16T16:35:06.025700",
     "status": "completed"
    },
    "tags": []
   },
   "source": [
    "<hr>\n"
   ]
  },
  {
   "cell_type": "markdown",
   "id": "50bb8386",
   "metadata": {
    "papermill": {
     "duration": 0.040667,
     "end_time": "2022-03-16T16:35:06.146465",
     "exception": false,
     "start_time": "2022-03-16T16:35:06.105798",
     "status": "completed"
    },
    "tags": []
   },
   "source": [
    "<h2 id=\"quiz\">Quiz on DataFrame</h2>\n"
   ]
  },
  {
   "cell_type": "markdown",
   "id": "720d99f3",
   "metadata": {
    "papermill": {
     "duration": 0.039393,
     "end_time": "2022-03-16T16:35:06.226538",
     "exception": false,
     "start_time": "2022-03-16T16:35:06.187145",
     "status": "completed"
    },
    "tags": []
   },
   "source": [
    "Use a variable <code>q</code> to store the column <b>Rating</b> as a dataframe\n"
   ]
  },
  {
   "cell_type": "code",
   "execution_count": 20,
   "id": "c5041211",
   "metadata": {
    "execution": {
     "iopub.execute_input": "2022-03-16T16:35:06.315401Z",
     "iopub.status.busy": "2022-03-16T16:35:06.314758Z",
     "iopub.status.idle": "2022-03-16T16:35:06.317465Z",
     "shell.execute_reply": "2022-03-16T16:35:06.317907Z",
     "shell.execute_reply.started": "2022-03-16T16:32:22.163381Z"
    },
    "papermill": {
     "duration": 0.051644,
     "end_time": "2022-03-16T16:35:06.318076",
     "exception": false,
     "start_time": "2022-03-16T16:35:06.266432",
     "status": "completed"
    },
    "tags": []
   },
   "outputs": [
    {
     "data": {
      "text/html": [
       "<div>\n",
       "<style scoped>\n",
       "    .dataframe tbody tr th:only-of-type {\n",
       "        vertical-align: middle;\n",
       "    }\n",
       "\n",
       "    .dataframe tbody tr th {\n",
       "        vertical-align: top;\n",
       "    }\n",
       "\n",
       "    .dataframe thead th {\n",
       "        text-align: right;\n",
       "    }\n",
       "</style>\n",
       "<table border=\"1\" class=\"dataframe\">\n",
       "  <thead>\n",
       "    <tr style=\"text-align: right;\">\n",
       "      <th></th>\n",
       "      <th>Rating</th>\n",
       "    </tr>\n",
       "  </thead>\n",
       "  <tbody>\n",
       "    <tr>\n",
       "      <th>0</th>\n",
       "      <td>10.0</td>\n",
       "    </tr>\n",
       "    <tr>\n",
       "      <th>1</th>\n",
       "      <td>9.5</td>\n",
       "    </tr>\n",
       "    <tr>\n",
       "      <th>2</th>\n",
       "      <td>9.0</td>\n",
       "    </tr>\n",
       "    <tr>\n",
       "      <th>3</th>\n",
       "      <td>8.5</td>\n",
       "    </tr>\n",
       "    <tr>\n",
       "      <th>4</th>\n",
       "      <td>8.0</td>\n",
       "    </tr>\n",
       "    <tr>\n",
       "      <th>5</th>\n",
       "      <td>7.5</td>\n",
       "    </tr>\n",
       "    <tr>\n",
       "      <th>6</th>\n",
       "      <td>7.0</td>\n",
       "    </tr>\n",
       "    <tr>\n",
       "      <th>7</th>\n",
       "      <td>6.5</td>\n",
       "    </tr>\n",
       "  </tbody>\n",
       "</table>\n",
       "</div>"
      ],
      "text/plain": [
       "   Rating\n",
       "0    10.0\n",
       "1     9.5\n",
       "2     9.0\n",
       "3     8.5\n",
       "4     8.0\n",
       "5     7.5\n",
       "6     7.0\n",
       "7     6.5"
      ]
     },
     "execution_count": 20,
     "metadata": {},
     "output_type": "execute_result"
    }
   ],
   "source": [
    "q = df[['Rating']]\n",
    "q"
   ]
  },
  {
   "cell_type": "markdown",
   "id": "b22b6661",
   "metadata": {
    "papermill": {
     "duration": 0.039976,
     "end_time": "2022-03-16T16:35:06.399209",
     "exception": false,
     "start_time": "2022-03-16T16:35:06.359233",
     "status": "completed"
    },
    "tags": []
   },
   "source": [
    "Assign the variable <code>q</code> to the dataframe that is made up of the column <b>Released</b> and <b>Artist</b>:\n"
   ]
  },
  {
   "cell_type": "code",
   "execution_count": 21,
   "id": "718b9870",
   "metadata": {
    "execution": {
     "iopub.execute_input": "2022-03-16T16:35:06.488646Z",
     "iopub.status.busy": "2022-03-16T16:35:06.488015Z",
     "iopub.status.idle": "2022-03-16T16:35:06.491093Z",
     "shell.execute_reply": "2022-03-16T16:35:06.491492Z",
     "shell.execute_reply.started": "2022-03-16T16:32:22.176293Z"
    },
    "papermill": {
     "duration": 0.052317,
     "end_time": "2022-03-16T16:35:06.491668",
     "exception": false,
     "start_time": "2022-03-16T16:35:06.439351",
     "status": "completed"
    },
    "tags": []
   },
   "outputs": [
    {
     "data": {
      "text/html": [
       "<div>\n",
       "<style scoped>\n",
       "    .dataframe tbody tr th:only-of-type {\n",
       "        vertical-align: middle;\n",
       "    }\n",
       "\n",
       "    .dataframe tbody tr th {\n",
       "        vertical-align: top;\n",
       "    }\n",
       "\n",
       "    .dataframe thead th {\n",
       "        text-align: right;\n",
       "    }\n",
       "</style>\n",
       "<table border=\"1\" class=\"dataframe\">\n",
       "  <thead>\n",
       "    <tr style=\"text-align: right;\">\n",
       "      <th></th>\n",
       "      <th>Released</th>\n",
       "      <th>Artist</th>\n",
       "    </tr>\n",
       "  </thead>\n",
       "  <tbody>\n",
       "    <tr>\n",
       "      <th>0</th>\n",
       "      <td>1982</td>\n",
       "      <td>Michael Jackson</td>\n",
       "    </tr>\n",
       "    <tr>\n",
       "      <th>1</th>\n",
       "      <td>1980</td>\n",
       "      <td>AC/DC</td>\n",
       "    </tr>\n",
       "    <tr>\n",
       "      <th>2</th>\n",
       "      <td>1973</td>\n",
       "      <td>Pink Floyd</td>\n",
       "    </tr>\n",
       "    <tr>\n",
       "      <th>3</th>\n",
       "      <td>1992</td>\n",
       "      <td>Whitney Houston</td>\n",
       "    </tr>\n",
       "    <tr>\n",
       "      <th>4</th>\n",
       "      <td>1977</td>\n",
       "      <td>Meat Loaf</td>\n",
       "    </tr>\n",
       "    <tr>\n",
       "      <th>5</th>\n",
       "      <td>1976</td>\n",
       "      <td>Eagles</td>\n",
       "    </tr>\n",
       "    <tr>\n",
       "      <th>6</th>\n",
       "      <td>1977</td>\n",
       "      <td>Bee Gees</td>\n",
       "    </tr>\n",
       "    <tr>\n",
       "      <th>7</th>\n",
       "      <td>1977</td>\n",
       "      <td>Fleetwood Mac</td>\n",
       "    </tr>\n",
       "  </tbody>\n",
       "</table>\n",
       "</div>"
      ],
      "text/plain": [
       "   Released           Artist\n",
       "0      1982  Michael Jackson\n",
       "1      1980            AC/DC\n",
       "2      1973       Pink Floyd\n",
       "3      1992  Whitney Houston\n",
       "4      1977        Meat Loaf\n",
       "5      1976           Eagles\n",
       "6      1977         Bee Gees\n",
       "7      1977    Fleetwood Mac"
      ]
     },
     "execution_count": 21,
     "metadata": {},
     "output_type": "execute_result"
    }
   ],
   "source": [
    "# Write your code below and press Shift+Enter to execute\n",
    "q = df[['Released', 'Artist']]\n",
    "q"
   ]
  },
  {
   "cell_type": "markdown",
   "id": "afad9a44",
   "metadata": {
    "papermill": {
     "duration": 0.040615,
     "end_time": "2022-03-16T16:35:06.574134",
     "exception": false,
     "start_time": "2022-03-16T16:35:06.533519",
     "status": "completed"
    },
    "tags": []
   },
   "source": [
    "Access the 2nd row and the 3rd column of <code>df</code>:\n"
   ]
  },
  {
   "cell_type": "code",
   "execution_count": 22,
   "id": "d736280e",
   "metadata": {
    "execution": {
     "iopub.execute_input": "2022-03-16T16:35:06.661003Z",
     "iopub.status.busy": "2022-03-16T16:35:06.660361Z",
     "iopub.status.idle": "2022-03-16T16:35:06.664133Z",
     "shell.execute_reply": "2022-03-16T16:35:06.663674Z",
     "shell.execute_reply.started": "2022-03-16T16:32:22.194876Z"
    },
    "papermill": {
     "duration": 0.049318,
     "end_time": "2022-03-16T16:35:06.664259",
     "exception": false,
     "start_time": "2022-03-16T16:35:06.614941",
     "status": "completed"
    },
    "tags": []
   },
   "outputs": [
    {
     "data": {
      "text/plain": [
       "'Back in Black'"
      ]
     },
     "execution_count": 22,
     "metadata": {},
     "output_type": "execute_result"
    }
   ],
   "source": [
    "# Write your code below and press Shift+Enter to execute\n",
    "df.iloc[1,2]"
   ]
  },
  {
   "cell_type": "markdown",
   "id": "0a2204c9",
   "metadata": {
    "papermill": {
     "duration": 0.041069,
     "end_time": "2022-03-16T16:35:06.746599",
     "exception": false,
     "start_time": "2022-03-16T16:35:06.705530",
     "status": "completed"
    },
    "tags": []
   },
   "source": [
    "Use the following list to convert the dataframe index <code>df</code> to characters and assign it to <code>df_new</code>; find the element corresponding to the row index <code>a</code> and column  <code>'Artist'</code>. Then select the rows <code>a</code> through <code>d</code> for the column  <code>'Artist'</code>\n"
   ]
  },
  {
   "cell_type": "code",
   "execution_count": 23,
   "id": "6c238f4a",
   "metadata": {
    "execution": {
     "iopub.execute_input": "2022-03-16T16:35:06.832049Z",
     "iopub.status.busy": "2022-03-16T16:35:06.831451Z",
     "iopub.status.idle": "2022-03-16T16:35:06.838745Z",
     "shell.execute_reply": "2022-03-16T16:35:06.838280Z",
     "shell.execute_reply.started": "2022-03-16T16:32:22.202289Z"
    },
    "papermill": {
     "duration": 0.050955,
     "end_time": "2022-03-16T16:35:06.838886",
     "exception": false,
     "start_time": "2022-03-16T16:35:06.787931",
     "status": "completed"
    },
    "tags": []
   },
   "outputs": [
    {
     "name": "stdout",
     "output_type": "stream",
     "text": [
      "Michael Jackson\n",
      "\n",
      "a    Michael Jackson\n",
      "b              AC/DC\n",
      "c         Pink Floyd\n",
      "d    Whitney Houston\n",
      "Name: Artist, dtype: object\n"
     ]
    }
   ],
   "source": [
    "new_index=['a','b','c','d','e','f','g','h']\n",
    "df_new = df\n",
    "df_new.index = new_index\n",
    "print(df_new.loc['a', 'Artist'])\n",
    "print()\n",
    "print(df_new.loc['a':'d', 'Artist'])"
   ]
  }
 ],
 "metadata": {
  "kernelspec": {
   "display_name": "Python 3",
   "language": "python",
   "name": "python3"
  },
  "language_info": {
   "codemirror_mode": {
    "name": "ipython",
    "version": 3
   },
   "file_extension": ".py",
   "mimetype": "text/x-python",
   "name": "python",
   "nbconvert_exporter": "python",
   "pygments_lexer": "ipython3",
   "version": "3.7.12"
  },
  "papermill": {
   "default_parameters": {},
   "duration": 24.669522,
   "end_time": "2022-03-16T16:35:07.493587",
   "environment_variables": {},
   "exception": null,
   "input_path": "__notebook__.ipynb",
   "output_path": "__notebook__.ipynb",
   "parameters": {},
   "start_time": "2022-03-16T16:34:42.824065",
   "version": "2.3.3"
  }
 },
 "nbformat": 4,
 "nbformat_minor": 5
}
